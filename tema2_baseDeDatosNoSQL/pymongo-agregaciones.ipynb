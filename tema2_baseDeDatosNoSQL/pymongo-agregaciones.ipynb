{
 "cells": [
  {
   "cell_type": "markdown",
   "metadata": {},
   "source": [
    "# Agregaciones en Mongo  \n"
   ]
  },
  {
   "cell_type": "markdown",
   "metadata": {},
   "source": [
    "#### Nota Previa: En esta parte interesa que tengamos abierta la shell de Mongo\n",
    "\n",
    "Ya en Python, empezamos por importar la librería que permite cargar datos desde mongo"
   ]
  },
  {
   "cell_type": "code",
   "execution_count": 1,
   "metadata": {},
   "outputs": [],
   "source": [
    "import pymongo  # la conexión con mongo\n",
    "from pprint import pprint"
   ]
  },
  {
   "cell_type": "code",
   "execution_count": 2,
   "metadata": {},
   "outputs": [],
   "source": [
    "# cambiar aquí por el host y el puerto que correspondan\n",
    "from pymongo import MongoClient\n",
    "#client = MongoClient('mongodb://172.20.0.11:28001/')\n",
    "# En local\n",
    "client = MongoClient('mongodb://127.0.0.1:27017/')\n"
   ]
  },
  {
   "cell_type": "markdown",
   "metadata": {},
   "source": [
    "## Introducción\n",
    "\n",
    "En las bases de datos es muy importante disponer de consultas que permitan combinar diferentes elementos; por ejemplo dada la colección de ventas en una tienda calcular el total vendido; o los subtotales logrados por cada vendedor.\n",
    "El *pipeline de agregación* es el mecanismo de Mongo para realizar consultas este tipo de consultas complejas. La sintaxis es\n",
    "\n",
    "\n",
    "#### db.coleccion.aggregate([etapa1, etapa2, .... ] )\n",
    "\n",
    "No solo se utiliza para realizar agregaciones, puede sustituir completamente a *find*. El argumento que recibe es un array de etapas. Cada etapa realiza una operación concreta. La primera etapa recibe como entrada la colección inicial y genera una *salida1*. La etapa2 recibirá salida1 y generará *salida2* y así sucesivamente.\n",
    "\n",
    "Cada etapa tiene el aspecto {$operacion:{...}}:\n",
    "\n",
    "![Stages1](https://gpd.sip.ucm.es/rafa/docencia/images/aggregationfwk.jpg)\n",
    "\n",
    "La lista de operaciones se puede consultar en (https://docs.mongodb.com/manual/meta/aggregation-quick-reference/#stages). El siguiente gráfico muestra algunas de las etapas más típicas que vamos a ver aquí.\n",
    "\n",
    "![Stages2](https://webassets.mongodb.com/_com_assets/cms/image04-8a19545722.png)\n",
    "\n",
    "\n",
    "\n"
   ]
  },
  {
   "cell_type": "markdown",
   "metadata": {},
   "source": [
    "## 1.- ``$group``\n",
    "\n",
    "Vamos a comenzar viendo la etapa que equival al \"group\" de SQL. En esta etapa indicamos el valor por el que queremos agregar en la clave \"_id\" del dcumento asociado.\n",
    "\n",
    "### Ejemplo\n",
    "Vamos a empezar por insertar algunos valores de prueba. Corresponden a diferentes sesiones de *running*. Para cada sesión se tiene nombre del corredor, el mes en el que se realizó, la distancia recorrida y el tiempo en minutos"
   ]
  },
  {
   "cell_type": "code",
   "execution_count": 3,
   "metadata": {},
   "outputs": [
    {
     "name": "stdout",
     "output_type": "stream",
     "text": [
      "insertados:  7\n"
     ]
    }
   ],
   "source": [
    "db = client.running\n",
    "nombre=\"nombre\"\n",
    "mes=\"mes\"\n",
    "distKm=\"distKm\"\n",
    "tiempoMin=\"tiempoMin\"\n",
    "db.sesiones.drop()\n",
    "db.sesiones.insert_many([\n",
    "    {nombre:\"Bertoldo\", mes:\"Marzo\", distKm:6, tiempoMin:42},\n",
    "    {nombre:\"Herminia\", mes:\"Marzo\", distKm:10, tiempoMin:60},\n",
    "    {nombre:\"Bertoldo\", mes:\"Marzo\", distKm:2, tiempoMin:12},\n",
    "    {nombre:\"Herminia\", mes:\"Marzo\", distKm:10, tiempoMin:61},\n",
    "    {nombre:\"Bertoldo\", mes:\"Abril\", distKm:5, tiempoMin:33},\n",
    "    {nombre:\"Herminia\", mes:\"Abril\", distKm:42, tiempoMin:285},\n",
    "    {nombre:\"Aniceto\", mes:\"Abril\", distKm:5, tiempoMin:33}])\n",
    "print(\"insertados: \",db.sesiones.count_documents({}))"
   ]
  },
  {
   "cell_type": "markdown",
   "metadata": {},
   "source": [
    "Supongamos que queremos saber el número de sesiones que ha realizado cada persona:"
   ]
  },
  {
   "cell_type": "code",
   "execution_count": 50,
   "metadata": {},
   "outputs": [
    {
     "name": "stdout",
     "output_type": "stream",
     "text": [
      "{'_id': 'Herminia', 'num_sesiones': 3}\n",
      "{'_id': 'Bertoldo', 'num_sesiones': 3}\n",
      "{'_id': 'Aniceto', 'num_sesiones': 1}\n"
     ]
    }
   ],
   "source": [
    "r = db.sesiones.aggregate(                                    # aggregate significa que vamos a usar el pipeline\n",
    "                      [                                       # lista de operaciones, a realizar en secuencia\n",
    "                       {\"$group\":                             # en este caso solo una operación, agrupar\n",
    "                               { \"_id\":\"$nombre\",             # agrupamos por nombre\n",
    "                                 \"num_sesiones\": {\"$sum\":1}   # cuenta el num.elementos en el grupo\n",
    "                               }\n",
    "                        }\n",
    "                       ]\n",
    "                     )\n",
    "for doc in r: pprint(doc)"
   ]
  },
  {
   "cell_type": "markdown",
   "metadata": {},
   "source": [
    "### P1 \n",
    "Consideramos el código"
   ]
  },
  {
   "cell_type": "code",
   "execution_count": 5,
   "metadata": {},
   "outputs": [],
   "source": [
    "db.coord.drop()\n",
    "for i in range(5):\n",
    "    for j in range(4): \n",
    "        db.coord.insert_one({\"x\":i,\"y\":j+i});"
   ]
  },
  {
   "cell_type": "markdown",
   "metadata": {},
   "source": [
    "¿Cuántos elementos devolverá la siguiente consulta de agregación?"
   ]
  },
  {
   "cell_type": "code",
   "execution_count": 46,
   "metadata": {},
   "outputs": [
    {
     "name": "stdout",
     "output_type": "stream",
     "text": [
      "{'_id': 1}\n"
     ]
    }
   ],
   "source": [
    "r =  db.coord.aggregate([ {\"$group\":{\"_id\":'1'}} ])\n",
    "# para obtener la solución\n",
    "for doc in r: pprint(doc)\n",
    "# Devilvera 5 elementos, cada uno correspondiente a la agrupación por cada uno de los 5 valores que hemos dado a i"
   ]
  },
  {
   "cell_type": "markdown",
   "metadata": {},
   "source": [
    "También se puede agrupar por dos claves, en este caso por nombre y mes"
   ]
  },
  {
   "cell_type": "code",
   "execution_count": 7,
   "metadata": {
    "scrolled": true
   },
   "outputs": [
    {
     "name": "stdout",
     "output_type": "stream",
     "text": [
      "{'_id': {'mes': 'Marzo', 'nombre': 'Bertoldo'}, 'num_sesiones': 2}\n",
      "{'_id': {'mes': 'Abril', 'nombre': 'Aniceto'}, 'num_sesiones': 1}\n",
      "{'_id': {'mes': 'Marzo', 'nombre': 'Herminia'}, 'num_sesiones': 2}\n",
      "{'_id': {'mes': 'Abril', 'nombre': 'Bertoldo'}, 'num_sesiones': 1}\n",
      "{'_id': {'mes': 'Abril', 'nombre': 'Herminia'}, 'num_sesiones': 1}\n"
     ]
    }
   ],
   "source": [
    "r = db.sesiones.aggregate(\n",
    " [\n",
    "    {\"$group\":\n",
    "        { \"_id\":{\"nombre\":\"$nombre\",\n",
    "                 \"mes\": \"$mes\"},\n",
    "          \"num_sesiones\": {\"$sum\":1}\n",
    "        }\n",
    "    }\n",
    "  ]\n",
    ")\n",
    "for doc in r: pprint(doc)"
   ]
  },
  {
   "cell_type": "markdown",
   "metadata": {},
   "source": [
    "### P2 \n",
    "¿Cuantos documentos devolverá la siguiente consulta de agregación?"
   ]
  },
  {
   "cell_type": "code",
   "execution_count": 10,
   "metadata": {},
   "outputs": [
    {
     "name": "stdout",
     "output_type": "stream",
     "text": [
      "{'_id': {'la': 1, 'lax': 0}}\n",
      "{'_id': {'la': 5, 'lax': 4}}\n",
      "{'_id': {'la': 3, 'lax': 0}}\n",
      "{'_id': {'la': 4, 'lax': 4}}\n",
      "{'_id': {'la': 0, 'lax': 0}}\n",
      "{'_id': {'la': 6, 'lax': 3}}\n",
      "{'_id': {'la': 7, 'lax': 4}}\n",
      "{'_id': {'la': 3, 'lax': 2}}\n",
      "{'_id': {'la': 5, 'lax': 2}}\n",
      "{'_id': {'la': 6, 'lax': 4}}\n",
      "{'_id': {'la': 4, 'lax': 3}}\n",
      "{'_id': {'la': 4, 'lax': 2}}\n",
      "{'_id': {'la': 2, 'lax': 1}}\n",
      "{'_id': {'la': 5, 'lax': 3}}\n",
      "{'_id': {'la': 3, 'lax': 3}}\n",
      "{'_id': {'la': 1, 'lax': 1}}\n",
      "{'_id': {'la': 4, 'lax': 1}}\n",
      "{'_id': {'la': 2, 'lax': 2}}\n",
      "{'_id': {'la': 3, 'lax': 1}}\n",
      "{'_id': {'la': 2, 'lax': 0}}\n"
     ]
    }
   ],
   "source": [
    "r = db.coord.aggregate([ {\"$group\":{\"_id\":{\"lax\":'$x', \"la\":'$y'}}} ])\n",
    "# devuelve 20 elementos, pues hemos introducido las permitaciones de cinco valores de \"x\" y cuatro valores de \"y\"\n",
    "for doc in r: pprint(doc) "
   ]
  },
  {
   "cell_type": "markdown",
   "metadata": {},
   "source": [
    "#### Funciones de agregación\n",
    "\n",
    "Ya hemos visto una función de agregación, $sum, pero hay muchas otras:\n",
    "\n",
    "- ``$``sum: suma (o incrementa)\n",
    "- ``$``avg : calcula la media\n",
    "- ``$``min: mínimo de los valores\n",
    "- ``$``max: máximo\n",
    "- ``$``push: Mete en un array un valor determinado\n",
    "- ``$``addToSet: Mete en un array los valore que digamos, pero solo una vez\n",
    "- ``$``first: obtiene el primer elemento del grupo, a menudo junto con sort\n",
    "- ``$``last: obtiene el último elemento, a menudo junto con sort\n",
    "\n",
    "\n",
    "Vamos a verlas una a una:\n",
    "\n",
    "#### ``$``sum\n",
    "\n",
    "Ya la hemos visto como función para \"contar\" usando ``$sum:1``, pero su propósito original es sumar:"
   ]
  },
  {
   "cell_type": "code",
   "execution_count": 11,
   "metadata": {},
   "outputs": [
    {
     "name": "stdout",
     "output_type": "stream",
     "text": [
      "{'_id': {'nombre': 'Bertoldo'}, 'num_km': 13}\n",
      "{'_id': {'nombre': 'Aniceto'}, 'num_km': 5}\n",
      "{'_id': {'nombre': 'Herminia'}, 'num_km': 62}\n"
     ]
    }
   ],
   "source": [
    "r = db.sesiones.aggregate(\n",
    "[\n",
    "    {\"$group\":\n",
    "        {\n",
    "            \"_id\":{\"nombre\":\"$nombre\"},\n",
    "            \"num_km\": {\"$sum\":'$distKm'}\n",
    "        }\n",
    "    }\n",
    "])\n",
    "for doc in r: pprint(doc)"
   ]
  },
  {
   "cell_type": "markdown",
   "metadata": {},
   "source": [
    "Tenemos el total de kilómetros que ha corrido cada persona.\n",
    "\n",
    "#### ``$``avg\n",
    "Calcula la media. Por ejemplo: kilómetros que corre cada persona de media al mes"
   ]
  },
  {
   "cell_type": "code",
   "execution_count": 32,
   "metadata": {},
   "outputs": [
    {
     "name": "stdout",
     "output_type": "stream",
     "text": [
      "{'_id': {'mes': 'Marzo', 'nombre': 'Bertoldo'}, 'media': 4.0}\n",
      "{'_id': {'mes': 'Abril', 'nombre': 'Herminia'}, 'media': 42.0}\n",
      "{'_id': {'mes': 'Abril', 'nombre': 'Bertoldo'}, 'media': 5.0}\n",
      "{'_id': {'mes': 'Marzo', 'nombre': 'Herminia'}, 'media': 10.0}\n",
      "{'_id': {'mes': 'Abril', 'nombre': 'Aniceto'}, 'media': 5.0}\n"
     ]
    }
   ],
   "source": [
    "r =db.sesiones.aggregate([\n",
    "    {'$group':\n",
    "        { '_id':{'nombre':\"$nombre\",'mes': \"$mes\"},\n",
    "          'media': {'$avg':'$distKm'}\n",
    "        }\n",
    "    }\n",
    "])\n",
    "\n",
    "for doc in r: pprint(doc)"
   ]
  },
  {
   "cell_type": "markdown",
   "metadata": {},
   "source": [
    "**P3** ¿Cómo calcular el número medio de sesiones por persona al mes? (es decir, se cuenta el número de sesiones por persona y mes y a continuación se hace la media de este dato)"
   ]
  },
  {
   "cell_type": "code",
   "execution_count": 16,
   "metadata": {
    "scrolled": false
   },
   "outputs": [
    {
     "name": "stdout",
     "output_type": "stream",
     "text": [
      "{'_id': {'mes': 'Marzo', 'nombre': 'Bertoldo'}, 'numSesiones': 2}\n",
      "{'_id': {'mes': 'Abril', 'nombre': 'Aniceto'}, 'numSesiones': 1}\n",
      "{'_id': {'mes': 'Marzo', 'nombre': 'Herminia'}, 'numSesiones': 2}\n",
      "{'_id': {'mes': 'Abril', 'nombre': 'Bertoldo'}, 'numSesiones': 1}\n",
      "{'_id': {'mes': 'Abril', 'nombre': 'Herminia'}, 'numSesiones': 1}\n"
     ]
    }
   ],
   "source": [
    "r =db.sesiones.aggregate([\n",
    "    {'$group':\n",
    "        { '_id':{'nombre':\"$nombre\",'mes': \"$mes\"},\n",
    "          'numSesiones': {'$sum':1}\n",
    "        },\n",
    "\n",
    "    }\n",
    "])\n",
    "\n",
    "for doc in r: pprint(doc)"
   ]
  },
  {
   "cell_type": "markdown",
   "metadata": {},
   "source": [
    "#### ``$addToSet`` \n",
    "\n",
    "Crea arrays agrupando elementos.\n",
    "\n",
    "Ejemplo: Supongamos que queremos saber qué distancias ha corrido cada persona.\n",
    "Agrupamos por el nombre y \"coleccionamos\" las distancias distintas\n"
   ]
  },
  {
   "cell_type": "code",
   "execution_count": 17,
   "metadata": {},
   "outputs": [
    {
     "name": "stdout",
     "output_type": "stream",
     "text": [
      "{'_id': {'nombre': 'Bertoldo'}, 'distancias': [5, 2, 6]}\n",
      "{'_id': {'nombre': 'Aniceto'}, 'distancias': [5]}\n",
      "{'_id': {'nombre': 'Herminia'}, 'distancias': [10, 42]}\n"
     ]
    }
   ],
   "source": [
    "r = db.sesiones.aggregate(\n",
    "                      [\n",
    "                       {'$group':\n",
    "                               { '_id':{'nombre':\"$nombre\"},\n",
    "                                 'distancias': {'$addToSet':'$distKm'}\n",
    "                               }\n",
    "                        }\n",
    "                       ]\n",
    "                     )\n",
    "for doc in r: pprint(doc)"
   ]
  },
  {
   "cell_type": "markdown",
   "metadata": {},
   "source": [
    "``$push``\n",
    "\n",
    "Análogo a ``$addToSet`` pero admite repeticiones.\n",
    "\n",
    "** P4 ** queremos saber en cada mes qué distancias se han hecho en alguna sesión. Si una distancia se ha corrido varias veces en ese mes debe aparecer varias veces:"
   ]
  },
  {
   "cell_type": "markdown",
   "metadata": {},
   "source": [
    "#### ``$unwind``\n",
    "\n",
    "Es el inverso de ``$push``; cuando tenemos documentos que contienen un array y queremos agrupar por valores del array, a veces conviene eliminar los\n",
    "arrays y convertirlos en múltiples documentos. En realidad estamos \"normalizando\" los arrays (primera forma normal).\n",
    "\n",
    "Volvemos al ejemplo de personas con aficiones:\n"
   ]
  },
  {
   "cell_type": "code",
   "execution_count": 18,
   "metadata": {},
   "outputs": [
    {
     "data": {
      "text/plain": [
       "<pymongo.results.InsertOneResult at 0x7f0fb228ef40>"
      ]
     },
     "execution_count": 18,
     "metadata": {},
     "output_type": "execute_result"
    }
   ],
   "source": [
    "db.gustos.drop()\n",
    "db.gustos.insert_one({'nombre':\"Bertoldo\",  'aficiones':[\"siesta\",\"cine\"]})\n",
    "db.gustos.insert_one({'nombre':\"Herminia\",  'aficiones':[\"correr\",\"cine\"]})\n",
    "db.gustos.insert_one({'nombre':\"Aniceta\",   'aficiones':[\"viajar\",\"cine\"]})\n",
    "db.gustos.insert_one({'nombre':\"Godofredo\", 'aficiones':[\"correr\",\"montaña\", \"cine\"]})\n",
    "\n"
   ]
  },
  {
   "cell_type": "markdown",
   "metadata": {},
   "source": [
    "Queremos saber el número de personas con el que cuenta cada afición. ¿Cómo hacerlo?\n",
    "\n",
    "Para ello el primer paso es hacer $unwind:"
   ]
  },
  {
   "cell_type": "code",
   "execution_count": 19,
   "metadata": {},
   "outputs": [
    {
     "name": "stdout",
     "output_type": "stream",
     "text": [
      "{'_id': ObjectId('63415a1dc704a416d5719ab4'),\n",
      " 'aficiones': 'siesta',\n",
      " 'nombre': 'Bertoldo'}\n",
      "{'_id': ObjectId('63415a1dc704a416d5719ab4'),\n",
      " 'aficiones': 'cine',\n",
      " 'nombre': 'Bertoldo'}\n",
      "{'_id': ObjectId('63415a1dc704a416d5719ab5'),\n",
      " 'aficiones': 'correr',\n",
      " 'nombre': 'Herminia'}\n",
      "{'_id': ObjectId('63415a1dc704a416d5719ab5'),\n",
      " 'aficiones': 'cine',\n",
      " 'nombre': 'Herminia'}\n",
      "{'_id': ObjectId('63415a1dc704a416d5719ab6'),\n",
      " 'aficiones': 'viajar',\n",
      " 'nombre': 'Aniceta'}\n",
      "{'_id': ObjectId('63415a1dc704a416d5719ab6'),\n",
      " 'aficiones': 'cine',\n",
      " 'nombre': 'Aniceta'}\n",
      "{'_id': ObjectId('63415a1dc704a416d5719ab7'),\n",
      " 'aficiones': 'correr',\n",
      " 'nombre': 'Godofredo'}\n",
      "{'_id': ObjectId('63415a1dc704a416d5719ab7'),\n",
      " 'aficiones': 'montaña',\n",
      " 'nombre': 'Godofredo'}\n",
      "{'_id': ObjectId('63415a1dc704a416d5719ab7'),\n",
      " 'aficiones': 'cine',\n",
      " 'nombre': 'Godofredo'}\n"
     ]
    }
   ],
   "source": [
    "r = db.gustos.aggregate([   {'$unwind':'$aficiones'}   ] )\n",
    "for doc in r: pprint(doc)"
   ]
  },
  {
   "cell_type": "markdown",
   "metadata": {},
   "source": [
    "Ahora es fácil pensar en la siguiente etapa: agrupar por aficiones"
   ]
  },
  {
   "cell_type": "code",
   "execution_count": 20,
   "metadata": {},
   "outputs": [
    {
     "name": "stdout",
     "output_type": "stream",
     "text": [
      "{'_id': 'siesta', 'total': 1}\n",
      "{'_id': 'viajar', 'total': 1}\n",
      "{'_id': 'cine', 'total': 4}\n",
      "{'_id': 'montaña', 'total': 1}\n",
      "{'_id': 'correr', 'total': 2}\n"
     ]
    }
   ],
   "source": [
    "r = db.gustos.aggregate([\n",
    "                     {'$unwind':'$aficiones'},\n",
    "                     {'$group':\n",
    "                          {'_id':'$aficiones',\n",
    "                           'total':{'$sum':1} \n",
    "                          } \n",
    "                     }\n",
    "                    ])\n",
    "for doc in r: pprint(doc)"
   ]
  },
  {
   "cell_type": "markdown",
   "metadata": {},
   "source": [
    "#### ``$max``, ``$min``\n",
    "\n",
    "El mayor o el menor valor dentro de cada grupo.\n",
    "\n",
    "**P5** Para cada persona queremos saber la máxima y la mínima distancia que ha recorrido"
   ]
  },
  {
   "cell_type": "code",
   "execution_count": 22,
   "metadata": {},
   "outputs": [
    {
     "name": "stdout",
     "output_type": "stream",
     "text": [
      "{'_id': {'nombre': 'Herminia'}, 'sesionMax': 42, 'sesionMin': 10}\n",
      "{'_id': {'nombre': 'Bertoldo'}, 'sesionMax': 6, 'sesionMin': 2}\n",
      "{'_id': {'nombre': 'Aniceto'}, 'sesionMax': 5, 'sesionMin': 5}\n"
     ]
    }
   ],
   "source": [
    "r =db.sesiones.aggregate([\n",
    "    {'$group':\n",
    "        { '_id':{'nombre':\"$nombre\"},\n",
    "          'sesionMax': {'$max':\"$distKm\"},\n",
    "          'sesionMin': {'$min':\"$distKm\"},\n",
    "        },\n",
    "    }\n",
    "]) \n",
    "for doc in r: pprint(doc)"
   ]
  },
  {
   "cell_type": "markdown",
   "metadata": {},
   "source": [
    "#### ``$first``, ``$last``\n",
    "\n",
    "Devuelven el primero, respectivamente el último, elemento de un grupo.\n",
    "\n",
    "\n"
   ]
  },
  {
   "cell_type": "markdown",
   "metadata": {},
   "source": [
    "##  2.-  Etapas ``$bucket`` y ``$bucketAuto``\n",
    "\n",
    "El propósito de estas etapas es agrupar según intervalos de una clave. La estructura de $bucket:\n",
    "\n",
    "```[javascript]\n",
    "{\n",
    "  $bucket: {\n",
    "      groupBy: expression,\n",
    "      boundaries: [ lowerbound1, lowerbound2, ... ],\n",
    "      default: literal,\n",
    "      output: {\n",
    "         output1: { <$accumulator expression> },\n",
    "         ...\n",
    "         outputN: { <$accumulator expression> }\n",
    "      }\n",
    "   }\n",
    "}\n",
    "```\n",
    "\n",
    "Significado:\n",
    "\n",
    "- La parte groupBy corresponde al _id the $group, es decir especifica la clave por la que queremos agrupar. Debe ser un valor que admita comparaciones (``$leq``,...)\n",
    "- boundaries es un array que indica los límites por los que agrupar. Por ejemplo [0,20,40] crea dos intervalos: [0,20), [20,40)\n",
    "- default: Nombre del grupo en el que se incluirán los valores que no encajen. Opcional.\n",
    "- output: claves a incluir en la salida, si no se incluye ninguna al menos se incluirá por defecto count:{``$sum``:1} \n",
    "\n",
    "Ejemplo:\n",
    "\n",
    "Queremos saber cuántas sesiones hay de distancias cortas (0 a 5 km), medias, (5 a 10), largas (10 a 40) o muy largas (más de 40). "
   ]
  },
  {
   "cell_type": "code",
   "execution_count": 23,
   "metadata": {},
   "outputs": [
    {
     "name": "stdout",
     "output_type": "stream",
     "text": [
      "{'_id': 0, 'count': 1}\n",
      "{'_id': 5, 'count': 3}\n",
      "{'_id': 10, 'count': 2}\n",
      "{'_id': 'Gran distancia', 'count': 1}\n"
     ]
    }
   ],
   "source": [
    "r = db.sesiones.aggregate( [\n",
    "  {\n",
    "    '$bucket': {\n",
    "      'groupBy': \"$distKm\",\n",
    "      'boundaries': [ 0, 5, 10, 40 ],\n",
    "      'default': \"Gran distancia\"\n",
    "    }\n",
    "  }\n",
    "] )\n",
    "\n",
    "for doc in r: pprint(doc)\n"
   ]
  },
  {
   "cell_type": "markdown",
   "metadata": {},
   "source": [
    "Supongamos ahora que queremos además saber quiénes han recorrido estas distancias: "
   ]
  },
  {
   "cell_type": "code",
   "execution_count": 43,
   "metadata": {},
   "outputs": [
    {
     "name": "stdout",
     "output_type": "stream",
     "text": [
      "{'_id': 0, 'count': 1, 'quienes': ['Bertoldo']}\n",
      "{'_id': 5, 'count': 3, 'quienes': ['Aniceto', 'Bertoldo']}\n",
      "{'_id': 10, 'count': 2, 'quienes': ['Herminia']}\n",
      "{'_id': 'Gran distancia', 'count': 1, 'quienes': ['Herminia']}\n"
     ]
    }
   ],
   "source": [
    "r = db.sesiones.aggregate( [\n",
    "  {\n",
    "    '$bucket': {\n",
    "      'groupBy': \"$distKm\",\n",
    "      'boundaries': [ 0, 5, 10, 40 ],\n",
    "      'default': \"Gran distancia\",\n",
    "      'output': {\n",
    "        \"count\": { '$sum': 1 },\n",
    "        \"quienes\" : { '$addToSet': \"$nombre\" }\n",
    "      }\n",
    "    }\n",
    "  }\n",
    "] )\n",
    "for doc in r: pprint(doc)\n"
   ]
  },
  {
   "cell_type": "markdown",
   "metadata": {},
   "source": [
    "#### ``$bucketAuto``\n",
    "\n",
    "tiene el mismo significado, pero en este caso no decimos los intervalos; solo cuántos queremos obtener. Sintaxis:\n",
    "\n",
    "```[javascript]\n",
    "{\n",
    "  $bucketAuto: {\n",
    "      groupBy: expression,\n",
    "      buckets: number,\n",
    "      output: {\n",
    "         output1: { <$accumulator expression> },\n",
    "         ...\n",
    "      }\n",
    "      granularity: string\n",
    "  }\n",
    "}\n",
    "```\n",
    "La clave buckets indica el número de intervalos que usará. El sistema intenta repartirlas de forma más o menos homogénea, pero lo mejor es definir la granularidad de forma específica (consultar la documentación).  Ejemplo: "
   ]
  },
  {
   "cell_type": "code",
   "execution_count": 24,
   "metadata": {},
   "outputs": [
    {
     "name": "stdout",
     "output_type": "stream",
     "text": [
      "{'_id': {'max': 42, 'min': 12}, 'count': 3}\n",
      "{'_id': {'max': 61, 'min': 42}, 'count': 2}\n",
      "{'_id': {'max': 285, 'min': 61}, 'count': 2}\n"
     ]
    }
   ],
   "source": [
    "r = db.sesiones.aggregate( [\n",
    "   {\n",
    "     '$bucketAuto': {\n",
    "       'groupBy': \"$tiempoMin\",\n",
    "       'buckets': 4\n",
    "     }\n",
    "   }\n",
    " ] )\n",
    "\n",
    "for doc in r: pprint(doc)\n"
   ]
  },
  {
   "cell_type": "markdown",
   "metadata": {},
   "source": [
    "## 3.- ``$facet``\n",
    "\n",
    "``$facet`` es complejo y potente, permite agrupar varios pipeline de agregación.\n",
    "\n",
    "Por ejemplo, supongamos que queremos agrupar las sesiones de entrenamiento por intervalos de tiempo y aparte por intervalos de kilómetros. Una solución podría usar dos aggregate, cada una con su correspondiente $bucket. Sin embargo, podemos hacerlo todo a la vez:\n",
    "\n"
   ]
  },
  {
   "cell_type": "code",
   "execution_count": 25,
   "metadata": {},
   "outputs": [
    {
     "name": "stdout",
     "output_type": "stream",
     "text": [
      "{'distancia': [{'_id': 0, 'count': 1, 'quienes': ['Bertoldo']},\n",
      "               {'_id': 5, 'count': 3, 'quienes': ['Bertoldo', 'Aniceto']},\n",
      "               {'_id': 10, 'count': 2, 'quienes': ['Herminia']},\n",
      "               {'_id': 'Gran distancia', 'count': 1, 'quienes': ['Herminia']}],\n",
      " 'tiempo': [{'_id': 0, 'count': 1, 'quienes': ['Bertoldo']},\n",
      "            {'_id': 30, 'count': 3, 'quienes': ['Bertoldo', 'Aniceto']},\n",
      "            {'_id': 'Más de una hora', 'count': 3, 'quienes': ['Herminia']}]}\n"
     ]
    }
   ],
   "source": [
    "r = db.sesiones.aggregate([ \n",
    "  {'$facet': \n",
    "    {\n",
    "     \"distancia\": [\n",
    "      { '$bucket':  {\n",
    "          'groupBy': \"$distKm\",\n",
    "          'boundaries': [ 0, 5, 10, 40 ],\n",
    "          'default': \"Gran distancia\",\n",
    "          'output': {\n",
    "            \"count\": { '$sum': 1 },\n",
    "            \"quienes\" : { '$addToSet': \"$nombre\" }\n",
    "      }\n",
    "    }\n",
    "    }],\n",
    "    \"tiempo\": [\n",
    "      { '$bucket':  {\n",
    "          'groupBy': \"$tiempoMin\",\n",
    "          'boundaries': [ 0, 30, 60 ],\n",
    "          'default': \"Más de una hora\",\n",
    "          'output': {\n",
    "            \"count\": { '$sum': 1 },\n",
    "            \"quienes\" : { '$addToSet': \"$nombre\" }\n",
    "      }\n",
    "    }\n",
    "    }] \n",
    "  \n",
    "  }\n",
    " }\n",
    "])\n",
    "\n",
    "for doc in r: pprint(doc)\n"
   ]
  },
  {
   "cell_type": "markdown",
   "metadata": {},
   "source": [
    "Hay que recalcar que se trata de una sola 'etapa' del pipeline!!"
   ]
  },
  {
   "cell_type": "markdown",
   "metadata": {},
   "source": [
    "## 4.- Etapa ``$project``\n",
    "\n",
    "\n",
    "Project está al nivel de ``$group`` o de ``$bucket``, es decir es una de las etapas permitidas en aggregate. Resulta muy útil para cambiar nombres de claves, introducir nuevas claves, etc. Se utiliza a menudo para \"preparar\" la agregación, preprocesando los datos. En ocasiones también se utiliza para crear nuevas colecciones.\n",
    "\n",
    "Para esta preparación de datos suele usar con los siguientes operadores:\n",
    "\n",
    "- booleanos: ``$and``, ``$or``, ``$not``\n",
    "- strings: ``$concat``, ``$toUpper``, ``$toLower``, ``$substr``, ``$strcasecmp``\n",
    "- operadores aritméticos: ``$abs``, ``$add``, ``$ceil``, ``$divide``, ``$exp``, ``$floor``, ``$ln``, ``$log``, ``$log10``, ``$mod``, ``$multiply``, ``$pow``, ``$sqrt``, ``$substract``, ``$trunc``\n",
    "- conjuntos (arrays vistos como): ``$setEquals``, ``$setInsersection``, ``$setUnion``, ``$setDifference``, ``$setIsSubset``, ``$anyElementTrue``, ``$allElementsTrue``\n",
    "- arrays: ``$arrayElementAt``, ``$concatArrays``, ``$filter``, ``$isArray``, ``$size``, ``$slice``\n",
    "- fechas: ``$datOfYear``, ``$dayOfMonth``, ``$dayOfWeek``, ``$yrear``, ``$month``, ``$week``, ``$hour``, ``$minute``, ``$second``, ``$millisecond``, ``$dateToString``\n",
    "- condicionales: ``cond``, ``ifnull``\n",
    "- otros: ``map``, ``let``\n",
    "\n",
    "\n",
    "Ejemplo:\n",
    "\n",
    "Queremos disponer de los datos de distancias recorridas en millas, sabiendo que\n",
    "\n",
    "una milla = 1,60934 km"
   ]
  },
  {
   "cell_type": "code",
   "execution_count": 50,
   "metadata": {},
   "outputs": [
    {
     "name": "stdout",
     "output_type": "stream",
     "text": [
      "{'_id': ObjectId('5c92c5245085c103487c6a8c'), 'distMillas': 9.65604}\n",
      "{'_id': ObjectId('5c92c5245085c103487c6a8d'), 'distMillas': 16.0934}\n",
      "{'_id': ObjectId('5c92c5245085c103487c6a8e'), 'distMillas': 3.21868}\n",
      "{'_id': ObjectId('5c92c5245085c103487c6a8f'), 'distMillas': 16.0934}\n",
      "{'_id': ObjectId('5c92c5245085c103487c6a90'), 'distMillas': 8.0467}\n",
      "{'_id': ObjectId('5c92c5245085c103487c6a91'), 'distMillas': 67.59228}\n",
      "{'_id': ObjectId('5c92c5245085c103487c6a92'), 'distMillas': 8.0467}\n"
     ]
    }
   ],
   "source": [
    "r = db.sesiones.aggregate(\n",
    "                      [\n",
    "                       {'$project':\n",
    "                               {\n",
    "                                'distMillas':{'$multiply':['$distKm',1.60934]}\n",
    "                               }\n",
    "                        }\n",
    "                       ]\n",
    "                     )\n",
    "for doc in r: pprint(doc)\n"
   ]
  },
  {
   "cell_type": "markdown",
   "metadata": {},
   "source": [
    "**Observación**: Observación $project solo incluye las claves que se indiquen, con excepción del _id que se incluye siempre pero se puede eliminar explícitamente el id con _id:0 . Si se quiere que una clave aparezca tal cual se puede poner clave:1 en la proyección.\n",
    "\n",
    "\n",
    "**Aviso**: A partir de la observación anterior, si ponemos clave:1 incluirá el valor original, pero ¿y si queremos que tenga el valor 1? En este caso y similares es útil $literal; se pondría clave:{``$literal``:1}\n",
    "\n",
    "** P6 ** Escribir una consulta para que documentos del estilo\n",
    "```\n",
    "{nombre:\"Bertoldo\", mes:\"Marzo\", distKm:6, tiempoMin:42}\n",
    "```\n",
    "Se transformen en:\n",
    "```\n",
    "{name:\"BERTOLDO\", distKm:6}\n",
    "``` \n",
    "\n",
    "(el orden de las claves no importa)"
   ]
  },
  {
   "cell_type": "code",
   "execution_count": 28,
   "metadata": {},
   "outputs": [
    {
     "name": "stdout",
     "output_type": "stream",
     "text": [
      "{'_id': ObjectId('634151f4c704a416d5719a99'), 'distKm': 6}\n",
      "{'_id': ObjectId('634151f4c704a416d5719a9a'), 'distKm': 10}\n",
      "{'_id': ObjectId('634151f4c704a416d5719a9b'), 'distKm': 2}\n",
      "{'_id': ObjectId('634151f4c704a416d5719a9c'), 'distKm': 10}\n",
      "{'_id': ObjectId('634151f4c704a416d5719a9d'), 'distKm': 5}\n",
      "{'_id': ObjectId('634151f4c704a416d5719a9e'), 'distKm': 42}\n",
      "{'_id': ObjectId('634151f4c704a416d5719a9f'), 'distKm': 5}\n"
     ]
    }
   ],
   "source": [
    "r = db.sesiones.aggregate(\n",
    "                      [\n",
    "                       {'$project':\n",
    "                               {\n",
    "                                #'name':{\"$ToUpper\":'$nombre'},\n",
    "                                 'distKm':'$distKm'\n",
    "                               }\n",
    "                        }\n",
    "                       ]\n",
    "                     )\n",
    "for doc in r: pprint(doc)\n"
   ]
  },
  {
   "cell_type": "markdown",
   "metadata": {},
   "source": [
    "## 5.- Etapa ``$match``\n",
    "\n",
    "Filtra elementos. Se puede usar tanto antes de la agregación (sería el where de SQL) como después (sería el having).\n",
    "\n",
    "Ejemplo:\n",
    "\n",
    "Queremos obtener la media en kilómetros mensuales de cada corredor, pero solo para aquellos valores medios sobre 5km,"
   ]
  },
  {
   "cell_type": "code",
   "execution_count": 33,
   "metadata": {},
   "outputs": [
    {
     "name": "stdout",
     "output_type": "stream",
     "text": [
      "{'_id': {'mes': 'Abril', 'nombre': 'Bertoldo'}, 'media': 5.0}\n",
      "{'_id': {'mes': 'Abril', 'nombre': 'Aniceto'}, 'media': 5.0}\n"
     ]
    }
   ],
   "source": [
    "r = db.sesiones.aggregate( [\n",
    "   {'$group': \n",
    "        { \n",
    "            '_id':{'nombre':\"$nombre\", 'mes': \"$mes\"}, \n",
    "            'media':{'$avg':'$distKm'}\n",
    "        } \n",
    "   },\n",
    "   {\"$match\":\n",
    "        {\"media\":5.0}\n",
    "   }\n",
    "])\n",
    "\n",
    "for doc in r: pprint(doc)\n"
   ]
  },
  {
   "cell_type": "markdown",
   "metadata": {},
   "source": [
    "## 6.- Etapa ``$sort``\n",
    "\n",
    "Sort se emplea para ordenar los resultados. Hay dos formas de ordenar:\n",
    "\n",
    "- En memoria: es el método por defecto. Es el más rápido pero tiene como límite 100 Mb en la colección a ordenar\n",
    "- Disco: más lento, pero sin límites; se obtiene añadiendo una etapa con forma {allowDiskUse:true}\n",
    "\n",
    "** Observación ** :  ``$match`` y ``$sort`` pueden usar índices, pero solo si se hacen al principio del pipeline\n",
    "\n",
    "** P7 ** ¿Por qué solo usan los índices si son las primeras etapas?\n",
    "\n",
    "Ejemplo: en el ejemplo de media de kilómetros por corredor y mes, ordenar por mes."
   ]
  },
  {
   "cell_type": "code",
   "execution_count": 34,
   "metadata": {},
   "outputs": [
    {
     "name": "stdout",
     "output_type": "stream",
     "text": [
      "{'_id': {'mes': 'Abril', 'nombre': 'Herminia'}, 'media': 42.0}\n",
      "{'_id': {'mes': 'Abril', 'nombre': 'Bertoldo'}, 'media': 5.0}\n",
      "{'_id': {'mes': 'Abril', 'nombre': 'Aniceto'}, 'media': 5.0}\n",
      "{'_id': {'mes': 'Marzo', 'nombre': 'Bertoldo'}, 'media': 4.0}\n",
      "{'_id': {'mes': 'Marzo', 'nombre': 'Herminia'}, 'media': 10.0}\n"
     ]
    }
   ],
   "source": [
    "r = db.sesiones.aggregate(\n",
    "[\n",
    "    {'$group':\n",
    "        { '_id':{'nombre':\"$nombre\", 'mes': \"$mes\"},\n",
    "          'media': {'$avg':'$distKm'} }\n",
    "    },\n",
    "    {'$sort': {'_id.mes':1} }\n",
    "])\n",
    "for doc in r: pprint(doc)\n"
   ]
  },
  {
   "cell_type": "markdown",
   "metadata": {},
   "source": [
    "** P8 ** Considera la siguiente colección\n",
    "```[javascript]\n",
    ">  db.fun.find()\n",
    "> { \"_id\" : 0, \"a\" : 0, \"b\" : 0, \"c\" : 21 }\n",
    "> { \"_id\" : 1, \"a\" : 0, \"b\" : 0, \"c\" : 54 }\n",
    "> { \"_id\" : 2, \"a\" : 0, \"b\" : 1, \"c\" : 52 }\n",
    "> { \"_id\" : 3, \"a\" : 0, \"b\" : 1, \"c\" : 17 }\n",
    "> { \"_id\" : 4, \"a\" : 1, \"b\" : 0, \"c\" : 22 }\n",
    "> { \"_id\" : 5, \"a\" : 1, \"b\" : 0, \"c\" : 5 }\n",
    "> { \"_id\" : 6, \"a\" : 1, \"b\" : 1, \"c\" : 87 }\n",
    "> { \"_id\" : 7, \"a\" : 1, \"b\" : 1, \"c\" : 97 }\n",
    "```\n",
    "    \n",
    "¿Cuál será el resultado de c tras la siguiente consulta?\n",
    "\n",
    "```[javascript]\n",
    "db.fun.aggregate([\n",
    "{'$match':{a:0}},\n",
    "{'$sort':{c:-1}},\n",
    "{'$group':{'_id':\"$a\", 'c':{'$first':\"$c\"}}}\n",
    "])\n",
    "```\n",
    "Solucion: { \"_id\" : 3, \"a\" : 0, \"b\" : 1, \"c\" : 17 }"
   ]
  },
  {
   "cell_type": "markdown",
   "metadata": {},
   "source": [
    "## 7.- Etapas ``$skip`` y  ``$limit``\n",
    "\n",
    "Análogas a las funciones del mismo nombre para *find*, y se usan normalmente en combinación con *sort*. Útiles para obtener el mayor , el primero, etc\n",
    "\n",
    "\n",
    "Ejemplo: corredor que tiene mayor media absoluta:"
   ]
  },
  {
   "cell_type": "code",
   "execution_count": 62,
   "metadata": {},
   "outputs": [
    {
     "name": "stdout",
     "output_type": "stream",
     "text": [
      "{'_id': {'nombre': 'Herminia'}, 'media': 20.666666666666668}\n"
     ]
    }
   ],
   "source": [
    "r = db.sesiones.aggregate([\n",
    "    {'$group':\n",
    "    { '_id':{'nombre':\"$nombre\"},\n",
    "      'media': {'$avg':'$distKm'} }\n",
    "    },\n",
    "    {'$sort': {'media':-1} },\n",
    "    {'$limit':1}\n",
    "]\n",
    ")\n",
    "for doc in r: pprint(doc)\n"
   ]
  },
  {
   "cell_type": "markdown",
   "metadata": {},
   "source": [
    "** Observación: **  Al contrario de lo que sucedía con *find* aquí el orden entre  ``$skip`` y ``$limit`` sí influye"
   ]
  },
  {
   "cell_type": "markdown",
   "metadata": {},
   "source": [
    "** P9 ** Considera la siguiente colección\n",
    "```[javascript]\n",
    ">  db.fun.find()\n",
    "> { \"_id\" : 0, \"a\" : 0, \"b\" : 0, \"c\" : 21 }\n",
    "> { \"_id\" : 1, \"a\" : 0, \"b\" : 0, \"c\" : 54 }\n",
    "> { \"_id\" : 2, \"a\" : 0, \"b\" : 1, \"c\" : 52 }\n",
    "> { \"_id\" : 3, \"a\" : 0, \"b\" : 1, \"c\" : 17 }\n",
    "> { \"_id\" : 4, \"a\" : 1, \"b\" : 0, \"c\" : 22 }\n",
    "> { \"_id\" : 5, \"a\" : 1, \"b\" : 0, \"c\" : 5 }\n",
    "> { \"_id\" : 6, \"a\" : 1, \"b\" : 1, \"c\" : 87 }\n",
    "> { \"_id\" : 7, \"a\" : 1, \"b\" : 1, \"c\" : 97 }\n",
    "```\n",
    "    \n",
    "¿Qué devolverá la consulta de agregación?\n",
    "\n",
    "```[javascript]\n",
    "db.fun.aggregate([\n",
    "        {'$group':{'_id':{'a':\"$a\", 'b':\"$b\"}, 'c':{'$max':\"$c\"}}},\n",
    "        {'$group':{'_id':\"$_id.a\", 'c':{'$min':\"$c\"}}}\n",
    "])\n",
    "```"
   ]
  },
  {
   "cell_type": "markdown",
   "metadata": {},
   "source": [
    "## 8.- ``$out``\n",
    "\n",
    "Redirige la salida de una agrupación creando una nueva colección. Es muy fácil de utilizar:"
   ]
  },
  {
   "cell_type": "code",
   "execution_count": 35,
   "metadata": {},
   "outputs": [
    {
     "data": {
      "text/plain": [
       "<pymongo.command_cursor.CommandCursor at 0x7f0fb0597df0>"
      ]
     },
     "execution_count": 35,
     "metadata": {},
     "output_type": "execute_result"
    }
   ],
   "source": [
    "db.sesiones.aggregate(\n",
    "                      [\n",
    "                       {'$group':\n",
    "                               { '_id':{'nombre':\"$nombre\", 'mes': \"$mes\"},\n",
    "                                 'sesiones':{'$sum':1}\n",
    "                               }\n",
    "                        } ,\n",
    "                        {'$group':\n",
    "                                {'_id':'$_id.nombre',\n",
    "                                 'media':{'$avg':'$sesiones'}\n",
    "                                }\n",
    "                        },\n",
    "                        {'$out': 'sesiones_persona_mes'}\n",
    "                       ]\n",
    "                     )"
   ]
  },
  {
   "cell_type": "markdown",
   "metadata": {},
   "source": [
    "No muestra nada en la salida, porque se ha redireccionado a la nueva colección sesiones_persona_mes. Podemos comprobarlo:"
   ]
  },
  {
   "cell_type": "code",
   "execution_count": 36,
   "metadata": {},
   "outputs": [
    {
     "name": "stdout",
     "output_type": "stream",
     "text": [
      "{'_id': 'Aniceto', 'media': 1.0}\n",
      "{'_id': 'Bertoldo', 'media': 1.5}\n",
      "{'_id': 'Herminia', 'media': 1.5}\n"
     ]
    }
   ],
   "source": [
    "for doc in db.sesiones_persona_mes.find(): pprint(doc)"
   ]
  },
  {
   "cell_type": "markdown",
   "metadata": {},
   "source": [
    "** Observación: ** Si la colección de salida ya existe la borra (sin avisar, claro) \n",
    "\n",
    "** Observación **"
   ]
  },
  {
   "cell_type": "markdown",
   "metadata": {},
   "source": [
    "## 9.- ``$lookup``\n",
    "\n",
    "\n",
    "Es una etapa añadida en Mongo 3.2\n",
    "\n",
    "Sintaxis:\n",
    "\n",
    "```[javascript]\n",
    "{\n",
    "   $lookup:\n",
    "     {\n",
    "       from: <collection to join>,\n",
    "       localField: <field from the input documents>,\n",
    "       foreignField: <field from the documents of the \"from\" collection>,\n",
    "       as: <output array field>\n",
    "     }\n",
    "}\n",
    "```\n",
    "\n",
    "Ejemplo: utilizando las colecciones \"sesiones\" y \"gustos\" definidas en este capítulo, queremos conocer, para la persona que mayor distancia total haya recorrido:\n",
    "\n",
    "- Su nombre\n",
    "- La distancia total recorrida\n",
    "- Sus aficiones"
   ]
  },
  {
   "cell_type": "code",
   "execution_count": 37,
   "metadata": {},
   "outputs": [
    {
     "name": "stdout",
     "output_type": "stream",
     "text": [
      "{'aficiones': ['correr', 'cine'], 'nombre': 'Herminia', 'total': 62}\n"
     ]
    }
   ],
   "source": [
    "r = db.sesiones.aggregate(\n",
    "                      [\n",
    "                       {'$group':\n",
    "                               { '_id':{'nombre':\"$nombre\"},\n",
    "                                 'total':{'$sum':'$distKm'}\n",
    "                               }\n",
    "                        },\n",
    " \n",
    "                        {'$sort':{'total':-1}},\n",
    " \n",
    "                        {'$limit':1},\n",
    " \n",
    "                        {'$lookup':{\n",
    "                            'from'        :'gustos',\n",
    "                            'localField'  :'_id.nombre',\n",
    "                            'foreignField': 'nombre',\n",
    "                            'as'          : 'susGustos' }\n",
    "                        },\n",
    " \n",
    "                        {'$unwind':'$susGustos'},\n",
    " \n",
    "                        {'$project': {\n",
    "                            '_id':0,\n",
    "                            'nombre':'$_id.nombre',\n",
    "                            'total':1,\n",
    "                            'aficiones': '$susGustos.aficiones'  }\n",
    "                        }\n",
    " \n",
    "                       ]\n",
    "                     )\n",
    "\n",
    "for doc in r: pprint(doc)\n"
   ]
  },
  {
   "cell_type": "markdown",
   "metadata": {},
   "source": [
    "** Observación: ** Es importante entender este ejemplo bien. Podemos copiarlo a la siguiente casilla e irlo ejecutando etapa a etapa (borrando las siguientes)"
   ]
  },
  {
   "cell_type": "code",
   "execution_count": 45,
   "metadata": {},
   "outputs": [
    {
     "name": "stdout",
     "output_type": "stream",
     "text": [
      "{'aficiones': ['correr', 'cine'], 'nombre': 'Herminia', 'total': 62}\n"
     ]
    }
   ],
   "source": [
    "# para jugar\n",
    "r = db.sesiones.aggregate(\n",
    "                      [\n",
    "                       {'$group':\n",
    "                               { '_id':{'nombre':\"$nombre\"},\n",
    "                                 'total':{'$sum':'$distKm'}\n",
    "                               }\n",
    "                        },\n",
    " \n",
    "                        {'$sort':{'total':-1}},\n",
    " \n",
    "                        {'$limit':1},\n",
    " \n",
    "                        {'$lookup':{\n",
    "                            'from'        :'gustos',\n",
    "                            'localField'  :'_id.nombre',\n",
    "                            'foreignField': 'nombre',\n",
    "                            'as'          : 'susGustos' }\n",
    "                        },\n",
    " \n",
    "                        {'$unwind':'$susGustos'},\n",
    " \n",
    "                        {'$project': {\n",
    "                            '_id':0,\n",
    "                            'nombre':'$_id.nombre',\n",
    "                            'total':1,\n",
    "                            'aficiones': '$susGustos.aficiones'  }\n",
    "                        }\n",
    " \n",
    "                       ]\n",
    "                     )\n",
    "\n",
    "for doc in r: pprint(doc)"
   ]
  },
  {
   "cell_type": "markdown",
   "metadata": {},
   "source": [
    "** P10 ** Pregunta. ¿Se podría quitar el sort y el limit, y a cambio añadir un group con max? Algo parecido a:\n",
    "\n",
    "```\n",
    "db.sesiones.aggregate(\n",
    "                      [\n",
    "                       {$group:\n",
    "                               { _id:{nombre:\"$nombre\"},\n",
    "                                 total:{$sum:'$distKm'}\n",
    "                               }\n",
    "                        },\n",
    " \n",
    "                       {$group:\n",
    "                               {\n",
    "                                 _id:null,\n",
    "                                 mayor:{'$max':'$total'}\n",
    "                               }\n",
    "                        } ])\n",
    "```                    "
   ]
  },
  {
   "cell_type": "markdown",
   "metadata": {},
   "source": [
    "** Observación: ** El uso de _id:null en el ejemplo anterior es el truco que permite agrupar toda la colección.\n",
    "\n",
    "** Observación: ** Se puede obtener el plan de una operación de agrupación añadiendo una etapa final {explain:true}"
   ]
  },
  {
   "cell_type": "markdown",
   "metadata": {},
   "source": [
    "\n",
    "## Map Reduce\n",
    "\n",
    "Ya fuera de aggregate, tenemos esta forma típica de Hadoop para hacer cálculos agregados\n",
    "Es un sistema de procesamiento basado en dos etapas:\n",
    "\n",
    "- **map**: Entrada: un documento. Salida: para cada documento se genera una o varias parejas (clave,valor)\n",
    "- **reduce**: Entrada: una clave con todos sus valores. Salida: un valor (asociado de forma implícita a la clave de entrada)\n",
    "\n",
    "Ejemplo:\n",
    "\n",
    "Partimos de la siguiente colección:"
   ]
  },
  {
   "cell_type": "code",
   "execution_count": 72,
   "metadata": {},
   "outputs": [
    {
     "data": {
      "text/plain": [
       "<pymongo.results.InsertOneResult at 0x22f1b49a788>"
      ]
     },
     "execution_count": 72,
     "metadata": {},
     "output_type": "execute_result"
    }
   ],
   "source": [
    "db.frases.drop()\n",
    "db.frases.insert_one({'_id':1,'frase':\"el que sabe no habla\"})\n",
    "db.frases.insert_one({'_id':2,'frase':\"el que habla no sabe\"})\n",
    "db.frases.insert_one({'_id':3,'frase':\"no me digas que no\"})"
   ]
  },
  {
   "cell_type": "markdown",
   "metadata": {},
   "source": [
    "Queremos contar el número de repeticiones de cada palabra.\n",
    "\n",
    "Desde la shell de Mongo tecleamos:\n",
    "\n",
    "``` {javascript}\n",
    "var mapFunctionFrase = function(){\n",
    "   x = this.frase.split(\" \");\n",
    "   for (var i=0; i<x.length; i++)\n",
    "        emit(x[i], 1);\n",
    "};\n",
    "var reduceFunctionFrase = function(palabra,cuantas){\n",
    "     return Array.sum(cuantas);};\n",
    " \n",
    "db.frases.mapReduce(mapFunctionFrase,\n",
    "                       reduceFunctionFrase,\n",
    "                       {out: \"palabras\"}\n",
    "                      )\n",
    " \n",
    "```\n",
    "\n",
    "Y la salida será de la forma:\n",
    "\n",
    "```\n",
    "> db.palabras.find()\n",
    "{ \"_id\" : \"digas\", \"value\" : 1 }\n",
    "{ \"_id\" : \"el\", \"value\" : 2 }\n",
    "{ \"_id\" : \"habla\", \"value\" : 2 }\n",
    "{ \"_id\" : \"me\", \"value\" : 1 }\n",
    "{ \"_id\" : \"no\", \"value\" : 4 }\n",
    "{ \"_id\" : \"que\", \"value\" : 3 }\n",
    "{ \"_id\" : \"sabe\", \"value\" : 2 }\n",
    "```\n",
    "\n",
    "** Observación **: Hay que hacerlo desde la shell porque espera funciones JavaScript\n",
    "\n",
    "** Observación **: Se incluye por compatibilidad con otros sistemas big data, pero en Mono es muy leno y poco recomendable, mejor usar el pipeline de agregación\n",
    "\n",
    "\n",
    "Ejemplo\n",
    "En el ejemplo anterior, obtener la longitud de la frase más larga en toda la colección:\n",
    "\n",
    "```[javascript]\n",
    "var mapFunctionFraseLarga = function(){\n",
    "        emit(\"max\", this.frase.length);\n",
    "};\n",
    "var reduceFunctionFraseLarga = function(clave,longs){\n",
    "     max = longs[0];\n",
    "     for (var i=1; i<longs.length;i++)\n",
    "          if (longs[i]>max)\n",
    "             max = longs[i];\n",
    " \n",
    "     return max;};\n",
    " \n",
    "db.frases.mapReduce(mapFunctionFraseLarga,\n",
    "                       reduceFunctionFraseLarga,\n",
    "                       {out: {inline:1}}\n",
    "                      )\n",
    "```\n",
    "\n",
    "** P11 **\n",
    "\n",
    "Volvemos a considerar el ejemplo de las sesiones de entrenamiento, queremos saber cuántos kilómetros a recorrido cada persona al mes usando MapReduce. Probarlo desde la shell.\n"
   ]
  },
  {
   "cell_type": "markdown",
   "metadata": {},
   "source": [
    "## Vistas"
   ]
  },
  {
   "cell_type": "markdown",
   "metadata": {},
   "source": [
    "Las vistas se introdujeron en la versión 3.4 de MongoDB. Se puede pensar en una vista como una colección \"virtual\" que se crea a partir de una consulta.\n",
    "\n",
    "Características principales:\n",
    "\n",
    "1 Las vistas se definen a través de una consulta de agregación.\n",
    "\n",
    "```\n",
    "    db.createView(view, source, pipeline, collation)\n",
    "```\n",
    "\n",
    "    Donde\n",
    "-        view: Un string con el nombre de la vista a crear.\n",
    "-        source: Un string con el nombre de la colección en la que se basa.\n",
    "-        pipeline: la secuencia de agregación que define la vista\n",
    "-        collation: adaptaciones locales (ver ayuda) \n",
    "\n",
    "2     Las vistas son de solo lectura; es decir no podemos insertar/borrar/actualizar datos en una vista. En particular las vistas solo se pueden usar en las instrucciones:\n",
    "- db.collection.find()\n",
    "-        db.collection.findOne()\n",
    "-        db.collection.aggregate()\n",
    "-        db.collection.count()\n",
    "-        db.collection.distinct() \n",
    "\n",
    "3    Si actualizamos la colección base la vista automáticamente cambia.\n",
    "\n",
    "4    Se muestran como una colleción más con \"show collections\".\n",
    "\n",
    "5    La consulta se almacena en System.views. "
   ]
  },
  {
   "cell_type": "code",
   "execution_count": null,
   "metadata": {
    "collapsed": true
   },
   "outputs": [],
   "source": []
  }
 ],
 "metadata": {
  "kernelspec": {
   "display_name": "Python 3 (ipykernel)",
   "language": "python",
   "name": "python3"
  },
  "language_info": {
   "codemirror_mode": {
    "name": "ipython",
    "version": 3
   },
   "file_extension": ".py",
   "mimetype": "text/x-python",
   "name": "python",
   "nbconvert_exporter": "python",
   "pygments_lexer": "ipython3",
   "version": "3.9.2"
  }
 },
 "nbformat": 4,
 "nbformat_minor": 2
}
