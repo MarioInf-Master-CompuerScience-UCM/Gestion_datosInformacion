{
 "cells": [
  {
   "cell_type": "markdown",
   "metadata": {},
   "source": [
    "# Web Scraping con Python\n",
    "\n",
    "Este script muestra algunas posibilidades de la biblioteca *Selenium* que nos permite obtener, automáticamente, datos de páginas web dinámicas, es decir que necesitan pulsar botones, etc, etc.\n",
    "\n",
    "Selenium está pensado realmente para automatizar pruebas de entornos web, pero a nosotros nos servirá para nuestro propósito de hacer web scraping.\n",
    "\n",
    "En particular, lo que vamos a hacer es arrancar google Chrome y manejarlo automáticamente desde Python.\n",
    "\n",
    "Para ello necesitamos 3 cosas:\n",
    "\n",
    "1.- Tener google Chrome\n",
    "\n",
    "2.- Instalar la biblioteca selenium\n",
    "\n",
    "3.- Tener un fichero controlador, un driver, de nombre *chromedriver.exe*. En nuestro caso supondremos que se encuentra en la carpeta c:/hlocal/tdm.\n",
    "\n",
    "Podemos obtener el fichero Chromedriver, desde http://chromedriver.storage.googleapis.com/index.html\n",
    "\n",
    "Debemos descargar un driver suficientemente moderno, según nuestra versión de Chrome.\n",
    "\n",
    "Para encontrar la versión de Chrome, desde dentro del navegador :\n",
    "-\tAbrir el menú de arriba a la derecha (icono 3 puntitos verticales, o una “i”)\n",
    "-\tSelecciones “Ayuda” y a continuación “Información de Google Chrome”\n",
    "-\tAllí debemos ver algo como “Versión 76.0.3809.132 (Build oficial) (64 bits)”\n"
   ]
  },
  {
   "cell_type": "code",
   "execution_count": 1,
   "metadata": {
    "scrolled": true
   },
   "outputs": [],
   "source": [
    "# Ahora arrancamos una instancia de google Chrome. \n",
    "import os\n",
    "from selenium import webdriver  # si da error, desde anaconda prompt sobre python 3.x hacer pip install --user  selenium\n",
    "chromedriver = \"c:/hlocal/sgdi/chromedriver.exe\"\n",
    "os.environ[\"webdriver.chrome.driver\"] = chromedriver\n",
    "chrome_options = webdriver.ChromeOptions()\n",
    "chrome_options.add_argument('--no-sandbox')\n",
    "driver = webdriver.Chrome(executable_path=chromedriver,options=chrome_options)"
   ]
  },
  {
   "cell_type": "code",
   "execution_count": 2,
   "metadata": {},
   "outputs": [],
   "source": [
    "url = 'https://www1.sedecatastro.gob.es/CYCBienInmueble/OVCBusqueda.aspx'\n",
    "driver.get(url)"
   ]
  },
  {
   "cell_type": "markdown",
   "metadata": {},
   "source": [
    "Simulamos un click en la página\n"
   ]
  },
  {
   "cell_type": "code",
   "execution_count": 15,
   "metadata": {},
   "outputs": [],
   "source": [
    "coord   = driver.find_element_by_link_text(\"COORDENADAS\")\n",
    "coord.click()"
   ]
  },
  {
   "cell_type": "code",
   "execution_count": 4,
   "metadata": {},
   "outputs": [],
   "source": [
    "from selenium.webdriver.common.keys import Keys\n",
    "# forma alternativa y a veces necesaria\n",
    "coord   = driver.find_element_by_link_text(\"COORDENADAS\")\n",
    "coord.send_keys(Keys.SPACE)"
   ]
  },
  {
   "cell_type": "markdown",
   "metadata": {},
   "source": [
    "Texto de la página"
   ]
  },
  {
   "cell_type": "code",
   "execution_count": 7,
   "metadata": {},
   "outputs": [
    {
     "name": "stdout",
     "output_type": "stream",
     "text": [
      "Formulario master\n",
      "Castellano\n",
      "ICONO CORREO ELECTRÓNICO\n",
      "CONTÁCTENOS\n",
      "Icono página de inicio\n",
      "Buscador de inmuebles\n",
      "icono ayuda\n",
      "¿Cómo funciona este servicio?\n",
      "El buscador de inmuebles de la SEC permite los siguientes tipos de búsquedas: por referencia catastral, por calle/número, por polígono/parcela, por coordenadas o por código registral único (CRU). Pulse en la opción correspondiente.\n",
      "Los campos Provincia y Municipio despliegan los valores correspondientes al pulsar en el campo. El campo Vía requiere introducir al menos tres caracteres.\n",
      "Los campos marcados con * son obligatorios\n",
      "RC\n",
      "CALLE/NÚMERO\n",
      "POLÍGONO/PARCELA\n",
      "COORDENADAS\n",
      "CRU\n",
      "Referencia Catastral\n",
      "* Referencia Catastral\n",
      "icono ayuda\n",
      "  Normativa reguladora\n",
      "Política de privacidad\n",
      "Accesibilidad\n",
      "Mapa web\n"
     ]
    }
   ],
   "source": [
    "html = driver.find_element_by_xpath(\"/html\")\n",
    "print(html.text)"
   ]
  },
  {
   "cell_type": "markdown",
   "metadata": {},
   "source": [
    "Caminos absolutos"
   ]
  },
  {
   "cell_type": "code",
   "execution_count": 8,
   "metadata": {},
   "outputs": [],
   "source": [
    "head = driver.find_element_by_xpath(\"/html/head\")\n",
    "body = driver.find_element_by_xpath(\"/html/body\")\n",
    "html2 = body.find_element_by_xpath(\"/html\")"
   ]
  },
  {
   "cell_type": "code",
   "execution_count": 10,
   "metadata": {},
   "outputs": [
    {
     "name": "stdout",
     "output_type": "stream",
     "text": [
      "Formulario master\n",
      "Castellano\n",
      "ICONO CORREO ELECTRÓNICO\n",
      "CONTÁCTENOS\n",
      "Icono página de inicio\n",
      "Buscador de inmuebles\n",
      "icono ayuda\n",
      "¿Cómo funciona este servicio?\n",
      "El buscador de inmuebles de la SEC permite los siguientes tipos de búsquedas: por referencia catastral, por calle/número, por polígono/parcela, por coordenadas o por código registral único (CRU). Pulse en la opción correspondiente.\n",
      "Los campos Provincia y Municipio despliegan los valores correspondientes al pulsar en el campo. El campo Vía requiere introducir al menos tres caracteres.\n",
      "Los campos marcados con * son obligatorios\n",
      "RC\n",
      "CALLE/NÚMERO\n",
      "POLÍGONO/PARCELA\n",
      "COORDENADAS\n",
      "CRU\n",
      "Referencia Catastral\n",
      "* Referencia Catastral\n",
      "icono ayuda\n",
      "  Normativa reguladora\n",
      "Política de privacidad\n",
      "Accesibilidad\n",
      "Mapa web\n"
     ]
    }
   ],
   "source": [
    "print(body.text)"
   ]
  },
  {
   "cell_type": "markdown",
   "metadata": {},
   "source": [
    "Hijos de un elemento"
   ]
  },
  {
   "cell_type": "code",
   "execution_count": 7,
   "metadata": {},
   "outputs": [
    {
     "name": "stdout",
     "output_type": "stream",
     "text": [
      "form\n",
      "div\n",
      "script\n",
      "a\n",
      "script\n",
      "ul\n",
      "span\n",
      "ul\n",
      "span\n",
      "ul\n",
      "span\n",
      "ul\n",
      "span\n",
      "ul\n",
      "span\n",
      "ul\n",
      "span\n",
      "div\n",
      "div\n"
     ]
    }
   ],
   "source": [
    "hijos = driver.find_elements_by_xpath(\"/html/body/*\")\n",
    "for element in hijos:\n",
    "  print(element.tag_name)"
   ]
  },
  {
   "cell_type": "markdown",
   "metadata": {},
   "source": [
    "Camino relativo"
   ]
  },
  {
   "cell_type": "code",
   "execution_count": 8,
   "metadata": {},
   "outputs": [
    {
     "name": "stdout",
     "output_type": "stream",
     "text": [
      "2\n"
     ]
    }
   ],
   "source": [
    "divs = driver.find_elements_by_xpath(\"/html/body/*/div\")\n",
    "print(len(divs))"
   ]
  },
  {
   "cell_type": "code",
   "execution_count": 9,
   "metadata": {},
   "outputs": [
    {
     "name": "stdout",
     "output_type": "stream",
     "text": [
      "2\n"
     ]
    }
   ],
   "source": [
    "divs = body.find_elements_by_xpath(\"./*/div\")\n",
    "print(len(divs))"
   ]
  },
  {
   "cell_type": "markdown",
   "metadata": {},
   "source": [
    "Saltar pasos intermedios"
   ]
  },
  {
   "cell_type": "code",
   "execution_count": 10,
   "metadata": {},
   "outputs": [
    {
     "name": "stdout",
     "output_type": "stream",
     "text": [
      "139\n"
     ]
    }
   ],
   "source": [
    "divs = driver.find_elements_by_xpath(\"/html/body//div\")\n",
    "print(len(divs))"
   ]
  },
  {
   "cell_type": "code",
   "execution_count": 11,
   "metadata": {},
   "outputs": [
    {
     "name": "stdout",
     "output_type": "stream",
     "text": [
      "32\n"
     ]
    }
   ],
   "source": [
    "labels = driver.find_elements_by_xpath(\"//label\")\n",
    "print(len(labels))"
   ]
  },
  {
   "cell_type": "markdown",
   "metadata": {},
   "source": [
    "Insertar texto"
   ]
  },
  {
   "cell_type": "code",
   "execution_count": 16,
   "metadata": {},
   "outputs": [],
   "source": [
    "lat = driver.find_element_by_id(\"ctl00_Contenido_txtLatitud\")\n",
    "lon = driver.find_element_by_id(\"ctl00_Contenido_txtLongitud\")\n",
    "latitud  = \"28.2723368\"\n",
    "longitud = \"-16.64268\"\n",
    "lat.send_keys(latitud)\n",
    "lon.send_keys(longitud)\n",
    "\n"
   ]
  },
  {
   "cell_type": "markdown",
   "metadata": {},
   "source": [
    "Recuperar texto"
   ]
  },
  {
   "cell_type": "code",
   "execution_count": null,
   "metadata": {},
   "outputs": [],
   "source": [
    "lat.get_property(\"value\")"
   ]
  },
  {
   "cell_type": "code",
   "execution_count": 17,
   "metadata": {},
   "outputs": [],
   "source": [
    "datos = driver.find_element_by_id(\"ctl00_Contenido_btnDatos\")\n",
    "datos.click()\n",
    "\n",
    "# forma alternativa, en ocasiones la anterior no funciona\n",
    "#from selenium.webdriver.common.keys import Keys\n",
    "#datos.send_keys(Keys.SPACE)"
   ]
  },
  {
   "cell_type": "code",
   "execution_count": 13,
   "metadata": {},
   "outputs": [
    {
     "name": "stdout",
     "output_type": "stream",
     "text": [
      "38026A035000010000EI    \n"
     ]
    }
   ],
   "source": [
    "id = \"ctl00_Contenido_tblInmueble\"\n",
    "div = driver.find_element_by_id(id)\n",
    "label = div.find_element_by_xpath(\"//label\")\n",
    "print(label.text)"
   ]
  },
  {
   "cell_type": "markdown",
   "metadata": {},
   "source": [
    "Otra forma, por texto"
   ]
  },
  {
   "cell_type": "code",
   "execution_count": 14,
   "metadata": {},
   "outputs": [
    {
     "name": "stdout",
     "output_type": "stream",
     "text": [
      "38026A035000010000EI    \n"
     ]
    }
   ],
   "source": [
    "xpath = \"//*[./span/text()='Referencia catastral']//label\"\n",
    "etiqs = driver.find_element_by_xpath(xpath)\n",
    "print(etiqs.text)"
   ]
  },
  {
   "cell_type": "markdown",
   "metadata": {},
   "source": [
    "Algunos ejemplos más...."
   ]
  },
  {
   "cell_type": "code",
   "execution_count": 27,
   "metadata": {},
   "outputs": [
    {
     "name": "stdout",
     "output_type": "stream",
     "text": [
      "\n",
      "\n",
      "\n"
     ]
    }
   ],
   "source": [
    "clase = driver.find_elements_by_xpath(\"(//label)[position()=3]\")\n",
    "print(clase[0].text)\n",
    "\n",
    "etiqs = driver.find_elements_by_xpath(\"//label\")\n",
    "print(etiqs[2].text)\n",
    "\n",
    "ulti = driver.find_elements_by_xpath(\"(//label)[last()]\")\n",
    "print(ulti[0].text)\n"
   ]
  },
  {
   "cell_type": "markdown",
   "metadata": {},
   "source": [
    "Un pequeño ejemplo adicional, información metereológica en Madrid"
   ]
  },
  {
   "cell_type": "code",
   "execution_count": 18,
   "metadata": {},
   "outputs": [],
   "source": [
    "url = 'http://www.aemet.es/es/eltiempo/prediccion/municipios/madrid-id28079'\n",
    "driver.get(url)\n"
   ]
  },
  {
   "cell_type": "code",
   "execution_count": 17,
   "metadata": {},
   "outputs": [
    {
     "name": "stdout",
     "output_type": "stream",
     "text": [
      "31\n",
      "13\n",
      "12–18 h\n",
      "22°C\n",
      "18–24 h\n",
      "17°C\n",
      "00–06 h\n",
      "13°C\n",
      "06–12 h\n",
      "22°C\n",
      "12–18 h\n",
      "19°C\n",
      "18–24 h\n",
      "16°C\n",
      "00–12 h\n",
      "12–24 h\n",
      "00–12 h\n",
      "12–24 h\n",
      " \n",
      " \n",
      " \n"
     ]
    }
   ],
   "source": [
    "th = driver.find_elements_by_xpath(\"/html/body//*/th\")\n",
    "print(len(th))\n",
    "th = driver.find_elements_by_xpath(\"/html/body//*/th[@class='borde_izq_dcha_estado_cielo no_wrap']\")\n",
    "print(len(th))\n",
    "for e in th:\n",
    "    print(e.text)"
   ]
  },
  {
   "cell_type": "code",
   "execution_count": 19,
   "metadata": {},
   "outputs": [],
   "source": [
    "driver.close()"
   ]
  },
  {
   "cell_type": "markdown",
   "metadata": {},
   "source": [
    "Por Rafael Caballero. Del libro \"Big data con Python\""
   ]
  },
  {
   "cell_type": "code",
   "execution_count": null,
   "metadata": {},
   "outputs": [],
   "source": []
  },
  {
   "cell_type": "code",
   "execution_count": null,
   "metadata": {},
   "outputs": [],
   "source": []
  },
  {
   "cell_type": "code",
   "execution_count": null,
   "metadata": {},
   "outputs": [],
   "source": []
  }
 ],
 "metadata": {
  "kernelspec": {
   "display_name": "Python 3 (ipykernel)",
   "language": "python",
   "name": "python3"
  },
  "language_info": {
   "codemirror_mode": {
    "name": "ipython",
    "version": 3
   },
   "file_extension": ".py",
   "mimetype": "text/x-python",
   "name": "python",
   "nbconvert_exporter": "python",
   "pygments_lexer": "ipython3",
   "version": "3.9.12"
  }
 },
 "nbformat": 4,
 "nbformat_minor": 2
}
