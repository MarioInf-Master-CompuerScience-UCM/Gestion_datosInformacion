{
 "cells": [
  {
   "cell_type": "markdown",
   "metadata": {},
   "source": [
    "## Captura de datos\n",
    "\n",
    "Descarga y tratamiento de un fichero de texto con datos de contaminación de madrid, estación de Plaza de España.\n",
    "\n",
    "Este fichero es el que se muestra en \n",
    "\n",
    "http://www.mambiente.munimadrid.es/opencms/opencms/calaire/consulta/Gases_y_particulas/informegaseshorarios.html\n",
    "\n",
    "En lugar de hacer scraping comprobamos que este fichero lo que hace es consultar otro:\n",
    "\n",
    "http://www.mambiente.munimadrid.es/opendata/horario.txt\n",
    "\n",
    "En este fichero, el que vamos a utilizar, cada fila tiene los datos de una estación para un contaminante concreto en el día en curso Para cada fila, el formato:\n",
    "\n",
    "* Las 3 primeras columnas especifican la [estación](https://gist.githubusercontent.com/koldLight/533038c852ca0a546da247292b5d9ab9/raw/deb47b10bd67a7c9795ea24af49ed90b1f572ebd/madrid_air_quality_stations.csv)\n",
    "* Las 3 siguientes el contaminante. En realidad la primera ya indica el contaminante (01--> SO2µg/m³,08 --> NO2 µg/m³, 10 --> PM10 µg/m3,14--> O3µg/m³, 20-->TOL µg/m³ ,...)\n",
    "* El resto de las columnas van en parejas, y son 48, una pareja por cada hora del día. Si el segundo componente es N el dato aun no está disponible, si es V el dato de la columna anterior es válido\n",
    "\n",
    "Una descripción más completa [aquí](http://espiadellabo.com/wp-content/uploads/2019/06/Interprete_ficheros_-calidad_-del_-aire_global.pdf)"
   ]
  },
  {
   "cell_type": "markdown",
   "metadata": {},
   "source": [
    "Cambiar este path a una ruta válida en vuestro ordenador"
   ]
  },
  {
   "cell_type": "code",
   "execution_count": 2,
   "metadata": {},
   "outputs": [],
   "source": [
    "path = \"e:/data/contaminacion/\""
   ]
  },
  {
   "cell_type": "code",
   "execution_count": 4,
   "metadata": {},
   "outputs": [
    {
     "data": {
      "image/png": "[encoded data removed]",
      "text/plain": [
       "<Figure size 432x288 with 1 Axes>"
      ]
     },
     "metadata": {
      "needs_background": "light"
     },
     "output_type": "display_data"
    }
   ],
   "source": [
    "%matplotlib inline\n",
    "import requests\n",
    "\n",
    "url = \"http://www.mambiente.munimadrid.es/opendata/horario.txt\"\n",
    "resp = requests.get(url)\n",
    "\n",
    "# lo grabamos en formato csv\n",
    "with open(path+'horario.txt', 'wb') as output:\n",
    "    output.write(resp.content)\n",
    "\n",
    "# Ahora una pequeña grafica\n",
    "import matplotlib.pyplot as plt\n",
    "import csv\n",
    "with open(path+'horario.txt') as csvfile:\n",
    "    readCSV = csv.reader(csvfile, delimiter=',')\n",
    "    for row in readCSV:\n",
    "        # si la fila es de la estación y el contaminando que queremos....\n",
    "        if (row[0]+row[1]+row[2]=='28079004' and row[3]=='08'):\n",
    "            plt.title(\"NO2 µg/m³: \"+row[8]+\"/\"+row[7]+\"/\"+row[6])\n",
    "            hora = 0\n",
    "            desp = 9\n",
    "            vs = []\n",
    "            while (hora<=23 and row[desp+2*hora+1]=='V'):\n",
    "                vs.append(float(row[desp+2*hora]))\n",
    "                hora +=1\n",
    "            plt.plot(range(1,hora+1), vs)\n",
    "            plt.show()"
   ]
  },
  {
   "cell_type": "markdown",
   "metadata": {},
   "source": [
    "Rafael Caballero, Enrique Martín y Adrián Riesco"
   ]
  }
 ],
 "metadata": {
  "kernelspec": {
   "display_name": "Python 3 (ipykernel)",
   "language": "python",
   "name": "python3"
  },
  "language_info": {
   "codemirror_mode": {
    "name": "ipython",
    "version": 3
   },
   "file_extension": ".py",
   "mimetype": "text/x-python",
   "name": "python",
   "nbconvert_exporter": "python",
   "pygments_lexer": "ipython3",
   "version": "3.9.2"
  }
 },
 "nbformat": 4,
 "nbformat_minor": 2
}
