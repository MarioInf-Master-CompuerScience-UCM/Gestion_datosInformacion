{
 "cells": [
  {
   "cell_type": "markdown",
   "metadata": {},
   "source": [
    "# Web Scraping con Python\n",
    "Rafa Caballero\n",
    "\n",
    "Este script muestra algunas posibilidades de la biblioteca *Selenium* que nos permite obtener, automáticamente, datos de páginas web dinámicas, es decir que necesitan pulsar botones, etc, etc.\n",
    "\n",
    "Selenium está pensado realmente para automatizar pruebas de entornos web, pero a nosotros nos servirá para nuestro propósito de hacer web scraping.\n",
    "\n",
    "En particular, lo que vamos a hacer es arrancar Google Chrome y manejarlo automáticamente desde Python.\n",
    "\n",
    "Para ello necesitamos 3 cosas:\n",
    "\n",
    "1.- Tener google Chrome\n",
    "\n",
    "2.- Instalar la biblioteca selenium\n",
    "\n",
    "3.- Tener un fichero controlador, un driver, de nombre *chromedriver.exe*. En nuestro caso supondremos que se encuentra en la carpeta c:/hlocal/sgdi.\n",
    "\n",
    "Podemos obtener el fichero Chromedriver, desde http://chromedriver.storage.googleapis.com/index.html\n",
    "\n",
    "Debemos descargar un driver suficientemente moderno, según nuestra versión de Chrome.\n",
    "\n",
    "Para encontrar la versión de Chrome, desde dentro del navegador :\n",
    "-\tAbrir el menú de arriba a la derecha (icono 3 puntitos verticales, o una “i”)\n",
    "-\tSelecciones “Ayuda” y a continuación “Información de Google Chrome”\n",
    "-\tAllí debemos ver algo como “Versión 76.0.3809.132 (Build oficial) (64 bits)”\n",
    "\n",
    "\n",
    "Empezamos por asegurarnos de que Selenium está instalado, e instalándolo en caso contrario"
   ]
  },
  {
   "cell_type": "code",
   "execution_count": 1,
   "metadata": {},
   "outputs": [
    {
     "name": "stdout",
     "output_type": "stream",
     "text": [
      "selenium está en el sistema!\n"
     ]
    }
   ],
   "source": [
    "import sys\n",
    "try:\n",
    "    import selenium\n",
    "    print(\"selenium está en el sistema!\")\n",
    "except ImportError as e:\n",
    "    !{sys.executable} -m pip install --upgrade --user selenium"
   ]
  },
  {
   "cell_type": "markdown",
   "metadata": {},
   "source": [
    "Iniciamos una sesión de Chrome, recordar cambiar la variable al lugar donde está el fichero Chromedriver"
   ]
  },
  {
   "cell_type": "code",
   "execution_count": 2,
   "metadata": {},
   "outputs": [
    {
     "name": "stderr",
     "output_type": "stream",
     "text": [
      "[WDM] - Downloading: 100%|███████████| 6.98M/6.98M [00:00<00:00, 17.6MB/s]\n"
     ]
    }
   ],
   "source": [
    "import os\n",
    "import time\n",
    "from selenium import webdriver  # si da error, desde anaconda prompt sobre python 3.x hacer pip install --user  selenium\n",
    "from selenium.webdriver.chrome.service import Service\n",
    "from selenium.webdriver.common.by import By\n",
    "from webdriver_manager.chrome import ChromeDriverManager\n",
    "\n",
    "chromedriver = \"/usr/local/share/chromedriver\"\n",
    "os.environ[\"webdriver.chrome.driver\"] = chromedriver\n",
    "chrome_options = webdriver.ChromeOptions()\n",
    "chrome_options.add_argument('--no-sandbox')\n",
    "\n",
    "#driver = webdriver.Chrome(executable_path=chromedriver,options=chrome_options)\n",
    "driver = webdriver.Chrome( service=Service(ChromeDriverManager().install()), options=chrome_options)\n"
   ]
  },
  {
   "cell_type": "markdown",
   "metadata": {},
   "source": [
    "##### Ejercicio 1\n",
    "\n",
    "Cargar la página http://mustcalculate.com/electronics/unitconverter.php"
   ]
  },
  {
   "cell_type": "code",
   "execution_count": 3,
   "metadata": {},
   "outputs": [],
   "source": [
    "s = 'http://mustcalculate.com/electronics/unitconverter.php'\n",
    "driver.get(s)\n"
   ]
  },
  {
   "cell_type": "markdown",
   "metadata": {},
   "source": [
    "\n",
    "##### Ejercicio 2\n",
    "Cargar los valores a convertir (convertir.csv) como un Dataframe pandas"
   ]
  },
  {
   "cell_type": "code",
   "execution_count": 4,
   "metadata": {},
   "outputs": [
    {
     "data": {
      "text/html": [
       "<div>\n",
       "<style scoped>\n",
       "    .dataframe tbody tr th:only-of-type {\n",
       "        vertical-align: middle;\n",
       "    }\n",
       "\n",
       "    .dataframe tbody tr th {\n",
       "        vertical-align: top;\n",
       "    }\n",
       "\n",
       "    .dataframe thead th {\n",
       "        text-align: right;\n",
       "    }\n",
       "</style>\n",
       "<table border=\"1\" class=\"dataframe\">\n",
       "  <thead>\n",
       "    <tr style=\"text-align: right;\">\n",
       "      <th></th>\n",
       "      <th>valor</th>\n",
       "      <th>origen</th>\n",
       "      <th>destino</th>\n",
       "    </tr>\n",
       "  </thead>\n",
       "  <tbody>\n",
       "    <tr>\n",
       "      <th>0</th>\n",
       "      <td>10</td>\n",
       "      <td>Binary</td>\n",
       "      <td>Octal</td>\n",
       "    </tr>\n",
       "    <tr>\n",
       "      <th>1</th>\n",
       "      <td>100</td>\n",
       "      <td>Fahrenheit</td>\n",
       "      <td>Celsius</td>\n",
       "    </tr>\n",
       "    <tr>\n",
       "      <th>2</th>\n",
       "      <td>1000</td>\n",
       "      <td>Hertz</td>\n",
       "      <td>Seconds</td>\n",
       "    </tr>\n",
       "  </tbody>\n",
       "</table>\n",
       "</div>"
      ],
      "text/plain": [
       "   valor      origen  destino\n",
       "0     10      Binary    Octal\n",
       "1    100  Fahrenheit  Celsius\n",
       "2   1000       Hertz  Seconds"
      ]
     },
     "execution_count": 4,
     "metadata": {},
     "output_type": "execute_result"
    }
   ],
   "source": [
    "import pandas as pd\n",
    "valores = \"https://raw.githubusercontent.com/RafaelCaballero/tdm/master/datos/convertir.csv\"\n",
    "df = pd.read_csv(valores,encoding= 'unicode_escape')\n",
    "df"
   ]
  },
  {
   "cell_type": "markdown",
   "metadata": {},
   "source": [
    "#### Ejercicio 3\n",
    "Para cada fila:\n",
    "\n",
    "* Poner en Value el `valor`\n",
    "* En la lista desplegable elegir el Origen\n",
    "* Dar al botón `Calculate`\n",
    "* Buscar el resultado en la tabla Results y añadirlo a una lista\n",
    "\n",
    "Al final añadir una columna 'resultado' al dataframe y volver a grabarlo con formato csv\n",
    "\n",
    "Sugerencia: hacerlo al principio solo para la primera fila, y cuando funcione iterar en un bucle\n",
    "\n",
    "Para localizar los elementos mirar esta [ayuda](https://selenium-python.readthedocs.io/locating-elements.html)\n",
    "\n",
    "Para seleccionar un elemento de un desplegable utilizar Select. [Aquí](https://stackoverflow.com/questions/7867537/how-to-select-a-drop-down-menu-value-with-selenium-using-python) hay un ejemplo (buscar la respuesta que utiliza Select)"
   ]
  },
  {
   "cell_type": "code",
   "execution_count": 13,
   "metadata": {},
   "outputs": [
    {
     "name": "stdout",
     "output_type": "stream",
     "text": [
      "   valor      origen  destino      resultados\n",
      "0     10      Binary    Octal               2\n",
      "1    100  Fahrenheit  Celsius  37.77777777778\n",
      "2   1000       Hertz  Seconds           0.001\n"
     ]
    }
   ],
   "source": [
    "from selenium.webdriver.support.ui import Select\n",
    "\n",
    "# para guardar los resultados\n",
    "resultados=[]\n",
    "for index, r in df.iterrows():\n",
    "    # meter los valores en la caja de texto\n",
    "    caja = driver.find_element(By.NAME, \"in\")\n",
    "    caja.clear()\n",
    "    caja.send_keys(str(r.valor))\n",
    "\n",
    "    # lista desplegable\n",
    "    select = Select(driver.find_element(By.NAME,'ino'))\n",
    "    select.select_by_visible_text(r.origen)\n",
    "\n",
    "    # pulsar botón\n",
    "    driver.find_element(By.ID,'calcbutton').click()\n",
    "\n",
    "    # buscar en la tabla\n",
    "    div = driver.find_element(By.ID,'answer')\n",
    "    trs = div.find_elements(By.XPATH,\"table/tbody/tr\")\n",
    "    \n",
    "    found = False\n",
    "    i = 0\n",
    "    while not found and i<len(trs): \n",
    "        tr = trs[i]\n",
    "        # ojo con la cabecera, que tiene otro formato\n",
    "        if len(tr.find_elements(By.XPATH, \"td\"))>1:\n",
    "            nombre = tr.find_element(By.XPATH, \"td[1]\").text\n",
    "            valor = tr.find_element(By.XPATH, \"td[2]\").text\n",
    "            if nombre==r.destino:\n",
    "                resultados.append(valor)\n",
    "                found=True\n",
    "        i+=1\n",
    "df[\"resultados\"] = resultados\n",
    "print(df)\n",
    "df.to_csv(r'resultados.csv', index=False)"
   ]
  },
  {
   "cell_type": "code",
   "execution_count": 14,
   "metadata": {},
   "outputs": [],
   "source": [
    "driver.close()"
   ]
  },
  {
   "cell_type": "code",
   "execution_count": null,
   "metadata": {},
   "outputs": [],
   "source": []
  }
 ],
 "metadata": {
  "kernelspec": {
   "display_name": "Python 3 (ipykernel)",
   "language": "python",
   "name": "python3"
  },
  "language_info": {
   "codemirror_mode": {
    "name": "ipython",
    "version": 3
   },
   "file_extension": ".py",
   "mimetype": "text/x-python",
   "name": "python",
   "nbconvert_exporter": "python",
   "pygments_lexer": "ipython3",
   "version": "3.9.2"
  }
 },
 "nbformat": 4,
 "nbformat_minor": 2
}
