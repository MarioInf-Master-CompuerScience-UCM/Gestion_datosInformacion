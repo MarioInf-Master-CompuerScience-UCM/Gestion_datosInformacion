{
 "cells": [
  {
   "cell_type": "markdown",
   "metadata": {},
   "source": [
    "# Web Scraping con Python\n",
    "\n",
    "Este script muestra algunas posibilidades de la biblioteca *Selenium* que nos permite obtener, automáticamente, datos de páginas web dinámicas, es decir que necesitan pulsar botones, etc, etc.\n",
    "\n",
    "Selenium está pensado realmente para automatizar pruebas de entornos web, pero a nosotros nos servirá para nuestro propósito de hacer web scraping.\n",
    "\n",
    "En particular, lo que vamos a hacer es arrancar google Chrome y manejarlo automáticamente desde Python.\n",
    "\n",
    "Para ello necesitamos 3 cosas:\n",
    "\n",
    "1.- Tener google Chrome\n",
    "\n",
    "2.- Instalar la biblioteca selenium\n",
    "\n",
    "3.- Tener un fichero controlador, un driver, de nombre *chromedriver.exe*. En nuestro caso supondremos que se encuentra en la carpeta c:/hlocal/tdm.\n",
    "\n",
    "Podemos obtener el fichero Chromedriver, desde http://chromedriver.storage.googleapis.com/index.html\n",
    "\n",
    "Debemos descargar un driver suficientemente moderno, según nuestra versión de Chrome.\n",
    "\n",
    "Para encontrar la versión de Chrome, desde dentro del navegador :\n",
    "-\tAbrir el menú de arriba a la derecha (icono 3 puntitos verticales, o una “i”)\n",
    "-\tSelecciones “Ayuda” y a continuación “Información de Google Chrome”\n",
    "-\tAllí debemos ver algo como “Versión 76.0.3809.132 (Build oficial) (64 bits)”\n"
   ]
  },
  {
   "cell_type": "code",
   "execution_count": 14,
   "metadata": {
    "scrolled": true
   },
   "outputs": [],
   "source": [
    "# Ahora arrancamos una instancia de google Chrome. \n",
    "import os\n",
    "from selenium import webdriver  # si da error, desde anaconda prompt sobre python 3.x hacer pip install --user  selenium\n",
    "from selenium.webdriver.chrome.service import Service\n",
    "from selenium.webdriver.common.by import By\n",
    "from webdriver_manager.chrome import ChromeDriverManager\n",
    "\n",
    "\n",
    "chromedriver = \"/usr/local/share/chromedriver\"\n",
    "os.environ[\"webdriver.chrome.driver\"] = chromedriver\n",
    "chrome_options = webdriver.ChromeOptions()\n",
    "chrome_options.add_argument('--no-sandbox')\n",
    "\n",
    "#driver = webdriver.Chrome(executable_path=chromedriver,options=chrome_options)\n",
    "driver = webdriver.Chrome( service=Service(ChromeDriverManager().install()), options=chrome_options)"
   ]
  },
  {
   "cell_type": "code",
   "execution_count": 15,
   "metadata": {},
   "outputs": [],
   "source": [
    "url = 'https://www1.sedecatastro.gob.es/CYCBienInmueble/OVCBusqueda.aspx'\n",
    "driver.get(url)"
   ]
  },
  {
   "cell_type": "markdown",
   "metadata": {},
   "source": [
    "Simulamos un click en la página\n"
   ]
  },
  {
   "cell_type": "code",
   "execution_count": 17,
   "metadata": {},
   "outputs": [],
   "source": [
    "coord   = driver.find_element(By.LINK_TEXT, \"COORDENADAS\")\n",
    "coord.click()"
   ]
  },
  {
   "cell_type": "code",
   "execution_count": 4,
   "metadata": {},
   "outputs": [],
   "source": [
    "from selenium.webdriver.common.keys import Keys\n",
    "# forma alternativa y a veces necesaria\n",
    "coord   = driver.find_element(By.LINK_TEXT, \"COORDENADAS\")\n",
    "coord.send_keys(Keys.SPACE)"
   ]
  },
  {
   "cell_type": "markdown",
   "metadata": {},
   "source": [
    "Texto de la página"
   ]
  },
  {
   "cell_type": "code",
   "execution_count": 18,
   "metadata": {},
   "outputs": [
    {
     "name": "stdout",
     "output_type": "stream",
     "text": [
      "Formulario master\n",
      "Castellano\n",
      "ICONO CORREO ELECTRÓNICO\n",
      "CONTÁCTENOS\n",
      "Icono página de inicio\n",
      "Buscador de inmuebles\n",
      "icono ayuda\n",
      "¿Cómo funciona este servicio?\n",
      "El buscador de inmuebles de la SEC permite los siguientes tipos de búsquedas: por referencia catastral, por calle/número, por polígono/parcela, por coordenadas o por código registral único (CRU). Pulse en la opción correspondiente.\n",
      "Los campos Provincia y Municipio despliegan los valores correspondientes al pulsar en el campo. El campo Vía requiere introducir al menos tres caracteres.\n",
      "Los campos marcados con * son obligatorios\n",
      "RC\n",
      "CALLE/NÚMERO\n",
      "POLÍGONO/PARCELA\n",
      "COORDENADAS\n",
      "CRU\n",
      "Sistema de coordenadas\n",
      " Coordenadas GPS en decimales\n",
      " Coordenadas GPS en grados, minutos y segundos\n",
      " UTM\n",
      "icono mi posición\n",
      "Latitud\n",
      "Longitud\n",
      "icono ayuda\n",
      "  Normativa reguladora\n",
      "Política de privacidad\n",
      "Accesibilidad\n",
      "Mapa web\n"
     ]
    }
   ],
   "source": [
    "html = driver.find_element(By.XPATH,\"/html\")\n",
    "print(html.text)"
   ]
  },
  {
   "cell_type": "markdown",
   "metadata": {},
   "source": [
    "Caminos absolutos"
   ]
  },
  {
   "cell_type": "code",
   "execution_count": 19,
   "metadata": {},
   "outputs": [],
   "source": [
    "head = driver.find_element(By.XPATH,\"/html/head\")\n",
    "body = driver.find_element(By.XPATH,\"/html/body\")\n",
    "html2 = body.find_element(By.XPATH,\"/html\")"
   ]
  },
  {
   "cell_type": "code",
   "execution_count": 10,
   "metadata": {},
   "outputs": [
    {
     "name": "stdout",
     "output_type": "stream",
     "text": [
      "Formulario master\n",
      "Castellano\n",
      "ICONO CORREO ELECTRÓNICO\n",
      "CONTÁCTENOS\n",
      "Icono página de inicio\n",
      "Buscador de inmuebles\n",
      "icono ayuda\n",
      "¿Cómo funciona este servicio?\n",
      "El buscador de inmuebles de la SEC permite los siguientes tipos de búsquedas: por referencia catastral, por calle/número, por polígono/parcela, por coordenadas o por código registral único (CRU). Pulse en la opción correspondiente.\n",
      "Los campos Provincia y Municipio despliegan los valores correspondientes al pulsar en el campo. El campo Vía requiere introducir al menos tres caracteres.\n",
      "Los campos marcados con * son obligatorios\n",
      "RC\n",
      "CALLE/NÚMERO\n",
      "POLÍGONO/PARCELA\n",
      "COORDENADAS\n",
      "CRU\n",
      "Referencia Catastral\n",
      "* Referencia Catastral\n",
      "icono ayuda\n",
      "  Normativa reguladora\n",
      "Política de privacidad\n",
      "Accesibilidad\n",
      "Mapa web\n"
     ]
    }
   ],
   "source": [
    "print(body.text)"
   ]
  },
  {
   "cell_type": "markdown",
   "metadata": {},
   "source": [
    "Hijos de un elemento"
   ]
  },
  {
   "cell_type": "code",
   "execution_count": 25,
   "metadata": {},
   "outputs": [
    {
     "data": {
      "text/plain": [
       "'form'"
      ]
     },
     "execution_count": 25,
     "metadata": {},
     "output_type": "execute_result"
    }
   ],
   "source": [
    "hijos = driver.find_element(By.XPATH,\"/html/body/*\")\n",
    "#for element in hijos:\n",
    "#  print(element.tag_name)\n",
    "hijos.tag_name"
   ]
  },
  {
   "cell_type": "markdown",
   "metadata": {},
   "source": [
    "Camino relativo"
   ]
  },
  {
   "cell_type": "code",
   "execution_count": 29,
   "metadata": {},
   "outputs": [
    {
     "ename": "TypeError",
     "evalue": "object of type 'WebElement' has no len()",
     "output_type": "error",
     "traceback": [
      "\u001b[0;31m---------------------------------------------------------------------------\u001b[0m",
      "\u001b[0;31mTypeError\u001b[0m                                 Traceback (most recent call last)",
      "Cell \u001b[0;32mIn [29], line 2\u001b[0m\n\u001b[1;32m      1\u001b[0m divs \u001b[38;5;241m=\u001b[39m driver\u001b[38;5;241m.\u001b[39mfind_element(By\u001b[38;5;241m.\u001b[39mXPATH,\u001b[38;5;124m\"\u001b[39m\u001b[38;5;124m/html/body/*/div\u001b[39m\u001b[38;5;124m\"\u001b[39m)\n\u001b[0;32m----> 2\u001b[0m \u001b[38;5;28mprint\u001b[39m(\u001b[38;5;28;43mlen\u001b[39;49m\u001b[43m(\u001b[49m\u001b[43mdivs\u001b[49m\u001b[43m)\u001b[49m)\n",
      "\u001b[0;31mTypeError\u001b[0m: object of type 'WebElement' has no len()"
     ]
    }
   ],
   "source": [
    "divs = driver.find_element(By.XPATH,\"/html/body/*/div\")\n",
    "print(len(divs))"
   ]
  },
  {
   "cell_type": "code",
   "execution_count": 9,
   "metadata": {},
   "outputs": [
    {
     "name": "stdout",
     "output_type": "stream",
     "text": [
      "2\n"
     ]
    }
   ],
   "source": [
    "divs = body.find_elements_by_xpath(\"./*/div\")\n",
    "print(len(divs))"
   ]
  },
  {
   "cell_type": "markdown",
   "metadata": {},
   "source": [
    "Saltar pasos intermedios"
   ]
  },
  {
   "cell_type": "code",
   "execution_count": 10,
   "metadata": {},
   "outputs": [
    {
     "name": "stdout",
     "output_type": "stream",
     "text": [
      "139\n"
     ]
    }
   ],
   "source": [
    "divs = driver.find_element(By.XPATH,\"/html/body//div\")\n",
    "print(len(divs))"
   ]
  },
  {
   "cell_type": "code",
   "execution_count": 11,
   "metadata": {},
   "outputs": [
    {
     "name": "stdout",
     "output_type": "stream",
     "text": [
      "32\n"
     ]
    }
   ],
   "source": [
    "labels = driver.find_element(By.XPATH,\"//label\")\n",
    "print(len(labels))"
   ]
  },
  {
   "cell_type": "markdown",
   "metadata": {},
   "source": [
    "Insertar texto"
   ]
  },
  {
   "cell_type": "code",
   "execution_count": 30,
   "metadata": {},
   "outputs": [],
   "source": [
    "lat = driver.find_element(By.ID,\"ctl00_Contenido_txtLatitud\")\n",
    "lon = driver.find_element(By.ID,\"ctl00_Contenido_txtLongitud\")\n",
    "latitud  = \"28.2723368\"\n",
    "longitud = \"-16.64268\"\n",
    "lat.send_keys(latitud)\n",
    "lon.send_keys(longitud)\n",
    "\n"
   ]
  },
  {
   "cell_type": "markdown",
   "metadata": {},
   "source": [
    "Recuperar texto"
   ]
  },
  {
   "cell_type": "code",
   "execution_count": 31,
   "metadata": {},
   "outputs": [
    {
     "data": {
      "text/plain": [
       "'28.2723368'"
      ]
     },
     "execution_count": 31,
     "metadata": {},
     "output_type": "execute_result"
    }
   ],
   "source": [
    "lat.get_property(\"value\")"
   ]
  },
  {
   "cell_type": "code",
   "execution_count": 32,
   "metadata": {},
   "outputs": [],
   "source": [
    "datos = driver.find_element(By.ID, \"ctl00_Contenido_btnDatos\")\n",
    "datos.click()\n",
    "\n",
    "# forma alternativa, en ocasiones la anterior no funciona\n",
    "#from selenium.webdriver.common.keys import Keys\n",
    "#datos.send_keys(Keys.SPACE)"
   ]
  },
  {
   "cell_type": "code",
   "execution_count": 13,
   "metadata": {},
   "outputs": [
    {
     "name": "stdout",
     "output_type": "stream",
     "text": [
      "38026A035000010000EI    \n"
     ]
    }
   ],
   "source": [
    "id = \"ctl00_Contenido_tblInmueble\"\n",
    "div = driver.find_element_by_id(id)\n",
    "label = div.find_element_by_xpath(\"//label\")\n",
    "print(label.text)"
   ]
  },
  {
   "cell_type": "markdown",
   "metadata": {},
   "source": [
    "Otra forma, por texto"
   ]
  },
  {
   "cell_type": "code",
   "execution_count": 33,
   "metadata": {},
   "outputs": [
    {
     "name": "stdout",
     "output_type": "stream",
     "text": [
      "38026A035000010000EI    \n"
     ]
    }
   ],
   "source": [
    "xpath = \"//*[./span/text()='Referencia catastral']//label\"\n",
    "etiqs = driver.find_element(By.XPATH, xpath)\n",
    "print(etiqs.text)"
   ]
  },
  {
   "cell_type": "markdown",
   "metadata": {},
   "source": [
    "Algunos ejemplos más...."
   ]
  },
  {
   "cell_type": "code",
   "execution_count": 40,
   "metadata": {},
   "outputs": [
    {
     "name": "stdout",
     "output_type": "stream",
     "text": [
      "\n"
     ]
    }
   ],
   "source": [
    "clase = driver.find_element(By.XPATH,\"(//label)[position()=3]\")\n",
    "print(clase[0].getText())\n",
    "\n",
    "etiqs = driver.find_element(By.XPATH,\"//label\")\n",
    "print(etiqs[2].text)\n",
    "\n",
    "ulti = driver.find_element(By.XPATH,\"(//label)[last()]\")\n",
    "print(ulti[0].text)\n"
   ]
  },
  {
   "cell_type": "markdown",
   "metadata": {},
   "source": [
    "Un pequeño ejemplo adicional, información metereológica en Madrid"
   ]
  },
  {
   "cell_type": "code",
   "execution_count": 18,
   "metadata": {},
   "outputs": [],
   "source": [
    "url = 'http://www.aemet.es/es/eltiempo/prediccion/municipios/madrid-id28079'\n",
    "driver.get(url)\n"
   ]
  },
  {
   "cell_type": "code",
   "execution_count": 17,
   "metadata": {
    "scrolled": true
   },
   "outputs": [
    {
     "name": "stdout",
     "output_type": "stream",
     "text": [
      "31\n",
      "13\n",
      "12–18 h\n",
      "22°C\n",
      "18–24 h\n",
      "17°C\n",
      "00–06 h\n",
      "13°C\n",
      "06–12 h\n",
      "22°C\n",
      "12–18 h\n",
      "19°C\n",
      "18–24 h\n",
      "16°C\n",
      "00–12 h\n",
      "12–24 h\n",
      "00–12 h\n",
      "12–24 h\n",
      " \n",
      " \n",
      " \n"
     ]
    }
   ],
   "source": [
    "th = driver.find_elements_by_xpath(\"/html/body//*/th\")\n",
    "print(len(th))\n",
    "th = driver.find_elements_by_xpath(\"/html/body//*/th[@class='borde_izq_dcha_estado_cielo no_wrap']\")\n",
    "print(len(th))\n",
    "for e in th:\n",
    "    print(e.text)"
   ]
  },
  {
   "cell_type": "code",
   "execution_count": 41,
   "metadata": {},
   "outputs": [],
   "source": [
    "driver.close()"
   ]
  },
  {
   "cell_type": "markdown",
   "metadata": {},
   "source": [
    "Por Rafael Caballero. Del libro \"Big data con Python\""
   ]
  },
  {
   "cell_type": "code",
   "execution_count": null,
   "metadata": {},
   "outputs": [],
   "source": []
  },
  {
   "cell_type": "code",
   "execution_count": null,
   "metadata": {},
   "outputs": [],
   "source": []
  },
  {
   "cell_type": "code",
   "execution_count": null,
   "metadata": {},
   "outputs": [],
   "source": []
  }
 ],
 "metadata": {
  "kernelspec": {
   "display_name": "Python 3 (ipykernel)",
   "language": "python",
   "name": "python3"
  },
  "language_info": {
   "codemirror_mode": {
    "name": "ipython",
    "version": 3
   },
   "file_extension": ".py",
   "mimetype": "text/x-python",
   "name": "python",
   "nbconvert_exporter": "python",
   "pygments_lexer": "ipython3",
   "version": "3.9.2"
  }
 },
 "nbformat": 4,
 "nbformat_minor": 2
}
