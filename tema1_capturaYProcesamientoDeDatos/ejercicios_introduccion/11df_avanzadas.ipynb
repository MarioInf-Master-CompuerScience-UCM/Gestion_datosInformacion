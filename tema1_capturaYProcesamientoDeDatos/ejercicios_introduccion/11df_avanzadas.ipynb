{
  "nbformat": 4,
  "nbformat_minor": 0,
  "metadata": {
    "colab": {
      "name": "11df_avanzadas.ipynb",
      "provenance": []
    },
    "kernelspec": {
      "name": "python3",
      "display_name": "Python 3"
    },
    "language_info": {
      "name": "python"
    }
  },
  "cells": [
    {
      "cell_type": "markdown",
      "source": [
        "Introducción a la ciencia de datos con Python\n",
        "Rafael Caballero\n",
        "\n",
        "## Pandas - Operaciones avanzadas con dataframes\n",
        "### Índice\n",
        "[Cambio de orientación](#Orientación)<br>\n",
        "&emsp;&emsp;[`pivot`: de largo a ancho](#pivot)<br>\n",
        "&emsp;&emsp;[`melt`: de ancho a largo](#melt)<br>\n",
        "\n",
        "[Agregaciones](#Agregaciones)<br>\n"
      ],
      "metadata": {
        "id": "JZYjqM0-vbM2"
      }
    },
    {
      "cell_type": "markdown",
      "source": [
        "<a name=\"Orientación\"></a>\n",
        "\n",
        "A menudo tenemos que \"tumbar\" una tabla haciendo que valores se conviertan en columnas, o por el contrario juntar varias columnas en una. Estas funciones nos van a permitir hacer esta tarea.\n",
        "\n",
        "\n",
        "\n",
        "![imagen.png](data:image/png;base64,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)"
      ],
      "metadata": {
        "id": "oZqp4R2z5dko"
      }
    },
    {
      "cell_type": "markdown",
      "source": [
        "<a name=\"pivot\"></a>\n",
        "\n",
        "## Pivot\n",
        "\n",
        "3 parámetros relevantes\n",
        "\n",
        "- columns: la columna (o columnas) cuyos valores serán las nuevas columnas\n",
        "- values: columna con la que se rellenaran estos valores\n",
        "- index: columna cuyo contenido pasará a ser el índice\n",
        "\n",
        "<img src=https://pandas.pydata.org/docs/_images/reshaping_pivot.png width=400>"
      ],
      "metadata": {
        "id": "6BCh6BoD5drI"
      }
    },
    {
      "cell_type": "code",
      "source": [
        "import pandas as pd\n",
        "url = r\"https://raw.githubusercontent.com/RafaelCaballero/tdm/master/datos/parocomunidades.csv\"\n",
        "\n",
        "df = pd.read_csv(url, encoding=\"latin1\")\n",
        "df"
      ],
      "metadata": {
        "id": "Jn739bzw_4bh"
      },
      "execution_count": null,
      "outputs": []
    },
    {
      "cell_type": "markdown",
      "source": [
        "Queremos tener una columna por cada comunidad:"
      ],
      "metadata": {
        "id": "rDCpaRvRB_SC"
      }
    },
    {
      "cell_type": "markdown",
      "source": [
        "<a name=\"Operadores-para-secuencias\"></a>"
      ],
      "metadata": {
        "id": "ZSX-1FkZ5dsK"
      }
    },
    {
      "cell_type": "code",
      "source": [
        "df2 = df.pivot(columns=\"Comunidad\", values=\"Total\", index=\"Periodo\")\n",
        "df2"
      ],
      "metadata": {
        "id": "8sG46AMLB70i"
      },
      "execution_count": null,
      "outputs": []
    },
    {
      "cell_type": "markdown",
      "source": [
        "<a name=\"melt\"></a>\n",
        "## Melt\n",
        "\n",
        "Es la operación contraria. En esta ocasión se indican las columnas que no hay que tocar, las que hacen de \"clave primaria\":\n",
        "\n",
        "<img src=\"https://miro.medium.com/max/1400/0*O3SGf68-vlON_H8L.png\" width=400>"
      ],
      "metadata": {
        "id": "6sYrkaSK5dtB"
      }
    },
    {
      "cell_type": "code",
      "source": [
        "df2[\"Periodo\"] = df2.index.values\n",
        "df2.melt(id_vars=[\"Periodo\"])"
      ],
      "metadata": {
        "id": "6f_lF4kNEu-t"
      },
      "execution_count": null,
      "outputs": []
    },
    {
      "cell_type": "markdown",
      "source": [
        "En el dataframe\n",
        "\n",
        "https://raw.githubusercontent.com/RafaelCaballero/tdm/master/datos/valores.csv\n",
        "\n",
        "queremos que todas las columnas salvo \"fecha\" se conviertan en valores de una columna"
      ],
      "metadata": {
        "id": "FaUhFTfGFEXD"
      }
    },
    {
      "cell_type": "code",
      "source": [
        "url = \"https://raw.githubusercontent.com/RafaelCaballero/tdm/master/datos/valores.csv\"\n",
        "df = pd.read_csv(url)\n",
        "df"
      ],
      "metadata": {
        "id": "VyI_FbLOFXnr"
      },
      "execution_count": null,
      "outputs": []
    },
    {
      "cell_type": "code",
      "source": [
        "df.melt(id_vars = [\"fecha\"])"
      ],
      "metadata": {
        "id": "99Cl3JYAFeN7"
      },
      "execution_count": null,
      "outputs": []
    },
    {
      "cell_type": "markdown",
      "source": [
        "<a name=\"Agregaciones\"></a>\n",
        "## Agregaciones"
      ],
      "metadata": {
        "id": "INVU6MgY5dwI"
      }
    },
    {
      "cell_type": "markdown",
      "source": [
        "Ya sabemos que se pueden utilizar funciones de agregación por columnas\n",
        "\n",
        "<table>\n",
        "<thead><tr><th>Function</th><th>Description</th></tr></thead><tbody><tr><td>count</td><td>Number of non-null observations</td></tr><tr><td>sum</td><td>Sum of values</td></tr><tr><td>mean</td><td>Mean of values</td></tr><tr><td>mad</td><td>Mean absolute deviation</td></tr><tr><td>median</td><td>Arithmetic median of values</td></tr><tr><td>min</td><td>Minimum</td></tr><tr><td>max</td><td>Maximum</td></tr><tr><td>mode</td><td>Mode</td></tr><tr><td>abs</td><td>Absolute Value</td></tr><tr><td>prod</td><td>Product of values</td></tr><tr><td>std</td><td>Unbiased standard deviation</td></tr><tr><td>var</td><td>Unbiased variance</td></tr><tr><td>sem</td><td>Unbiased standard error of the mean</td></tr><tr><td>skew</td><td>Unbiased skewness (3rd moment)</td></tr><tr><td>kurt</td><td>Unbiased kurtosis (4th moment)</td></tr><tr><td>quantile</td><td>Sample quantile (value at %)</td></tr><tr><td>cumsum</td><td>Cumulative sum</td></tr><tr><td>cumprod</td><td>Cumulative product</td></tr><tr><td>cummax</td><td>Cumulative maximum</td></tr><tr><td>cummin</td><td>Cumulative minimum</td></tr></tbody>\n",
        "</table>\n",
        "\n"
      ],
      "metadata": {
        "id": "ZAHjv9_M5dxE"
      }
    },
    {
      "cell_type": "code",
      "execution_count": null,
      "metadata": {
        "id": "d8fAm0_WvUgd"
      },
      "outputs": [],
      "source": [
        "url = \"https://raw.githubusercontent.com/RafaelCaballero/tdm/master/datos/valores.csv\"\n",
        "df = pd.read_csv(url)\n",
        "df"
      ]
    },
    {
      "cell_type": "code",
      "source": [
        "df.INDU_Index_High.max(), df.INDU_Index_High.min()"
      ],
      "metadata": {
        "id": "Gq163m69GtDc"
      },
      "execution_count": null,
      "outputs": []
    },
    {
      "cell_type": "markdown",
      "source": [
        "Sin embargo en otras ocasiones nos hará falta calcular estos datos por grupos. El siguiente ejemplo tiene datos de tweets de las elecciones USA2020 para varios usuarios, incluyendo el \"sentimiento\" que expresa el tweet sobre el candidato Biden (B) y Trump (T)"
      ],
      "metadata": {
        "id": "XN1u9LRCIqKs"
      }
    },
    {
      "cell_type": "code",
      "source": [
        "import pandas as pd\n",
        "url = \"https://github.com/RafaelCaballero/tdm/blob/master/datos/todousa2020_users.xlsx?raw=true\"\n",
        "\n",
        "df = pd.read_excel(url)\n",
        "df"
      ],
      "metadata": {
        "id": "EvO7Q1wcI9mV"
      },
      "execution_count": null,
      "outputs": []
    },
    {
      "cell_type": "markdown",
      "source": [
        "Para cada `userid` queremos saber la opinión media de estos usuarios para los dos candidatos (B) y (T).\n",
        "\n",
        "Esto se hace en dos fases:\n",
        "\n",
        "- Primero se agrupa con group by"
      ],
      "metadata": {
        "id": "B1GmR_fnJiDs"
      }
    },
    {
      "cell_type": "code",
      "source": [
        "df_userid = df.groupby('userid')\n",
        "df_userid\n",
        "\n"
      ],
      "metadata": {
        "id": "z7tu7UYhJSuk"
      },
      "execution_count": null,
      "outputs": []
    },
    {
      "cell_type": "markdown",
      "source": [
        "Ahora se hacen las operaciones que se deseen sobre los grupos creados"
      ],
      "metadata": {
        "id": "rzexBT0uJ1Pc"
      }
    },
    {
      "cell_type": "code",
      "source": [
        "df_user = df_userid.agg(\n",
        "      t_media=('T', 'mean'),\n",
        "      b_media=('B', 'mean')\n",
        ")\n",
        "df_user"
      ],
      "metadata": {
        "id": "-j4qprO8J7R8"
      },
      "execution_count": null,
      "outputs": []
    },
    {
      "cell_type": "code",
      "source": [
        ""
      ],
      "metadata": {
        "id": "yrW6hF3WP2du"
      },
      "execution_count": null,
      "outputs": []
    },
    {
      "cell_type": "markdown",
      "source": [
        "**Ejercicio** Ahora queremos saber en el fichero \n",
        "\n",
        "https://raw.githubusercontent.com/RafaelCaballero/tdm/master/datos/vote_intention.csv\n",
        "\n",
        "que contiene datos de encuestas, la edad media de los votantes de cada partido (el voto es vote_r y la edad age)"
      ],
      "metadata": {
        "id": "x6N_APRWPN7G"
      }
    },
    {
      "cell_type": "code",
      "source": [
        ""
      ],
      "metadata": {
        "id": "Ci8CCUAZPND-"
      },
      "execution_count": null,
      "outputs": []
    },
    {
      "cell_type": "code",
      "source": [
        "\n"
      ],
      "metadata": {
        "id": "37ODYqCPRbbu"
      },
      "execution_count": null,
      "outputs": []
    }
  ]
}