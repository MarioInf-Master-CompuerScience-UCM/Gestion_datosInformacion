{
 "cells": [
  {
   "cell_type": "markdown",
   "metadata": {
    "id": "eYeSOuO34P2L"
   },
   "source": [
    "#Introducción a la ciencia de datos con Python\n",
    "Rafa Caballero\n",
    "\n",
    "## Pandas - Combinando Varios DataFrames\n",
    "\n",
    "Veamos en este Notebook cómo se combinan y agregan dataframes\n",
    "\n",
    "\n",
    "### Índice\n",
    "[Concatenación](#Concatenación)<br>\n",
    "[Merge](#Merge)<br>\n",
    "\n"
   ]
  },
  {
   "cell_type": "markdown",
   "metadata": {
    "id": "XYE9RKLmG5RZ"
   },
   "source": [
    "<a name=\"Concatenación\"></a>\n",
    "## Concatenación"
   ]
  },
  {
   "cell_type": "markdown",
   "metadata": {
    "id": "04EBrTu5C5uK"
   },
   "source": [
    "Para concatenar de forma \"tonta\", es decir sin tener en cuenta ninguna condición sino simplemente \"pegando\" valores uno al lado de otros o unos debajo de otros podemos utilizar pd.concat\n",
    "\n",
    "\n",
    "<img src = \"https://miro.medium.com/max/1050/1*0wu6DunCzPC4o9FIyRTW4w.png\">\n",
    "\n",
    "Vamos a comprobarlo creando unos dataframe de prueba"
   ]
  },
  {
   "cell_type": "code",
   "execution_count": null,
   "metadata": {
    "id": "R8StXBehC3QU"
   },
   "outputs": [],
   "source": [
    "import pandas as pd\n",
    "def crea_df(cols, ind):\n",
    "    data = {c: [str(c) + str(i) for i in ind]\n",
    "            for c in cols}\n",
    "    return pd.DataFrame(data, ind)\n",
    "\n",
    "df1 = crea_df('ABC', range(3))\n",
    "df2 = crea_df(\"ABC\", range(3,5))\n",
    "print(\"df1\")\n",
    "print(df1)\n",
    "print(\"df2\")\n",
    "print(df2)"
   ]
  },
  {
   "cell_type": "code",
   "execution_count": null,
   "metadata": {
    "id": "8VVKN0mSO-LO"
   },
   "outputs": [],
   "source": [
    "df3 = pd.concat([df1,df2],axis=0)\n",
    "df3"
   ]
  },
  {
   "cell_type": "markdown",
   "metadata": {
    "id": "HqgRiwS3TFmY"
   },
   "source": [
    "Otra forma, con append (solo vale para filas)"
   ]
  },
  {
   "cell_type": "code",
   "execution_count": null,
   "metadata": {
    "id": "kl46D9OoS1p3"
   },
   "outputs": [],
   "source": [
    "df1.append(df2)"
   ]
  },
  {
   "cell_type": "markdown",
   "metadata": {
    "id": "6eNzxHOlSjQv"
   },
   "source": [
    "Veamos ahora para concatenar por columnas"
   ]
  },
  {
   "cell_type": "code",
   "execution_count": null,
   "metadata": {
    "id": "MkB6asC_SDqf"
   },
   "outputs": [],
   "source": [
    "df1 = crea_df('ABC', range(3))\n",
    "df2 = crea_df('EF', range(3))\n",
    "print(\"df1\")\n",
    "print(df1)\n",
    "print(\"df2\")\n",
    "print(df2)\n"
   ]
  },
  {
   "cell_type": "code",
   "execution_count": null,
   "metadata": {
    "id": "OPc82eklSzjf"
   },
   "outputs": [],
   "source": [
    "df3 = pd.concat([df1,df2],axis=1)\n",
    "df3"
   ]
  },
  {
   "cell_type": "markdown",
   "metadata": {
    "id": "Usa6CzDFTw2I"
   },
   "source": [
    "Ojo porque aquí todo cuadra bien: el número de filas en ambos casos es el mismo. Si no sucede así podemos tener resultados inesperados"
   ]
  },
  {
   "cell_type": "code",
   "execution_count": null,
   "metadata": {
    "id": "OPmo34zOTvVY"
   },
   "outputs": [],
   "source": [
    "pd.concat([df1,df2],axis=0)"
   ]
  },
  {
   "cell_type": "code",
   "execution_count": null,
   "metadata": {
    "id": "PNc5sb8vWkpi"
   },
   "outputs": [],
   "source": [
    "df1.append(df2)"
   ]
  },
  {
   "cell_type": "markdown",
   "metadata": {
    "id": "ycPnBXy74P2U"
   },
   "source": [
    "<a name=\"Merge\"></a>\n",
    "### Merge\n",
    "\n",
    "En este caso se busca unir dos dataframes fijándonos en las coincidencias entre valores de dos columnas"
   ]
  },
  {
   "cell_type": "code",
   "execution_count": null,
   "metadata": {
    "id": "NDzGNj1j4P2X"
   },
   "outputs": [],
   "source": [
    "from pandas import DataFrame\n",
    "from pandas import Series\n",
    "import pandas as pd\n",
    "from random import sample\n",
    "df1 = DataFrame({'clave': ['b', 'b', 'a', 'c', 'a', 'a', 'b'],\n",
    "                 'data1': range(7),\n",
    "                 'otro': sample(range(10, 30), 7)})\n",
    "\n",
    "df2 = DataFrame({'clave': ['a', 'b', 'b', 'd'],\n",
    "                 'data2': range(4)})\n",
    "print(df1)\n",
    "print(df2)"
   ]
  },
  {
   "cell_type": "code",
   "execution_count": null,
   "metadata": {
    "id": "PHASYRX64P2a"
   },
   "outputs": [],
   "source": [
    "pd.merge(df1,df2)"
   ]
  },
  {
   "cell_type": "markdown",
   "metadata": {
    "id": "2qDjuyix4P2c"
   },
   "source": [
    "Si no se indica lo contrario, `merge` busca columnas comunes y hace un (inner) 'join'. Nótese que en este caso no se tienen en cuenta los índices\n",
    "<br><br>\n",
    "\n",
    "El método merge se puede llamar también dentro de un dataframe (es equivalente)"
   ]
  },
  {
   "cell_type": "code",
   "execution_count": null,
   "metadata": {
    "id": "KNzwLqaI6Wm4"
   },
   "outputs": [],
   "source": [
    "df1.merge(df2)"
   ]
  },
  {
   "cell_type": "markdown",
   "metadata": {
    "id": "C64nnTQU7uow"
   },
   "source": [
    "También se pueden unir por varias columnas, que podemos especificar directamente con los parámetros `left_on`y `right_on`"
   ]
  },
  {
   "cell_type": "code",
   "execution_count": null,
   "metadata": {
    "id": "NzxyoozG6P3w"
   },
   "outputs": [],
   "source": [
    "df1.merge(df2, left_on=['clave','data1'], right_on = ['clave','data2'])"
   ]
  },
  {
   "cell_type": "markdown",
   "metadata": {
    "id": "KqT6d_LH799A"
   },
   "source": [
    "Si la clave o claves por las que querenos unir se llaman ambas igual podemos usar simplemente `on`"
   ]
  },
  {
   "cell_type": "code",
   "execution_count": null,
   "metadata": {
    "id": "sMtV8g8P4P2d"
   },
   "outputs": [],
   "source": [
    "pd.merge(df1,df2,on='clave')"
   ]
  },
  {
   "cell_type": "markdown",
   "metadata": {
    "id": "zoAFxQkh4P2k"
   },
   "source": [
    "Además de *inner* join, se pueden hacer con el parámetro `how` tomando valores *left*, *right*, *outer*, *inner*\n",
    "\n",
    "<img src=\"https://www.golinuxcloud.com/wp-content/uploads/types_joins-1320x961.png\" width=400>"
   ]
  },
  {
   "cell_type": "markdown",
   "metadata": {
    "id": "TNPUGlHk_nI4"
   },
   "source": [
    "En el caso de left, right y full/outer si la columna no encaja se rellenan con valores NaN"
   ]
  },
  {
   "cell_type": "code",
   "execution_count": null,
   "metadata": {
    "id": "QbqvqDKL4P2l"
   },
   "outputs": [],
   "source": [
    "df1.merge( df2, on='clave', how='left')"
   ]
  },
  {
   "cell_type": "markdown",
   "metadata": {
    "id": "Zfe8AZRsCy-g"
   },
   "source": [
    "**Ejercicio** En\n",
    "\n",
    "https://raw.githubusercontent.com/RafaelCaballero/tdm/master/datos/tweetsCompletadoOrdenRename.csv\n",
    "\n",
    "Tenemos datos de tweets, incluyendo el identificador del usuario que que ha emitidos cada tweet,  `userid`.\n",
    "\n",
    "En \n",
    "\n",
    "https://raw.githubusercontent.com/RafaelCaballero/tdm/master/datos/usersrentaf.csv\n",
    "\n",
    "tenemos datos de usuarios: sú número de seguidores, la renta de la zona donde viven, etc. En este cas el identificador se llama simplemente `id`.\n",
    "\n",
    "Queremos unir ambos ficheros, de forma que a cada tweet se le añadan los datos de su usuario. Si un tweet no tiene su usario en el segundo conjunto de datos debemos borrarlo. Igualmente si un usuario no tiene ningún tweet no se incluirá.\n",
    "\n",
    "\n",
    "\n"
   ]
  },
  {
   "cell_type": "code",
   "execution_count": null,
   "metadata": {
    "id": "E1f4TfgnCxr5"
   },
   "outputs": [],
   "source": [
    "import pandas as pd\n",
    "url_tweets = \"https://raw.githubusercontent.com/RafaelCaballero/tdm/master/datos/tweetsCompletadoOrdenRename.csv\"\n",
    "url_users = \"https://raw.githubusercontent.com/RafaelCaballero/tdm/master/datos/usersrentaf.csv\"\n",
    "df_tweets = pd.read_csv(url_tweets)\n",
    "df_users = pd.read_csv(url_users)\n",
    "\n"
   ]
  },
  {
   "cell_type": "code",
   "execution_count": null,
   "metadata": {
    "id": "5U7D6ooaJ5ca"
   },
   "outputs": [],
   "source": [
    "df_tweets.columns"
   ]
  }
 ],
 "metadata": {
  "colab": {
   "name": "10variosdataframes.ipynb",
   "provenance": []
  },
  "kernelspec": {
   "display_name": "Python 3",
   "language": "python",
   "name": "python3"
  },
  "language_info": {
   "codemirror_mode": {
    "name": "ipython",
    "version": 3
   },
   "file_extension": ".py",
   "mimetype": "text/x-python",
   "name": "python",
   "nbconvert_exporter": "python",
   "pygments_lexer": "ipython3",
   "version": "3.8.5"
  }
 },
 "nbformat": 4,
 "nbformat_minor": 1
}
