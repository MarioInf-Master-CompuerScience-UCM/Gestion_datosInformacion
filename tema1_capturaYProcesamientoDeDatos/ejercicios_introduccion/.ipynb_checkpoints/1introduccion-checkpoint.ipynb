{
 "cells": [
  {
   "cell_type": "markdown",
   "metadata": {
    "id": "4zhiS8Dyx49a"
   },
   "source": [
    "# Introducción a Python \n",
    "### by Rafa Caballero \n",
    "\n",
    "# 1 Valores, variables, operadores, funciones predefinidas\n",
    "\n",
    "\n",
    "Puedes usar el siguiente índice para saltar a la sección adecuado\n",
    "\n",
    "\n",
    "**Índice**\n",
    "\n",
    "[Introducción](#Introduction)\n",
    "\n",
    "[Hello World](#Hello-World)\n",
    "\n",
    "[Variables](#Variables)\n",
    "\n",
    "[Tipos en Python](#Tipos-en-Python)\n",
    "\n",
    "[Instrucciones](#Instrucciones)\n",
    "\n",
    "[Operadores](#Operadores)<br>\n",
    "  &emsp;[Operadores aritméticos](#Operadores-aritméticos)<br>\n",
    "  &emsp;[Operadores relacionales](#Operadores-relacionales)<br>\n",
    "  &emsp;[Operadores booleanos](#Operadores-booleanos)<br>\n",
    "  &emsp;[Operadores de bit](#Operadores-de-bit)<br>\n",
    "\n",
    "[Importación de bibliotecas](#Importación-de-bibliotecas)\n",
    "\n",
    "[Funciones predefinidas](#Funciones-predefinidas-de-conversión-de-tipos)<br>\n",
    "  &emsp;[Conversión entre bases](#Conversión-entre-bases)<br>\n",
    "  &emsp;[Conversión entre tipos](#Conversión-entre-tipos)<br>\n",
    "  &emsp;[Funciones predefinidas aritméticas](#Funciones-predefinidas-aritméticas)"
   ]
  },
  {
   "cell_type": "markdown",
   "metadata": {
    "id": "O9phVKb_Wblm"
   },
   "source": [
    "<a name=\"Introduction\"></a>\n",
    "## Introducción"
   ]
  },
  {
   "cell_type": "markdown",
   "metadata": {
    "id": "LfO7uZRHx49e"
   },
   "source": [
    "\n",
    "#### Presentación\n",
    "**Python** es un lenguaje de propósito general. Creado por  Guido Van Rossum alrededor 1989, se ha convertido en uno de los lenguajes favoritos para la llamada *ciencia de datos*.\n",
    "\n",
    "Estos notebooks presentan algunos aspectos básicos del lenguaje. Están orientados a estudiantes que no precisan conocimientos previos de programación y solo muestran los aspectos básicos del lenguaje que necesitaremos en nuestro curso. Esto implica que dejaremos fuera aspectos muy importantes del lenguaje como la programación orientada a objetos, el desarrollo de módulos, etc. Sin embargo aprender todo esto debe resultar sencillo si se completa el curso.\n",
    "\n",
    "#### Versiones\n",
    "Desafartudamente, un malhadado día de 2008, Python se dividió en dos dialectos coincidiendo con la salida de la versión 3 del lenguaje. El problema era que la nueva versión no era compatible *hacia atrás*, es decir con las versiones anteriores y en particular con la 2, por lo que los numeros existens programas escritos en Python 2.X no correrían necesariamente en entornos Python 3.x (ni viceversa, pero esto es más usual). La situación fue a peor cuando Python 2.X continuó evolucionando por su cuenta, conviertiéndose en una rama diferente del lenguaje. \n",
    "\n",
    "En todo caso estos tiempos oscuros están acabando y las versiones 3.x son las más utilizadas. En estos notebooks utilizaremos las versiones más recientes de Python (3), y esta historia se menciona porque aun puedes encontrar muchos libros y recursos que utilizan la sintaxis 2.x.\n",
    "\n",
    "En cuento a los entorno de ejecución hay muchas posibilidades. Este curso emplea los *Jupyter notebooks*, un proyecto basedo en el formato JSON que permite combinar \"celdas\" de texto formateado con otras de código (código en Python en nuestro caso pero también hay Jupyter notebooks por ejemplo para R). \n",
    "\n",
    "Para cargar uno de los notebooks puedes utilizar por ejemplo [Google Colaboratory](https://colab.research.google.com/) (un servicio online para ejecutar Python) que nos evita descargar nada de software. Si en cambio prefieres ejecutar el código offline puedes instalar, por ejemplo, [Anaconda](https://www.anaconda.com/).\n",
    "\n",
    "\n",
    "#### Recursos\n",
    "Estas notas toman ideas y ejemplos de otros libros y recursos online que merece la pena menionar, no solo para darles el merecido crédito, sino porque pueden ser utilizados como material complementario (o sustitutorio):\n",
    "\n",
    "* [https://www.python.org/](https://www.python.org/)   La referencia básica de Python. Incluye tutoriales y una ayuda muy detalladas.\n",
    "\n",
    "\n",
    "* [The Python tutorial](https://docs.python.org/3/tutorial/index.html \"The Python tutorial\"). \"La\" referencia. Debo confesar que no es mi preferido para aprender (demasiado detallado y poco didáctico), pero sin duda se trata de una referencia muy completa.\n",
    "\n",
    "\n",
    "* *Learning with Python How to Think Like a Computer Scientist*. Una buena introducción a Python con la perspectiva de un científico de datos.\n",
    "\n",
    "\n",
    "* *Python for Kids*:  Un libro para niños tan bien escrito que puede ser utilizado por adultos.\n",
    "\n"
   ]
  },
  {
   "cell_type": "markdown",
   "metadata": {
    "id": "uNAZL8jcx49i"
   },
   "source": [
    "<a name=\"Hello-World\"></a>\n",
    "## Hello World "
   ]
  },
  {
   "cell_type": "markdown",
   "metadata": {
    "id": "f18ZgdOwx49i"
   },
   "source": [
    "En los libros y tutoriales de programación subsiste la inveterada costumbre de que el primer programa sea uno que tan solo escriba \"hello world\". No podemos por menos que respetar tan venerable tradicición:"
   ]
  },
  {
   "cell_type": "code",
   "execution_count": 1,
   "metadata": {
    "id": "qZ2XxQX5x49j"
   },
   "outputs": [
    {
     "name": "stdout",
     "output_type": "stream",
     "text": [
      "Hello World\n"
     ]
    }
   ],
   "source": [
    "# Presionar el botón >| Run para ejecutar este código\n",
    "print(\"Hello World\")"
   ]
  },
  {
   "cell_type": "markdown",
   "metadata": {
    "id": "Em08xG9DAQLt"
   },
   "source": [
    "Aquí `print` es una *función predefinida* que recibe un *parámetro*: La cadena decaracteres que debe mostras. Las cadenas de caracteres o *strings* deben aparecer entre comillas, simples o dobles, a elegir. Eso sí, recuerda ser consistente para abrir y cerrar con el mismo símbolo. \n",
    "\n",
    "Disponer de estas posibilidades es interesante si queremos incluir comillas dentro del mensaje:"
   ]
  },
  {
   "cell_type": "code",
   "execution_count": 2,
   "metadata": {
    "id": "i8_x5yVLx49j"
   },
   "outputs": [
    {
     "name": "stdout",
     "output_type": "stream",
     "text": [
      "She said: \"Hi Bertold!\" and smiled at me\n"
     ]
    }
   ],
   "source": [
    "print('She said: \"Hi Bertold!\" and smiled at me')"
   ]
  },
  {
   "cell_type": "markdown",
   "metadata": {
    "id": "6cWADwD-AQLu"
   },
   "source": [
    "`print` no solo es capaz de mostrar strings sino también otros tipos como números:"
   ]
  },
  {
   "cell_type": "code",
   "execution_count": 3,
   "metadata": {
    "id": "nGvmVkgdAQLv"
   },
   "outputs": [
    {
     "name": "stdout",
     "output_type": "stream",
     "text": [
      "42\n"
     ]
    }
   ],
   "source": [
    "print(42)"
   ]
  },
  {
   "cell_type": "markdown",
   "metadata": {
    "id": "tBJoTC7EWQe9"
   },
   "source": [
    "O variables, de las que hablaremos más adelante"
   ]
  },
  {
   "cell_type": "code",
   "execution_count": 4,
   "metadata": {
    "id": "FEs4gZSFWQe-"
   },
   "outputs": [
    {
     "name": "stdout",
     "output_type": "stream",
     "text": [
      "50000000000000000000000000001\n"
     ]
    }
   ],
   "source": [
    "x=50000000000000000000000000000\n",
    "print(x+1)"
   ]
  },
  {
   "cell_type": "markdown",
   "metadata": {
    "id": "hssnex6-x49k"
   },
   "source": [
    "Juguemos un poco ¿qué le sucede a este código?"
   ]
  },
  {
   "cell_type": "code",
   "execution_count": 6,
   "metadata": {
    "id": "SWjJL7Vnx49l"
   },
   "outputs": [
    {
     "name": "stdout",
     "output_type": "stream",
     "text": [
      "tururu\n",
      "Un anciano me dijo una vez: Tururu\n"
     ]
    }
   ],
   "source": [
    "# poner nuestro código por aquí debajo y dar Run para ver el resultado\n",
    "#print(tururu)\n",
    "\n",
    "# Debido a que pasamos a la función print como parámetros una expresión que no es ni una variable ni una cadena\n",
    "# (puesto que no va entre comillas), python no entiende el argumento y lanza un error por consola.\n",
    "# Posibles cambios dependiendo de lo que queramos hacer:\n",
    "print(\"tururu\")\n",
    "tururu = \"Un anciano me dijo una vez: Tururu\"\n",
    "print(tururu)"
   ]
  },
  {
   "cell_type": "markdown",
   "metadata": {
    "id": "zCTkbbb49ryF"
   },
   "source": [
    "print puede mostrar más de un valor"
   ]
  },
  {
   "cell_type": "code",
   "execution_count": 8,
   "metadata": {
    "id": "zwejJOCs9xul"
   },
   "outputs": [
    {
     "name": "stdout",
     "output_type": "stream",
     "text": [
      "Tengo 18 años\n"
     ]
    }
   ],
   "source": [
    "# La función print puede recibir varios argumentos, los cuales concatenará con espacios a la hora de imprimirlos\n",
    "# por pantalla.\n",
    "print(\"Tengo\",18,\"años\")"
   ]
  },
  {
   "cell_type": "markdown",
   "metadata": {
    "id": "Ft5eBFaR94yd"
   },
   "source": [
    "entre cada dos argumentos print escribe un espacio. El carácter de separación se puede cambiar con el parámetro `sep`"
   ]
  },
  {
   "cell_type": "code",
   "execution_count": 10,
   "metadata": {
    "id": "dK60sru8-LU_"
   },
   "outputs": [
    {
     "name": "stdout",
     "output_type": "stream",
     "text": [
      "Tengo-18-años\n",
      "Mido_1.78_metros\n"
     ]
    }
   ],
   "source": [
    "print(\"Tengo\",18,\"años\",sep=\"-\")\n",
    "print(\"Mido\",1.78,\"metros\",sep=\"_\")"
   ]
  },
  {
   "cell_type": "markdown",
   "metadata": {
    "id": "disd21Oh-UkW"
   },
   "source": [
    "Además, print siempre escribe un fin de línea tras cada print:"
   ]
  },
  {
   "cell_type": "code",
   "execution_count": 11,
   "metadata": {
    "id": "jSovmTTg-aZ1"
   },
   "outputs": [
    {
     "name": "stdout",
     "output_type": "stream",
     "text": [
      "Hola\n",
      "Mundo\n"
     ]
    }
   ],
   "source": [
    "print(\"Hola\")\n",
    "print(\"Mundo\")"
   ]
  },
  {
   "cell_type": "markdown",
   "metadata": {
    "id": "4w8a4vQG-eLl"
   },
   "source": [
    "De nuevo este comportamiento por defecto se puede cambiar si utilizamos el parámetro `end`"
   ]
  },
  {
   "cell_type": "code",
   "execution_count": 12,
   "metadata": {
    "id": "F6dwrrgT-m3-"
   },
   "outputs": [
    {
     "name": "stdout",
     "output_type": "stream",
     "text": [
      "Hola Mundo\n"
     ]
    }
   ],
   "source": [
    "print(\"Hola\",end=\" \")\n",
    "print(\"Mundo\")"
   ]
  },
  {
   "cell_type": "markdown",
   "metadata": {
    "id": "8z6BvgYax49l"
   },
   "source": [
    "<a name=\"Variables\"></a>\n",
    "## Variables \n"
   ]
  },
  {
   "cell_type": "markdown",
   "metadata": {
    "id": "1Y7VaO2Lx49l"
   },
   "source": [
    "En los lenguajes de programación los valores a menudo se almacenan en \"cajas\" a las que llamamos *variables*. Cada \"caja\" tiene:\n",
    "\n",
    "- Un nombre (podemos elegir el nombre que queramos siempre que respetemos la reglas para definir identificadores y no sea una palabra reservada (ver [aquí](https://www.programiz.com/python-programming/keywords-identifier) la definición de ambos términos)\n",
    "\n",
    "- Un valor.\n",
    "\n",
    "- Un tipo: entero, string, etc.\n",
    "\n",
    "A nivel físico una variable se puede pensar como un fragmento de memoria que contiene un valor y tienen un nombre asociado.\n",
    "\n",
    "Ejemplos:"
   ]
  },
  {
   "cell_type": "code",
   "execution_count": 16,
   "metadata": {
    "id": "6YPsFAl2x49l"
   },
   "outputs": [
    {
     "name": "stdout",
     "output_type": "stream",
     "text": [
      "2->1.2->if you torture the data long enough, it will confess\n"
     ]
    }
   ],
   "source": [
    "x = 2\n",
    "y = 1.2\n",
    "s = 'if you torture the data long enough, it will confess'\n",
    "print(x,y,s,sep=\"->\")\n"
   ]
  },
  {
   "cell_type": "markdown",
   "metadata": {
    "id": "takL1DFcx49m"
   },
   "source": [
    "Estas instrucciones Python crean 3 variables\n",
    "* Una variable con nombre  x, valor 2\n",
    "* Una variable con nombre y, valor 1.2\n",
    "* Una variable con nombre xy, con valor *'if you torture the data long enough, it will confess to anything'*. \n",
    "\n",
    "Aparentemente no hacen nada, pero algo ha cambiado: la memoria contiene 3 nuevas variables que podemos utilizar\n"
   ]
  },
  {
   "cell_type": "code",
   "execution_count": 17,
   "metadata": {
    "id": "mAaEuMsxx49m"
   },
   "outputs": [
    {
     "name": "stdout",
     "output_type": "stream",
     "text": [
      "3.2 if you torture the data long enough, it will confess 2.4\n"
     ]
    }
   ],
   "source": [
    "print(x+y,s,x*y)"
   ]
  },
  {
   "cell_type": "markdown",
   "metadata": {
    "id": "seBg-gyBAQLx"
   },
   "source": [
    "**NOTAS** \n",
    " \n",
    "\n",
    "*   Las variables seguirán teniendo sus valores mientras sigamos con el notebook\n",
    "*   Si en algún momento queremos reiniciar el notebook completo podemos hacerlo en *Entorno de Ejecución* + *Reiniciar entorno de ejecución*\n",
    "\n",
    "\n",
    "\n",
    "Como muestra el ejemplo, es posible mezclar variables y constantes en el mismo print"
   ]
  },
  {
   "cell_type": "code",
   "execution_count": 18,
   "metadata": {
    "id": "w7KEYZyDAQLx"
   },
   "outputs": [
    {
     "name": "stdout",
     "output_type": "stream",
     "text": [
      "Mi edad es  18 ¿cúal es la tuya?\n"
     ]
    }
   ],
   "source": [
    "x=18\n",
    "print(\"Mi edad es \",x,\"¿cúal es la tuya?\")"
   ]
  },
  {
   "cell_type": "markdown",
   "metadata": {
    "id": "7VqyhSXtAQLy"
   },
   "source": [
    "En ocasiones veremos esta otra notación:"
   ]
  },
  {
   "cell_type": "code",
   "execution_count": 19,
   "metadata": {
    "id": "Uupz_Or8AQLy"
   },
   "outputs": [
    {
     "name": "stdout",
     "output_type": "stream",
     "text": [
      "Mi edad es 18 ¿cúal es la tuya?\n"
     ]
    }
   ],
   "source": [
    "print(f\"Mi edad es {x} ¿cúal es la tuya?\")"
   ]
  },
  {
   "cell_type": "markdown",
   "metadata": {
    "id": "SczZgwLcx49n"
   },
   "source": [
    "Aquí la f al comienzo indica que es una cadena con formato, lo que significa que cada vez que se encuentre un carácter *{* tendrá que interpretar lo que venga a continuación como si se hubieran cerrado las comillas y puesto una coma\n",
    "\n",
    "\n",
    "**Ejercicio** Escribir un código que declare una variable `nombre` que contenga nuestro nombre, y luego muestre con print \"Hola, soy X\", donde X es el contenido de esta variable"
   ]
  },
  {
   "cell_type": "code",
   "execution_count": 21,
   "metadata": {
    "id": "sf8Lnn06_m3F"
   },
   "outputs": [
    {
     "name": "stdout",
     "output_type": "stream",
     "text": [
      "Hola, soy Mario Alonso Núñez\n",
      "y mi estatura es 1.78 metros\n"
     ]
    }
   ],
   "source": [
    "# Solución\n",
    "nombre = \"Mario Alonso Núñez\"\n",
    "estatura = 1.78\n",
    "print(\"Hola, soy\",nombre)\n",
    "print(f\"y mi estatura es {estatura} metros\")"
   ]
  },
  {
   "cell_type": "markdown",
   "metadata": {
    "id": "4LywGOuox49n"
   },
   "source": [
    "<a name=\"Tipos-en-Python\"></a>\n",
    "## Tipos en Python"
   ]
  },
  {
   "cell_type": "markdown",
   "metadata": {
    "id": "gx6Haxe1x49o"
   },
   "source": [
    "En Python, **todo valor tiene un tipo**, es decir pertenece a un conjunto predefinido de valores.\n",
    "Decimos que se trata de un lenguaje con tipos, o un lenguaje tipado.\n",
    "\n",
    "Sin embargo, a diferencia de otros lenguajes como C, C++, C# o Java, en Python no se declaran los tipos explícitamente, los deduce el sistema.\n",
    "\n",
    "Esto es una comodidad, pero no debe hacernos olvidar que los tipos existen. En concreto, en Python, tenemos:\n",
    "\n",
    "* *Tipos numéricos*: int, float, complex \n",
    "* *Tipo cierto/falso*: bool\n",
    "* *Tipo carácter*: chr\n",
    "* *Tipos secuencia*: list, tuple, range\n",
    "* *Tipo secuencia de caracteres*: str\n",
    "* *Conjuntos*: set\n",
    "* *Maps*: dict\n",
    "* *Programación funcional*: funciones lambda\n",
    "* *Programación orientada a objetos*: Clases, objetos\n",
    "* *Tipos secuencia de binarios*: bytes, bytearray, memoryview\n",
    "\n"
   ]
  },
  {
   "cell_type": "code",
   "execution_count": 23,
   "metadata": {
    "id": "zIaSrPoVx49o"
   },
   "outputs": [
    {
     "name": "stdout",
     "output_type": "stream",
     "text": [
      "4 <class 'int'>\n",
      "4.0 <class 'float'>\n",
      "True <class 'bool'>\n",
      "2 <class 'int'>\n",
      "1.2 <class 'float'>\n",
      "if you torture the data long enough, it will confess <class 'str'>\n"
     ]
    }
   ],
   "source": [
    "x = 2\n",
    "y = 1.2\n",
    "s = 'if you torture the data long enough, it will confess'\n",
    "\n",
    "\n",
    "print(4,type(4))\n",
    "print(4.0,type(4.0))\n",
    "print(True,type(True))\n",
    "print(x,type(x))\n",
    "print(y,type(y))\n",
    "print(s,type(s))\n"
   ]
  },
  {
   "cell_type": "markdown",
   "metadata": {
    "id": "nuTws_IRx49o"
   },
   "source": [
    "**Ejercicio 2** Intentar adivinar el tipo de la siguiente expresión antes de ejecutar el código"
   ]
  },
  {
   "cell_type": "code",
   "execution_count": 24,
   "metadata": {
    "id": "s9aDeV7cx49o"
   },
   "outputs": [
    {
     "name": "stdout",
     "output_type": "stream",
     "text": [
      "<class 'float'>\n"
     ]
    }
   ],
   "source": [
    "#La expresión es de tipo float por que el resultado de la operación pasada como parámetro a type() da como\n",
    "# resultado un número decimal\n",
    "print(type(3+4.1))"
   ]
  },
  {
   "cell_type": "markdown",
   "metadata": {
    "id": "85ys2i14x49p"
   },
   "source": [
    "#### Tuplas (introducción)\n",
    "\n",
    "se le puede dar valor a varias variables simultáneamente:"
   ]
  },
  {
   "cell_type": "code",
   "execution_count": 28,
   "metadata": {
    "id": "YjaT6WIGx49p"
   },
   "outputs": [],
   "source": [
    "x = y = 1"
   ]
  },
  {
   "cell_type": "code",
   "execution_count": 29,
   "metadata": {
    "id": "G3vfT13dx49q"
   },
   "outputs": [
    {
     "name": "stdout",
     "output_type": "stream",
     "text": [
      "x = 1\n",
      "y = 1\n",
      "1 1\n"
     ]
    }
   ],
   "source": [
    "print(\"x =\",x)\n",
    "print(\"y =\",y)"
   ]
  },
  {
   "cell_type": "markdown",
   "metadata": {
    "id": "MXyOJPt3x49q"
   },
   "source": [
    "Otra forma de hacer lo mismo"
   ]
  },
  {
   "cell_type": "code",
   "execution_count": 31,
   "metadata": {
    "id": "k9LPwHEwx49r"
   },
   "outputs": [
    {
     "name": "stdout",
     "output_type": "stream",
     "text": [
      "x = 1\n",
      "y = 3\n"
     ]
    }
   ],
   "source": [
    "x,y = 1,3\n",
    "print(\"x =\",x)\n",
    "print(\"y =\",y)"
   ]
  },
  {
   "cell_type": "markdown",
   "metadata": {
    "id": "ujPmA692x49r"
   },
   "source": [
    "Esta notación es en realidad una forma abreviada de escribir una *tupla*, una de las estructuras de las que dispone Python para agregar elementos.\n",
    "\n",
    "La forma no abreviada:"
   ]
  },
  {
   "cell_type": "code",
   "execution_count": 35,
   "metadata": {
    "id": "9Tp01x1Lx49r"
   },
   "outputs": [
    {
     "name": "stdout",
     "output_type": "stream",
     "text": [
      "x = 1 <class 'int'>\n",
      "y = hola <class 'str'>\n",
      "z = (1, 'hola') <class 'tuple'>\n"
     ]
    }
   ],
   "source": [
    "z = (x,y) = (1,\"hola\")\n",
    "print(\"x =\",x, type(x))\n",
    "print(\"y =\",y, type(y))\n",
    "print(\"z =\",z,type(z))"
   ]
  },
  {
   "cell_type": "markdown",
   "metadata": {
    "id": "fiOi8EFKx49r"
   },
   "source": [
    "Nótese que las tuplas permiten tener elementos ordenados agregados. Otras formas son los strings y las listas. Los tres tipos, strings, listas y tuplas constituyen las *secuencias de Python*"
   ]
  },
  {
   "cell_type": "markdown",
   "metadata": {
    "id": "KR_js_-2x49s"
   },
   "source": [
    "###### Ejercicio 3. *¿Cómo declarar en una sola línea dos variables x,y haciendo que la primera tome el valor 1 y la segunda el valor 2?*"
   ]
  },
  {
   "cell_type": "code",
   "execution_count": 36,
   "metadata": {
    "id": "VWdrPp2zx49s"
   },
   "outputs": [
    {
     "name": "stdout",
     "output_type": "stream",
     "text": [
      "Primera forma: x=1  y=2\n",
      "Segunda forma: x=1  y=2\n"
     ]
    }
   ],
   "source": [
    "# escribir aquí la solución\n",
    "x,y = 1,2\n",
    "print(f\"Primera forma: x={x}  y={y}\")\n",
    "(x, y) = (1,2)\n",
    "print(f\"Segunda forma: x={x}  y={y}\")\n",
    "\n"
   ]
  },
  {
   "cell_type": "markdown",
   "metadata": {
    "id": "8LAzeb1wx49s"
   },
   "source": [
    "###### Ejercicio 4. ¿Qué hará el siguiente código?  (para probarlo quitar el símbolo de comentario #)"
   ]
  },
  {
   "cell_type": "code",
   "execution_count": 38,
   "metadata": {
    "id": "nDDeNVozx49t"
   },
   "outputs": [
    {
     "name": "stdout",
     "output_type": "stream",
     "text": [
      "Primer resultado: x=5  y=5\n",
      "Segundo resultado: x=6  y=5\n",
      "Tercer resultado: x=6  y=9\n"
     ]
    }
   ],
   "source": [
    "x = y = 5 # Asigna a tanto a \"x\" como a \"y\" el valor 5\n",
    "print(f\"Primer resultado: x={x}  y={y}\")\n",
    "\n",
    "x += 1 # Incrementa el valor de \"x\" en 1\n",
    "print(f\"Segundo resultado: x={x}  y={y}\")\n",
    "\n",
    "y = y+x-2 #Suma los valores de \"x\" e \"y\" y les resta 2. EL resultado lo almacena en y\n",
    "print(f\"Tercer resultado: x={x}  y={y}\")"
   ]
  },
  {
   "cell_type": "markdown",
   "metadata": {
    "id": "bDgzcxrEx49u"
   },
   "source": [
    "<a name=\"Instrucciones\"></a>\n",
    "## Instrucciones"
   ]
  },
  {
   "cell_type": "markdown",
   "metadata": {
    "id": "c8DAe97ax49u"
   },
   "source": [
    "Como hemos visto, Python ejecuta instrucciones en secuencia, de arriba hacia abajo. Cada instrucción ocupa en principio una línea:"
   ]
  },
  {
   "cell_type": "code",
   "execution_count": 39,
   "metadata": {
    "id": "jj2wo5Qmx49u"
   },
   "outputs": [
    {
     "name": "stdout",
     "output_type": "stream",
     "text": [
      "7\n"
     ]
    }
   ],
   "source": [
    "x=3\n",
    "y=4\n",
    "print(x+y)"
   ]
  },
  {
   "cell_type": "markdown",
   "metadata": {
    "id": "V1D9Ewwyx49u"
   },
   "source": [
    "Sin embargo, en ocasiones, queremos que una instrucción ocupe más de una línea, por legilibidad"
   ]
  },
  {
   "cell_type": "code",
   "execution_count": 43,
   "metadata": {
    "id": "ob1LphwOx49u"
   },
   "outputs": [
    {
     "ename": "SyntaxError",
     "evalue": "invalid syntax (3585222091.py, line 2)",
     "output_type": "error",
     "traceback": [
      "\u001b[0;36m  Cell \u001b[0;32mIn [43], line 2\u001b[0;36m\u001b[0m\n\u001b[0;31m    a = 1 + 2 + 3 +\u001b[0m\n\u001b[0m                   ^\u001b[0m\n\u001b[0;31mSyntaxError\u001b[0m\u001b[0;31m:\u001b[0m invalid syntax\n"
     ]
    }
   ],
   "source": [
    "# Este código nos lleva a un error\n",
    "a = 1 + 2 + 3 +\n",
    "4 + 5 + 6 + \n",
    "7 + 8 + 9\n",
    "print(a)"
   ]
  },
  {
   "cell_type": "markdown",
   "metadata": {
    "id": "hRsgZk-sx49u"
   },
   "source": [
    "Para solucionar esto hay varias formas. Una es usar el marcador '\\\\' para indicar que se continua por la línea de abajo"
   ]
  },
  {
   "cell_type": "code",
   "execution_count": 44,
   "metadata": {
    "id": "vNujraLbx49v"
   },
   "outputs": [
    {
     "name": "stdout",
     "output_type": "stream",
     "text": [
      "45\n"
     ]
    }
   ],
   "source": [
    "a = 1 + 2 + 3 + \\\n",
    "    4 + 5 + 6 + \\\n",
    "    7 + 8 + 9\n",
    "print(a)"
   ]
  },
  {
   "cell_type": "markdown",
   "metadata": {
    "id": "QsEcZaL1x49w"
   },
   "source": [
    "También se pueden usar paréntesis, en este caso Python asume que la línea siguiente forma parte de la misma instrucción"
   ]
  },
  {
   "cell_type": "code",
   "execution_count": 46,
   "metadata": {
    "id": "Iem-ggIlx49w"
   },
   "outputs": [
    {
     "name": "stdout",
     "output_type": "stream",
     "text": [
      "45\n"
     ]
    }
   ],
   "source": [
    "a = (1 + 2 + 3 +\n",
    "    4 + 5 + 6 +\n",
    "    7 + 8 + 9)\n",
    "print(a)"
   ]
  },
  {
   "cell_type": "markdown",
   "metadata": {
    "id": "C5FnU5mbx49w"
   },
   "source": [
    "<a name=\"Operadores\"></a>\n",
    "## Operadores"
   ]
  },
  {
   "cell_type": "markdown",
   "metadata": {
    "id": "HWVW7WJ3x49x"
   },
   "source": [
    "<a name=\"Operadores-aritméticos\"></a>\n",
    "### Operadores aritméticos"
   ]
  },
  {
   "cell_type": "markdown",
   "metadata": {
    "id": "rReFbKnicFQb"
   },
   "source": [
    "Una lista de los operadores aritméticos más comunes (que posteriormente ampliaremos con las bibliotecas math, numpy y pandas)"
   ]
  },
  {
   "cell_type": "markdown",
   "metadata": {
    "id": "ph9DOD-yx49x"
   },
   "source": [
    "| Símbolo | Función |\n",
    "|----|---|\n",
    "| +  | suma |\n",
    "| -  | resta |\n",
    "| /  | división |\n",
    "| %  | módulo |\n",
    "| *  | multiplicación |\n",
    "| //  | división entera |\n",
    "| **  | Potencia |"
   ]
  },
  {
   "cell_type": "markdown",
   "metadata": {
    "id": "j_8s1DwzAQL2"
   },
   "source": [
    "Una operación muy común es incrementar una variable:"
   ]
  },
  {
   "cell_type": "code",
   "execution_count": 48,
   "metadata": {
    "id": "FEcE5Y2wAQL2"
   },
   "outputs": [
    {
     "name": "stdout",
     "output_type": "stream",
     "text": [
      "1\n"
     ]
    }
   ],
   "source": [
    "x=0\n",
    "x = x+1\n",
    "print(x)"
   ]
  },
  {
   "cell_type": "markdown",
   "metadata": {
    "id": "QxjHU-5oAQL2"
   },
   "source": [
    "Python admite una forma abreviada:"
   ]
  },
  {
   "cell_type": "code",
   "execution_count": 49,
   "metadata": {
    "id": "Hg1So5ZQAQL2"
   },
   "outputs": [
    {
     "name": "stdout",
     "output_type": "stream",
     "text": [
      "2\n"
     ]
    }
   ],
   "source": [
    "x +=1\n",
    "print(x)"
   ]
  },
  {
   "cell_type": "markdown",
   "metadata": {
    "id": "ZhfMHFTEAQL2"
   },
   "source": [
    "En cambio, y a diferencia de otros lenguajes, no admite la notación x++ para incrementar en uno. \n",
    "\n",
    "Una ventaja con respecto a otros lenguajes es que se pueden hacer operaciones con enteros de precisión arbitraria:"
   ]
  },
  {
   "cell_type": "code",
   "execution_count": 50,
   "metadata": {
    "id": "ZW8nM3_Xx49x"
   },
   "outputs": [
    {
     "name": "stdout",
     "output_type": "stream",
     "text": [
      "2000000000000000000000000000000000000000000000000000000000000000000000000000000000000000000000000000001\n"
     ]
    }
   ],
   "source": [
    "print(1+2000000000000000000000000000000000000000000000000000000000000000000000000000000000000000000000000000000)"
   ]
  },
  {
   "cell_type": "code",
   "execution_count": 51,
   "metadata": {
    "id": "6ditnDvvx49x"
   },
   "outputs": [
    {
     "name": "stdout",
     "output_type": "stream",
     "text": [
      "199999999\n"
     ]
    }
   ],
   "source": [
    "print(200000000-1)"
   ]
  },
  {
   "cell_type": "code",
   "execution_count": 52,
   "metadata": {
    "id": "irpG9Yp_x49x"
   },
   "outputs": [
    {
     "name": "stdout",
     "output_type": "stream",
     "text": [
      "2\n"
     ]
    }
   ],
   "source": [
    "print(1*2)"
   ]
  },
  {
   "cell_type": "markdown",
   "metadata": {
    "id": "d9OwjLAbx49y"
   },
   "source": [
    "**Ejercicio 5** Explicar el comportamiento en cada caso"
   ]
  },
  {
   "cell_type": "code",
   "execution_count": 53,
   "metadata": {
    "id": "pMfDfCOrx49y"
   },
   "outputs": [
    {
     "data": {
      "text/plain": [
       "0.5"
      ]
     },
     "execution_count": 53,
     "metadata": {},
     "output_type": "execute_result"
    }
   ],
   "source": [
    "1/2 #División el primer parámetro entre el segundo. Ambos son enteros pero el resultado es un float"
   ]
  },
  {
   "cell_type": "code",
   "execution_count": 56,
   "metadata": {
    "id": "euTr4Osqx49y"
   },
   "outputs": [
    {
     "data": {
      "text/plain": [
       "1.0"
      ]
     },
     "execution_count": 56,
     "metadata": {},
     "output_type": "execute_result"
    }
   ],
   "source": [
    "1/2.0 #Dividimos el primer parámetro entre el segundo. El segundo parámetro es un float"
   ]
  },
  {
   "cell_type": "code",
   "execution_count": 57,
   "metadata": {
    "id": "2Zjtto14x49z"
   },
   "outputs": [
    {
     "data": {
      "text/plain": [
       "0"
      ]
     },
     "execution_count": 57,
     "metadata": {},
     "output_type": "execute_result"
    }
   ],
   "source": [
    "1//2 #Dividimos el primer parámetro entre el segundo y únicamente nos quedamos con la parte entera de la solución. "
   ]
  },
  {
   "cell_type": "code",
   "execution_count": 58,
   "metadata": {
    "id": "q3Qa4-4Ax49z"
   },
   "outputs": [
    {
     "data": {
      "text/plain": [
       "5"
      ]
     },
     "execution_count": 58,
     "metadata": {},
     "output_type": "execute_result"
    }
   ],
   "source": [
    "15%10 #Obtenemos el módulo resultante de dividir el primer parámetro entre el segundo."
   ]
  },
  {
   "cell_type": "markdown",
   "metadata": {
    "id": "CsuBf6hmx49z"
   },
   "source": [
    "En el caso de trabajar con números reales también se puede obtener el resultado de truncar el resultado de la división"
   ]
  },
  {
   "cell_type": "code",
   "execution_count": 59,
   "metadata": {
    "id": "uBQTjB62x49z"
   },
   "outputs": [
    {
     "data": {
      "text/plain": [
       "1.0"
      ]
     },
     "execution_count": 59,
     "metadata": {},
     "output_type": "execute_result"
    }
   ],
   "source": [
    "1.9//1.0"
   ]
  },
  {
   "cell_type": "markdown",
   "metadata": {
    "id": "85EC0pHYx490"
   },
   "source": [
    "<a name=\"Operadores-relacionales\"></a>\n",
    "### Operadores relacionales"
   ]
  },
  {
   "cell_type": "markdown",
   "metadata": {
    "id": "vsKOZeDCx490"
   },
   "source": [
    "Son operadores que pueden devolver los valores True (cierto) o False (falso). En programación estos valores son básicos para permitir la toma de decisiones y van a jugar un papel fundamental en el tratamiento de datos permitiéndonos elegir, por ejemplo, a los elementos que cumplen una cierta propiedad \n",
    "\n",
    "En programación llamamos a estos valores (True,False) *valores booleanos* o *valores lógicos*"
   ]
  },
  {
   "cell_type": "markdown",
   "metadata": {
    "id": "mNwj--92x490"
   },
   "source": [
    "| Operador | Significado |\n",
    "|----|---|\n",
    "| == | True, si los dos operandos son iguales, False e.o.c. |\n",
    "| !=  | True, si los dos operandos son diferente, False e.o.c. |\n",
    "| < | menor |\n",
    "| > | mayor  |\n",
    "| <=  | menor o igual  |\n",
    "| >=  | mayor o igual |"
   ]
  },
  {
   "cell_type": "markdown",
   "metadata": {
    "id": "TmZ3V7f7cs1x"
   },
   "source": [
    "Es fundamental distinguir entre el operador de asignación =, que da valor a una variable, y el operador de comparación == que indica si dos valores son iguales o no"
   ]
  },
  {
   "cell_type": "code",
   "execution_count": 60,
   "metadata": {
    "id": "r4Pp6KRtx490"
   },
   "outputs": [
    {
     "name": "stdout",
     "output_type": "stream",
     "text": [
      "1\n"
     ]
    }
   ],
   "source": [
    "z = 1\n",
    "print(z)"
   ]
  },
  {
   "cell_type": "code",
   "execution_count": 61,
   "metadata": {
    "id": "te4asUX4x491"
   },
   "outputs": [
    {
     "data": {
      "text/plain": [
       "False"
      ]
     },
     "execution_count": 61,
     "metadata": {},
     "output_type": "execute_result"
    }
   ],
   "source": [
    "z == 2"
   ]
  },
  {
   "cell_type": "code",
   "execution_count": 62,
   "metadata": {
    "id": "GJwgV-Ygx491"
   },
   "outputs": [
    {
     "name": "stdout",
     "output_type": "stream",
     "text": [
      "False <class 'bool'>\n"
     ]
    }
   ],
   "source": [
    "z = 1\n",
    "print(z==2,type(z==2))"
   ]
  },
  {
   "cell_type": "code",
   "execution_count": 63,
   "metadata": {
    "id": "8I1Bo1JKx491"
   },
   "outputs": [
    {
     "data": {
      "text/plain": [
       "False"
      ]
     },
     "execution_count": 63,
     "metadata": {},
     "output_type": "execute_result"
    }
   ],
   "source": [
    "z > 1"
   ]
  },
  {
   "cell_type": "markdown",
   "metadata": {
    "id": "ptjnx8OWx492"
   },
   "source": [
    "Una propiedad muy interesante de los booleanos es que se convierten automáticamente en enteros. False se convierte en 0, y True en 1"
   ]
  },
  {
   "cell_type": "code",
   "execution_count": 64,
   "metadata": {
    "id": "DbXYsptCx492"
   },
   "outputs": [
    {
     "data": {
      "text/plain": [
       "2"
      ]
     },
     "execution_count": 64,
     "metadata": {},
     "output_type": "execute_result"
    }
   ],
   "source": [
    "(z==1)+1"
   ]
  },
  {
   "cell_type": "markdown",
   "metadata": {
    "id": "zt90Okmld_gy"
   },
   "source": [
    "**Ejercicio 6** ¿Para qué valores de x devolverá True la siguiente (extraña) expresión?"
   ]
  },
  {
   "cell_type": "code",
   "execution_count": 65,
   "metadata": {
    "id": "wPHzCmiXeBgC"
   },
   "outputs": [
    {
     "data": {
      "text/plain": [
       "True"
      ]
     },
     "execution_count": 65,
     "metadata": {},
     "output_type": "execute_result"
    }
   ],
   "source": [
    "# Devolvera true para todo valor de x mayor que 3, excepto 7\n",
    "x=4\n",
    "(x>3)+(x!=7)>1"
   ]
  },
  {
   "cell_type": "markdown",
   "metadata": {
    "id": "qpFtt5P6flNh"
   },
   "source": [
    "Es necesario advertir que esta expresión extraña es poco o nada común, y que solo la incluídmos para entender un tipo de lógica que emplearemos más adelante en la gestión de datos."
   ]
  },
  {
   "cell_type": "markdown",
   "metadata": {
    "id": "Pf7R2zzlx493"
   },
   "source": [
    "**Ejercicio 7** (difícil, curiosidad) escribir una expresión que le asigne a la variable z el mayor valor entre x e y utilizando solo lo visto hasta ahora <br>\n",
    "Pista: (x>y) vale True, o lo que es lo mismo 1, si x es mayor que y"
   ]
  },
  {
   "cell_type": "code",
   "execution_count": 66,
   "metadata": {
    "id": "CQ7MTOQXx493"
   },
   "outputs": [
    {
     "name": "stdout",
     "output_type": "stream",
     "text": [
      "50\n"
     ]
    }
   ],
   "source": [
    "x = 50\n",
    "y = 30\n",
    "z = (x>y)*x + (y>x)*y\n",
    "print(z)"
   ]
  },
  {
   "cell_type": "markdown",
   "metadata": {
    "id": "_VByblUMx494"
   },
   "source": [
    "<a name=\"Operadores-booleanos\"></a>\n",
    "### Operadores booleanos"
   ]
  },
  {
   "cell_type": "markdown",
   "metadata": {
    "id": "mH-1keRTx494"
   },
   "source": [
    "Sean x e y dos variables booleanas (tienen True o False), podemos combinar sus valores con los operadores\n",
    "\n",
    "| Símbolo | Significado |\n",
    "|----|---|\n",
    "| x and y  | Conjunción: si x es True, entonces y, si no  False |\n",
    "| x or y  | disyunción lógica: si x es False, entonces y, si no True |\n",
    "| not(x)  | si x es True false, en otro caso True |\n",
    "\n",
    "\n"
   ]
  },
  {
   "cell_type": "code",
   "execution_count": 67,
   "metadata": {
    "id": "GiEzzqj2AQL5"
   },
   "outputs": [
    {
     "data": {
      "text/plain": [
       "False"
      ]
     },
     "execution_count": 67,
     "metadata": {},
     "output_type": "execute_result"
    }
   ],
   "source": [
    "x=10\n",
    "y=1\n",
    "(x>5) and (y>5)"
   ]
  },
  {
   "cell_type": "markdown",
   "metadata": {
    "id": "FqJE75G3gK0h"
   },
   "source": [
    "El `and` se evalúa a True si los dos valores se evalúan a True Una característica interesante es que si el valor más a la izquierda es False ya no se mira el segundo valor, el resultado es Falso sin más. Esto será útil para evitar casos como el siguiente:"
   ]
  },
  {
   "cell_type": "code",
   "execution_count": 68,
   "metadata": {
    "id": "2A9vXdWzAQL5"
   },
   "outputs": [
    {
     "ename": "ZeroDivisionError",
     "evalue": "division by zero",
     "output_type": "error",
     "traceback": [
      "\u001b[0;31m---------------------------------------------------------------------------\u001b[0m",
      "\u001b[0;31mZeroDivisionError\u001b[0m                         Traceback (most recent call last)",
      "Cell \u001b[0;32mIn [68], line 2\u001b[0m\n\u001b[1;32m      1\u001b[0m x\u001b[38;5;241m=\u001b[39m\u001b[38;5;241m0\u001b[39m\n\u001b[0;32m----> 2\u001b[0m \u001b[38;5;241;43m3\u001b[39;49m\u001b[38;5;241;43m/\u001b[39;49m\u001b[43mx\u001b[49m \u001b[38;5;241m>\u001b[39m \u001b[38;5;241m5\u001b[39m\n",
      "\u001b[0;31mZeroDivisionError\u001b[0m: division by zero"
     ]
    }
   ],
   "source": [
    "# El código retorna un error debido a que estamos dividiendo por cero\n",
    "x=0\n",
    "3/x > 5"
   ]
  },
  {
   "cell_type": "code",
   "execution_count": 69,
   "metadata": {
    "id": "9qKsNO1Sx495"
   },
   "outputs": [
    {
     "data": {
      "text/plain": [
       "False"
      ]
     },
     "execution_count": 69,
     "metadata": {},
     "output_type": "execute_result"
    }
   ],
   "source": [
    "(x!=0) and (3/x > 5)"
   ]
  },
  {
   "cell_type": "code",
   "execution_count": 70,
   "metadata": {
    "id": "z3M21-XBx495"
   },
   "outputs": [
    {
     "name": "stdout",
     "output_type": "stream",
     "text": [
      "True\n"
     ]
    }
   ],
   "source": [
    "x=5\n",
    "y=3\n",
    "w = x>y and x!=6\n",
    "print(w)"
   ]
  },
  {
   "cell_type": "markdown",
   "metadata": {
    "id": "2iafkgS9hVBy"
   },
   "source": [
    "Un ejemplo del uso de `not`"
   ]
  },
  {
   "cell_type": "code",
   "execution_count": 72,
   "metadata": {
    "id": "Ozy24yFxAQL5"
   },
   "outputs": [
    {
     "name": "stdout",
     "output_type": "stream",
     "text": [
      "False\n"
     ]
    }
   ],
   "source": [
    "num_vidas = 9\n",
    "tiempo = 9\n",
    "vivo= num_vidas>0 and tiempo>0\n",
    "\n",
    "#muerto = num_vidas <= 0 or tiempo <= 0\n",
    "muerto = not(vivo)\n",
    "print(muerto)\n",
    "        "
   ]
  },
  {
   "cell_type": "markdown",
   "metadata": {
    "id": "NrSN8O_ux496"
   },
   "source": [
    "**Ejercicio 8**  (curioso) El operador lógico binario or-exclusivo (XOR) está definido como sigue: \n",
    "\n",
    "    True xor True  --> False\n",
    "    True xor False --> True\n",
    "    False xor True --> True\n",
    "    False xor False --> False\n",
    "    \n",
    "Por desgracia no existe en Python. ¿Qué expresión podemos escribir que simule el valor de xor?"
   ]
  },
  {
   "cell_type": "code",
   "execution_count": 77,
   "metadata": {
    "id": "NdPfzCYtx496"
   },
   "outputs": [
    {
     "name": "stdout",
     "output_type": "stream",
     "text": [
      "True xor True = False\n",
      "True xor False = True\n",
      "False xor True = True\n",
      "False xor False = False\n"
     ]
    }
   ],
   "source": [
    "A = True\n",
    "B = True \n",
    "AxorB = (A and (not B) )or(B and (not A))\n",
    "print(f\"{A} xor {B} = {AxorB}\")\n",
    "\n",
    "A = True\n",
    "B = False \n",
    "AxorB = (A and (not B) )or(B and (not A))\n",
    "print(f\"{A} xor {B} = {AxorB}\")\n",
    "\n",
    "A = False\n",
    "B = True \n",
    "AxorB = (A and (not B) )or(B and (not A))\n",
    "print(f\"{A} xor {B} = {AxorB}\")\n",
    "\n",
    "A = False\n",
    "B = False \n",
    "AxorB = (A and (not B) )or(B and (not A))\n",
    "print(f\"{A} xor {B} = {AxorB}\")"
   ]
  },
  {
   "cell_type": "markdown",
   "metadata": {
    "id": "3xKnF420x498"
   },
   "source": [
    "<a name=\"Operadores-de-bit\"></a>\n",
    "### Operadores de bit"
   ]
  },
  {
   "cell_type": "markdown",
   "metadata": {
    "id": "OCtNGsqamlWw"
   },
   "source": [
    "En principio no tienen nada que ver con nuestro tema; se trata de representar valores ccomo números binarios y hacer el and, el or o cualquier otra operación bit a bit"
   ]
  },
  {
   "cell_type": "markdown",
   "metadata": {
    "id": "onqGXsVqx498"
   },
   "source": [
    "| Símbolo | Significado |\n",
    "|----|---|\n",
    "| &  | Conjunción lógica de bits|\n",
    "| l  | disyunción lógica de bits|\n",
    "| ^  | XOR de bits |\n",
    "| ~  | negación |\n",
    "| >>  | desplazamiento a la derecha |\n",
    "| <<  | desplazamiento a la izquierda |"
   ]
  },
  {
   "cell_type": "code",
   "execution_count": 81,
   "metadata": {
    "id": "pcJeaMdWx499"
   },
   "outputs": [],
   "source": [
    "a = 2 #10\n",
    "b = 3 #11"
   ]
  },
  {
   "cell_type": "code",
   "execution_count": 83,
   "metadata": {
    "id": "6dTqYh_Vx49-"
   },
   "outputs": [
    {
     "name": "stdout",
     "output_type": "stream",
     "text": [
      "3\n",
      "0b10\n"
     ]
    }
   ],
   "source": [
    "print(a | b)\n",
    "print(bin(a&b))"
   ]
  },
  {
   "cell_type": "markdown",
   "metadata": {
    "id": "j_ZdHQJYm5sx"
   },
   "source": [
    "Sin embargo más adelante sí les veremos utilidad.\n",
    "\n",
    "El segundo tipo de operaciones, los desplazamientos, sí que no tienen nada que \n",
    "ver con nuestro tema y solos los incluimos por \"completitud\"."
   ]
  },
  {
   "cell_type": "code",
   "execution_count": 84,
   "metadata": {
    "id": "GaereQdkx49-"
   },
   "outputs": [
    {
     "data": {
      "text/plain": [
       "2"
      ]
     },
     "execution_count": 84,
     "metadata": {},
     "output_type": "execute_result"
    }
   ],
   "source": [
    "5 >> 1"
   ]
  },
  {
   "cell_type": "markdown",
   "metadata": {
    "id": "KqABnmLUx49-"
   },
   "source": [
    "0000 0101 -> 5 \n",
    "\n",
    "El desplazamiento hacia la derecha introduce ceros por la izquierda\n",
    "\n",
    "0000 0010 -> 2"
   ]
  },
  {
   "cell_type": "code",
   "execution_count": 85,
   "metadata": {
    "id": "tAScOEGUx49-"
   },
   "outputs": [
    {
     "data": {
      "text/plain": [
       "10"
      ]
     },
     "execution_count": 85,
     "metadata": {},
     "output_type": "execute_result"
    }
   ],
   "source": [
    "5 << 1"
   ]
  },
  {
   "cell_type": "markdown",
   "metadata": {
    "id": "UaWkv_yTx4-M"
   },
   "source": [
    "<a name=\"Importación-de-bibliotecas\"></a>\n",
    "## Importación de bibliotecas\n"
   ]
  },
  {
   "cell_type": "markdown",
   "metadata": {
    "id": "bKrvb-b1x4-M"
   },
   "source": [
    "Una de las razones del éxito de Python es la gran cantidad de *bibliotecas* que contienen funciones útiles. Estas bibliotecas ( o módulos, como se denominan en Python) se pueden instalar desde una consola (una consola de Anaconda si estamos en este sistema)\n",
    "\n",
    " \n",
    "    pip install modulo\n",
    "\n",
    "\n",
    "o, si no tenemos permiso para instalar para todos los usuarios\n",
    "\n",
    "    pip install --user  modulo\n",
    "    \n",
    "En algunos sistemas puede que en lugar de *pip* tengamos que utilizar *pip3*.\n",
    "\n",
    "El siguiente ejemplo importa (hace visible al programa) los módulos random y math"
   ]
  },
  {
   "cell_type": "code",
   "execution_count": 86,
   "metadata": {
    "id": "Gw7xDigfx4-M"
   },
   "outputs": [
    {
     "name": "stdout",
     "output_type": "stream",
     "text": [
      "8\n",
      "3\n",
      "14\n",
      "25\n",
      "6\n",
      "3.141592653589793\n"
     ]
    }
   ],
   "source": [
    "import random\n",
    "import math\n",
    "\n",
    "\n",
    "for i in range(5):\n",
    "    print(random.randint(1, 25))\n",
    "\n",
    "print(math.pi)"
   ]
  },
  {
   "cell_type": "markdown",
   "metadata": {
    "id": "5ugC73QTx4-N"
   },
   "source": [
    "Lo de escribir \n",
    "\n",
    "        random.randint \n",
    "\n",
    "todo el tiempo puede resultar molesto. Si queremos usar solo randint podemos poner:"
   ]
  },
  {
   "cell_type": "code",
   "execution_count": 87,
   "metadata": {
    "id": "xk3HNBNlx4-N"
   },
   "outputs": [
    {
     "name": "stdout",
     "output_type": "stream",
     "text": [
      "7\n",
      "13\n",
      "15\n",
      "17\n",
      "13\n",
      "3.141592653589793\n"
     ]
    }
   ],
   "source": [
    "from random import randint\n",
    "from math import pi\n",
    "\n",
    "\n",
    "for i in range(5):\n",
    "    print(randint(1, 25))\n",
    "\n",
    "print(pi)"
   ]
  },
  {
   "cell_type": "markdown",
   "metadata": {
    "id": "12GADDEvx4-N"
   },
   "source": [
    "Una última posibilidad es renombrar para utilizar nombres más cortos. El siguiente ejemplo (que no hace falta entender completamente) utiliza esta posibilidad para dibujar gráficos de barras"
   ]
  },
  {
   "cell_type": "code",
   "execution_count": 89,
   "metadata": {
    "id": "uTR3liuTx4-N",
    "scrolled": true
   },
   "outputs": [
    {
     "name": "stdout",
     "output_type": "stream",
     "text": [
      "ind [0 1 2 3 4]\n"
     ]
    },
    {
     "data": {
      "image/png": "[encoded data removed]",
      "text/plain": [
       "<Figure size 640x480 with 1 Axes>"
      ]
     },
     "metadata": {},
     "output_type": "display_data"
    }
   ],
   "source": [
    "#%matplotlib notebook\n",
    "import numpy as np\n",
    "import matplotlib.pyplot as plt\n",
    "\n",
    "N = 5\n",
    "hombre_means = (20, 35, 30, 35, 27)\n",
    "hombre_std = (2, 3, 4, 1, 2)\n",
    "mujer_means = (25, 32, 34, 20, 25)\n",
    "mujer_std = (3, 5, 2, 3, 3)\n",
    "\n",
    "ind = np.arange(N)  # posición de cada grupo\n",
    "print('ind',ind)\n",
    "width = 0.35       # anchura de las barras\n",
    "\n",
    "fig, ax = plt.subplots()\n",
    "rects1 = ax.bar(ind, hombre_means, width, color='r', yerr=hombre_std)\n",
    "\n",
    "rects2 = ax.bar(ind + width, mujer_means, width, color='y', yerr=mujer_std)\n",
    "\n",
    "# etiquetas, título, marcas en los ejes\n",
    "ax.set_ylabel('Puntuaciones')\n",
    "ax.set_title('Puntuaciones por grupo y género')\n",
    "ax.set_xticks(ind + width / 2)\n",
    "ax.set_xticklabels(('G1', 'G2', 'G3', 'G4', 'G5'))\n",
    "\n",
    "ax.legend((rects1[0], rects2[0]), ('Hombres', 'Mujeres'))\n",
    "plt.show()"
   ]
  },
  {
   "cell_type": "markdown",
   "metadata": {
    "id": "9pVEpjehx4-G"
   },
   "source": [
    "<a name=\"Funciones-predefinidas-de-conversión-de-tipos\"></a>\n",
    "## Funciones predefinidas de conversión de tipos"
   ]
  },
  {
   "cell_type": "markdown",
   "metadata": {
    "id": "_CxDZ4eBx4-H"
   },
   "source": [
    "Las funciones, como *print*, agrupan fragmentos de código con un propósito concreto bajo cierto nombre. Para añadir flexibilidad, pueden recibir valores de entrada y devolver valores de salida. Algunas funciones ya están predefinidas en el sistema, pero el usuario también puede definir sus propias funciones, como veremos en otro cuaderno."
   ]
  },
  {
   "cell_type": "markdown",
   "metadata": {
    "id": "WaKqCE-Hx4-H"
   },
   "source": [
    "Python incluye numerosas funciones predefinidas para convertir de un tipo a otro. Veamos algunas de ellas.\n",
    "\n",
    "| Función | Significado |\n",
    "|----|---|\n",
    "| 0xV  | Convierte el número hexadecimal V en entero |\n",
    "| hex(x)  | convierte x a su representación hexadecimal, como cadena |\n",
    "| 0oV  | Convierte el número octal V en entero |\n",
    "| oct(x)  | convierte x a su representación octal, como cadena |\n",
    "| 0b  | Convierte el número binario V en entero |\n",
    "| bin(x)  | convierte x a su representación binaria, como cadena |\n",
    "| int(x,b)  | Convierte a base 10 el número representado en base b en el string x|\n",
    "| int(x)  | Convierte el número real x en su parte entera |\n",
    "| int(x)  | Convierte el string x en un entero |\n"
   ]
  },
  {
   "cell_type": "markdown",
   "metadata": {
    "id": "VEVG7eT0x4-H"
   },
   "source": [
    "<a name=\"Conversión-entre-bases\"></a>\n",
    "### Conversión entre bases"
   ]
  },
  {
   "cell_type": "markdown",
   "metadata": {
    "id": "QMXeF41sx4-H"
   },
   "source": [
    "Python considera que un número está escrito en hexadecimal anteponiendo el prefijo **0x**. También se puede convertir un entero en hexadecimal utilizando la función **hex( )**. Ojo porque esta función devuelve el valor  hexadecimal, pero como una cadena de caracteres."
   ]
  },
  {
   "cell_type": "code",
   "execution_count": 90,
   "metadata": {
    "id": "Wn-YNidux4-I"
   },
   "outputs": [
    {
     "data": {
      "text/plain": [
       "'0x6b2'"
      ]
     },
     "execution_count": 90,
     "metadata": {},
     "output_type": "execute_result"
    }
   ],
   "source": [
    "hex(1714) "
   ]
  },
  {
   "cell_type": "code",
   "execution_count": 91,
   "metadata": {
    "id": "FFUHC3ERx4-I"
   },
   "outputs": [
    {
     "data": {
      "text/plain": [
       "1714"
      ]
     },
     "execution_count": 91,
     "metadata": {},
     "output_type": "execute_result"
    }
   ],
   "source": [
    "0x6B2"
   ]
  },
  {
   "cell_type": "markdown",
   "metadata": {
    "id": "h0Afgj7Jx4-I"
   },
   "source": [
    "Para representar un valor en octal antepondremos el prefijo **0o**  al valor octal. \n",
    "\n",
    "Viceversa, la función **oct( )** permite convertir un valor decimal en octal, pero representado como caracteres.\n"
   ]
  },
  {
   "cell_type": "code",
   "execution_count": null,
   "metadata": {
    "id": "ihppb9xZx4-I"
   },
   "outputs": [],
   "source": [
    "oct(8)"
   ]
  },
  {
   "cell_type": "code",
   "execution_count": null,
   "metadata": {
    "id": "ZHMuzC3vx4-I"
   },
   "outputs": [],
   "source": [
    "0o10"
   ]
  },
  {
   "cell_type": "markdown",
   "metadata": {
    "id": "5v17hfSNx4-I"
   },
   "source": [
    "En el caso de números binarios podemos utilizar el prefijo 0b y la función bin()"
   ]
  },
  {
   "cell_type": "code",
   "execution_count": 92,
   "metadata": {
    "id": "BTDQwKbsx4-J"
   },
   "outputs": [
    {
     "data": {
      "text/plain": [
       "15"
      ]
     },
     "execution_count": 92,
     "metadata": {},
     "output_type": "execute_result"
    }
   ],
   "source": [
    "0b01111"
   ]
  },
  {
   "cell_type": "code",
   "execution_count": 93,
   "metadata": {
    "id": "neAPC0RRx4-J"
   },
   "outputs": [
    {
     "data": {
      "text/plain": [
       "'0b1111'"
      ]
     },
     "execution_count": 93,
     "metadata": {},
     "output_type": "execute_result"
    }
   ],
   "source": [
    "bin(15)"
   ]
  },
  {
   "cell_type": "markdown",
   "metadata": {
    "id": "kCx_CgDgx4-J"
   },
   "source": [
    "La función **int(x,b)** convierte a entero el número x, que es un string en base b"
   ]
  },
  {
   "cell_type": "code",
   "execution_count": 94,
   "metadata": {
    "id": "1O7L2Uxbx4-J"
   },
   "outputs": [
    {
     "name": "stdout",
     "output_type": "stream",
     "text": [
      "520\n",
      "47802\n",
      "47802\n",
      "10\n",
      "8469720880\n"
     ]
    }
   ],
   "source": [
    "print(int('1010',8))\n",
    "print(int('baba',16))\n",
    "print(int('0xbaba',16))\n",
    "print(int('1010',2))\n",
    "print(int('bigdata',30))\n"
   ]
  },
  {
   "cell_type": "markdown",
   "metadata": {
    "id": "_GC28HFyx4-K"
   },
   "source": [
    "**Ejercicio 9** En matemáticas, decimos que f y g son funciones inversas si para todo valor x, se cumple que \n",
    "\n",
    "f(g(x)) == x \n",
    "\n",
    "y para todo valor y\n",
    "\n",
    "g(f(y)) == y\n",
    "\n",
    "¿Cual es la inversa de la función hex(x)? (para pensar, la respuesta no es trivial)"
   ]
  },
  {
   "cell_type": "code",
   "execution_count": 112,
   "metadata": {
    "id": "uuiZIN-bx4-K"
   },
   "outputs": [
    {
     "data": {
      "text/plain": [
       "61"
      ]
     },
     "execution_count": 112,
     "metadata": {},
     "output_type": "execute_result"
    }
   ],
   "source": [
    "x = 707258\n",
    "y = '0xcaba'\n",
    "# Solución, cambiar f,g por las funciones adecuadas para que se cumpla\n",
    "\n",
    "# f(g(x)) == x\n",
    "# g(f(y)) == y\n",
    "\n",
    "hex(x)"
   ]
  },
  {
   "cell_type": "code",
   "execution_count": 106,
   "metadata": {
    "id": "Tb_DCJJKx4-K"
   },
   "outputs": [
    {
     "data": {
      "text/plain": [
       "128"
      ]
     },
     "execution_count": 106,
     "metadata": {},
     "output_type": "execute_result"
    }
   ],
   "source": [
    "s= \"123\"\n",
    "int(s) + 5"
   ]
  },
  {
   "cell_type": "markdown",
   "metadata": {
    "id": "9PAvL8vox4-P"
   },
   "source": [
    "<a name=\"Conversión-entre-tipos\"></a>\n",
    "### Conversión entre tipos"
   ]
  },
  {
   "cell_type": "markdown",
   "metadata": {
    "id": "WY0RkKpnx4-P"
   },
   "source": [
    "La función predefinida **int( )** se puede convertir para convertir un número real en su parte entera, o para convertir un número entre comillas en su versión como entero (es decir, si no se pone segundo parámetro se asume implícitamente base 10). \n",
    "\n",
    "Para este último uso, conversión de *string* a *int*, disponemos también de una función inversa,  **str( )** que convierte un entero en string.\n",
    "\n"
   ]
  },
  {
   "cell_type": "code",
   "execution_count": 113,
   "metadata": {
    "id": "HqWyDj0lx4-Q"
   },
   "outputs": [
    {
     "name": "stdout",
     "output_type": "stream",
     "text": [
      "7\n",
      "7\n"
     ]
    }
   ],
   "source": [
    "print(int(7.7))\n",
    "print(int('7'))"
   ]
  },
  {
   "cell_type": "markdown",
   "metadata": {
    "id": "u-PHZ59px4-Q"
   },
   "source": [
    "**Observaciones:** \n",
    "\n",
    "* A este tipo de funciones que pasan de un tipo a otro se conoce como *funciones de conversión de tipo*\n",
    "*  Aunque generalmente no nos preocupamos de pensar en los tipos, el sistema comprueba que no mezclemos tipos diferentes en una misma expresión, y si lo hacemos obtendremos un error (a no ser que sea posible una *conversión automática de tipos*)"
   ]
  },
  {
   "cell_type": "code",
   "execution_count": 114,
   "metadata": {
    "id": "1fi-rlJPx4-Q"
   },
   "outputs": [
    {
     "data": {
      "text/plain": [
       "15"
      ]
     },
     "execution_count": 114,
     "metadata": {},
     "output_type": "execute_result"
    }
   ],
   "source": [
    "x = '12'\n",
    "# 3+x  # error!!!!\n",
    "3 + int(x)"
   ]
  },
  {
   "cell_type": "markdown",
   "metadata": {
    "id": "WkJG140Kx4-Q"
   },
   "source": [
    "De manera similar, **float(x)**  convierte una cadena x en su representación como número real.\n",
    "\n"
   ]
  },
  {
   "cell_type": "code",
   "execution_count": 115,
   "metadata": {
    "id": "P0MbPajix4-R"
   },
   "outputs": [
    {
     "data": {
      "text/plain": [
       "6.283"
      ]
     },
     "execution_count": 115,
     "metadata": {},
     "output_type": "execute_result"
    }
   ],
   "source": [
    "pi = '3.1415'\n",
    "2*(float(pi))"
   ]
  },
  {
   "cell_type": "markdown",
   "metadata": {
    "id": "a3vZUMcVx4-R"
   },
   "source": [
    "**chr( )** se utiliza para convertir un entero a su equivalente alfabético, mientras que **ord( )** es su función inversa."
   ]
  },
  {
   "cell_type": "code",
   "execution_count": 116,
   "metadata": {
    "id": "iKCdQKIhx4-R"
   },
   "outputs": [
    {
     "data": {
      "text/plain": [
       "'b'"
      ]
     },
     "execution_count": 116,
     "metadata": {},
     "output_type": "execute_result"
    }
   ],
   "source": [
    "chr(98)"
   ]
  },
  {
   "cell_type": "code",
   "execution_count": 117,
   "metadata": {
    "id": "oNlCo1y3x4-R"
   },
   "outputs": [
    {
     "data": {
      "text/plain": [
       "98"
      ]
     },
     "execution_count": 117,
     "metadata": {},
     "output_type": "execute_result"
    }
   ],
   "source": [
    "ord('b')"
   ]
  },
  {
   "cell_type": "markdown",
   "metadata": {
    "id": "mFRbaX7Hx4-R"
   },
   "source": [
    "<a name=\"Funciones-predefinidas-aritméticas\"></a>\n",
    "### Funciones predefinidas aritméticas"
   ]
  },
  {
   "cell_type": "markdown",
   "metadata": {
    "id": "km7zTWyJx4-R"
   },
   "source": [
    "**round( )** permite redondear un real a su valor entero más próximo. si se añade un segundo parámetro sirve para redondear al número de decimales indicado. "
   ]
  },
  {
   "cell_type": "code",
   "execution_count": 118,
   "metadata": {
    "id": "WkJZ00w1x4-R",
    "scrolled": false
   },
   "outputs": [
    {
     "name": "stdout",
     "output_type": "stream",
     "text": [
      "86\n",
      "4.56\n",
      "85\n"
     ]
    }
   ],
   "source": [
    "print(round(85.6231)) \n",
    "print(round(4.55892, 2))\n",
    "print(int(85.6231))"
   ]
  },
  {
   "cell_type": "markdown",
   "metadata": {
    "id": "Jc6Dnv-Gx4-S"
   },
   "source": [
    "**complex( )** se emplea para definir números complejos, mientras que **abs( )**  deuele el valor absoluto de un número entero/real o el módulo de un número complejo."
   ]
  },
  {
   "cell_type": "code",
   "execution_count": 119,
   "metadata": {
    "id": "FYTGHLy4x4-S"
   },
   "outputs": [
    {
     "name": "stdout",
     "output_type": "stream",
     "text": [
      "5.385164807134504\n",
      "4.5\n"
     ]
    }
   ],
   "source": [
    "c =complex('5+2j')\n",
    "print(abs(c))\n",
    "print(abs(-4.5))"
   ]
  },
  {
   "cell_type": "markdown",
   "metadata": {
    "id": "YL89qhDBx4-S"
   },
   "source": [
    "**divmod(x,y)** devuelve tanto el cociente como el resto de una división. Para eso se utiliza una **tupla** con la forma (cociente, resto). "
   ]
  },
  {
   "cell_type": "code",
   "execution_count": 120,
   "metadata": {
    "id": "2Y3pKkRbx4-S"
   },
   "outputs": [
    {
     "data": {
      "text/plain": [
       "(4, 1)"
      ]
     },
     "execution_count": 120,
     "metadata": {},
     "output_type": "execute_result"
    }
   ],
   "source": [
    "divmod(9,2)"
   ]
  },
  {
   "cell_type": "code",
   "execution_count": 121,
   "metadata": {
    "id": "K6ANDOnXx4-S"
   },
   "outputs": [
    {
     "name": "stdout",
     "output_type": "stream",
     "text": [
      "4 1 9\n"
     ]
    }
   ],
   "source": [
    "cociente,resto = divmod(9,2)\n",
    "print(cociente, resto, cociente*2+resto)"
   ]
  },
  {
   "cell_type": "markdown",
   "metadata": {
    "id": "nqKYxFm6x4-T"
   },
   "source": [
    "**isinstance(x,y )** es una función booleana es decir que devuelve True o False, según si x es de tipo y. Se pueden comprobar varias clases a la vez haciendo que el segundo argumento sea una tupla"
   ]
  },
  {
   "cell_type": "code",
   "execution_count": 122,
   "metadata": {
    "id": "A5drlIwpx4-T"
   },
   "outputs": [
    {
     "name": "stdout",
     "output_type": "stream",
     "text": [
      "True\n",
      "False\n",
      "True\n"
     ]
    }
   ],
   "source": [
    "print(isinstance(1, int))\n",
    "print(isinstance(1.0,int))\n",
    "print(isinstance(1.0,(int,float)))"
   ]
  },
  {
   "cell_type": "markdown",
   "metadata": {
    "id": "Zi1aEddIx4-T"
   },
   "source": [
    "**pow(x,y,z)** se emplea para calcular $x^y$. Si se especifica el tercer argumento, z, el resultado es el módulo: ($x^y$ % z)."
   ]
  },
  {
   "cell_type": "code",
   "execution_count": 123,
   "metadata": {
    "id": "aHH-O0XVx4-T"
   },
   "outputs": [
    {
     "name": "stdout",
     "output_type": "stream",
     "text": [
      "27\n",
      "2\n"
     ]
    }
   ],
   "source": [
    "print(pow(3,3))\n",
    "print(pow(3,3,5))"
   ]
  },
  {
   "cell_type": "markdown",
   "metadata": {
    "id": "dFP9qKrlx4-U"
   },
   "source": [
    "La función **range( )** genera una secuencia de enteros dentro del rango indicado. Admite tres formatos, y es una función importante, que utilizaremos muy a menudo:\n",
    "* Si solo recibe un argumento entero x devuelve los valores desde 0 hasta x-1.\n",
    "* Si recibe dos argumentos x,y devuelve la secuencia de elementos que va desde x hasta y-1.\n",
    "* Si recibe tres argumentos, x,y,z, devuelve los elementos desde x hasta y-1, pero saltando de z en z. \n",
    "\n",
    "El resultado es una lista, tipo que veremos en detalle más adelante."
   ]
  },
  {
   "cell_type": "code",
   "execution_count": 124,
   "metadata": {
    "id": "jCGBQqRPx4-U"
   },
   "outputs": [
    {
     "name": "stdout",
     "output_type": "stream",
     "text": [
      "range(0, 3)\n",
      "range(2, 9)\n",
      "range(2, 27, 8)\n"
     ]
    }
   ],
   "source": [
    "print(range(3))\n",
    "print(range(2,9))\n",
    "print(range(2,27,8))"
   ]
  },
  {
   "cell_type": "code",
   "execution_count": null,
   "metadata": {},
   "outputs": [],
   "source": []
  }
 ],
 "metadata": {
  "colab": {
   "name": "1introduccion.ipynb",
   "provenance": []
  },
  "kernelspec": {
   "display_name": "Python 3 (ipykernel)",
   "language": "python",
   "name": "python3"
  },
  "language_info": {
   "codemirror_mode": {
    "name": "ipython",
    "version": 3
   },
   "file_extension": ".py",
   "mimetype": "text/x-python",
   "name": "python",
   "nbconvert_exporter": "python",
   "pygments_lexer": "ipython3",
   "version": "3.9.2"
  }
 },
 "nbformat": 4,
 "nbformat_minor": 1
}
