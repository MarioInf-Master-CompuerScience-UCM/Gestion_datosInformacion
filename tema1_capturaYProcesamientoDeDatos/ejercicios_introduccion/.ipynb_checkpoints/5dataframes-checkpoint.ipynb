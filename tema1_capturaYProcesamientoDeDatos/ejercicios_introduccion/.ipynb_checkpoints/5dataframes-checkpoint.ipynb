{
 "cells": [
  {
   "cell_type": "markdown",
   "metadata": {
    "id": "q110icUhES3b"
   },
   "source": [
    "# Introducción a Python \n",
    "\n",
    "## Pandas - DataFrames\n",
    "\n",
    "Los DataFrames son la estructura principal de Pandas. Se trata de una tabla bidimensional, aunque se pueden lograr representar más dimensiones usando *índices jerárquicos*.\n",
    "\n",
    "\n",
    "### Índice\n",
    "[Creación](#Creación)<br>\n",
    "[Acceso a columnas y filas](#Acceso-a-columnas-y-filas)<br>\n",
    "[Modificación, inserción y borrado de columnas y filas](#Modificación)<br>\n",
    "[Índices](#Índices)<br>\n",
    "[Estadísticas descriptivas](#Estadísticas-descriptivas)<br>\n",
    "[Índices Jerárquicos](#Índices-Jerárquicos)<br>"
   ]
  },
  {
   "cell_type": "markdown",
   "metadata": {
    "id": "R2xHXR2IES3l"
   },
   "source": [
    "<a name=\"Creación\"></a>\n",
    "### Creación"
   ]
  },
  {
   "cell_type": "markdown",
   "metadata": {
    "id": "ztEdTvQVES3m"
   },
   "source": [
    "Ya hemos visto como cargar Dataframes desde un fichero CSV o Excel. \n",
    "Otra alternativa es a través de listas de listas. Esto es habitual cuando por ejemplo estamos recopilando la información mediante web scraping y la vamos acumulando en listas. En este caso habrá que indicar, además, los nombres de las columnas"
   ]
  },
  {
   "cell_type": "code",
   "execution_count": 1,
   "metadata": {
    "id": "IB9MXs1GES3n",
    "scrolled": true
   },
   "outputs": [
    {
     "data": {
      "text/html": [
       "<div>\n",
       "<style scoped>\n",
       "    .dataframe tbody tr th:only-of-type {\n",
       "        vertical-align: middle;\n",
       "    }\n",
       "\n",
       "    .dataframe tbody tr th {\n",
       "        vertical-align: top;\n",
       "    }\n",
       "\n",
       "    .dataframe thead th {\n",
       "        text-align: right;\n",
       "    }\n",
       "</style>\n",
       "<table border=\"1\" class=\"dataframe\">\n",
       "  <thead>\n",
       "    <tr style=\"text-align: right;\">\n",
       "      <th></th>\n",
       "      <th>ciudades</th>\n",
       "      <th>habitantes</th>\n",
       "    </tr>\n",
       "  </thead>\n",
       "  <tbody>\n",
       "    <tr>\n",
       "      <th>0</th>\n",
       "      <td>Madrid</td>\n",
       "      <td>6507184</td>\n",
       "    </tr>\n",
       "    <tr>\n",
       "      <th>1</th>\n",
       "      <td>Barcelona</td>\n",
       "      <td>5609350</td>\n",
       "    </tr>\n",
       "    <tr>\n",
       "      <th>2</th>\n",
       "      <td>Valencia</td>\n",
       "      <td>2547986</td>\n",
       "    </tr>\n",
       "    <tr>\n",
       "      <th>3</th>\n",
       "      <td>Sevilla</td>\n",
       "      <td>1939887</td>\n",
       "    </tr>\n",
       "    <tr>\n",
       "      <th>4</th>\n",
       "      <td>Alicante</td>\n",
       "      <td>1838819</td>\n",
       "    </tr>\n",
       "    <tr>\n",
       "      <th>5</th>\n",
       "      <td>Málaga</td>\n",
       "      <td>1641121</td>\n",
       "    </tr>\n",
       "  </tbody>\n",
       "</table>\n",
       "</div>"
      ],
      "text/plain": [
       "    ciudades  habitantes\n",
       "0     Madrid     6507184\n",
       "1  Barcelona     5609350\n",
       "2   Valencia     2547986\n",
       "3    Sevilla     1939887\n",
       "4   Alicante     1838819\n",
       "5     Málaga     1641121"
      ]
     },
     "execution_count": 1,
     "metadata": {},
     "output_type": "execute_result"
    }
   ],
   "source": [
    "import pandas as pd\n",
    "from pandas import Series, DataFrame # para no tener que poner pd.\n",
    "\n",
    "datos = [['Madrid', 6507184], ['Barcelona', 5609350], \n",
    "         ['Valencia', 2547986], ['Sevilla', 1939887], \n",
    "         ['Alicante', 1838819], ['Málaga',1641121]  ]\n",
    "df = DataFrame(datos ,columns=['ciudades','habitantes'])\n",
    "df"
   ]
  },
  {
   "cell_type": "markdown",
   "metadata": {
    "id": "vChhWEwzES3o"
   },
   "source": [
    "El siguiente resultado, quizás inesperado, debe ser fácil de entender"
   ]
  },
  {
   "cell_type": "code",
   "execution_count": 2,
   "metadata": {
    "id": "f8jgdXD_ES3p"
   },
   "outputs": [
    {
     "data": {
      "text/html": [
       "<div>\n",
       "<style scoped>\n",
       "    .dataframe tbody tr th:only-of-type {\n",
       "        vertical-align: middle;\n",
       "    }\n",
       "\n",
       "    .dataframe tbody tr th {\n",
       "        vertical-align: top;\n",
       "    }\n",
       "\n",
       "    .dataframe thead th {\n",
       "        text-align: right;\n",
       "    }\n",
       "</style>\n",
       "<table border=\"1\" class=\"dataframe\">\n",
       "  <thead>\n",
       "    <tr style=\"text-align: right;\">\n",
       "      <th></th>\n",
       "      <th>0</th>\n",
       "      <th>1</th>\n",
       "      <th>2</th>\n",
       "      <th>3</th>\n",
       "      <th>4</th>\n",
       "      <th>5</th>\n",
       "    </tr>\n",
       "  </thead>\n",
       "  <tbody>\n",
       "    <tr>\n",
       "      <th>ciudades</th>\n",
       "      <td>Madrid</td>\n",
       "      <td>Barcelona</td>\n",
       "      <td>Valencia</td>\n",
       "      <td>Sevilla</td>\n",
       "      <td>Alicante</td>\n",
       "      <td>Málaga</td>\n",
       "    </tr>\n",
       "    <tr>\n",
       "      <th>habitantes</th>\n",
       "      <td>6507184</td>\n",
       "      <td>5609350</td>\n",
       "      <td>2547986</td>\n",
       "      <td>1939887</td>\n",
       "      <td>1838819</td>\n",
       "      <td>1641121</td>\n",
       "    </tr>\n",
       "  </tbody>\n",
       "</table>\n",
       "</div>"
      ],
      "text/plain": [
       "                  0          1         2        3         4        5\n",
       "ciudades     Madrid  Barcelona  Valencia  Sevilla  Alicante   Málaga\n",
       "habitantes  6507184    5609350   2547986  1939887   1838819  1641121"
      ]
     },
     "execution_count": 2,
     "metadata": {},
     "output_type": "execute_result"
    }
   ],
   "source": [
    "\n",
    "ciudades = ['Madrid', 'Barcelona', 'Valencia', 'Sevilla', \n",
    "         'Alicante', 'Málaga']\n",
    "habitantes = [6507184, 5609350,  2547986,  1939887, \n",
    "          1838819, 1641121 ]\n",
    "\n",
    "df2 = DataFrame([ciudades,habitantes],['ciudades','habitantes'])\n",
    "df2"
   ]
  },
  {
   "cell_type": "markdown",
   "metadata": {
    "id": "x9xDO9MCES3p"
   },
   "source": [
    "También se puede crear a partir de un diccionario"
   ]
  },
  {
   "cell_type": "code",
   "execution_count": 3,
   "metadata": {
    "id": "lSbkSiBCES3q"
   },
   "outputs": [
    {
     "data": {
      "text/html": [
       "<div>\n",
       "<style scoped>\n",
       "    .dataframe tbody tr th:only-of-type {\n",
       "        vertical-align: middle;\n",
       "    }\n",
       "\n",
       "    .dataframe tbody tr th {\n",
       "        vertical-align: top;\n",
       "    }\n",
       "\n",
       "    .dataframe thead th {\n",
       "        text-align: right;\n",
       "    }\n",
       "</style>\n",
       "<table border=\"1\" class=\"dataframe\">\n",
       "  <thead>\n",
       "    <tr style=\"text-align: right;\">\n",
       "      <th></th>\n",
       "      <th>ciudades</th>\n",
       "      <th>habitantes</th>\n",
       "    </tr>\n",
       "  </thead>\n",
       "  <tbody>\n",
       "    <tr>\n",
       "      <th>0</th>\n",
       "      <td>Madrid</td>\n",
       "      <td>6507184</td>\n",
       "    </tr>\n",
       "    <tr>\n",
       "      <th>1</th>\n",
       "      <td>Barcelona</td>\n",
       "      <td>5609350</td>\n",
       "    </tr>\n",
       "    <tr>\n",
       "      <th>2</th>\n",
       "      <td>Valencia</td>\n",
       "      <td>2547986</td>\n",
       "    </tr>\n",
       "    <tr>\n",
       "      <th>3</th>\n",
       "      <td>Sevilla</td>\n",
       "      <td>1939887</td>\n",
       "    </tr>\n",
       "    <tr>\n",
       "      <th>4</th>\n",
       "      <td>Alicante</td>\n",
       "      <td>1838819</td>\n",
       "    </tr>\n",
       "    <tr>\n",
       "      <th>5</th>\n",
       "      <td>Málaga</td>\n",
       "      <td>1641121</td>\n",
       "    </tr>\n",
       "  </tbody>\n",
       "</table>\n",
       "</div>"
      ],
      "text/plain": [
       "    ciudades  habitantes\n",
       "0     Madrid     6507184\n",
       "1  Barcelona     5609350\n",
       "2   Valencia     2547986\n",
       "3    Sevilla     1939887\n",
       "4   Alicante     1838819\n",
       "5     Málaga     1641121"
      ]
     },
     "execution_count": 3,
     "metadata": {},
     "output_type": "execute_result"
    }
   ],
   "source": [
    "datos = {'ciudades' : ['Madrid', 'Barcelona', 'Valencia', 'Sevilla', \n",
    "         'Alicante', 'Málaga'],\n",
    "         'habitantes' : [6507184, 5609350,  2547986,  1939887, \n",
    "          1838819, 1641121 ]}\n",
    "df = DataFrame(datos)\n",
    "df"
   ]
  },
  {
   "cell_type": "markdown",
   "metadata": {
    "id": "MfShXpC-ES3r"
   },
   "source": [
    "### Acceso a columnas y filas"
   ]
  },
  {
   "cell_type": "markdown",
   "metadata": {
    "id": "Asmq7CYYES3s"
   },
   "source": [
    "Al acceder a una columna obtenemos una \"serie\", es decir una secuencia de datos todos ellos con su etiqueta (en principio un número)"
   ]
  },
  {
   "cell_type": "code",
   "execution_count": 4,
   "metadata": {
    "id": "3wapsIyZES3s"
   },
   "outputs": [
    {
     "data": {
      "text/plain": [
       "0       Madrid\n",
       "1    Barcelona\n",
       "2     Valencia\n",
       "3      Sevilla\n",
       "4     Alicante\n",
       "5       Málaga\n",
       "Name: ciudades, dtype: object"
      ]
     },
     "execution_count": 4,
     "metadata": {},
     "output_type": "execute_result"
    }
   ],
   "source": [
    "df['ciudades']"
   ]
  },
  {
   "cell_type": "code",
   "execution_count": 5,
   "metadata": {
    "id": "LDecbKByES3t"
   },
   "outputs": [
    {
     "name": "stdout",
     "output_type": "stream",
     "text": [
      "<class 'pandas.core.series.Series'>\n"
     ]
    }
   ],
   "source": [
    "print(type(df['ciudades']))"
   ]
  },
  {
   "cell_type": "markdown",
   "metadata": {
    "id": "3N5_riIxES3t"
   },
   "source": [
    "Otra forma de acceder es con la notación . que solo puede usarse si el nombre de columna no contiene espacios ni símbolos especiales"
   ]
  },
  {
   "cell_type": "code",
   "execution_count": 6,
   "metadata": {
    "id": "-klB2t-dES3t"
   },
   "outputs": [
    {
     "data": {
      "text/plain": [
       "0       Madrid\n",
       "1    Barcelona\n",
       "2     Valencia\n",
       "3      Sevilla\n",
       "4     Alicante\n",
       "5       Málaga\n",
       "Name: ciudades, dtype: object"
      ]
     },
     "execution_count": 6,
     "metadata": {},
     "output_type": "execute_result"
    }
   ],
   "source": [
    "df.ciudades"
   ]
  },
  {
   "cell_type": "markdown",
   "metadata": {
    "id": "uGarzx7LES3u"
   },
   "source": [
    "Para acceder por varias columnas a la vez usar dobles corchetes, y el resultado es un nuevo Dataframe"
   ]
  },
  {
   "cell_type": "code",
   "execution_count": 7,
   "metadata": {
    "id": "RnflVyM0ES3u"
   },
   "outputs": [
    {
     "data": {
      "text/html": [
       "<div>\n",
       "<style scoped>\n",
       "    .dataframe tbody tr th:only-of-type {\n",
       "        vertical-align: middle;\n",
       "    }\n",
       "\n",
       "    .dataframe tbody tr th {\n",
       "        vertical-align: top;\n",
       "    }\n",
       "\n",
       "    .dataframe thead th {\n",
       "        text-align: right;\n",
       "    }\n",
       "</style>\n",
       "<table border=\"1\" class=\"dataframe\">\n",
       "  <thead>\n",
       "    <tr style=\"text-align: right;\">\n",
       "      <th></th>\n",
       "      <th>ciudades</th>\n",
       "      <th>habitantes</th>\n",
       "    </tr>\n",
       "  </thead>\n",
       "  <tbody>\n",
       "    <tr>\n",
       "      <th>0</th>\n",
       "      <td>Madrid</td>\n",
       "      <td>6507184</td>\n",
       "    </tr>\n",
       "    <tr>\n",
       "      <th>1</th>\n",
       "      <td>Barcelona</td>\n",
       "      <td>5609350</td>\n",
       "    </tr>\n",
       "    <tr>\n",
       "      <th>2</th>\n",
       "      <td>Valencia</td>\n",
       "      <td>2547986</td>\n",
       "    </tr>\n",
       "    <tr>\n",
       "      <th>3</th>\n",
       "      <td>Sevilla</td>\n",
       "      <td>1939887</td>\n",
       "    </tr>\n",
       "    <tr>\n",
       "      <th>4</th>\n",
       "      <td>Alicante</td>\n",
       "      <td>1838819</td>\n",
       "    </tr>\n",
       "    <tr>\n",
       "      <th>5</th>\n",
       "      <td>Málaga</td>\n",
       "      <td>1641121</td>\n",
       "    </tr>\n",
       "  </tbody>\n",
       "</table>\n",
       "</div>"
      ],
      "text/plain": [
       "    ciudades  habitantes\n",
       "0     Madrid     6507184\n",
       "1  Barcelona     5609350\n",
       "2   Valencia     2547986\n",
       "3    Sevilla     1939887\n",
       "4   Alicante     1838819\n",
       "5     Málaga     1641121"
      ]
     },
     "execution_count": 7,
     "metadata": {},
     "output_type": "execute_result"
    }
   ],
   "source": [
    "df[['ciudades','habitantes']]"
   ]
  },
  {
   "cell_type": "markdown",
   "metadata": {
    "id": "vnFAhH15ES3u"
   },
   "source": [
    "Se puede acceder a las columnas, a los índices y a los valores"
   ]
  },
  {
   "cell_type": "code",
   "execution_count": 45,
   "metadata": {
    "id": "WmW28ly1ES3v"
   },
   "outputs": [
    {
     "data": {
      "text/plain": [
       "Index(['ciudades', 'habitantes'], dtype='object')"
      ]
     },
     "execution_count": 45,
     "metadata": {},
     "output_type": "execute_result"
    }
   ],
   "source": [
    "df.columns"
   ]
  },
  {
   "cell_type": "code",
   "execution_count": 17,
   "metadata": {
    "id": "XezILkblES3v"
   },
   "outputs": [
    {
     "data": {
      "text/plain": [
       "RangeIndex(start=0, stop=6, step=1)"
      ]
     },
     "execution_count": 17,
     "metadata": {},
     "output_type": "execute_result"
    }
   ],
   "source": [
    "df.index"
   ]
  },
  {
   "cell_type": "code",
   "execution_count": 10,
   "metadata": {
    "id": "_V9TeGtdES3v"
   },
   "outputs": [
    {
     "data": {
      "text/plain": [
       "array([['Madrid', 6507184],\n",
       "       ['Barcelona', 5609350],\n",
       "       ['Valencia', 2547986],\n",
       "       ['Sevilla', 1939887],\n",
       "       ['Alicante', 1838819],\n",
       "       ['Málaga', 1641121]], dtype=object)"
      ]
     },
     "execution_count": 10,
     "metadata": {},
     "output_type": "execute_result"
    }
   ],
   "source": [
    "df.values"
   ]
  },
  {
   "cell_type": "markdown",
   "metadata": {
    "id": "cTcrYZjyES3w"
   },
   "source": [
    "Sin embargo, no podemos acceder a la fila por posición directamente:"
   ]
  },
  {
   "cell_type": "code",
   "execution_count": 21,
   "metadata": {
    "id": "SIfzNy5SES3w"
   },
   "outputs": [],
   "source": [
    "#Devuelve error por realizar un acceso incorrecto\n",
    "df[0]"
   ]
  },
  {
   "cell_type": "markdown",
   "metadata": {
    "id": "2A8dD58vCA_p"
   },
   "source": [
    "Sí podríamos usar df.values, que nos da todas las filas, aunque no es muy habitual"
   ]
  },
  {
   "cell_type": "code",
   "execution_count": 24,
   "metadata": {
    "id": "uujod4DlCGs_"
   },
   "outputs": [
    {
     "data": {
      "text/plain": [
       "array(['Madrid', 6507184], dtype=object)"
      ]
     },
     "execution_count": 24,
     "metadata": {},
     "output_type": "execute_result"
    }
   ],
   "source": [
    "df.values[0]"
   ]
  },
  {
   "cell_type": "markdown",
   "metadata": {
    "id": "UUrgFERLES3w"
   },
   "source": [
    "En lugar de eso, utilizaremos `iloc` que recibe un entero como parámetro para acceder a la fila"
   ]
  },
  {
   "cell_type": "code",
   "execution_count": 56,
   "metadata": {
    "id": "wHpizAa4AqPB"
   },
   "outputs": [
    {
     "data": {
      "text/plain": [
       "ciudades       Madrid\n",
       "habitantes    6507184\n",
       "Name: Capital, dtype: object"
      ]
     },
     "execution_count": 56,
     "metadata": {},
     "output_type": "execute_result"
    }
   ],
   "source": [
    "df.iloc[0]"
   ]
  },
  {
   "cell_type": "markdown",
   "metadata": {
    "id": "f7tdX3EW_p8O"
   },
   "source": [
    "**Ejercicio 1**\n",
    "\n",
    "Acceder a las 3 primeras filas. Pista: utilizar la misma notación que si fuera una lista"
   ]
  },
  {
   "cell_type": "code",
   "execution_count": 29,
   "metadata": {
    "id": "FYOWoeMbE3so"
   },
   "outputs": [
    {
     "data": {
      "text/html": [
       "<div>\n",
       "<style scoped>\n",
       "    .dataframe tbody tr th:only-of-type {\n",
       "        vertical-align: middle;\n",
       "    }\n",
       "\n",
       "    .dataframe tbody tr th {\n",
       "        vertical-align: top;\n",
       "    }\n",
       "\n",
       "    .dataframe thead th {\n",
       "        text-align: right;\n",
       "    }\n",
       "</style>\n",
       "<table border=\"1\" class=\"dataframe\">\n",
       "  <thead>\n",
       "    <tr style=\"text-align: right;\">\n",
       "      <th></th>\n",
       "      <th>ciudades</th>\n",
       "      <th>habitantes</th>\n",
       "    </tr>\n",
       "  </thead>\n",
       "  <tbody>\n",
       "    <tr>\n",
       "      <th>0</th>\n",
       "      <td>Madrid</td>\n",
       "      <td>6507184</td>\n",
       "    </tr>\n",
       "    <tr>\n",
       "      <th>1</th>\n",
       "      <td>Barcelona</td>\n",
       "      <td>5609350</td>\n",
       "    </tr>\n",
       "    <tr>\n",
       "      <th>2</th>\n",
       "      <td>Valencia</td>\n",
       "      <td>2547986</td>\n",
       "    </tr>\n",
       "  </tbody>\n",
       "</table>\n",
       "</div>"
      ],
      "text/plain": [
       "    ciudades  habitantes\n",
       "0     Madrid     6507184\n",
       "1  Barcelona     5609350\n",
       "2   Valencia     2547986"
      ]
     },
     "execution_count": 29,
     "metadata": {},
     "output_type": "execute_result"
    }
   ],
   "source": [
    "df.iloc[:3]"
   ]
  },
  {
   "cell_type": "markdown",
   "metadata": {
    "id": "MWYe91-nEJww"
   },
   "source": [
    "Igualmente dentro de la fila  podemos acceder a la columna por posición"
   ]
  },
  {
   "cell_type": "code",
   "execution_count": 30,
   "metadata": {
    "id": "2ThHVLO9ES3w"
   },
   "outputs": [
    {
     "data": {
      "text/plain": [
       "('Madrid', 6507184)"
      ]
     },
     "execution_count": 30,
     "metadata": {},
     "output_type": "execute_result"
    }
   ],
   "source": [
    "df.iloc[0][0], df.iloc[0][1] "
   ]
  },
  {
   "cell_type": "markdown",
   "metadata": {
    "id": "rwWWy1vjEdC4"
   },
   "source": [
    "Otra forma de lograr lo mismo [fila,columna]"
   ]
  },
  {
   "cell_type": "code",
   "execution_count": 31,
   "metadata": {
    "id": "6z9dJVmqEfu_"
   },
   "outputs": [
    {
     "data": {
      "text/plain": [
       "('Madrid', 6507184)"
      ]
     },
     "execution_count": 31,
     "metadata": {},
     "output_type": "execute_result"
    }
   ],
   "source": [
    "df.iloc[0,0], df.iloc[0,1]  "
   ]
  },
  {
   "cell_type": "markdown",
   "metadata": {
    "id": "3W7sHLgGGh7Z"
   },
   "source": [
    "**Ejercicio 2** Seleccionar las filas de la 2 a la 4, ambas incluidas (comenzando en 0) y solo la primera columna (la número 0)"
   ]
  },
  {
   "cell_type": "code",
   "execution_count": 40,
   "metadata": {
    "id": "fr8SlW4HGiMH"
   },
   "outputs": [
    {
     "data": {
      "text/plain": [
       "2    Valencia\n",
       "3     Sevilla\n",
       "4    Alicante\n",
       "Name: ciudades, dtype: object"
      ]
     },
     "execution_count": 40,
     "metadata": {},
     "output_type": "execute_result"
    }
   ],
   "source": [
    "# solución\n",
    "df.iloc[2:5,0]\n"
   ]
  },
  {
   "cell_type": "markdown",
   "metadata": {
    "id": "o8-hzbg4FMn3"
   },
   "source": [
    "**Acceso por índice.**\n",
    "\n",
    "A menudo el índice es la posición sin más, con lo que la función iloc nos sirve. Sin embargo esto no es siempre así"
   ]
  },
  {
   "cell_type": "code",
   "execution_count": 41,
   "metadata": {
    "id": "plusDdp8ES3x"
   },
   "outputs": [
    {
     "data": {
      "text/html": [
       "<div>\n",
       "<style scoped>\n",
       "    .dataframe tbody tr th:only-of-type {\n",
       "        vertical-align: middle;\n",
       "    }\n",
       "\n",
       "    .dataframe tbody tr th {\n",
       "        vertical-align: top;\n",
       "    }\n",
       "\n",
       "    .dataframe thead th {\n",
       "        text-align: right;\n",
       "    }\n",
       "</style>\n",
       "<table border=\"1\" class=\"dataframe\">\n",
       "  <thead>\n",
       "    <tr style=\"text-align: right;\">\n",
       "      <th></th>\n",
       "      <th>ciudades</th>\n",
       "      <th>habitantes</th>\n",
       "    </tr>\n",
       "  </thead>\n",
       "  <tbody>\n",
       "    <tr>\n",
       "      <th>Capital</th>\n",
       "      <td>Madrid</td>\n",
       "      <td>6507184</td>\n",
       "    </tr>\n",
       "    <tr>\n",
       "      <th>Capital Com. Autonoma</th>\n",
       "      <td>Barcelona</td>\n",
       "      <td>5609350</td>\n",
       "    </tr>\n",
       "    <tr>\n",
       "      <th>Capital Com. Autonoma</th>\n",
       "      <td>Valencia</td>\n",
       "      <td>2547986</td>\n",
       "    </tr>\n",
       "    <tr>\n",
       "      <th>Ciudad</th>\n",
       "      <td>Sevilla</td>\n",
       "      <td>1939887</td>\n",
       "    </tr>\n",
       "    <tr>\n",
       "      <th>Ciudad</th>\n",
       "      <td>Alicante</td>\n",
       "      <td>1838819</td>\n",
       "    </tr>\n",
       "    <tr>\n",
       "      <th>Ciudad</th>\n",
       "      <td>Málaga</td>\n",
       "      <td>1641121</td>\n",
       "    </tr>\n",
       "  </tbody>\n",
       "</table>\n",
       "</div>"
      ],
      "text/plain": [
       "                        ciudades  habitantes\n",
       "Capital                   Madrid     6507184\n",
       "Capital Com. Autonoma  Barcelona     5609350\n",
       "Capital Com. Autonoma   Valencia     2547986\n",
       "Ciudad                   Sevilla     1939887\n",
       "Ciudad                  Alicante     1838819\n",
       "Ciudad                    Málaga     1641121"
      ]
     },
     "execution_count": 41,
     "metadata": {},
     "output_type": "execute_result"
    }
   ],
   "source": [
    "datos = [['Madrid', 6507184], ['Barcelona', 5609350], \n",
    "         ['Valencia', 2547986], ['Sevilla', 1939887], \n",
    "         ['Alicante', 1838819], ['Málaga',1641121]  ]\n",
    "df = DataFrame(datos ,columns=['ciudades','habitantes'],\n",
    "               index=['Capital','Capital Com. Autonoma','Capital Com. Autonoma','Ciudad','Ciudad','Ciudad'])\n",
    "df"
   ]
  },
  {
   "cell_type": "markdown",
   "metadata": {
    "id": "BuGbpkBIGObp"
   },
   "source": [
    "Vemos que iloc en este caso no vale"
   ]
  },
  {
   "cell_type": "code",
   "execution_count": 49,
   "metadata": {
    "id": "2FzH_Rd_ES3x"
   },
   "outputs": [],
   "source": [
    "#El codigo da un error por realizar el acceso de forma incorrecta\n",
    "df.iloc['Capital']"
   ]
  },
  {
   "cell_type": "markdown",
   "metadata": {
    "id": "Xvc3u1TzES3x"
   },
   "source": [
    "Si se quiere acceder por el índice se puede usar `loc`"
   ]
  },
  {
   "cell_type": "code",
   "execution_count": 50,
   "metadata": {
    "id": "9F10TDs-ES3x"
   },
   "outputs": [
    {
     "data": {
      "text/plain": [
       "ciudades       Madrid\n",
       "habitantes    6507184\n",
       "Name: Capital, dtype: object"
      ]
     },
     "execution_count": 50,
     "metadata": {},
     "output_type": "execute_result"
    }
   ],
   "source": [
    "df.loc['Capital']"
   ]
  },
  {
   "cell_type": "code",
   "execution_count": 51,
   "metadata": {
    "id": "CQ7P-ES2KQiA"
   },
   "outputs": [
    {
     "data": {
      "text/html": [
       "<div>\n",
       "<style scoped>\n",
       "    .dataframe tbody tr th:only-of-type {\n",
       "        vertical-align: middle;\n",
       "    }\n",
       "\n",
       "    .dataframe tbody tr th {\n",
       "        vertical-align: top;\n",
       "    }\n",
       "\n",
       "    .dataframe thead th {\n",
       "        text-align: right;\n",
       "    }\n",
       "</style>\n",
       "<table border=\"1\" class=\"dataframe\">\n",
       "  <thead>\n",
       "    <tr style=\"text-align: right;\">\n",
       "      <th></th>\n",
       "      <th>ciudades</th>\n",
       "      <th>habitantes</th>\n",
       "    </tr>\n",
       "  </thead>\n",
       "  <tbody>\n",
       "    <tr>\n",
       "      <th>Ciudad</th>\n",
       "      <td>Sevilla</td>\n",
       "      <td>1939887</td>\n",
       "    </tr>\n",
       "    <tr>\n",
       "      <th>Ciudad</th>\n",
       "      <td>Alicante</td>\n",
       "      <td>1838819</td>\n",
       "    </tr>\n",
       "    <tr>\n",
       "      <th>Ciudad</th>\n",
       "      <td>Málaga</td>\n",
       "      <td>1641121</td>\n",
       "    </tr>\n",
       "  </tbody>\n",
       "</table>\n",
       "</div>"
      ],
      "text/plain": [
       "        ciudades  habitantes\n",
       "Ciudad   Sevilla     1939887\n",
       "Ciudad  Alicante     1838819\n",
       "Ciudad    Málaga     1641121"
      ]
     },
     "execution_count": 51,
     "metadata": {},
     "output_type": "execute_result"
    }
   ],
   "source": [
    "df.loc['Ciudad']"
   ]
  },
  {
   "cell_type": "markdown",
   "metadata": {
    "id": "p5cLVBCwES3y"
   },
   "source": [
    "Si se quiere acceder por nombre de fila y columna podemos hacerlo seleccionando primero la fila:"
   ]
  },
  {
   "cell_type": "code",
   "execution_count": null,
   "metadata": {
    "id": "fHOMWx5VES3y"
   },
   "outputs": [],
   "source": [
    "df.loc['Ciudad'][\"ciudades\"]"
   ]
  },
  {
   "cell_type": "markdown",
   "metadata": {
    "id": "-tMfKBDQES3y"
   },
   "source": [
    "O utilizar `loc`con la notación habitual fila, columna"
   ]
  },
  {
   "cell_type": "code",
   "execution_count": null,
   "metadata": {
    "id": "U_B4fJVYES3y"
   },
   "outputs": [],
   "source": [
    "df.loc['Ciudad','ciudades']"
   ]
  },
  {
   "cell_type": "markdown",
   "metadata": {
    "id": "z1RxBLc1LWAf"
   },
   "source": [
    "<a name=\"Modificación\"></a>\n",
    "####Modificación, inserción y borrado de columnas y filas"
   ]
  },
  {
   "cell_type": "markdown",
   "metadata": {
    "id": "oXpjXA6BES30"
   },
   "source": [
    "**Ejercicio 3** ¿Qué hace el siguiente código?"
   ]
  },
  {
   "cell_type": "code",
   "execution_count": 60,
   "metadata": {
    "id": "ApsLUGKCES30"
   },
   "outputs": [
    {
     "data": {
      "text/html": [
       "<div>\n",
       "<style scoped>\n",
       "    .dataframe tbody tr th:only-of-type {\n",
       "        vertical-align: middle;\n",
       "    }\n",
       "\n",
       "    .dataframe tbody tr th {\n",
       "        vertical-align: top;\n",
       "    }\n",
       "\n",
       "    .dataframe thead th {\n",
       "        text-align: right;\n",
       "    }\n",
       "</style>\n",
       "<table border=\"1\" class=\"dataframe\">\n",
       "  <thead>\n",
       "    <tr style=\"text-align: right;\">\n",
       "      <th></th>\n",
       "      <th>ciudades</th>\n",
       "      <th>habitantes</th>\n",
       "    </tr>\n",
       "  </thead>\n",
       "  <tbody>\n",
       "    <tr>\n",
       "      <th>a</th>\n",
       "      <td>Madrid</td>\n",
       "      <td>6507184</td>\n",
       "    </tr>\n",
       "    <tr>\n",
       "      <th>b</th>\n",
       "      <td>0</td>\n",
       "      <td>0</td>\n",
       "    </tr>\n",
       "    <tr>\n",
       "      <th>c</th>\n",
       "      <td>Valencia</td>\n",
       "      <td>2547986</td>\n",
       "    </tr>\n",
       "    <tr>\n",
       "      <th>d</th>\n",
       "      <td>Sevilla</td>\n",
       "      <td>1939887</td>\n",
       "    </tr>\n",
       "    <tr>\n",
       "      <th>e</th>\n",
       "      <td>Alicante</td>\n",
       "      <td>1838819</td>\n",
       "    </tr>\n",
       "    <tr>\n",
       "      <th>f</th>\n",
       "      <td>Málaga</td>\n",
       "      <td>1641121</td>\n",
       "    </tr>\n",
       "  </tbody>\n",
       "</table>\n",
       "</div>"
      ],
      "text/plain": [
       "   ciudades  habitantes\n",
       "a    Madrid     6507184\n",
       "b         0           0\n",
       "c  Valencia     2547986\n",
       "d   Sevilla     1939887\n",
       "e  Alicante     1838819\n",
       "f    Málaga     1641121"
      ]
     },
     "execution_count": 60,
     "metadata": {},
     "output_type": "execute_result"
    }
   ],
   "source": [
    "# En este código creamos un Dataframe con los datos pasados en una lista de listas y modificamos sis ínfices\n",
    "# mediante el uso del atributo index. Por último asignamos el valor 0 a toda la fila con índice 1 mediante el uso\n",
    "# del atributo iloc\n",
    "\n",
    "datos = [['Madrid', 6507184], ['Barcelona', 5609350], \n",
    "         ['Valencia', 2547986], ['Sevilla', 1939887], \n",
    "         ['Alicante', 1838819], ['Málaga',1641121]  ]\n",
    "df = DataFrame(datos ,columns=['ciudades','habitantes'],\n",
    "               index=['a','b','c','d','e','f'])\n",
    "\n",
    "df.iloc[1] = 0\n",
    "df"
   ]
  },
  {
   "cell_type": "markdown",
   "metadata": {
    "id": "8BLODwyFES30"
   },
   "source": [
    "**Ejercicio 4** ¿Qué hace el siguiente código?"
   ]
  },
  {
   "cell_type": "code",
   "execution_count": 61,
   "metadata": {
    "id": "oWySdvT1ES31"
   },
   "outputs": [
    {
     "data": {
      "text/html": [
       "<div>\n",
       "<style scoped>\n",
       "    .dataframe tbody tr th:only-of-type {\n",
       "        vertical-align: middle;\n",
       "    }\n",
       "\n",
       "    .dataframe tbody tr th {\n",
       "        vertical-align: top;\n",
       "    }\n",
       "\n",
       "    .dataframe thead th {\n",
       "        text-align: right;\n",
       "    }\n",
       "</style>\n",
       "<table border=\"1\" class=\"dataframe\">\n",
       "  <thead>\n",
       "    <tr style=\"text-align: right;\">\n",
       "      <th></th>\n",
       "      <th>ciudades</th>\n",
       "      <th>habitantes</th>\n",
       "      <th>superficie</th>\n",
       "    </tr>\n",
       "  </thead>\n",
       "  <tbody>\n",
       "    <tr>\n",
       "      <th>a</th>\n",
       "      <td>Madrid</td>\n",
       "      <td>6507184</td>\n",
       "      <td>0</td>\n",
       "    </tr>\n",
       "    <tr>\n",
       "      <th>b</th>\n",
       "      <td>0</td>\n",
       "      <td>0</td>\n",
       "      <td>0</td>\n",
       "    </tr>\n",
       "    <tr>\n",
       "      <th>c</th>\n",
       "      <td>Valencia</td>\n",
       "      <td>2547986</td>\n",
       "      <td>0</td>\n",
       "    </tr>\n",
       "    <tr>\n",
       "      <th>d</th>\n",
       "      <td>Sevilla</td>\n",
       "      <td>1939887</td>\n",
       "      <td>0</td>\n",
       "    </tr>\n",
       "    <tr>\n",
       "      <th>e</th>\n",
       "      <td>Alicante</td>\n",
       "      <td>1838819</td>\n",
       "      <td>0</td>\n",
       "    </tr>\n",
       "    <tr>\n",
       "      <th>f</th>\n",
       "      <td>Málaga</td>\n",
       "      <td>1641121</td>\n",
       "      <td>0</td>\n",
       "    </tr>\n",
       "  </tbody>\n",
       "</table>\n",
       "</div>"
      ],
      "text/plain": [
       "   ciudades  habitantes  superficie\n",
       "a    Madrid     6507184           0\n",
       "b         0           0           0\n",
       "c  Valencia     2547986           0\n",
       "d   Sevilla     1939887           0\n",
       "e  Alicante     1838819           0\n",
       "f    Málaga     1641121           0"
      ]
     },
     "execution_count": 61,
     "metadata": {},
     "output_type": "execute_result"
    }
   ],
   "source": [
    "# Guardamos en todos los valores de la columna \"superficie\" el valor 0. Como la columna no existe cuando ejecutamos\n",
    "# el comando, Python la crea de forma automática\n",
    "\n",
    "df['superficie'] = 0\n",
    "df"
   ]
  },
  {
   "cell_type": "markdown",
   "metadata": {
    "id": "JpdpfqjLES31"
   },
   "source": [
    "Por tanto para crear una columna nos basta con \"rellenarla\" del valor que se desee. Luego veremos casos más complejos.\n",
    "\n",
    "\n",
    "##### Eliminar filas y columnas\n",
    "Una forma de eliminar columnas es seleccionar solo las que se quieren mantener "
   ]
  },
  {
   "cell_type": "code",
   "execution_count": 65,
   "metadata": {
    "id": "AjuiSgS9ES31"
   },
   "outputs": [
    {
     "data": {
      "text/html": [
       "<div>\n",
       "<style scoped>\n",
       "    .dataframe tbody tr th:only-of-type {\n",
       "        vertical-align: middle;\n",
       "    }\n",
       "\n",
       "    .dataframe tbody tr th {\n",
       "        vertical-align: top;\n",
       "    }\n",
       "\n",
       "    .dataframe thead th {\n",
       "        text-align: right;\n",
       "    }\n",
       "</style>\n",
       "<table border=\"1\" class=\"dataframe\">\n",
       "  <thead>\n",
       "    <tr style=\"text-align: right;\">\n",
       "      <th></th>\n",
       "      <th>ciudades</th>\n",
       "      <th>superficie</th>\n",
       "    </tr>\n",
       "  </thead>\n",
       "  <tbody>\n",
       "    <tr>\n",
       "      <th>a</th>\n",
       "      <td>Madrid</td>\n",
       "      <td>0</td>\n",
       "    </tr>\n",
       "    <tr>\n",
       "      <th>b</th>\n",
       "      <td>0</td>\n",
       "      <td>0</td>\n",
       "    </tr>\n",
       "    <tr>\n",
       "      <th>c</th>\n",
       "      <td>Valencia</td>\n",
       "      <td>0</td>\n",
       "    </tr>\n",
       "    <tr>\n",
       "      <th>d</th>\n",
       "      <td>Sevilla</td>\n",
       "      <td>0</td>\n",
       "    </tr>\n",
       "    <tr>\n",
       "      <th>e</th>\n",
       "      <td>Alicante</td>\n",
       "      <td>0</td>\n",
       "    </tr>\n",
       "    <tr>\n",
       "      <th>f</th>\n",
       "      <td>Málaga</td>\n",
       "      <td>0</td>\n",
       "    </tr>\n",
       "  </tbody>\n",
       "</table>\n",
       "</div>"
      ],
      "text/plain": [
       "   ciudades  superficie\n",
       "a    Madrid           0\n",
       "b         0           0\n",
       "c  Valencia           0\n",
       "d   Sevilla           0\n",
       "e  Alicante           0\n",
       "f    Málaga           0"
      ]
     },
     "execution_count": 65,
     "metadata": {},
     "output_type": "execute_result"
    }
   ],
   "source": [
    "df2 = df.loc[ : , ['ciudades', 'superficie'] ]\n",
    "df2"
   ]
  },
  {
   "cell_type": "markdown",
   "metadata": {
    "id": "CBzXC1oQMJxB"
   },
   "source": [
    "O, directamente"
   ]
  },
  {
   "cell_type": "code",
   "execution_count": 68,
   "metadata": {
    "id": "3WtPw-W4MLgP"
   },
   "outputs": [
    {
     "data": {
      "text/html": [
       "<div>\n",
       "<style scoped>\n",
       "    .dataframe tbody tr th:only-of-type {\n",
       "        vertical-align: middle;\n",
       "    }\n",
       "\n",
       "    .dataframe tbody tr th {\n",
       "        vertical-align: top;\n",
       "    }\n",
       "\n",
       "    .dataframe thead th {\n",
       "        text-align: right;\n",
       "    }\n",
       "</style>\n",
       "<table border=\"1\" class=\"dataframe\">\n",
       "  <thead>\n",
       "    <tr style=\"text-align: right;\">\n",
       "      <th></th>\n",
       "      <th>ciudades</th>\n",
       "      <th>superficie</th>\n",
       "    </tr>\n",
       "  </thead>\n",
       "  <tbody>\n",
       "    <tr>\n",
       "      <th>a</th>\n",
       "      <td>Madrid</td>\n",
       "      <td>0</td>\n",
       "    </tr>\n",
       "    <tr>\n",
       "      <th>b</th>\n",
       "      <td>0</td>\n",
       "      <td>0</td>\n",
       "    </tr>\n",
       "    <tr>\n",
       "      <th>c</th>\n",
       "      <td>Valencia</td>\n",
       "      <td>0</td>\n",
       "    </tr>\n",
       "    <tr>\n",
       "      <th>d</th>\n",
       "      <td>Sevilla</td>\n",
       "      <td>0</td>\n",
       "    </tr>\n",
       "    <tr>\n",
       "      <th>e</th>\n",
       "      <td>Alicante</td>\n",
       "      <td>0</td>\n",
       "    </tr>\n",
       "    <tr>\n",
       "      <th>f</th>\n",
       "      <td>Málaga</td>\n",
       "      <td>0</td>\n",
       "    </tr>\n",
       "  </tbody>\n",
       "</table>\n",
       "</div>"
      ],
      "text/plain": [
       "   ciudades  superficie\n",
       "a    Madrid           0\n",
       "b         0           0\n",
       "c  Valencia           0\n",
       "d   Sevilla           0\n",
       "e  Alicante           0\n",
       "f    Málaga           0"
      ]
     },
     "execution_count": 68,
     "metadata": {},
     "output_type": "execute_result"
    }
   ],
   "source": [
    "df2 = df[['ciudades', 'superficie'] ]\n",
    "df2"
   ]
  },
  {
   "cell_type": "markdown",
   "metadata": {
    "id": "0Go4vqGwES31"
   },
   "source": [
    "Las columnas se puede eliminar con `del` como en los diccionarios"
   ]
  },
  {
   "cell_type": "code",
   "execution_count": 85,
   "metadata": {
    "id": "T5ix-yJWES31"
   },
   "outputs": [
    {
     "data": {
      "text/plain": [
       "ciudades    0\n",
       "Name: b, dtype: object"
      ]
     },
     "execution_count": 85,
     "metadata": {},
     "output_type": "execute_result"
    }
   ],
   "source": [
    "if 'superficie' in df2:\n",
    "    del df2['superficie'] \n",
    "df2"
   ]
  },
  {
   "cell_type": "markdown",
   "metadata": {
    "id": "7BOnGEpvN57o"
   },
   "source": [
    "##### Filtros\n",
    "\n",
    "Para *filtrar* filas lo normal es escribir una expresión booleana que solo cumplan las filas que queremos y acceder mediante este filtro"
   ]
  },
  {
   "cell_type": "code",
   "execution_count": 82,
   "metadata": {
    "id": "WLKPYyQJPy14"
   },
   "outputs": [
    {
     "data": {
      "text/html": [
       "<div>\n",
       "<style scoped>\n",
       "    .dataframe tbody tr th:only-of-type {\n",
       "        vertical-align: middle;\n",
       "    }\n",
       "\n",
       "    .dataframe tbody tr th {\n",
       "        vertical-align: top;\n",
       "    }\n",
       "\n",
       "    .dataframe thead th {\n",
       "        text-align: right;\n",
       "    }\n",
       "</style>\n",
       "<table border=\"1\" class=\"dataframe\">\n",
       "  <thead>\n",
       "    <tr style=\"text-align: right;\">\n",
       "      <th></th>\n",
       "      <th>ciudades</th>\n",
       "      <th>habitantes</th>\n",
       "    </tr>\n",
       "  </thead>\n",
       "  <tbody>\n",
       "    <tr>\n",
       "      <th>Capital</th>\n",
       "      <td>Madrid</td>\n",
       "      <td>6507184</td>\n",
       "    </tr>\n",
       "    <tr>\n",
       "      <th>Capital Com. Autonoma</th>\n",
       "      <td>Barcelona</td>\n",
       "      <td>5609350</td>\n",
       "    </tr>\n",
       "    <tr>\n",
       "      <th>Capital Com. Autonoma</th>\n",
       "      <td>Valencia</td>\n",
       "      <td>2547986</td>\n",
       "    </tr>\n",
       "    <tr>\n",
       "      <th>Ciudad</th>\n",
       "      <td>Sevilla</td>\n",
       "      <td>1939887</td>\n",
       "    </tr>\n",
       "    <tr>\n",
       "      <th>Ciudad</th>\n",
       "      <td>Alicante</td>\n",
       "      <td>1838819</td>\n",
       "    </tr>\n",
       "    <tr>\n",
       "      <th>Ciudad</th>\n",
       "      <td>Málaga</td>\n",
       "      <td>1694089</td>\n",
       "    </tr>\n",
       "  </tbody>\n",
       "</table>\n",
       "</div>"
      ],
      "text/plain": [
       "                        ciudades  habitantes\n",
       "Capital                   Madrid     6507184\n",
       "Capital Com. Autonoma  Barcelona     5609350\n",
       "Capital Com. Autonoma   Valencia     2547986\n",
       "Ciudad                   Sevilla     1939887\n",
       "Ciudad                  Alicante     1838819\n",
       "Ciudad                    Málaga     1694089"
      ]
     },
     "execution_count": 82,
     "metadata": {},
     "output_type": "execute_result"
    }
   ],
   "source": [
    "datos = [['Madrid', 6507184], ['Barcelona', 5609350], \n",
    "         ['Valencia', 2547986], ['Sevilla', 1939887], \n",
    "         ['Alicante', 1838819], ['Málaga',1694089]  ]\n",
    "df = DataFrame(datos ,columns=['ciudades','habitantes'],\n",
    "               index=['Capital','Capital Com. Autonoma','Capital Com. Autonoma','Ciudad','Ciudad','Ciudad'])\n",
    "df"
   ]
  },
  {
   "cell_type": "markdown",
   "metadata": {
    "id": "de7u9rYQO5uv"
   },
   "source": [
    "Ciudades con más de 200000 habitantes"
   ]
  },
  {
   "cell_type": "code",
   "execution_count": 89,
   "metadata": {
    "id": "dPFIAY1cPA-f"
   },
   "outputs": [
    {
     "data": {
      "text/html": [
       "<div>\n",
       "<style scoped>\n",
       "    .dataframe tbody tr th:only-of-type {\n",
       "        vertical-align: middle;\n",
       "    }\n",
       "\n",
       "    .dataframe tbody tr th {\n",
       "        vertical-align: top;\n",
       "    }\n",
       "\n",
       "    .dataframe thead th {\n",
       "        text-align: right;\n",
       "    }\n",
       "</style>\n",
       "<table border=\"1\" class=\"dataframe\">\n",
       "  <thead>\n",
       "    <tr style=\"text-align: right;\">\n",
       "      <th></th>\n",
       "      <th>ciudades</th>\n",
       "      <th>habitantes</th>\n",
       "    </tr>\n",
       "  </thead>\n",
       "  <tbody>\n",
       "    <tr>\n",
       "      <th>Capital</th>\n",
       "      <td>Madrid</td>\n",
       "      <td>6507184</td>\n",
       "    </tr>\n",
       "    <tr>\n",
       "      <th>Capital Com. Autonoma</th>\n",
       "      <td>Barcelona</td>\n",
       "      <td>5609350</td>\n",
       "    </tr>\n",
       "    <tr>\n",
       "      <th>Capital Com. Autonoma</th>\n",
       "      <td>Valencia</td>\n",
       "      <td>2547986</td>\n",
       "    </tr>\n",
       "  </tbody>\n",
       "</table>\n",
       "</div>"
      ],
      "text/plain": [
       "                        ciudades  habitantes\n",
       "Capital                   Madrid     6507184\n",
       "Capital Com. Autonoma  Barcelona     5609350\n",
       "Capital Com. Autonoma   Valencia     2547986"
      ]
     },
     "execution_count": 89,
     "metadata": {},
     "output_type": "execute_result"
    }
   ],
   "source": [
    "filtro = df.habitantes > 2000000\n",
    "df2 = df[filtro]\n",
    "df2"
   ]
  },
  {
   "cell_type": "markdown",
   "metadata": {
    "id": "WryDmJu9PRej"
   },
   "source": [
    "Esto es importante pero bastante complejo. Para entenderlo veamos primero el filtro"
   ]
  },
  {
   "cell_type": "code",
   "execution_count": 90,
   "metadata": {
    "id": "nzOBHIbXPmAX"
   },
   "outputs": [
    {
     "data": {
      "text/plain": [
       "Capital                   True\n",
       "Capital Com. Autonoma     True\n",
       "Capital Com. Autonoma     True\n",
       "Ciudad                   False\n",
       "Ciudad                   False\n",
       "Ciudad                   False\n",
       "Name: habitantes, dtype: bool"
      ]
     },
     "execution_count": 90,
     "metadata": {},
     "output_type": "execute_result"
    }
   ],
   "source": [
    "filtro"
   ]
  },
  {
   "cell_type": "markdown",
   "metadata": {
    "id": "GZDo2jsWPp9m"
   },
   "source": [
    "Aquí el índice no es importante, lo importante es que hay un True en cada fila que cumple la condición y un false en la que no.\n",
    "\n",
    "Y Python permite usar una secuencia de Trues y False para acceder a elementos, devolviendo solo en los que hay Trues; por eso df[filtro] es equivalente a "
   ]
  },
  {
   "cell_type": "code",
   "execution_count": 91,
   "metadata": {
    "id": "HVbyWYfVP7Eu"
   },
   "outputs": [
    {
     "data": {
      "text/html": [
       "<div>\n",
       "<style scoped>\n",
       "    .dataframe tbody tr th:only-of-type {\n",
       "        vertical-align: middle;\n",
       "    }\n",
       "\n",
       "    .dataframe tbody tr th {\n",
       "        vertical-align: top;\n",
       "    }\n",
       "\n",
       "    .dataframe thead th {\n",
       "        text-align: right;\n",
       "    }\n",
       "</style>\n",
       "<table border=\"1\" class=\"dataframe\">\n",
       "  <thead>\n",
       "    <tr style=\"text-align: right;\">\n",
       "      <th></th>\n",
       "      <th>ciudades</th>\n",
       "      <th>habitantes</th>\n",
       "    </tr>\n",
       "  </thead>\n",
       "  <tbody>\n",
       "    <tr>\n",
       "      <th>Capital</th>\n",
       "      <td>Madrid</td>\n",
       "      <td>6507184</td>\n",
       "    </tr>\n",
       "    <tr>\n",
       "      <th>Capital Com. Autonoma</th>\n",
       "      <td>Barcelona</td>\n",
       "      <td>5609350</td>\n",
       "    </tr>\n",
       "    <tr>\n",
       "      <th>Capital Com. Autonoma</th>\n",
       "      <td>Valencia</td>\n",
       "      <td>2547986</td>\n",
       "    </tr>\n",
       "  </tbody>\n",
       "</table>\n",
       "</div>"
      ],
      "text/plain": [
       "                        ciudades  habitantes\n",
       "Capital                   Madrid     6507184\n",
       "Capital Com. Autonoma  Barcelona     5609350\n",
       "Capital Com. Autonoma   Valencia     2547986"
      ]
     },
     "execution_count": 91,
     "metadata": {},
     "output_type": "execute_result"
    }
   ],
   "source": [
    "df[[True,True,True,False,False,False]]"
   ]
  },
  {
   "cell_type": "markdown",
   "metadata": {
    "id": "qU1U3heOQaBk"
   },
   "source": [
    "**Ejemplo** La función de strings `startswith` indica si un string empieza por una letra"
   ]
  },
  {
   "cell_type": "code",
   "execution_count": 92,
   "metadata": {
    "id": "otpfX1xLQjol"
   },
   "outputs": [
    {
     "name": "stdout",
     "output_type": "stream",
     "text": [
      "True\n",
      "False\n"
     ]
    }
   ],
   "source": [
    "s = \"Barcerlona\"\n",
    "print(s.startswith(\"B\"))\n",
    "print(s.startswith(\"V\"))"
   ]
  },
  {
   "cell_type": "markdown",
   "metadata": {
    "id": "zTPNa9hEQuVh"
   },
   "source": [
    "vamos a usarla para quedarnos solo con las ciudades que empiezan por M"
   ]
  },
  {
   "cell_type": "code",
   "execution_count": 93,
   "metadata": {
    "id": "LQ0s3eZMO_Ln"
   },
   "outputs": [
    {
     "data": {
      "text/html": [
       "<div>\n",
       "<style scoped>\n",
       "    .dataframe tbody tr th:only-of-type {\n",
       "        vertical-align: middle;\n",
       "    }\n",
       "\n",
       "    .dataframe tbody tr th {\n",
       "        vertical-align: top;\n",
       "    }\n",
       "\n",
       "    .dataframe thead th {\n",
       "        text-align: right;\n",
       "    }\n",
       "</style>\n",
       "<table border=\"1\" class=\"dataframe\">\n",
       "  <thead>\n",
       "    <tr style=\"text-align: right;\">\n",
       "      <th></th>\n",
       "      <th>ciudades</th>\n",
       "      <th>habitantes</th>\n",
       "    </tr>\n",
       "  </thead>\n",
       "  <tbody>\n",
       "    <tr>\n",
       "      <th>Capital</th>\n",
       "      <td>Madrid</td>\n",
       "      <td>6507184</td>\n",
       "    </tr>\n",
       "    <tr>\n",
       "      <th>Ciudad</th>\n",
       "      <td>Málaga</td>\n",
       "      <td>1694089</td>\n",
       "    </tr>\n",
       "  </tbody>\n",
       "</table>\n",
       "</div>"
      ],
      "text/plain": [
       "        ciudades  habitantes\n",
       "Capital   Madrid     6507184\n",
       "Ciudad    Málaga     1694089"
      ]
     },
     "execution_count": 93,
     "metadata": {},
     "output_type": "execute_result"
    }
   ],
   "source": [
    "filtro = df.ciudades.str.startswith(\"M\")  # ciudades cuyo nombre empieza por M\n",
    "\n",
    "df2 = df[filtro]\n",
    "df2"
   ]
  },
  {
   "cell_type": "code",
   "execution_count": 94,
   "metadata": {
    "id": "_xnm6GH_6M4M"
   },
   "outputs": [
    {
     "data": {
      "text/plain": [
       "Capital                   True\n",
       "Capital Com. Autonoma    False\n",
       "Capital Com. Autonoma    False\n",
       "Ciudad                   False\n",
       "Ciudad                   False\n",
       "Ciudad                    True\n",
       "Name: ciudades, dtype: bool"
      ]
     },
     "execution_count": 94,
     "metadata": {},
     "output_type": "execute_result"
    }
   ],
   "source": [
    "filtro"
   ]
  },
  {
   "cell_type": "markdown",
   "metadata": {
    "id": "oFexrnxL6FQV"
   },
   "source": [
    "**Detalle**: Fijarse en el df.ciudades**.str**.startswith(\"M\"). Es necesario porque al ser startswith una función que solo vale para strings tenemos que \"avisar\" a Python de que la función es de tipo string, cuando por defecto las considera numéricas.\n",
    "\n",
    "Si lo que queremos es saber cuántos elementos cumplen el filtro, nos basta con recordar que los Trues se corresponden con 1s, y los Falses con 0s."
   ]
  },
  {
   "cell_type": "code",
   "execution_count": 95,
   "metadata": {
    "id": "havcbeiH6UST"
   },
   "outputs": [
    {
     "data": {
      "text/plain": [
       "2"
      ]
     },
     "execution_count": 95,
     "metadata": {},
     "output_type": "execute_result"
    }
   ],
   "source": [
    "sum(filtro)"
   ]
  },
  {
   "cell_type": "markdown",
   "metadata": {
    "id": "wDzbQZgCSnuR"
   },
   "source": [
    "**Ejercicio 4**\n",
    "\n",
    "a) Cargar el fichero \"https://raw.githubusercontent.com/RafaelCaballero/tdm/master/datos/parocomunidades.csv\" que está con codificación (`encoding`) \"latin1\" y dejarlo en un dataframe `df_paro`\n",
    "\n",
    "\n",
    " "
   ]
  },
  {
   "cell_type": "code",
   "execution_count": 96,
   "metadata": {
    "id": "blH6MPMhWSVZ"
   },
   "outputs": [
    {
     "data": {
      "text/html": [
       "<div>\n",
       "<style scoped>\n",
       "    .dataframe tbody tr th:only-of-type {\n",
       "        vertical-align: middle;\n",
       "    }\n",
       "\n",
       "    .dataframe tbody tr th {\n",
       "        vertical-align: top;\n",
       "    }\n",
       "\n",
       "    .dataframe thead th {\n",
       "        text-align: right;\n",
       "    }\n",
       "</style>\n",
       "<table border=\"1\" class=\"dataframe\">\n",
       "  <thead>\n",
       "    <tr style=\"text-align: right;\">\n",
       "      <th></th>\n",
       "      <th>Comunidad</th>\n",
       "      <th>Periodo</th>\n",
       "      <th>Total</th>\n",
       "    </tr>\n",
       "  </thead>\n",
       "  <tbody>\n",
       "    <tr>\n",
       "      <th>0</th>\n",
       "      <td>Andalucía</td>\n",
       "      <td>2019</td>\n",
       "      <td>20.80</td>\n",
       "    </tr>\n",
       "    <tr>\n",
       "      <th>1</th>\n",
       "      <td>Andalucía</td>\n",
       "      <td>2018</td>\n",
       "      <td>21.26</td>\n",
       "    </tr>\n",
       "    <tr>\n",
       "      <th>2</th>\n",
       "      <td>Andalucía</td>\n",
       "      <td>2017</td>\n",
       "      <td>24.43</td>\n",
       "    </tr>\n",
       "    <tr>\n",
       "      <th>3</th>\n",
       "      <td>Andalucía</td>\n",
       "      <td>2016</td>\n",
       "      <td>28.25</td>\n",
       "    </tr>\n",
       "    <tr>\n",
       "      <th>4</th>\n",
       "      <td>Andalucía</td>\n",
       "      <td>2015</td>\n",
       "      <td>29.83</td>\n",
       "    </tr>\n",
       "    <tr>\n",
       "      <th>...</th>\n",
       "      <td>...</td>\n",
       "      <td>...</td>\n",
       "      <td>...</td>\n",
       "    </tr>\n",
       "    <tr>\n",
       "      <th>337</th>\n",
       "      <td>Melilla</td>\n",
       "      <td>2006</td>\n",
       "      <td>9.86</td>\n",
       "    </tr>\n",
       "    <tr>\n",
       "      <th>338</th>\n",
       "      <td>Melilla</td>\n",
       "      <td>2005</td>\n",
       "      <td>12.33</td>\n",
       "    </tr>\n",
       "    <tr>\n",
       "      <th>339</th>\n",
       "      <td>Melilla</td>\n",
       "      <td>2004</td>\n",
       "      <td>12.49</td>\n",
       "    </tr>\n",
       "    <tr>\n",
       "      <th>340</th>\n",
       "      <td>Melilla</td>\n",
       "      <td>2003</td>\n",
       "      <td>19.88</td>\n",
       "    </tr>\n",
       "    <tr>\n",
       "      <th>341</th>\n",
       "      <td>Melilla</td>\n",
       "      <td>2002</td>\n",
       "      <td>3.57</td>\n",
       "    </tr>\n",
       "  </tbody>\n",
       "</table>\n",
       "<p>342 rows × 3 columns</p>\n",
       "</div>"
      ],
      "text/plain": [
       "     Comunidad  Periodo  Total\n",
       "0    Andalucía     2019  20.80\n",
       "1    Andalucía     2018  21.26\n",
       "2    Andalucía     2017  24.43\n",
       "3    Andalucía     2016  28.25\n",
       "4    Andalucía     2015  29.83\n",
       "..         ...      ...    ...\n",
       "337    Melilla     2006   9.86\n",
       "338    Melilla     2005  12.33\n",
       "339    Melilla     2004  12.49\n",
       "340    Melilla     2003  19.88\n",
       "341    Melilla     2002   3.57\n",
       "\n",
       "[342 rows x 3 columns]"
      ]
     },
     "execution_count": 96,
     "metadata": {},
     "output_type": "execute_result"
    }
   ],
   "source": [
    "import pandas as pd\n",
    "url = \"https://raw.githubusercontent.com/RafaelCaballero/tdm/master/datos/parocomunidades.csv\"\n",
    "df_paro=pd.read_csv(url, encoding=\"latin1\")\n",
    "df_paro"
   ]
  },
  {
   "cell_type": "markdown",
   "metadata": {
    "id": "pUo_UonaSrZ4"
   },
   "source": [
    "b) Mostrar solo las filas de `df_paro` que corresponden al Periodo 2019"
   ]
  },
  {
   "cell_type": "code",
   "execution_count": 105,
   "metadata": {
    "id": "yVnoRtAfTbwU"
   },
   "outputs": [
    {
     "data": {
      "text/html": [
       "<div>\n",
       "<style scoped>\n",
       "    .dataframe tbody tr th:only-of-type {\n",
       "        vertical-align: middle;\n",
       "    }\n",
       "\n",
       "    .dataframe tbody tr th {\n",
       "        vertical-align: top;\n",
       "    }\n",
       "\n",
       "    .dataframe thead th {\n",
       "        text-align: right;\n",
       "    }\n",
       "</style>\n",
       "<table border=\"1\" class=\"dataframe\">\n",
       "  <thead>\n",
       "    <tr style=\"text-align: right;\">\n",
       "      <th></th>\n",
       "      <th>Comunidad</th>\n",
       "      <th>Periodo</th>\n",
       "      <th>Total</th>\n",
       "    </tr>\n",
       "  </thead>\n",
       "  <tbody>\n",
       "    <tr>\n",
       "      <th>0</th>\n",
       "      <td>Andalucía</td>\n",
       "      <td>2019</td>\n",
       "      <td>20.80</td>\n",
       "    </tr>\n",
       "    <tr>\n",
       "      <th>18</th>\n",
       "      <td>Aragón</td>\n",
       "      <td>2019</td>\n",
       "      <td>9.93</td>\n",
       "    </tr>\n",
       "    <tr>\n",
       "      <th>36</th>\n",
       "      <td>Asturias</td>\n",
       "      <td>2019</td>\n",
       "      <td>13.14</td>\n",
       "    </tr>\n",
       "    <tr>\n",
       "      <th>54</th>\n",
       "      <td>Balears. Illes</td>\n",
       "      <td>2019</td>\n",
       "      <td>9.91</td>\n",
       "    </tr>\n",
       "    <tr>\n",
       "      <th>72</th>\n",
       "      <td>Canarias</td>\n",
       "      <td>2019</td>\n",
       "      <td>18.78</td>\n",
       "    </tr>\n",
       "    <tr>\n",
       "      <th>90</th>\n",
       "      <td>Cantabria</td>\n",
       "      <td>2019</td>\n",
       "      <td>11.18</td>\n",
       "    </tr>\n",
       "    <tr>\n",
       "      <th>108</th>\n",
       "      <td>Castilla y León</td>\n",
       "      <td>2019</td>\n",
       "      <td>11.20</td>\n",
       "    </tr>\n",
       "    <tr>\n",
       "      <th>126</th>\n",
       "      <td>Castilla - La Mancha</td>\n",
       "      <td>2019</td>\n",
       "      <td>16.56</td>\n",
       "    </tr>\n",
       "    <tr>\n",
       "      <th>144</th>\n",
       "      <td>Cataluña</td>\n",
       "      <td>2019</td>\n",
       "      <td>10.45</td>\n",
       "    </tr>\n",
       "    <tr>\n",
       "      <th>162</th>\n",
       "      <td>Comunitat Valenciana</td>\n",
       "      <td>2019</td>\n",
       "      <td>14.13</td>\n",
       "    </tr>\n",
       "    <tr>\n",
       "      <th>180</th>\n",
       "      <td>Extremadura</td>\n",
       "      <td>2019</td>\n",
       "      <td>23.48</td>\n",
       "    </tr>\n",
       "    <tr>\n",
       "      <th>198</th>\n",
       "      <td>Galicia</td>\n",
       "      <td>2019</td>\n",
       "      <td>11.74</td>\n",
       "    </tr>\n",
       "    <tr>\n",
       "      <th>216</th>\n",
       "      <td>Madrid</td>\n",
       "      <td>2019</td>\n",
       "      <td>9.99</td>\n",
       "    </tr>\n",
       "    <tr>\n",
       "      <th>234</th>\n",
       "      <td>Murcia</td>\n",
       "      <td>2019</td>\n",
       "      <td>16.08</td>\n",
       "    </tr>\n",
       "    <tr>\n",
       "      <th>252</th>\n",
       "      <td>Navarra</td>\n",
       "      <td>2019</td>\n",
       "      <td>9.01</td>\n",
       "    </tr>\n",
       "    <tr>\n",
       "      <th>270</th>\n",
       "      <td>País Vasco</td>\n",
       "      <td>2019</td>\n",
       "      <td>9.09</td>\n",
       "    </tr>\n",
       "    <tr>\n",
       "      <th>288</th>\n",
       "      <td>La Rioja</td>\n",
       "      <td>2019</td>\n",
       "      <td>9.89</td>\n",
       "    </tr>\n",
       "    <tr>\n",
       "      <th>306</th>\n",
       "      <td>Ceuta</td>\n",
       "      <td>2019</td>\n",
       "      <td>27.58</td>\n",
       "    </tr>\n",
       "    <tr>\n",
       "      <th>324</th>\n",
       "      <td>Melilla</td>\n",
       "      <td>2019</td>\n",
       "      <td>26.81</td>\n",
       "    </tr>\n",
       "  </tbody>\n",
       "</table>\n",
       "</div>"
      ],
      "text/plain": [
       "                Comunidad  Periodo  Total\n",
       "0               Andalucía     2019  20.80\n",
       "18                 Aragón     2019   9.93\n",
       "36               Asturias     2019  13.14\n",
       "54         Balears. Illes     2019   9.91\n",
       "72               Canarias     2019  18.78\n",
       "90              Cantabria     2019  11.18\n",
       "108       Castilla y León     2019  11.20\n",
       "126  Castilla - La Mancha     2019  16.56\n",
       "144              Cataluña     2019  10.45\n",
       "162  Comunitat Valenciana     2019  14.13\n",
       "180           Extremadura     2019  23.48\n",
       "198               Galicia     2019  11.74\n",
       "216                Madrid     2019   9.99\n",
       "234                Murcia     2019  16.08\n",
       "252               Navarra     2019   9.01\n",
       "270            País Vasco     2019   9.09\n",
       "288              La Rioja     2019   9.89\n",
       "306                 Ceuta     2019  27.58\n",
       "324               Melilla     2019  26.81"
      ]
     },
     "execution_count": 105,
     "metadata": {},
     "output_type": "execute_result"
    }
   ],
   "source": [
    "df_paro[df_paro[\"Periodo\"]==2019]"
   ]
  },
  {
   "cell_type": "markdown",
   "metadata": {
    "id": "x2YQIP2XUYps"
   },
   "source": [
    "c) (más difícil) Mostrar solo las filas que corresponden al Periodo 2019 y tienen Total mayor de 15"
   ]
  },
  {
   "cell_type": "code",
   "execution_count": 108,
   "metadata": {
    "id": "NGgr20UlUVzm"
   },
   "outputs": [
    {
     "data": {
      "text/html": [
       "<div>\n",
       "<style scoped>\n",
       "    .dataframe tbody tr th:only-of-type {\n",
       "        vertical-align: middle;\n",
       "    }\n",
       "\n",
       "    .dataframe tbody tr th {\n",
       "        vertical-align: top;\n",
       "    }\n",
       "\n",
       "    .dataframe thead th {\n",
       "        text-align: right;\n",
       "    }\n",
       "</style>\n",
       "<table border=\"1\" class=\"dataframe\">\n",
       "  <thead>\n",
       "    <tr style=\"text-align: right;\">\n",
       "      <th></th>\n",
       "      <th>Comunidad</th>\n",
       "      <th>Periodo</th>\n",
       "      <th>Total</th>\n",
       "    </tr>\n",
       "  </thead>\n",
       "  <tbody>\n",
       "    <tr>\n",
       "      <th>0</th>\n",
       "      <td>Andalucía</td>\n",
       "      <td>2019</td>\n",
       "      <td>20.80</td>\n",
       "    </tr>\n",
       "    <tr>\n",
       "      <th>72</th>\n",
       "      <td>Canarias</td>\n",
       "      <td>2019</td>\n",
       "      <td>18.78</td>\n",
       "    </tr>\n",
       "    <tr>\n",
       "      <th>126</th>\n",
       "      <td>Castilla - La Mancha</td>\n",
       "      <td>2019</td>\n",
       "      <td>16.56</td>\n",
       "    </tr>\n",
       "    <tr>\n",
       "      <th>180</th>\n",
       "      <td>Extremadura</td>\n",
       "      <td>2019</td>\n",
       "      <td>23.48</td>\n",
       "    </tr>\n",
       "    <tr>\n",
       "      <th>234</th>\n",
       "      <td>Murcia</td>\n",
       "      <td>2019</td>\n",
       "      <td>16.08</td>\n",
       "    </tr>\n",
       "    <tr>\n",
       "      <th>306</th>\n",
       "      <td>Ceuta</td>\n",
       "      <td>2019</td>\n",
       "      <td>27.58</td>\n",
       "    </tr>\n",
       "    <tr>\n",
       "      <th>324</th>\n",
       "      <td>Melilla</td>\n",
       "      <td>2019</td>\n",
       "      <td>26.81</td>\n",
       "    </tr>\n",
       "  </tbody>\n",
       "</table>\n",
       "</div>"
      ],
      "text/plain": [
       "                Comunidad  Periodo  Total\n",
       "0               Andalucía     2019  20.80\n",
       "72               Canarias     2019  18.78\n",
       "126  Castilla - La Mancha     2019  16.56\n",
       "180           Extremadura     2019  23.48\n",
       "234                Murcia     2019  16.08\n",
       "306                 Ceuta     2019  27.58\n",
       "324               Melilla     2019  26.81"
      ]
     },
     "execution_count": 108,
     "metadata": {},
     "output_type": "execute_result"
    }
   ],
   "source": [
    "filtro=(df_paro[\"Periodo\"]==2019)&(df_paro[\"Total\"]>15)\n",
    "df_paro[filtro]"
   ]
  },
  {
   "cell_type": "markdown",
   "metadata": {
    "id": "5AsbShKoVD4G"
   },
   "source": [
    "**Nota** Para combinar varias condiciones en un filtro se utilizan los operadores de bit: `&` en lugar de `and`, `|` en lugar de `or` y `~` en lugar de not."
   ]
  },
  {
   "cell_type": "markdown",
   "metadata": {
    "id": "6IcVjXC5VWvG"
   },
   "source": [
    "**Ejemplo** \n",
    "\n",
    "Queremos todos los datos de `df_paro` salvo los de Andalucía"
   ]
  },
  {
   "cell_type": "code",
   "execution_count": 102,
   "metadata": {
    "id": "DZxByKcOVh3S"
   },
   "outputs": [
    {
     "data": {
      "text/html": [
       "<div>\n",
       "<style scoped>\n",
       "    .dataframe tbody tr th:only-of-type {\n",
       "        vertical-align: middle;\n",
       "    }\n",
       "\n",
       "    .dataframe tbody tr th {\n",
       "        vertical-align: top;\n",
       "    }\n",
       "\n",
       "    .dataframe thead th {\n",
       "        text-align: right;\n",
       "    }\n",
       "</style>\n",
       "<table border=\"1\" class=\"dataframe\">\n",
       "  <thead>\n",
       "    <tr style=\"text-align: right;\">\n",
       "      <th></th>\n",
       "      <th>Comunidad</th>\n",
       "      <th>Periodo</th>\n",
       "      <th>Total</th>\n",
       "    </tr>\n",
       "  </thead>\n",
       "  <tbody>\n",
       "    <tr>\n",
       "      <th>18</th>\n",
       "      <td>Aragón</td>\n",
       "      <td>2019</td>\n",
       "      <td>9.93</td>\n",
       "    </tr>\n",
       "    <tr>\n",
       "      <th>19</th>\n",
       "      <td>Aragón</td>\n",
       "      <td>2018</td>\n",
       "      <td>11.11</td>\n",
       "    </tr>\n",
       "    <tr>\n",
       "      <th>20</th>\n",
       "      <td>Aragón</td>\n",
       "      <td>2017</td>\n",
       "      <td>11.37</td>\n",
       "    </tr>\n",
       "    <tr>\n",
       "      <th>21</th>\n",
       "      <td>Aragón</td>\n",
       "      <td>2016</td>\n",
       "      <td>13.53</td>\n",
       "    </tr>\n",
       "    <tr>\n",
       "      <th>22</th>\n",
       "      <td>Aragón</td>\n",
       "      <td>2015</td>\n",
       "      <td>14.60</td>\n",
       "    </tr>\n",
       "    <tr>\n",
       "      <th>...</th>\n",
       "      <td>...</td>\n",
       "      <td>...</td>\n",
       "      <td>...</td>\n",
       "    </tr>\n",
       "    <tr>\n",
       "      <th>337</th>\n",
       "      <td>Melilla</td>\n",
       "      <td>2006</td>\n",
       "      <td>9.86</td>\n",
       "    </tr>\n",
       "    <tr>\n",
       "      <th>338</th>\n",
       "      <td>Melilla</td>\n",
       "      <td>2005</td>\n",
       "      <td>12.33</td>\n",
       "    </tr>\n",
       "    <tr>\n",
       "      <th>339</th>\n",
       "      <td>Melilla</td>\n",
       "      <td>2004</td>\n",
       "      <td>12.49</td>\n",
       "    </tr>\n",
       "    <tr>\n",
       "      <th>340</th>\n",
       "      <td>Melilla</td>\n",
       "      <td>2003</td>\n",
       "      <td>19.88</td>\n",
       "    </tr>\n",
       "    <tr>\n",
       "      <th>341</th>\n",
       "      <td>Melilla</td>\n",
       "      <td>2002</td>\n",
       "      <td>3.57</td>\n",
       "    </tr>\n",
       "  </tbody>\n",
       "</table>\n",
       "<p>324 rows × 3 columns</p>\n",
       "</div>"
      ],
      "text/plain": [
       "    Comunidad  Periodo  Total\n",
       "18     Aragón     2019   9.93\n",
       "19     Aragón     2018  11.11\n",
       "20     Aragón     2017  11.37\n",
       "21     Aragón     2016  13.53\n",
       "22     Aragón     2015  14.60\n",
       "..        ...      ...    ...\n",
       "337   Melilla     2006   9.86\n",
       "338   Melilla     2005  12.33\n",
       "339   Melilla     2004  12.49\n",
       "340   Melilla     2003  19.88\n",
       "341   Melilla     2002   3.57\n",
       "\n",
       "[324 rows x 3 columns]"
      ]
     },
     "execution_count": 102,
     "metadata": {},
     "output_type": "execute_result"
    }
   ],
   "source": [
    "# método 1\n",
    "filtro = df_paro[\"Comunidad\"]!=\"Andalucía\"\n",
    "df_paro[filtro]"
   ]
  },
  {
   "cell_type": "code",
   "execution_count": 103,
   "metadata": {
    "id": "LLAzIj-RVsMR"
   },
   "outputs": [
    {
     "data": {
      "text/html": [
       "<div>\n",
       "<style scoped>\n",
       "    .dataframe tbody tr th:only-of-type {\n",
       "        vertical-align: middle;\n",
       "    }\n",
       "\n",
       "    .dataframe tbody tr th {\n",
       "        vertical-align: top;\n",
       "    }\n",
       "\n",
       "    .dataframe thead th {\n",
       "        text-align: right;\n",
       "    }\n",
       "</style>\n",
       "<table border=\"1\" class=\"dataframe\">\n",
       "  <thead>\n",
       "    <tr style=\"text-align: right;\">\n",
       "      <th></th>\n",
       "      <th>Comunidad</th>\n",
       "      <th>Periodo</th>\n",
       "      <th>Total</th>\n",
       "    </tr>\n",
       "  </thead>\n",
       "  <tbody>\n",
       "    <tr>\n",
       "      <th>18</th>\n",
       "      <td>Aragón</td>\n",
       "      <td>2019</td>\n",
       "      <td>9.93</td>\n",
       "    </tr>\n",
       "    <tr>\n",
       "      <th>19</th>\n",
       "      <td>Aragón</td>\n",
       "      <td>2018</td>\n",
       "      <td>11.11</td>\n",
       "    </tr>\n",
       "    <tr>\n",
       "      <th>20</th>\n",
       "      <td>Aragón</td>\n",
       "      <td>2017</td>\n",
       "      <td>11.37</td>\n",
       "    </tr>\n",
       "    <tr>\n",
       "      <th>21</th>\n",
       "      <td>Aragón</td>\n",
       "      <td>2016</td>\n",
       "      <td>13.53</td>\n",
       "    </tr>\n",
       "    <tr>\n",
       "      <th>22</th>\n",
       "      <td>Aragón</td>\n",
       "      <td>2015</td>\n",
       "      <td>14.60</td>\n",
       "    </tr>\n",
       "    <tr>\n",
       "      <th>...</th>\n",
       "      <td>...</td>\n",
       "      <td>...</td>\n",
       "      <td>...</td>\n",
       "    </tr>\n",
       "    <tr>\n",
       "      <th>337</th>\n",
       "      <td>Melilla</td>\n",
       "      <td>2006</td>\n",
       "      <td>9.86</td>\n",
       "    </tr>\n",
       "    <tr>\n",
       "      <th>338</th>\n",
       "      <td>Melilla</td>\n",
       "      <td>2005</td>\n",
       "      <td>12.33</td>\n",
       "    </tr>\n",
       "    <tr>\n",
       "      <th>339</th>\n",
       "      <td>Melilla</td>\n",
       "      <td>2004</td>\n",
       "      <td>12.49</td>\n",
       "    </tr>\n",
       "    <tr>\n",
       "      <th>340</th>\n",
       "      <td>Melilla</td>\n",
       "      <td>2003</td>\n",
       "      <td>19.88</td>\n",
       "    </tr>\n",
       "    <tr>\n",
       "      <th>341</th>\n",
       "      <td>Melilla</td>\n",
       "      <td>2002</td>\n",
       "      <td>3.57</td>\n",
       "    </tr>\n",
       "  </tbody>\n",
       "</table>\n",
       "<p>324 rows × 3 columns</p>\n",
       "</div>"
      ],
      "text/plain": [
       "    Comunidad  Periodo  Total\n",
       "18     Aragón     2019   9.93\n",
       "19     Aragón     2018  11.11\n",
       "20     Aragón     2017  11.37\n",
       "21     Aragón     2016  13.53\n",
       "22     Aragón     2015  14.60\n",
       "..        ...      ...    ...\n",
       "337   Melilla     2006   9.86\n",
       "338   Melilla     2005  12.33\n",
       "339   Melilla     2004  12.49\n",
       "340   Melilla     2003  19.88\n",
       "341   Melilla     2002   3.57\n",
       "\n",
       "[324 rows x 3 columns]"
      ]
     },
     "execution_count": 103,
     "metadata": {},
     "output_type": "execute_result"
    }
   ],
   "source": [
    "# método 2, más raro \n",
    "filtro = df_paro[\"Comunidad\"]==\"Andalucía\"\n",
    "df_paro[~filtro]"
   ]
  },
  {
   "cell_type": "markdown",
   "metadata": {
    "id": "zpqYtd--ES32"
   },
   "source": [
    "**Ejercicio 5** Consideramos este DataFrame"
   ]
  },
  {
   "cell_type": "code",
   "execution_count": 109,
   "metadata": {
    "id": "huFZrkYaES32"
   },
   "outputs": [
    {
     "data": {
      "text/html": [
       "<div>\n",
       "<style scoped>\n",
       "    .dataframe tbody tr th:only-of-type {\n",
       "        vertical-align: middle;\n",
       "    }\n",
       "\n",
       "    .dataframe tbody tr th {\n",
       "        vertical-align: top;\n",
       "    }\n",
       "\n",
       "    .dataframe thead th {\n",
       "        text-align: right;\n",
       "    }\n",
       "</style>\n",
       "<table border=\"1\" class=\"dataframe\">\n",
       "  <thead>\n",
       "    <tr style=\"text-align: right;\">\n",
       "      <th></th>\n",
       "      <th>0</th>\n",
       "      <th>1</th>\n",
       "      <th>2</th>\n",
       "      <th>3</th>\n",
       "      <th>4</th>\n",
       "      <th>5</th>\n",
       "      <th>6</th>\n",
       "    </tr>\n",
       "  </thead>\n",
       "  <tbody>\n",
       "    <tr>\n",
       "      <th>0</th>\n",
       "      <td>1</td>\n",
       "      <td>2</td>\n",
       "      <td>3</td>\n",
       "      <td>4</td>\n",
       "      <td>5</td>\n",
       "      <td>6</td>\n",
       "      <td>7</td>\n",
       "    </tr>\n",
       "    <tr>\n",
       "      <th>1</th>\n",
       "      <td>1</td>\n",
       "      <td>2</td>\n",
       "      <td>0</td>\n",
       "      <td>0</td>\n",
       "      <td>0</td>\n",
       "      <td>6</td>\n",
       "      <td>7</td>\n",
       "    </tr>\n",
       "    <tr>\n",
       "      <th>2</th>\n",
       "      <td>1</td>\n",
       "      <td>2</td>\n",
       "      <td>0</td>\n",
       "      <td>0</td>\n",
       "      <td>0</td>\n",
       "      <td>6</td>\n",
       "      <td>7</td>\n",
       "    </tr>\n",
       "    <tr>\n",
       "      <th>3</th>\n",
       "      <td>1</td>\n",
       "      <td>2</td>\n",
       "      <td>0</td>\n",
       "      <td>0</td>\n",
       "      <td>0</td>\n",
       "      <td>6</td>\n",
       "      <td>7</td>\n",
       "    </tr>\n",
       "    <tr>\n",
       "      <th>4</th>\n",
       "      <td>1</td>\n",
       "      <td>2</td>\n",
       "      <td>3</td>\n",
       "      <td>4</td>\n",
       "      <td>5</td>\n",
       "      <td>6</td>\n",
       "      <td>7</td>\n",
       "    </tr>\n",
       "  </tbody>\n",
       "</table>\n",
       "</div>"
      ],
      "text/plain": [
       "   0  1  2  3  4  5  6\n",
       "0  1  2  3  4  5  6  7\n",
       "1  1  2  0  0  0  6  7\n",
       "2  1  2  0  0  0  6  7\n",
       "3  1  2  0  0  0  6  7\n",
       "4  1  2  3  4  5  6  7"
      ]
     },
     "execution_count": 109,
     "metadata": {},
     "output_type": "execute_result"
    }
   ],
   "source": [
    "data = [[1,2,3,4,5,6,7],\n",
    "        [1,2,0,0,0,6,7],\n",
    "        [1,2,0,0,0,6,7],\n",
    "        [1,2,0,0,0,6,7],\n",
    "        [1,2,3,4,5,6,7],\n",
    "       ]\n",
    "df = DataFrame(data)\n",
    "df"
   ]
  },
  {
   "cell_type": "markdown",
   "metadata": {
    "id": "Le7rxBF2ES32"
   },
   "source": [
    "Encontrar una expresión de cambiar todos los 0s por 9s (hay varias formas, alguna utilizando posiciones y alguna otra sin posiciones)"
   ]
  },
  {
   "cell_type": "code",
   "execution_count": 144,
   "metadata": {
    "id": "rwzf_fijES32"
   },
   "outputs": [
    {
     "data": {
      "text/html": [
       "<div>\n",
       "<style scoped>\n",
       "    .dataframe tbody tr th:only-of-type {\n",
       "        vertical-align: middle;\n",
       "    }\n",
       "\n",
       "    .dataframe tbody tr th {\n",
       "        vertical-align: top;\n",
       "    }\n",
       "\n",
       "    .dataframe thead th {\n",
       "        text-align: right;\n",
       "    }\n",
       "</style>\n",
       "<table border=\"1\" class=\"dataframe\">\n",
       "  <thead>\n",
       "    <tr style=\"text-align: right;\">\n",
       "      <th></th>\n",
       "      <th>0</th>\n",
       "      <th>1</th>\n",
       "      <th>2</th>\n",
       "      <th>3</th>\n",
       "      <th>4</th>\n",
       "      <th>5</th>\n",
       "      <th>6</th>\n",
       "    </tr>\n",
       "  </thead>\n",
       "  <tbody>\n",
       "    <tr>\n",
       "      <th>0</th>\n",
       "      <td>1</td>\n",
       "      <td>2</td>\n",
       "      <td>3</td>\n",
       "      <td>4</td>\n",
       "      <td>5</td>\n",
       "      <td>6</td>\n",
       "      <td>7</td>\n",
       "    </tr>\n",
       "    <tr>\n",
       "      <th>1</th>\n",
       "      <td>1</td>\n",
       "      <td>2</td>\n",
       "      <td>9</td>\n",
       "      <td>9</td>\n",
       "      <td>9</td>\n",
       "      <td>6</td>\n",
       "      <td>7</td>\n",
       "    </tr>\n",
       "    <tr>\n",
       "      <th>2</th>\n",
       "      <td>1</td>\n",
       "      <td>2</td>\n",
       "      <td>9</td>\n",
       "      <td>9</td>\n",
       "      <td>9</td>\n",
       "      <td>6</td>\n",
       "      <td>7</td>\n",
       "    </tr>\n",
       "    <tr>\n",
       "      <th>3</th>\n",
       "      <td>1</td>\n",
       "      <td>2</td>\n",
       "      <td>9</td>\n",
       "      <td>9</td>\n",
       "      <td>9</td>\n",
       "      <td>6</td>\n",
       "      <td>7</td>\n",
       "    </tr>\n",
       "    <tr>\n",
       "      <th>4</th>\n",
       "      <td>1</td>\n",
       "      <td>2</td>\n",
       "      <td>3</td>\n",
       "      <td>4</td>\n",
       "      <td>5</td>\n",
       "      <td>6</td>\n",
       "      <td>7</td>\n",
       "    </tr>\n",
       "  </tbody>\n",
       "</table>\n",
       "</div>"
      ],
      "text/plain": [
       "   0  1  2  3  4  5  6\n",
       "0  1  2  3  4  5  6  7\n",
       "1  1  2  9  9  9  6  7\n",
       "2  1  2  9  9  9  6  7\n",
       "3  1  2  9  9  9  6  7\n",
       "4  1  2  3  4  5  6  7"
      ]
     },
     "execution_count": 144,
     "metadata": {},
     "output_type": "execute_result"
    }
   ],
   "source": [
    "df.loc[1:3, 2:4] = 9\n",
    "df"
   ]
  },
  {
   "cell_type": "markdown",
   "metadata": {
    "id": "I42_FCGts29k"
   },
   "source": [
    "#### Añadir filas\n",
    "\n",
    "Veamos como [añadir filas](https://www.stackvidhya.com/add-row-to-dataframe/#:~:text=You%20can%20add%20rows%20to,append()) a un dataframe ya existente con append"
   ]
  },
  {
   "cell_type": "code",
   "execution_count": 220,
   "metadata": {
    "id": "AIFlVtkZES32"
   },
   "outputs": [
    {
     "data": {
      "text/html": [
       "<div>\n",
       "<style scoped>\n",
       "    .dataframe tbody tr th:only-of-type {\n",
       "        vertical-align: middle;\n",
       "    }\n",
       "\n",
       "    .dataframe tbody tr th {\n",
       "        vertical-align: top;\n",
       "    }\n",
       "\n",
       "    .dataframe thead th {\n",
       "        text-align: right;\n",
       "    }\n",
       "</style>\n",
       "<table border=\"1\" class=\"dataframe\">\n",
       "  <thead>\n",
       "    <tr style=\"text-align: right;\">\n",
       "      <th></th>\n",
       "      <th>ciudades</th>\n",
       "      <th>habitantes</th>\n",
       "    </tr>\n",
       "  </thead>\n",
       "  <tbody>\n",
       "    <tr>\n",
       "      <th>0</th>\n",
       "      <td>Madrid</td>\n",
       "      <td>6507184</td>\n",
       "    </tr>\n",
       "    <tr>\n",
       "      <th>1</th>\n",
       "      <td>Barcelona</td>\n",
       "      <td>5609350</td>\n",
       "    </tr>\n",
       "    <tr>\n",
       "      <th>2</th>\n",
       "      <td>Valencia</td>\n",
       "      <td>2547986</td>\n",
       "    </tr>\n",
       "    <tr>\n",
       "      <th>3</th>\n",
       "      <td>Sevilla</td>\n",
       "      <td>1939887</td>\n",
       "    </tr>\n",
       "    <tr>\n",
       "      <th>4</th>\n",
       "      <td>Alicante</td>\n",
       "      <td>1838819</td>\n",
       "    </tr>\n",
       "    <tr>\n",
       "      <th>5</th>\n",
       "      <td>Málaga</td>\n",
       "      <td>1694089</td>\n",
       "    </tr>\n",
       "  </tbody>\n",
       "</table>\n",
       "</div>"
      ],
      "text/plain": [
       "    ciudades  habitantes\n",
       "0     Madrid     6507184\n",
       "1  Barcelona     5609350\n",
       "2   Valencia     2547986\n",
       "3    Sevilla     1939887\n",
       "4   Alicante     1838819\n",
       "5     Málaga     1694089"
      ]
     },
     "execution_count": 220,
     "metadata": {},
     "output_type": "execute_result"
    }
   ],
   "source": [
    "datos = [['Madrid', 6507184], ['Barcelona', 5609350], \n",
    "         ['Valencia', 2547986], ['Sevilla', 1939887], \n",
    "         ['Alicante', 1838819], ['Málaga',1694089]  ]\n",
    "df = DataFrame(datos ,columns=['ciudades','habitantes'])\n",
    "df"
   ]
  },
  {
   "cell_type": "code",
   "execution_count": 158,
   "metadata": {
    "id": "fvnraLRlt-Uj"
   },
   "outputs": [
    {
     "name": "stderr",
     "output_type": "stream",
     "text": [
      "/tmp/ipykernel_149167/2743101497.py:1: FutureWarning: The frame.append method is deprecated and will be removed from pandas in a future version. Use pandas.concat instead.\n",
      "  df = df.append( {'ciudades':'Cáceres', 'habitantes': 394151 }, ignore_index = True)\n"
     ]
    },
    {
     "data": {
      "text/html": [
       "<div>\n",
       "<style scoped>\n",
       "    .dataframe tbody tr th:only-of-type {\n",
       "        vertical-align: middle;\n",
       "    }\n",
       "\n",
       "    .dataframe tbody tr th {\n",
       "        vertical-align: top;\n",
       "    }\n",
       "\n",
       "    .dataframe thead th {\n",
       "        text-align: right;\n",
       "    }\n",
       "</style>\n",
       "<table border=\"1\" class=\"dataframe\">\n",
       "  <thead>\n",
       "    <tr style=\"text-align: right;\">\n",
       "      <th></th>\n",
       "      <th>ciudades</th>\n",
       "      <th>habitantes</th>\n",
       "    </tr>\n",
       "  </thead>\n",
       "  <tbody>\n",
       "    <tr>\n",
       "      <th>0</th>\n",
       "      <td>Madrid</td>\n",
       "      <td>6507184</td>\n",
       "    </tr>\n",
       "    <tr>\n",
       "      <th>1</th>\n",
       "      <td>Barcelona</td>\n",
       "      <td>5609350</td>\n",
       "    </tr>\n",
       "    <tr>\n",
       "      <th>2</th>\n",
       "      <td>Valencia</td>\n",
       "      <td>2547986</td>\n",
       "    </tr>\n",
       "    <tr>\n",
       "      <th>3</th>\n",
       "      <td>Sevilla</td>\n",
       "      <td>1939887</td>\n",
       "    </tr>\n",
       "    <tr>\n",
       "      <th>4</th>\n",
       "      <td>Alicante</td>\n",
       "      <td>1838819</td>\n",
       "    </tr>\n",
       "    <tr>\n",
       "      <th>5</th>\n",
       "      <td>Málaga</td>\n",
       "      <td>1694089</td>\n",
       "    </tr>\n",
       "    <tr>\n",
       "      <th>6</th>\n",
       "      <td>Cáceres</td>\n",
       "      <td>394151</td>\n",
       "    </tr>\n",
       "  </tbody>\n",
       "</table>\n",
       "</div>"
      ],
      "text/plain": [
       "    ciudades  habitantes\n",
       "0     Madrid     6507184\n",
       "1  Barcelona     5609350\n",
       "2   Valencia     2547986\n",
       "3    Sevilla     1939887\n",
       "4   Alicante     1838819\n",
       "5     Málaga     1694089\n",
       "6    Cáceres      394151"
      ]
     },
     "execution_count": 158,
     "metadata": {},
     "output_type": "execute_result"
    }
   ],
   "source": [
    "df = df.append( {'ciudades':'Cáceres', 'habitantes': 394151 }, ignore_index = True)\n",
    "df"
   ]
  },
  {
   "cell_type": "markdown",
   "metadata": {
    "id": "4sLJG_WiweR8"
   },
   "source": [
    "Ahora añadimos una columna con la superficie"
   ]
  },
  {
   "cell_type": "code",
   "execution_count": 160,
   "metadata": {
    "id": "f7V87HQDwh2C"
   },
   "outputs": [
    {
     "data": {
      "text/html": [
       "<div>\n",
       "<style scoped>\n",
       "    .dataframe tbody tr th:only-of-type {\n",
       "        vertical-align: middle;\n",
       "    }\n",
       "\n",
       "    .dataframe tbody tr th {\n",
       "        vertical-align: top;\n",
       "    }\n",
       "\n",
       "    .dataframe thead th {\n",
       "        text-align: right;\n",
       "    }\n",
       "</style>\n",
       "<table border=\"1\" class=\"dataframe\">\n",
       "  <thead>\n",
       "    <tr style=\"text-align: right;\">\n",
       "      <th></th>\n",
       "      <th>ciudades</th>\n",
       "      <th>habitantes</th>\n",
       "      <th>superficie</th>\n",
       "    </tr>\n",
       "  </thead>\n",
       "  <tbody>\n",
       "    <tr>\n",
       "      <th>0</th>\n",
       "      <td>Madrid</td>\n",
       "      <td>6507184</td>\n",
       "      <td>8027</td>\n",
       "    </tr>\n",
       "    <tr>\n",
       "      <th>1</th>\n",
       "      <td>Barcelona</td>\n",
       "      <td>5609350</td>\n",
       "      <td>7773</td>\n",
       "    </tr>\n",
       "    <tr>\n",
       "      <th>2</th>\n",
       "      <td>Valencia</td>\n",
       "      <td>2547986</td>\n",
       "      <td>10807</td>\n",
       "    </tr>\n",
       "    <tr>\n",
       "      <th>3</th>\n",
       "      <td>Sevilla</td>\n",
       "      <td>1939887</td>\n",
       "      <td>14036</td>\n",
       "    </tr>\n",
       "    <tr>\n",
       "      <th>4</th>\n",
       "      <td>Alicante</td>\n",
       "      <td>1838819</td>\n",
       "      <td>5817</td>\n",
       "    </tr>\n",
       "    <tr>\n",
       "      <th>5</th>\n",
       "      <td>Málaga</td>\n",
       "      <td>1694089</td>\n",
       "      <td>7306</td>\n",
       "    </tr>\n",
       "    <tr>\n",
       "      <th>6</th>\n",
       "      <td>Cáceres</td>\n",
       "      <td>394151</td>\n",
       "      <td>19868</td>\n",
       "    </tr>\n",
       "  </tbody>\n",
       "</table>\n",
       "</div>"
      ],
      "text/plain": [
       "    ciudades  habitantes  superficie\n",
       "0     Madrid     6507184        8027\n",
       "1  Barcelona     5609350        7773\n",
       "2   Valencia     2547986       10807\n",
       "3    Sevilla     1939887       14036\n",
       "4   Alicante     1838819        5817\n",
       "5     Málaga     1694089        7306\n",
       "6    Cáceres      394151       19868"
      ]
     },
     "execution_count": 160,
     "metadata": {},
     "output_type": "execute_result"
    }
   ],
   "source": [
    "df[\"superficie\"] = [8027, 7773, 10807,14036,5817,7306, 19868]\n",
    "df"
   ]
  },
  {
   "cell_type": "markdown",
   "metadata": {
    "id": "QhMxqPnKxxbC"
   },
   "source": [
    "Y obtenemos la densidad:"
   ]
  },
  {
   "cell_type": "code",
   "execution_count": 161,
   "metadata": {
    "id": "UYG5b0D_x3VU"
   },
   "outputs": [
    {
     "data": {
      "text/html": [
       "<div>\n",
       "<style scoped>\n",
       "    .dataframe tbody tr th:only-of-type {\n",
       "        vertical-align: middle;\n",
       "    }\n",
       "\n",
       "    .dataframe tbody tr th {\n",
       "        vertical-align: top;\n",
       "    }\n",
       "\n",
       "    .dataframe thead th {\n",
       "        text-align: right;\n",
       "    }\n",
       "</style>\n",
       "<table border=\"1\" class=\"dataframe\">\n",
       "  <thead>\n",
       "    <tr style=\"text-align: right;\">\n",
       "      <th></th>\n",
       "      <th>ciudades</th>\n",
       "      <th>habitantes</th>\n",
       "      <th>superficie</th>\n",
       "      <th>densidad</th>\n",
       "    </tr>\n",
       "  </thead>\n",
       "  <tbody>\n",
       "    <tr>\n",
       "      <th>0</th>\n",
       "      <td>Madrid</td>\n",
       "      <td>6507184</td>\n",
       "      <td>8027</td>\n",
       "      <td>810.662016</td>\n",
       "    </tr>\n",
       "    <tr>\n",
       "      <th>1</th>\n",
       "      <td>Barcelona</td>\n",
       "      <td>5609350</td>\n",
       "      <td>7773</td>\n",
       "      <td>721.645439</td>\n",
       "    </tr>\n",
       "    <tr>\n",
       "      <th>2</th>\n",
       "      <td>Valencia</td>\n",
       "      <td>2547986</td>\n",
       "      <td>10807</td>\n",
       "      <td>235.771815</td>\n",
       "    </tr>\n",
       "    <tr>\n",
       "      <th>3</th>\n",
       "      <td>Sevilla</td>\n",
       "      <td>1939887</td>\n",
       "      <td>14036</td>\n",
       "      <td>138.207965</td>\n",
       "    </tr>\n",
       "    <tr>\n",
       "      <th>4</th>\n",
       "      <td>Alicante</td>\n",
       "      <td>1838819</td>\n",
       "      <td>5817</td>\n",
       "      <td>316.111226</td>\n",
       "    </tr>\n",
       "    <tr>\n",
       "      <th>5</th>\n",
       "      <td>Málaga</td>\n",
       "      <td>1694089</td>\n",
       "      <td>7306</td>\n",
       "      <td>231.876403</td>\n",
       "    </tr>\n",
       "    <tr>\n",
       "      <th>6</th>\n",
       "      <td>Cáceres</td>\n",
       "      <td>394151</td>\n",
       "      <td>19868</td>\n",
       "      <td>19.838484</td>\n",
       "    </tr>\n",
       "  </tbody>\n",
       "</table>\n",
       "</div>"
      ],
      "text/plain": [
       "    ciudades  habitantes  superficie    densidad\n",
       "0     Madrid     6507184        8027  810.662016\n",
       "1  Barcelona     5609350        7773  721.645439\n",
       "2   Valencia     2547986       10807  235.771815\n",
       "3    Sevilla     1939887       14036  138.207965\n",
       "4   Alicante     1838819        5817  316.111226\n",
       "5     Málaga     1694089        7306  231.876403\n",
       "6    Cáceres      394151       19868   19.838484"
      ]
     },
     "execution_count": 161,
     "metadata": {},
     "output_type": "execute_result"
    }
   ],
   "source": [
    "df[\"densidad\"] = df[\"habitantes\"]/df[\"superficie\"]\n",
    "df"
   ]
  },
  {
   "cell_type": "markdown",
   "metadata": {
    "id": "LHIh_7pUyCrp"
   },
   "source": [
    "Finalmente, ordenamos por nombre de ciudad con `sort_values`. Nótese el uso de `inplace=True` para que modifique el dataframe y no devuelva una copia"
   ]
  },
  {
   "cell_type": "code",
   "execution_count": 162,
   "metadata": {
    "id": "iAHhpqVg2nuc"
   },
   "outputs": [
    {
     "data": {
      "text/html": [
       "<div>\n",
       "<style scoped>\n",
       "    .dataframe tbody tr th:only-of-type {\n",
       "        vertical-align: middle;\n",
       "    }\n",
       "\n",
       "    .dataframe tbody tr th {\n",
       "        vertical-align: top;\n",
       "    }\n",
       "\n",
       "    .dataframe thead th {\n",
       "        text-align: right;\n",
       "    }\n",
       "</style>\n",
       "<table border=\"1\" class=\"dataframe\">\n",
       "  <thead>\n",
       "    <tr style=\"text-align: right;\">\n",
       "      <th></th>\n",
       "      <th>ciudades</th>\n",
       "      <th>habitantes</th>\n",
       "      <th>superficie</th>\n",
       "      <th>densidad</th>\n",
       "    </tr>\n",
       "  </thead>\n",
       "  <tbody>\n",
       "    <tr>\n",
       "      <th>4</th>\n",
       "      <td>Alicante</td>\n",
       "      <td>1838819</td>\n",
       "      <td>5817</td>\n",
       "      <td>316.111226</td>\n",
       "    </tr>\n",
       "    <tr>\n",
       "      <th>1</th>\n",
       "      <td>Barcelona</td>\n",
       "      <td>5609350</td>\n",
       "      <td>7773</td>\n",
       "      <td>721.645439</td>\n",
       "    </tr>\n",
       "    <tr>\n",
       "      <th>6</th>\n",
       "      <td>Cáceres</td>\n",
       "      <td>394151</td>\n",
       "      <td>19868</td>\n",
       "      <td>19.838484</td>\n",
       "    </tr>\n",
       "    <tr>\n",
       "      <th>0</th>\n",
       "      <td>Madrid</td>\n",
       "      <td>6507184</td>\n",
       "      <td>8027</td>\n",
       "      <td>810.662016</td>\n",
       "    </tr>\n",
       "    <tr>\n",
       "      <th>5</th>\n",
       "      <td>Málaga</td>\n",
       "      <td>1694089</td>\n",
       "      <td>7306</td>\n",
       "      <td>231.876403</td>\n",
       "    </tr>\n",
       "    <tr>\n",
       "      <th>3</th>\n",
       "      <td>Sevilla</td>\n",
       "      <td>1939887</td>\n",
       "      <td>14036</td>\n",
       "      <td>138.207965</td>\n",
       "    </tr>\n",
       "    <tr>\n",
       "      <th>2</th>\n",
       "      <td>Valencia</td>\n",
       "      <td>2547986</td>\n",
       "      <td>10807</td>\n",
       "      <td>235.771815</td>\n",
       "    </tr>\n",
       "  </tbody>\n",
       "</table>\n",
       "</div>"
      ],
      "text/plain": [
       "    ciudades  habitantes  superficie    densidad\n",
       "4   Alicante     1838819        5817  316.111226\n",
       "1  Barcelona     5609350        7773  721.645439\n",
       "6    Cáceres      394151       19868   19.838484\n",
       "0     Madrid     6507184        8027  810.662016\n",
       "5     Málaga     1694089        7306  231.876403\n",
       "3    Sevilla     1939887       14036  138.207965\n",
       "2   Valencia     2547986       10807  235.771815"
      ]
     },
     "execution_count": 162,
     "metadata": {},
     "output_type": "execute_result"
    }
   ],
   "source": [
    "df.sort_values(by='ciudades', ascending=True, inplace=True)\n",
    "df"
   ]
  },
  {
   "cell_type": "markdown",
   "metadata": {
    "id": "_us4nZMQES3_"
   },
   "source": [
    "### Estadísticas descriptivas"
   ]
  },
  {
   "cell_type": "markdown",
   "metadata": {
    "id": "VETVzhCcES3_"
   },
   "source": [
    "Esta es la lista de valores descriptivos asociados a cualquier columna (aunque muchos solo tienen sentido si la columna es numérica) \n",
    "    \n",
    "    \n",
    "|Method  | Description|\n",
    "|--------|------------|\n",
    "| count  | Number of non-NA values|\n",
    "|describe|Compute set of summary statistics for Series or each DataFrame column|\n",
    "|min, max| Compute minimum and maximum values|\n",
    "|argmin, argmax |Compute index locations (integers) at which minimum or maximum value obtained, respectively|\n",
    "|idxmin, idxmax |Compute index values at which minimum or maximum value obtained, respectively|\n",
    "|quantile |Compute sample quantile ranging from 0 to 1|\n",
    "|sum |Sum of values|\n",
    "|mean| Mean of values|\n",
    "|median | Arithmetic median (50% quantile) of values |\n",
    "|mad |Mean absolute deviation from mean value|\n",
    "|var |Sample variance of values|\n",
    "|std |Sample standard deviation of values|\n",
    "|skew| Sample skewness (3rd moment) of values|\n",
    "|kurt| Sample kurtosis (4th moment) of values|\n",
    "|cumsum |Cumulative sum of values|\n",
    "|cummin, cummax |Cumulative minimum or maximum of values, respectively|\n",
    "|cumprod |Cumulative product of values|\n",
    "|diff | Compute 1st arithmetic difference (useful for time series)|\n",
    "|pct_change | Compute percent changes |"
   ]
  },
  {
   "cell_type": "markdown",
   "metadata": {
    "id": "8naqqvhP8yDF"
   },
   "source": [
    "Veámoslo con los datos de los tweets"
   ]
  },
  {
   "cell_type": "code",
   "execution_count": 181,
   "metadata": {
    "id": "2w4tcOq2ES4A"
   },
   "outputs": [
    {
     "data": {
      "text/plain": [
       "Index(['id', 'screen_name', 'text', 'location', 'localidad', 'provincia',\n",
       "       'distrito', 'seccion', 'hora', 'verified', 'friends_count', 'followers',\n",
       "       'tweets', ''¡'', ''!'', ''¿'', ''?'', 'URLs', 'adjetivos', 'emojis',\n",
       "       'gerundio', 'hashtags', 'infinitivo', 'longitud media palabras',\n",
       "       'mayúsculas', 'menciones', 'modo imperativo', 'modo indicativo',\n",
       "       'modo subjuntivo', 'números', 'palabras', 'palabras vacías',\n",
       "       'participio', 'plural', 'primera persona', 'segunda persona',\n",
       "       'tercera persona', 'proporción palabras correctas',\n",
       "       'sentimiento medio emojis', 'singular', 'sustantivos',\n",
       "       'tiempo condicional', 'tiempo futuro', 'tiempo pasado',\n",
       "       'tiempo presente', 'verbos', 'cambio1518', 'mediana', 'rentapais',\n",
       "       'rentacom', 'sentiment'],\n",
       "      dtype='object')"
      ]
     },
     "execution_count": 181,
     "metadata": {},
     "output_type": "execute_result"
    }
   ],
   "source": [
    "fileIn = \"https://raw.githubusercontent.com/RafaelCaballero/tdm/master/datos/tweet_feat_renta.csv\"\n",
    "import pandas as pd\n",
    "df = pd.read_csv(fileIn)\n",
    "df.columns"
   ]
  },
  {
   "cell_type": "markdown",
   "metadata": {
    "id": "HwZ8olcV9KhM"
   },
   "source": [
    "**Ejercicio 6** Solo estamos interesados en las columnas desde la 9 (empezando en 0) hasta el final.  Llamar al dataframe resultante df1"
   ]
  },
  {
   "cell_type": "code",
   "execution_count": 183,
   "metadata": {
    "id": "A0nuw3mv-D_M"
   },
   "outputs": [
    {
     "data": {
      "text/html": [
       "<div>\n",
       "<style scoped>\n",
       "    .dataframe tbody tr th:only-of-type {\n",
       "        vertical-align: middle;\n",
       "    }\n",
       "\n",
       "    .dataframe tbody tr th {\n",
       "        vertical-align: top;\n",
       "    }\n",
       "\n",
       "    .dataframe thead th {\n",
       "        text-align: right;\n",
       "    }\n",
       "</style>\n",
       "<table border=\"1\" class=\"dataframe\">\n",
       "  <thead>\n",
       "    <tr style=\"text-align: right;\">\n",
       "      <th></th>\n",
       "      <th>verified</th>\n",
       "      <th>friends_count</th>\n",
       "      <th>followers</th>\n",
       "      <th>tweets</th>\n",
       "      <th>URLs</th>\n",
       "      <th>adjetivos</th>\n",
       "      <th>emojis</th>\n",
       "      <th>gerundio</th>\n",
       "      <th>hashtags</th>\n",
       "      <th>infinitivo</th>\n",
       "      <th>...</th>\n",
       "      <th>tiempo condicional</th>\n",
       "      <th>tiempo futuro</th>\n",
       "      <th>tiempo pasado</th>\n",
       "      <th>tiempo presente</th>\n",
       "      <th>verbos</th>\n",
       "      <th>cambio1518</th>\n",
       "      <th>mediana</th>\n",
       "      <th>rentapais</th>\n",
       "      <th>rentacom</th>\n",
       "      <th>sentiment</th>\n",
       "    </tr>\n",
       "  </thead>\n",
       "  <tbody>\n",
       "    <tr>\n",
       "      <th>0</th>\n",
       "      <td>0</td>\n",
       "      <td>1661</td>\n",
       "      <td>1059</td>\n",
       "      <td>34809</td>\n",
       "      <td>0</td>\n",
       "      <td>3</td>\n",
       "      <td>0</td>\n",
       "      <td>0</td>\n",
       "      <td>0</td>\n",
       "      <td>0</td>\n",
       "      <td>...</td>\n",
       "      <td>0</td>\n",
       "      <td>0</td>\n",
       "      <td>0</td>\n",
       "      <td>2</td>\n",
       "      <td>2</td>\n",
       "      <td>9</td>\n",
       "      <td>17850.0</td>\n",
       "      <td>73.5</td>\n",
       "      <td>48.0</td>\n",
       "      <td>-0.735980</td>\n",
       "    </tr>\n",
       "    <tr>\n",
       "      <th>1</th>\n",
       "      <td>0</td>\n",
       "      <td>1661</td>\n",
       "      <td>1059</td>\n",
       "      <td>34809</td>\n",
       "      <td>0</td>\n",
       "      <td>1</td>\n",
       "      <td>0</td>\n",
       "      <td>0</td>\n",
       "      <td>0</td>\n",
       "      <td>5</td>\n",
       "      <td>...</td>\n",
       "      <td>0</td>\n",
       "      <td>0</td>\n",
       "      <td>2</td>\n",
       "      <td>3</td>\n",
       "      <td>10</td>\n",
       "      <td>9</td>\n",
       "      <td>17850.0</td>\n",
       "      <td>73.5</td>\n",
       "      <td>48.0</td>\n",
       "      <td>-0.670090</td>\n",
       "    </tr>\n",
       "    <tr>\n",
       "      <th>2</th>\n",
       "      <td>0</td>\n",
       "      <td>1661</td>\n",
       "      <td>1059</td>\n",
       "      <td>34809</td>\n",
       "      <td>0</td>\n",
       "      <td>3</td>\n",
       "      <td>0</td>\n",
       "      <td>1</td>\n",
       "      <td>0</td>\n",
       "      <td>2</td>\n",
       "      <td>...</td>\n",
       "      <td>0</td>\n",
       "      <td>0</td>\n",
       "      <td>0</td>\n",
       "      <td>1</td>\n",
       "      <td>4</td>\n",
       "      <td>9</td>\n",
       "      <td>17850.0</td>\n",
       "      <td>73.5</td>\n",
       "      <td>48.0</td>\n",
       "      <td>0.926692</td>\n",
       "    </tr>\n",
       "    <tr>\n",
       "      <th>3</th>\n",
       "      <td>0</td>\n",
       "      <td>1661</td>\n",
       "      <td>1059</td>\n",
       "      <td>34809</td>\n",
       "      <td>1</td>\n",
       "      <td>0</td>\n",
       "      <td>0</td>\n",
       "      <td>0</td>\n",
       "      <td>3</td>\n",
       "      <td>0</td>\n",
       "      <td>...</td>\n",
       "      <td>0</td>\n",
       "      <td>0</td>\n",
       "      <td>0</td>\n",
       "      <td>1</td>\n",
       "      <td>1</td>\n",
       "      <td>9</td>\n",
       "      <td>17850.0</td>\n",
       "      <td>73.5</td>\n",
       "      <td>48.0</td>\n",
       "      <td>-0.888506</td>\n",
       "    </tr>\n",
       "    <tr>\n",
       "      <th>4</th>\n",
       "      <td>0</td>\n",
       "      <td>1661</td>\n",
       "      <td>1059</td>\n",
       "      <td>34809</td>\n",
       "      <td>0</td>\n",
       "      <td>0</td>\n",
       "      <td>0</td>\n",
       "      <td>0</td>\n",
       "      <td>0</td>\n",
       "      <td>0</td>\n",
       "      <td>...</td>\n",
       "      <td>0</td>\n",
       "      <td>0</td>\n",
       "      <td>0</td>\n",
       "      <td>6</td>\n",
       "      <td>7</td>\n",
       "      <td>9</td>\n",
       "      <td>17850.0</td>\n",
       "      <td>73.5</td>\n",
       "      <td>48.0</td>\n",
       "      <td>-0.416854</td>\n",
       "    </tr>\n",
       "    <tr>\n",
       "      <th>...</th>\n",
       "      <td>...</td>\n",
       "      <td>...</td>\n",
       "      <td>...</td>\n",
       "      <td>...</td>\n",
       "      <td>...</td>\n",
       "      <td>...</td>\n",
       "      <td>...</td>\n",
       "      <td>...</td>\n",
       "      <td>...</td>\n",
       "      <td>...</td>\n",
       "      <td>...</td>\n",
       "      <td>...</td>\n",
       "      <td>...</td>\n",
       "      <td>...</td>\n",
       "      <td>...</td>\n",
       "      <td>...</td>\n",
       "      <td>...</td>\n",
       "      <td>...</td>\n",
       "      <td>...</td>\n",
       "      <td>...</td>\n",
       "      <td>...</td>\n",
       "    </tr>\n",
       "    <tr>\n",
       "      <th>80015</th>\n",
       "      <td>0</td>\n",
       "      <td>1844</td>\n",
       "      <td>643</td>\n",
       "      <td>2108</td>\n",
       "      <td>4</td>\n",
       "      <td>2</td>\n",
       "      <td>0</td>\n",
       "      <td>0</td>\n",
       "      <td>8</td>\n",
       "      <td>0</td>\n",
       "      <td>...</td>\n",
       "      <td>0</td>\n",
       "      <td>0</td>\n",
       "      <td>0</td>\n",
       "      <td>3</td>\n",
       "      <td>3</td>\n",
       "      <td>-5</td>\n",
       "      <td>12950.0</td>\n",
       "      <td>21.5</td>\n",
       "      <td>10.0</td>\n",
       "      <td>0.000000</td>\n",
       "    </tr>\n",
       "    <tr>\n",
       "      <th>80016</th>\n",
       "      <td>0</td>\n",
       "      <td>2050</td>\n",
       "      <td>1012</td>\n",
       "      <td>11556</td>\n",
       "      <td>0</td>\n",
       "      <td>0</td>\n",
       "      <td>1</td>\n",
       "      <td>0</td>\n",
       "      <td>0</td>\n",
       "      <td>1</td>\n",
       "      <td>...</td>\n",
       "      <td>0</td>\n",
       "      <td>0</td>\n",
       "      <td>0</td>\n",
       "      <td>3</td>\n",
       "      <td>5</td>\n",
       "      <td>11</td>\n",
       "      <td>14350.0</td>\n",
       "      <td>37.0</td>\n",
       "      <td>12.0</td>\n",
       "      <td>0.878134</td>\n",
       "    </tr>\n",
       "    <tr>\n",
       "      <th>80017</th>\n",
       "      <td>0</td>\n",
       "      <td>173</td>\n",
       "      <td>182</td>\n",
       "      <td>179</td>\n",
       "      <td>1</td>\n",
       "      <td>0</td>\n",
       "      <td>0</td>\n",
       "      <td>0</td>\n",
       "      <td>0</td>\n",
       "      <td>0</td>\n",
       "      <td>...</td>\n",
       "      <td>0</td>\n",
       "      <td>0</td>\n",
       "      <td>0</td>\n",
       "      <td>0</td>\n",
       "      <td>0</td>\n",
       "      <td>16</td>\n",
       "      <td>15050.0</td>\n",
       "      <td>44.5</td>\n",
       "      <td>36.0</td>\n",
       "      <td>0.960855</td>\n",
       "    </tr>\n",
       "    <tr>\n",
       "      <th>80018</th>\n",
       "      <td>0</td>\n",
       "      <td>408</td>\n",
       "      <td>2173</td>\n",
       "      <td>2158</td>\n",
       "      <td>1</td>\n",
       "      <td>0</td>\n",
       "      <td>0</td>\n",
       "      <td>0</td>\n",
       "      <td>0</td>\n",
       "      <td>0</td>\n",
       "      <td>...</td>\n",
       "      <td>0</td>\n",
       "      <td>0</td>\n",
       "      <td>0</td>\n",
       "      <td>0</td>\n",
       "      <td>0</td>\n",
       "      <td>9</td>\n",
       "      <td>24850.0</td>\n",
       "      <td>94.5</td>\n",
       "      <td>92.5</td>\n",
       "      <td>0.785475</td>\n",
       "    </tr>\n",
       "    <tr>\n",
       "      <th>80019</th>\n",
       "      <td>0</td>\n",
       "      <td>2202</td>\n",
       "      <td>2352</td>\n",
       "      <td>25886</td>\n",
       "      <td>0</td>\n",
       "      <td>0</td>\n",
       "      <td>0</td>\n",
       "      <td>0</td>\n",
       "      <td>0</td>\n",
       "      <td>0</td>\n",
       "      <td>...</td>\n",
       "      <td>0</td>\n",
       "      <td>0</td>\n",
       "      <td>0</td>\n",
       "      <td>0</td>\n",
       "      <td>1</td>\n",
       "      <td>7</td>\n",
       "      <td>20650.0</td>\n",
       "      <td>86.0</td>\n",
       "      <td>63.5</td>\n",
       "      <td>0.000000</td>\n",
       "    </tr>\n",
       "  </tbody>\n",
       "</table>\n",
       "<p>80020 rows × 38 columns</p>\n",
       "</div>"
      ],
      "text/plain": [
       "       verified  friends_count  followers  tweets  URLs  adjetivos  emojis  \\\n",
       "0             0           1661       1059   34809     0          3       0   \n",
       "1             0           1661       1059   34809     0          1       0   \n",
       "2             0           1661       1059   34809     0          3       0   \n",
       "3             0           1661       1059   34809     1          0       0   \n",
       "4             0           1661       1059   34809     0          0       0   \n",
       "...         ...            ...        ...     ...   ...        ...     ...   \n",
       "80015         0           1844        643    2108     4          2       0   \n",
       "80016         0           2050       1012   11556     0          0       1   \n",
       "80017         0            173        182     179     1          0       0   \n",
       "80018         0            408       2173    2158     1          0       0   \n",
       "80019         0           2202       2352   25886     0          0       0   \n",
       "\n",
       "       gerundio  hashtags  infinitivo  ...  tiempo condicional  tiempo futuro  \\\n",
       "0             0         0           0  ...                   0              0   \n",
       "1             0         0           5  ...                   0              0   \n",
       "2             1         0           2  ...                   0              0   \n",
       "3             0         3           0  ...                   0              0   \n",
       "4             0         0           0  ...                   0              0   \n",
       "...         ...       ...         ...  ...                 ...            ...   \n",
       "80015         0         8           0  ...                   0              0   \n",
       "80016         0         0           1  ...                   0              0   \n",
       "80017         0         0           0  ...                   0              0   \n",
       "80018         0         0           0  ...                   0              0   \n",
       "80019         0         0           0  ...                   0              0   \n",
       "\n",
       "       tiempo pasado  tiempo presente  verbos  cambio1518  mediana  rentapais  \\\n",
       "0                  0                2       2           9  17850.0       73.5   \n",
       "1                  2                3      10           9  17850.0       73.5   \n",
       "2                  0                1       4           9  17850.0       73.5   \n",
       "3                  0                1       1           9  17850.0       73.5   \n",
       "4                  0                6       7           9  17850.0       73.5   \n",
       "...              ...              ...     ...         ...      ...        ...   \n",
       "80015              0                3       3          -5  12950.0       21.5   \n",
       "80016              0                3       5          11  14350.0       37.0   \n",
       "80017              0                0       0          16  15050.0       44.5   \n",
       "80018              0                0       0           9  24850.0       94.5   \n",
       "80019              0                0       1           7  20650.0       86.0   \n",
       "\n",
       "       rentacom  sentiment  \n",
       "0          48.0  -0.735980  \n",
       "1          48.0  -0.670090  \n",
       "2          48.0   0.926692  \n",
       "3          48.0  -0.888506  \n",
       "4          48.0  -0.416854  \n",
       "...         ...        ...  \n",
       "80015      10.0   0.000000  \n",
       "80016      12.0   0.878134  \n",
       "80017      36.0   0.960855  \n",
       "80018      92.5   0.785475  \n",
       "80019      63.5   0.000000  \n",
       "\n",
       "[80020 rows x 38 columns]"
      ]
     },
     "execution_count": 183,
     "metadata": {},
     "output_type": "execute_result"
    }
   ],
   "source": [
    "df1=df[['verified', 'friends_count', 'followers',\n",
    "       'tweets', 'URLs', 'adjetivos', 'emojis',\n",
    "       'gerundio', 'hashtags', 'infinitivo', 'longitud media palabras',\n",
    "       'mayúsculas', 'menciones', 'modo imperativo', 'modo indicativo',\n",
    "       'modo subjuntivo', 'números', 'palabras', 'palabras vacías',\n",
    "       'participio', 'plural', 'primera persona', 'segunda persona',\n",
    "       'tercera persona', 'proporción palabras correctas',\n",
    "       'sentimiento medio emojis', 'singular', 'sustantivos',\n",
    "       'tiempo condicional', 'tiempo futuro', 'tiempo pasado',\n",
    "       'tiempo presente', 'verbos', 'cambio1518', 'mediana', 'rentapais',\n",
    "       'rentacom', 'sentiment']]\n",
    "df1"
   ]
  },
  {
   "cell_type": "markdown",
   "metadata": {
    "id": "7uzyswac_Cu1"
   },
   "source": [
    "Ahora vemos las estadísticas generales"
   ]
  },
  {
   "cell_type": "code",
   "execution_count": 184,
   "metadata": {
    "id": "-wrdKQIg_Kw8"
   },
   "outputs": [
    {
     "data": {
      "text/html": [
       "<div>\n",
       "<style scoped>\n",
       "    .dataframe tbody tr th:only-of-type {\n",
       "        vertical-align: middle;\n",
       "    }\n",
       "\n",
       "    .dataframe tbody tr th {\n",
       "        vertical-align: top;\n",
       "    }\n",
       "\n",
       "    .dataframe thead th {\n",
       "        text-align: right;\n",
       "    }\n",
       "</style>\n",
       "<table border=\"1\" class=\"dataframe\">\n",
       "  <thead>\n",
       "    <tr style=\"text-align: right;\">\n",
       "      <th></th>\n",
       "      <th>count</th>\n",
       "      <th>mean</th>\n",
       "      <th>std</th>\n",
       "      <th>min</th>\n",
       "      <th>25%</th>\n",
       "      <th>50%</th>\n",
       "      <th>75%</th>\n",
       "      <th>max</th>\n",
       "    </tr>\n",
       "  </thead>\n",
       "  <tbody>\n",
       "    <tr>\n",
       "      <th>verified</th>\n",
       "      <td>80020.0</td>\n",
       "      <td>0.013309</td>\n",
       "      <td>0.114596</td>\n",
       "      <td>0.000000</td>\n",
       "      <td>0.000000</td>\n",
       "      <td>0.000000</td>\n",
       "      <td>0.000000</td>\n",
       "      <td>1.0</td>\n",
       "    </tr>\n",
       "    <tr>\n",
       "      <th>friends_count</th>\n",
       "      <td>80020.0</td>\n",
       "      <td>1369.166758</td>\n",
       "      <td>1476.392180</td>\n",
       "      <td>0.000000</td>\n",
       "      <td>425.000000</td>\n",
       "      <td>774.000000</td>\n",
       "      <td>2018.000000</td>\n",
       "      <td>12824.0</td>\n",
       "    </tr>\n",
       "    <tr>\n",
       "      <th>followers</th>\n",
       "      <td>80020.0</td>\n",
       "      <td>3305.089728</td>\n",
       "      <td>12274.078604</td>\n",
       "      <td>0.000000</td>\n",
       "      <td>390.000000</td>\n",
       "      <td>904.000000</td>\n",
       "      <td>2015.000000</td>\n",
       "      <td>242511.0</td>\n",
       "    </tr>\n",
       "    <tr>\n",
       "      <th>tweets</th>\n",
       "      <td>80020.0</td>\n",
       "      <td>61150.688253</td>\n",
       "      <td>76154.534903</td>\n",
       "      <td>7.000000</td>\n",
       "      <td>10063.000000</td>\n",
       "      <td>33481.000000</td>\n",
       "      <td>83351.000000</td>\n",
       "      <td>619633.0</td>\n",
       "    </tr>\n",
       "    <tr>\n",
       "      <th>URLs</th>\n",
       "      <td>80020.0</td>\n",
       "      <td>0.572444</td>\n",
       "      <td>0.553277</td>\n",
       "      <td>0.000000</td>\n",
       "      <td>0.000000</td>\n",
       "      <td>1.000000</td>\n",
       "      <td>1.000000</td>\n",
       "      <td>6.0</td>\n",
       "    </tr>\n",
       "    <tr>\n",
       "      <th>adjetivos</th>\n",
       "      <td>80020.0</td>\n",
       "      <td>0.859685</td>\n",
       "      <td>1.170761</td>\n",
       "      <td>0.000000</td>\n",
       "      <td>0.000000</td>\n",
       "      <td>0.000000</td>\n",
       "      <td>1.000000</td>\n",
       "      <td>22.0</td>\n",
       "    </tr>\n",
       "    <tr>\n",
       "      <th>emojis</th>\n",
       "      <td>80020.0</td>\n",
       "      <td>0.745389</td>\n",
       "      <td>2.065471</td>\n",
       "      <td>0.000000</td>\n",
       "      <td>0.000000</td>\n",
       "      <td>0.000000</td>\n",
       "      <td>1.000000</td>\n",
       "      <td>117.0</td>\n",
       "    </tr>\n",
       "    <tr>\n",
       "      <th>gerundio</th>\n",
       "      <td>80020.0</td>\n",
       "      <td>0.115371</td>\n",
       "      <td>0.365998</td>\n",
       "      <td>0.000000</td>\n",
       "      <td>0.000000</td>\n",
       "      <td>0.000000</td>\n",
       "      <td>0.000000</td>\n",
       "      <td>5.0</td>\n",
       "    </tr>\n",
       "    <tr>\n",
       "      <th>hashtags</th>\n",
       "      <td>80020.0</td>\n",
       "      <td>0.746551</td>\n",
       "      <td>1.956394</td>\n",
       "      <td>0.000000</td>\n",
       "      <td>0.000000</td>\n",
       "      <td>0.000000</td>\n",
       "      <td>1.000000</td>\n",
       "      <td>30.0</td>\n",
       "    </tr>\n",
       "    <tr>\n",
       "      <th>infinitivo</th>\n",
       "      <td>80020.0</td>\n",
       "      <td>0.468383</td>\n",
       "      <td>0.869573</td>\n",
       "      <td>0.000000</td>\n",
       "      <td>0.000000</td>\n",
       "      <td>0.000000</td>\n",
       "      <td>1.000000</td>\n",
       "      <td>10.0</td>\n",
       "    </tr>\n",
       "    <tr>\n",
       "      <th>longitud media palabras</th>\n",
       "      <td>80020.0</td>\n",
       "      <td>4.585310</td>\n",
       "      <td>1.663219</td>\n",
       "      <td>0.000000</td>\n",
       "      <td>4.000000</td>\n",
       "      <td>4.444444</td>\n",
       "      <td>5.000000</td>\n",
       "      <td>280.0</td>\n",
       "    </tr>\n",
       "    <tr>\n",
       "      <th>mayúsculas</th>\n",
       "      <td>80020.0</td>\n",
       "      <td>4.415434</td>\n",
       "      <td>7.562196</td>\n",
       "      <td>0.000000</td>\n",
       "      <td>1.000000</td>\n",
       "      <td>3.000000</td>\n",
       "      <td>5.000000</td>\n",
       "      <td>231.0</td>\n",
       "    </tr>\n",
       "    <tr>\n",
       "      <th>menciones</th>\n",
       "      <td>80020.0</td>\n",
       "      <td>0.316896</td>\n",
       "      <td>0.845950</td>\n",
       "      <td>0.000000</td>\n",
       "      <td>0.000000</td>\n",
       "      <td>0.000000</td>\n",
       "      <td>0.000000</td>\n",
       "      <td>15.0</td>\n",
       "    </tr>\n",
       "    <tr>\n",
       "      <th>modo imperativo</th>\n",
       "      <td>80020.0</td>\n",
       "      <td>0.021982</td>\n",
       "      <td>0.157236</td>\n",
       "      <td>0.000000</td>\n",
       "      <td>0.000000</td>\n",
       "      <td>0.000000</td>\n",
       "      <td>0.000000</td>\n",
       "      <td>9.0</td>\n",
       "    </tr>\n",
       "    <tr>\n",
       "      <th>modo indicativo</th>\n",
       "      <td>80020.0</td>\n",
       "      <td>1.369070</td>\n",
       "      <td>1.573961</td>\n",
       "      <td>0.000000</td>\n",
       "      <td>0.000000</td>\n",
       "      <td>1.000000</td>\n",
       "      <td>2.000000</td>\n",
       "      <td>14.0</td>\n",
       "    </tr>\n",
       "    <tr>\n",
       "      <th>modo subjuntivo</th>\n",
       "      <td>80020.0</td>\n",
       "      <td>0.130580</td>\n",
       "      <td>0.403415</td>\n",
       "      <td>0.000000</td>\n",
       "      <td>0.000000</td>\n",
       "      <td>0.000000</td>\n",
       "      <td>0.000000</td>\n",
       "      <td>6.0</td>\n",
       "    </tr>\n",
       "    <tr>\n",
       "      <th>números</th>\n",
       "      <td>80020.0</td>\n",
       "      <td>0.191340</td>\n",
       "      <td>0.631841</td>\n",
       "      <td>0.000000</td>\n",
       "      <td>0.000000</td>\n",
       "      <td>0.000000</td>\n",
       "      <td>0.000000</td>\n",
       "      <td>33.0</td>\n",
       "    </tr>\n",
       "    <tr>\n",
       "      <th>palabras</th>\n",
       "      <td>80020.0</td>\n",
       "      <td>14.792952</td>\n",
       "      <td>11.287164</td>\n",
       "      <td>0.000000</td>\n",
       "      <td>6.000000</td>\n",
       "      <td>11.000000</td>\n",
       "      <td>20.000000</td>\n",
       "      <td>66.0</td>\n",
       "    </tr>\n",
       "    <tr>\n",
       "      <th>palabras vacías</th>\n",
       "      <td>80020.0</td>\n",
       "      <td>7.342377</td>\n",
       "      <td>6.509239</td>\n",
       "      <td>0.000000</td>\n",
       "      <td>2.000000</td>\n",
       "      <td>5.000000</td>\n",
       "      <td>10.000000</td>\n",
       "      <td>42.0</td>\n",
       "    </tr>\n",
       "    <tr>\n",
       "      <th>participio</th>\n",
       "      <td>80020.0</td>\n",
       "      <td>0.128993</td>\n",
       "      <td>0.416192</td>\n",
       "      <td>0.000000</td>\n",
       "      <td>0.000000</td>\n",
       "      <td>0.000000</td>\n",
       "      <td>0.000000</td>\n",
       "      <td>6.0</td>\n",
       "    </tr>\n",
       "    <tr>\n",
       "      <th>plural</th>\n",
       "      <td>80020.0</td>\n",
       "      <td>0.345389</td>\n",
       "      <td>0.716540</td>\n",
       "      <td>0.000000</td>\n",
       "      <td>0.000000</td>\n",
       "      <td>0.000000</td>\n",
       "      <td>0.000000</td>\n",
       "      <td>9.0</td>\n",
       "    </tr>\n",
       "    <tr>\n",
       "      <th>primera persona</th>\n",
       "      <td>80020.0</td>\n",
       "      <td>0.402299</td>\n",
       "      <td>0.771766</td>\n",
       "      <td>0.000000</td>\n",
       "      <td>0.000000</td>\n",
       "      <td>0.000000</td>\n",
       "      <td>1.000000</td>\n",
       "      <td>10.0</td>\n",
       "    </tr>\n",
       "    <tr>\n",
       "      <th>segunda persona</th>\n",
       "      <td>80020.0</td>\n",
       "      <td>0.076856</td>\n",
       "      <td>0.336882</td>\n",
       "      <td>0.000000</td>\n",
       "      <td>0.000000</td>\n",
       "      <td>0.000000</td>\n",
       "      <td>0.000000</td>\n",
       "      <td>8.0</td>\n",
       "    </tr>\n",
       "    <tr>\n",
       "      <th>tercera persona</th>\n",
       "      <td>80020.0</td>\n",
       "      <td>1.068883</td>\n",
       "      <td>1.373920</td>\n",
       "      <td>0.000000</td>\n",
       "      <td>0.000000</td>\n",
       "      <td>1.000000</td>\n",
       "      <td>2.000000</td>\n",
       "      <td>14.0</td>\n",
       "    </tr>\n",
       "    <tr>\n",
       "      <th>proporción palabras correctas</th>\n",
       "      <td>80020.0</td>\n",
       "      <td>0.927628</td>\n",
       "      <td>0.147239</td>\n",
       "      <td>0.000000</td>\n",
       "      <td>0.909091</td>\n",
       "      <td>1.000000</td>\n",
       "      <td>1.000000</td>\n",
       "      <td>1.2</td>\n",
       "    </tr>\n",
       "    <tr>\n",
       "      <th>sentimiento medio emojis</th>\n",
       "      <td>80020.0</td>\n",
       "      <td>0.200353</td>\n",
       "      <td>0.390599</td>\n",
       "      <td>0.000000</td>\n",
       "      <td>0.000000</td>\n",
       "      <td>0.000000</td>\n",
       "      <td>0.000000</td>\n",
       "      <td>1.0</td>\n",
       "    </tr>\n",
       "    <tr>\n",
       "      <th>singular</th>\n",
       "      <td>80020.0</td>\n",
       "      <td>1.202937</td>\n",
       "      <td>1.486781</td>\n",
       "      <td>0.000000</td>\n",
       "      <td>0.000000</td>\n",
       "      <td>1.000000</td>\n",
       "      <td>2.000000</td>\n",
       "      <td>14.0</td>\n",
       "    </tr>\n",
       "    <tr>\n",
       "      <th>sustantivos</th>\n",
       "      <td>80020.0</td>\n",
       "      <td>2.446026</td>\n",
       "      <td>2.472483</td>\n",
       "      <td>0.000000</td>\n",
       "      <td>1.000000</td>\n",
       "      <td>2.000000</td>\n",
       "      <td>4.000000</td>\n",
       "      <td>22.0</td>\n",
       "    </tr>\n",
       "    <tr>\n",
       "      <th>tiempo condicional</th>\n",
       "      <td>80020.0</td>\n",
       "      <td>0.026718</td>\n",
       "      <td>0.172203</td>\n",
       "      <td>0.000000</td>\n",
       "      <td>0.000000</td>\n",
       "      <td>0.000000</td>\n",
       "      <td>0.000000</td>\n",
       "      <td>3.0</td>\n",
       "    </tr>\n",
       "    <tr>\n",
       "      <th>tiempo futuro</th>\n",
       "      <td>80020.0</td>\n",
       "      <td>0.054049</td>\n",
       "      <td>0.255539</td>\n",
       "      <td>0.000000</td>\n",
       "      <td>0.000000</td>\n",
       "      <td>0.000000</td>\n",
       "      <td>0.000000</td>\n",
       "      <td>6.0</td>\n",
       "    </tr>\n",
       "    <tr>\n",
       "      <th>tiempo pasado</th>\n",
       "      <td>80020.0</td>\n",
       "      <td>0.182279</td>\n",
       "      <td>0.563951</td>\n",
       "      <td>0.000000</td>\n",
       "      <td>0.000000</td>\n",
       "      <td>0.000000</td>\n",
       "      <td>0.000000</td>\n",
       "      <td>9.0</td>\n",
       "    </tr>\n",
       "    <tr>\n",
       "      <th>tiempo presente</th>\n",
       "      <td>80020.0</td>\n",
       "      <td>1.263322</td>\n",
       "      <td>1.506243</td>\n",
       "      <td>0.000000</td>\n",
       "      <td>0.000000</td>\n",
       "      <td>1.000000</td>\n",
       "      <td>2.000000</td>\n",
       "      <td>13.0</td>\n",
       "    </tr>\n",
       "    <tr>\n",
       "      <th>verbos</th>\n",
       "      <td>80020.0</td>\n",
       "      <td>2.261347</td>\n",
       "      <td>2.512751</td>\n",
       "      <td>0.000000</td>\n",
       "      <td>0.000000</td>\n",
       "      <td>2.000000</td>\n",
       "      <td>3.000000</td>\n",
       "      <td>20.0</td>\n",
       "    </tr>\n",
       "    <tr>\n",
       "      <th>cambio1518</th>\n",
       "      <td>80020.0</td>\n",
       "      <td>11.395114</td>\n",
       "      <td>5.245071</td>\n",
       "      <td>-11.000000</td>\n",
       "      <td>8.000000</td>\n",
       "      <td>10.000000</td>\n",
       "      <td>15.000000</td>\n",
       "      <td>40.0</td>\n",
       "    </tr>\n",
       "    <tr>\n",
       "      <th>mediana</th>\n",
       "      <td>80020.0</td>\n",
       "      <td>17111.168458</td>\n",
       "      <td>5075.413286</td>\n",
       "      <td>5950.000000</td>\n",
       "      <td>13650.000000</td>\n",
       "      <td>16450.000000</td>\n",
       "      <td>19950.000000</td>\n",
       "      <td>36750.0</td>\n",
       "    </tr>\n",
       "    <tr>\n",
       "      <th>rentapais</th>\n",
       "      <td>80020.0</td>\n",
       "      <td>55.104586</td>\n",
       "      <td>30.708806</td>\n",
       "      <td>0.000000</td>\n",
       "      <td>29.000000</td>\n",
       "      <td>64.000000</td>\n",
       "      <td>83.500000</td>\n",
       "      <td>99.5</td>\n",
       "    </tr>\n",
       "    <tr>\n",
       "      <th>rentacom</th>\n",
       "      <td>80020.0</td>\n",
       "      <td>54.826293</td>\n",
       "      <td>29.565905</td>\n",
       "      <td>0.500000</td>\n",
       "      <td>32.000000</td>\n",
       "      <td>62.000000</td>\n",
       "      <td>80.500000</td>\n",
       "      <td>99.5</td>\n",
       "    </tr>\n",
       "    <tr>\n",
       "      <th>sentiment</th>\n",
       "      <td>80020.0</td>\n",
       "      <td>0.111604</td>\n",
       "      <td>0.578545</td>\n",
       "      <td>-0.999938</td>\n",
       "      <td>-0.307816</td>\n",
       "      <td>0.000000</td>\n",
       "      <td>0.666416</td>\n",
       "      <td>1.0</td>\n",
       "    </tr>\n",
       "  </tbody>\n",
       "</table>\n",
       "</div>"
      ],
      "text/plain": [
       "                                 count          mean           std  \\\n",
       "verified                       80020.0      0.013309      0.114596   \n",
       "friends_count                  80020.0   1369.166758   1476.392180   \n",
       "followers                      80020.0   3305.089728  12274.078604   \n",
       "tweets                         80020.0  61150.688253  76154.534903   \n",
       "URLs                           80020.0      0.572444      0.553277   \n",
       "adjetivos                      80020.0      0.859685      1.170761   \n",
       "emojis                         80020.0      0.745389      2.065471   \n",
       "gerundio                       80020.0      0.115371      0.365998   \n",
       "hashtags                       80020.0      0.746551      1.956394   \n",
       "infinitivo                     80020.0      0.468383      0.869573   \n",
       "longitud media palabras        80020.0      4.585310      1.663219   \n",
       "mayúsculas                     80020.0      4.415434      7.562196   \n",
       "menciones                      80020.0      0.316896      0.845950   \n",
       "modo imperativo                80020.0      0.021982      0.157236   \n",
       "modo indicativo                80020.0      1.369070      1.573961   \n",
       "modo subjuntivo                80020.0      0.130580      0.403415   \n",
       "números                        80020.0      0.191340      0.631841   \n",
       "palabras                       80020.0     14.792952     11.287164   \n",
       "palabras vacías                80020.0      7.342377      6.509239   \n",
       "participio                     80020.0      0.128993      0.416192   \n",
       "plural                         80020.0      0.345389      0.716540   \n",
       "primera persona                80020.0      0.402299      0.771766   \n",
       "segunda persona                80020.0      0.076856      0.336882   \n",
       "tercera persona                80020.0      1.068883      1.373920   \n",
       "proporción palabras correctas  80020.0      0.927628      0.147239   \n",
       "sentimiento medio emojis       80020.0      0.200353      0.390599   \n",
       "singular                       80020.0      1.202937      1.486781   \n",
       "sustantivos                    80020.0      2.446026      2.472483   \n",
       "tiempo condicional             80020.0      0.026718      0.172203   \n",
       "tiempo futuro                  80020.0      0.054049      0.255539   \n",
       "tiempo pasado                  80020.0      0.182279      0.563951   \n",
       "tiempo presente                80020.0      1.263322      1.506243   \n",
       "verbos                         80020.0      2.261347      2.512751   \n",
       "cambio1518                     80020.0     11.395114      5.245071   \n",
       "mediana                        80020.0  17111.168458   5075.413286   \n",
       "rentapais                      80020.0     55.104586     30.708806   \n",
       "rentacom                       80020.0     54.826293     29.565905   \n",
       "sentiment                      80020.0      0.111604      0.578545   \n",
       "\n",
       "                                       min           25%           50%  \\\n",
       "verified                          0.000000      0.000000      0.000000   \n",
       "friends_count                     0.000000    425.000000    774.000000   \n",
       "followers                         0.000000    390.000000    904.000000   \n",
       "tweets                            7.000000  10063.000000  33481.000000   \n",
       "URLs                              0.000000      0.000000      1.000000   \n",
       "adjetivos                         0.000000      0.000000      0.000000   \n",
       "emojis                            0.000000      0.000000      0.000000   \n",
       "gerundio                          0.000000      0.000000      0.000000   \n",
       "hashtags                          0.000000      0.000000      0.000000   \n",
       "infinitivo                        0.000000      0.000000      0.000000   \n",
       "longitud media palabras           0.000000      4.000000      4.444444   \n",
       "mayúsculas                        0.000000      1.000000      3.000000   \n",
       "menciones                         0.000000      0.000000      0.000000   \n",
       "modo imperativo                   0.000000      0.000000      0.000000   \n",
       "modo indicativo                   0.000000      0.000000      1.000000   \n",
       "modo subjuntivo                   0.000000      0.000000      0.000000   \n",
       "números                           0.000000      0.000000      0.000000   \n",
       "palabras                          0.000000      6.000000     11.000000   \n",
       "palabras vacías                   0.000000      2.000000      5.000000   \n",
       "participio                        0.000000      0.000000      0.000000   \n",
       "plural                            0.000000      0.000000      0.000000   \n",
       "primera persona                   0.000000      0.000000      0.000000   \n",
       "segunda persona                   0.000000      0.000000      0.000000   \n",
       "tercera persona                   0.000000      0.000000      1.000000   \n",
       "proporción palabras correctas     0.000000      0.909091      1.000000   \n",
       "sentimiento medio emojis          0.000000      0.000000      0.000000   \n",
       "singular                          0.000000      0.000000      1.000000   \n",
       "sustantivos                       0.000000      1.000000      2.000000   \n",
       "tiempo condicional                0.000000      0.000000      0.000000   \n",
       "tiempo futuro                     0.000000      0.000000      0.000000   \n",
       "tiempo pasado                     0.000000      0.000000      0.000000   \n",
       "tiempo presente                   0.000000      0.000000      1.000000   \n",
       "verbos                            0.000000      0.000000      2.000000   \n",
       "cambio1518                      -11.000000      8.000000     10.000000   \n",
       "mediana                        5950.000000  13650.000000  16450.000000   \n",
       "rentapais                         0.000000     29.000000     64.000000   \n",
       "rentacom                          0.500000     32.000000     62.000000   \n",
       "sentiment                        -0.999938     -0.307816      0.000000   \n",
       "\n",
       "                                        75%       max  \n",
       "verified                           0.000000       1.0  \n",
       "friends_count                   2018.000000   12824.0  \n",
       "followers                       2015.000000  242511.0  \n",
       "tweets                         83351.000000  619633.0  \n",
       "URLs                               1.000000       6.0  \n",
       "adjetivos                          1.000000      22.0  \n",
       "emojis                             1.000000     117.0  \n",
       "gerundio                           0.000000       5.0  \n",
       "hashtags                           1.000000      30.0  \n",
       "infinitivo                         1.000000      10.0  \n",
       "longitud media palabras            5.000000     280.0  \n",
       "mayúsculas                         5.000000     231.0  \n",
       "menciones                          0.000000      15.0  \n",
       "modo imperativo                    0.000000       9.0  \n",
       "modo indicativo                    2.000000      14.0  \n",
       "modo subjuntivo                    0.000000       6.0  \n",
       "números                            0.000000      33.0  \n",
       "palabras                          20.000000      66.0  \n",
       "palabras vacías                   10.000000      42.0  \n",
       "participio                         0.000000       6.0  \n",
       "plural                             0.000000       9.0  \n",
       "primera persona                    1.000000      10.0  \n",
       "segunda persona                    0.000000       8.0  \n",
       "tercera persona                    2.000000      14.0  \n",
       "proporción palabras correctas      1.000000       1.2  \n",
       "sentimiento medio emojis           0.000000       1.0  \n",
       "singular                           2.000000      14.0  \n",
       "sustantivos                        4.000000      22.0  \n",
       "tiempo condicional                 0.000000       3.0  \n",
       "tiempo futuro                      0.000000       6.0  \n",
       "tiempo pasado                      0.000000       9.0  \n",
       "tiempo presente                    2.000000      13.0  \n",
       "verbos                             3.000000      20.0  \n",
       "cambio1518                        15.000000      40.0  \n",
       "mediana                        19950.000000   36750.0  \n",
       "rentapais                         83.500000      99.5  \n",
       "rentacom                          80.500000      99.5  \n",
       "sentiment                          0.666416       1.0  "
      ]
     },
     "execution_count": 184,
     "metadata": {},
     "output_type": "execute_result"
    }
   ],
   "source": [
    "df1.describe().transpose()"
   ]
  },
  {
   "cell_type": "markdown",
   "metadata": {
    "id": "LQZDoG97_psk"
   },
   "source": [
    "Nos sorprende un poco la variable tweets ¿qué usuario tiene el máximo?"
   ]
  },
  {
   "cell_type": "code",
   "execution_count": 185,
   "metadata": {
    "id": "AN_VWVlKES4A"
   },
   "outputs": [
    {
     "data": {
      "text/plain": [
       "619633"
      ]
     },
     "execution_count": 185,
     "metadata": {},
     "output_type": "execute_result"
    }
   ],
   "source": [
    "df1.tweets.max()"
   ]
  },
  {
   "cell_type": "code",
   "execution_count": null,
   "metadata": {
    "id": "NC-Dvul9ES4A"
   },
   "outputs": [],
   "source": [
    "filtro = df.tweets == df.tweets.max()\n",
    "df[filtro]"
   ]
  },
  {
   "cell_type": "markdown",
   "metadata": {
    "id": "uhmfNokLGiwk"
   },
   "source": [
    "##### Histogramas\n",
    "Histograma de la mediana de rentas en la zona:"
   ]
  },
  {
   "cell_type": "code",
   "execution_count": 190,
   "metadata": {
    "id": "UdMHIWtiGCam"
   },
   "outputs": [
    {
     "data": {
      "text/plain": [
       "<AxesSubplot:>"
      ]
     },
     "execution_count": 190,
     "metadata": {},
     "output_type": "execute_result"
    },
    {
     "data": {
      "image/png": "[encoded data removed]",
      "text/plain": [
       "<Figure size 640x480 with 1 Axes>"
      ]
     },
     "metadata": {},
     "output_type": "display_data"
    }
   ],
   "source": [
    "df[\"mediana\"].hist(bins=20)"
   ]
  },
  {
   "cell_type": "code",
   "execution_count": 191,
   "metadata": {
    "id": "FWQ5PL12G5c1"
   },
   "outputs": [
    {
     "data": {
      "text/plain": [
       "<AxesSubplot:>"
      ]
     },
     "execution_count": 191,
     "metadata": {},
     "output_type": "execute_result"
    },
    {
     "data": {
      "image/png": "[encoded data removed]",
      "text/plain": [
       "<Figure size 640x480 with 1 Axes>"
      ]
     },
     "metadata": {},
     "output_type": "display_data"
    }
   ],
   "source": [
    "df[df[\"sentiment\"]!=0].sentiment.hist(bins=20)"
   ]
  },
  {
   "cell_type": "markdown",
   "metadata": {
    "id": "auN6WAaeFhkN"
   },
   "source": [
    "##### Número de valores distintos\n",
    "Queremos ver cuántos usuarios distintos hay, es decir cuántos valores distintos toma la columna screen_name. Esto nos lo dará la función `unique`"
   ]
  },
  {
   "cell_type": "code",
   "execution_count": 192,
   "metadata": {
    "id": "jlow-5eGF08-"
   },
   "outputs": [
    {
     "data": {
      "text/plain": [
       "array(['heryartes', 'sevilolo1974', 'ojosdeltigre', ..., 'RococoDecora',\n",
       "       'sr_boca', 'EdixonTech'], dtype=object)"
      ]
     },
     "execution_count": 192,
     "metadata": {},
     "output_type": "execute_result"
    }
   ],
   "source": [
    "l = df.screen_name.unique()\n",
    "l"
   ]
  },
  {
   "cell_type": "code",
   "execution_count": 193,
   "metadata": {
    "id": "7QtJ6X76F-EW"
   },
   "outputs": [
    {
     "name": "stdout",
     "output_type": "stream",
     "text": [
      "Hay 1252 usuarios distintos\n"
     ]
    }
   ],
   "source": [
    "print(f\"Hay {len(l)} usuarios distintos\")"
   ]
  },
  {
   "cell_type": "markdown",
   "metadata": {
    "id": "y3g5DjCzFsrU"
   },
   "source": [
    "##### Frecuencia de los valores\n",
    "\n",
    "Número de valores diferentes y frecuencia de cada valor para el campo \n",
    "`verified` con `value_counts`"
   ]
  },
  {
   "cell_type": "code",
   "execution_count": 204,
   "metadata": {
    "id": "NsCMgtMtHjK9"
   },
   "outputs": [
    {
     "data": {
      "text/plain": [
       "0    78955\n",
       "1     1065\n",
       "Name: verified, dtype: int64"
      ]
     },
     "execution_count": 204,
     "metadata": {},
     "output_type": "execute_result"
    }
   ],
   "source": [
    "df.verified.value_counts()"
   ]
  },
  {
   "cell_type": "markdown",
   "metadata": {
    "id": "0fya-Z6CH45u"
   },
   "source": [
    "Tweets repetidos (campo text)"
   ]
  },
  {
   "cell_type": "code",
   "execution_count": 201,
   "metadata": {
    "id": "oItL0boOH5L9"
   },
   "outputs": [
    {
     "data": {
      "text/plain": [
       "607"
      ]
     },
     "execution_count": 201,
     "metadata": {},
     "output_type": "execute_result"
    }
   ],
   "source": [
    "df[\"text\"].duplicated().sum()"
   ]
  },
  {
   "cell_type": "markdown",
   "metadata": {
    "id": "095qMFREIPm-"
   },
   "source": [
    "\n",
    "##### Ejemplo (con algunas cosas nuevas)\n",
    "\n",
    "Comprobar si el sentimiento medio de los tweets de los usuarios verificados es mejor que el de los usuarios no verificados"
   ]
  },
  {
   "cell_type": "code",
   "execution_count": 205,
   "metadata": {
    "id": "UpG-rEgqIP21"
   },
   "outputs": [
    {
     "data": {
      "text/plain": [
       "verified\n",
       "0    0.110699\n",
       "1    0.178736\n",
       "Name: sentiment, dtype: float64"
      ]
     },
     "execution_count": 205,
     "metadata": {},
     "output_type": "execute_result"
    }
   ],
   "source": [
    "grupo = df['sentiment'].groupby(df['verified'])\n",
    "grupo.mean()"
   ]
  },
  {
   "cell_type": "markdown",
   "metadata": {
    "id": "3CJP93-YIm7I"
   },
   "source": [
    "Ver si los tweets de los usuarios que viven en zonas de renta más alta expresan un sentimiento más positivo que los de las zonas de renta más baja."
   ]
  },
  {
   "cell_type": "code",
   "execution_count": 206,
   "metadata": {
    "id": "WEc6MSTRI0cW"
   },
   "outputs": [],
   "source": [
    "media = df.mediana.mean()\n",
    "std = df.mediana.std()\n",
    "rentaalta =  df[df.mediana > media + 0.5*std]\n",
    "rentabaja = df[df.mediana < media  - 0.5*std]"
   ]
  },
  {
   "cell_type": "code",
   "execution_count": 207,
   "metadata": {
    "id": "GAcGPb2JJMHt"
   },
   "outputs": [
    {
     "data": {
      "text/plain": [
       "(20728, 26846)"
      ]
     },
     "execution_count": 207,
     "metadata": {},
     "output_type": "execute_result"
    }
   ],
   "source": [
    "len(rentaalta), len(rentabaja)"
   ]
  },
  {
   "cell_type": "code",
   "execution_count": 208,
   "metadata": {
    "id": "exTMOh2nJVNO"
   },
   "outputs": [
    {
     "data": {
      "text/plain": [
       "(0.14253522115013506, 0.11720796952991135)"
      ]
     },
     "execution_count": 208,
     "metadata": {},
     "output_type": "execute_result"
    }
   ],
   "source": [
    "rentaalta.sentiment.mean(), rentabaja.sentiment.mean()"
   ]
  },
  {
   "cell_type": "markdown",
   "metadata": {
    "id": "7kpXFbnkES4A"
   },
   "source": [
    "\n",
    "**Correlaciones**\n",
    "\n",
    "Se puede hacer la correlación de dos columnas o de todas ellas. Vamos a obtenerlas para los contaminantes"
   ]
  },
  {
   "cell_type": "code",
   "execution_count": 209,
   "metadata": {
    "id": "1glroS8xES4A"
   },
   "outputs": [
    {
     "data": {
      "text/plain": [
       "Index(['ANO', 'MES', 'DIA', 'HORA', 'CO', 'NO', 'NO2', 'PM2.5', 'PM10', 'NOx',\n",
       "       'O3', 'fechaH', 'fecha', 'festivo'],\n",
       "      dtype='object')"
      ]
     },
     "execution_count": 209,
     "metadata": {},
     "output_type": "execute_result"
    }
   ],
   "source": [
    "fileIn = \"https://raw.githubusercontent.com/RafaelCaballero/tdm/master/datos/madrid/contaminacionPlazaElipticaLargo.csv\"\n",
    "df_cont = pd.read_csv(fileIn)\n",
    "df_cont.columns"
   ]
  },
  {
   "cell_type": "code",
   "execution_count": 210,
   "metadata": {
    "id": "SC9sOoBOES4A"
   },
   "outputs": [
    {
     "data": {
      "text/html": [
       "<div>\n",
       "<style scoped>\n",
       "    .dataframe tbody tr th:only-of-type {\n",
       "        vertical-align: middle;\n",
       "    }\n",
       "\n",
       "    .dataframe tbody tr th {\n",
       "        vertical-align: top;\n",
       "    }\n",
       "\n",
       "    .dataframe thead th {\n",
       "        text-align: right;\n",
       "    }\n",
       "</style>\n",
       "<table border=\"1\" class=\"dataframe\">\n",
       "  <thead>\n",
       "    <tr style=\"text-align: right;\">\n",
       "      <th></th>\n",
       "      <th>CO</th>\n",
       "      <th>NO</th>\n",
       "      <th>NO2</th>\n",
       "      <th>PM2.5</th>\n",
       "      <th>PM10</th>\n",
       "      <th>NOx</th>\n",
       "      <th>O3</th>\n",
       "    </tr>\n",
       "  </thead>\n",
       "  <tbody>\n",
       "    <tr>\n",
       "      <th>CO</th>\n",
       "      <td>1.000000</td>\n",
       "      <td>0.877149</td>\n",
       "      <td>0.793013</td>\n",
       "      <td>0.543806</td>\n",
       "      <td>0.509512</td>\n",
       "      <td>0.896860</td>\n",
       "      <td>-0.561398</td>\n",
       "    </tr>\n",
       "    <tr>\n",
       "      <th>NO</th>\n",
       "      <td>0.877149</td>\n",
       "      <td>1.000000</td>\n",
       "      <td>0.796917</td>\n",
       "      <td>0.533687</td>\n",
       "      <td>0.492140</td>\n",
       "      <td>0.981866</td>\n",
       "      <td>-0.511486</td>\n",
       "    </tr>\n",
       "    <tr>\n",
       "      <th>NO2</th>\n",
       "      <td>0.793013</td>\n",
       "      <td>0.796917</td>\n",
       "      <td>1.000000</td>\n",
       "      <td>0.543910</td>\n",
       "      <td>0.534104</td>\n",
       "      <td>0.891199</td>\n",
       "      <td>-0.617220</td>\n",
       "    </tr>\n",
       "    <tr>\n",
       "      <th>PM2.5</th>\n",
       "      <td>0.543806</td>\n",
       "      <td>0.533687</td>\n",
       "      <td>0.543910</td>\n",
       "      <td>1.000000</td>\n",
       "      <td>0.880041</td>\n",
       "      <td>0.572038</td>\n",
       "      <td>-0.399222</td>\n",
       "    </tr>\n",
       "    <tr>\n",
       "      <th>PM10</th>\n",
       "      <td>0.509512</td>\n",
       "      <td>0.492140</td>\n",
       "      <td>0.534104</td>\n",
       "      <td>0.880041</td>\n",
       "      <td>1.000000</td>\n",
       "      <td>0.537852</td>\n",
       "      <td>-0.344448</td>\n",
       "    </tr>\n",
       "    <tr>\n",
       "      <th>NOx</th>\n",
       "      <td>0.896860</td>\n",
       "      <td>0.981866</td>\n",
       "      <td>0.891199</td>\n",
       "      <td>0.572038</td>\n",
       "      <td>0.537852</td>\n",
       "      <td>1.000000</td>\n",
       "      <td>-0.560935</td>\n",
       "    </tr>\n",
       "    <tr>\n",
       "      <th>O3</th>\n",
       "      <td>-0.561398</td>\n",
       "      <td>-0.511486</td>\n",
       "      <td>-0.617220</td>\n",
       "      <td>-0.399222</td>\n",
       "      <td>-0.344448</td>\n",
       "      <td>-0.560935</td>\n",
       "      <td>1.000000</td>\n",
       "    </tr>\n",
       "  </tbody>\n",
       "</table>\n",
       "</div>"
      ],
      "text/plain": [
       "             CO        NO       NO2     PM2.5      PM10       NOx        O3\n",
       "CO     1.000000  0.877149  0.793013  0.543806  0.509512  0.896860 -0.561398\n",
       "NO     0.877149  1.000000  0.796917  0.533687  0.492140  0.981866 -0.511486\n",
       "NO2    0.793013  0.796917  1.000000  0.543910  0.534104  0.891199 -0.617220\n",
       "PM2.5  0.543806  0.533687  0.543910  1.000000  0.880041  0.572038 -0.399222\n",
       "PM10   0.509512  0.492140  0.534104  0.880041  1.000000  0.537852 -0.344448\n",
       "NOx    0.896860  0.981866  0.891199  0.572038  0.537852  1.000000 -0.560935\n",
       "O3    -0.561398 -0.511486 -0.617220 -0.399222 -0.344448 -0.560935  1.000000"
      ]
     },
     "execution_count": 210,
     "metadata": {},
     "output_type": "execute_result"
    }
   ],
   "source": [
    "contaminantes = ['CO', 'NO', 'NO2', 'PM2.5', 'PM10', 'NOx','O3']\n",
    "c = df_cont[contaminantes].corr()\n",
    "c"
   ]
  },
  {
   "cell_type": "markdown",
   "metadata": {
    "id": "2vGmGgqJbLoQ"
   },
   "source": [
    "Una forma gráfica de mostrar correlaciones"
   ]
  },
  {
   "cell_type": "code",
   "execution_count": 212,
   "metadata": {
    "id": "tauXVFrcMng9",
    "scrolled": true
   },
   "outputs": [
    {
     "data": {
      "image/png": "[encoded data removed]",
      "text/plain": [
       "<Figure size 600x600 with 2 Axes>"
      ]
     },
     "metadata": {},
     "output_type": "display_data"
    }
   ],
   "source": [
    "import pandas as pd\n",
    "import numpy as np\n",
    "import seaborn as sns\n",
    "import matplotlib.pyplot as plt\n",
    "\n",
    "correlaciones = round(c,2)\n",
    "\n",
    "plt.figure(figsize=(6, 6),dpi=100)\n",
    "# Store heatmap object in a variable to easily access it when you want to include more features (such as title).\n",
    "# Set the range of values to be displayed on the colormap from -1 to 1, and set the annotation to True to display\n",
    "#the correlation values on the heatmap.\n",
    "heatmap = sns.heatmap(correlaciones, vmin=-1, vmax=1, annot=True, center=1)\n",
    "heatmap.set_title('Correlation Heatmap', fontdict={'fontsize':12}, pad=12);"
   ]
  },
  {
   "cell_type": "markdown",
   "metadata": {
    "id": "AHAkYmpGNubG"
   },
   "source": [
    "Hay muchos otros tipos de gráficos que se pueden hacer, por ejemplo [aquí](https://seaborn.pydata.org/tutorial/categorical.html) hay varios ejemplos de relaciones entre variables categóricas y continuas"
   ]
  },
  {
   "cell_type": "code",
   "execution_count": 213,
   "metadata": {
    "id": "pjgWBkAiN2qW"
   },
   "outputs": [
    {
     "data": {
      "text/plain": [
       "Index(['id', 'screen_name', 'text', 'location', 'localidad', 'provincia',\n",
       "       'distrito', 'seccion', 'hora', 'verified', 'friends_count', 'followers',\n",
       "       'tweets', ''¡'', ''!'', ''¿'', ''?'', 'URLs', 'adjetivos', 'emojis',\n",
       "       'gerundio', 'hashtags', 'infinitivo', 'longitud media palabras',\n",
       "       'mayúsculas', 'menciones', 'modo imperativo', 'modo indicativo',\n",
       "       'modo subjuntivo', 'números', 'palabras', 'palabras vacías',\n",
       "       'participio', 'plural', 'primera persona', 'segunda persona',\n",
       "       'tercera persona', 'proporción palabras correctas',\n",
       "       'sentimiento medio emojis', 'singular', 'sustantivos',\n",
       "       'tiempo condicional', 'tiempo futuro', 'tiempo pasado',\n",
       "       'tiempo presente', 'verbos', 'cambio1518', 'mediana', 'rentapais',\n",
       "       'rentacom', 'sentiment'],\n",
       "      dtype='object')"
      ]
     },
     "execution_count": 213,
     "metadata": {},
     "output_type": "execute_result"
    }
   ],
   "source": [
    "fileIn = \"https://raw.githubusercontent.com/RafaelCaballero/tdm/master/datos/tweet_feat_renta.csv\"\n",
    "import pandas as pd\n",
    "df = pd.read_csv(fileIn)\n",
    "df.columns"
   ]
  },
  {
   "cell_type": "code",
   "execution_count": 214,
   "metadata": {
    "id": "ofSp41RoOIxV"
   },
   "outputs": [
    {
     "data": {
      "text/plain": [
       "<seaborn.axisgrid.FacetGrid at 0x7f85d21944f0>"
      ]
     },
     "execution_count": 214,
     "metadata": {},
     "output_type": "execute_result"
    },
    {
     "data": {
      "image/png": "[encoded data removed]",
      "text/plain": [
       "<Figure size 500x500 with 1 Axes>"
      ]
     },
     "metadata": {},
     "output_type": "display_data"
    }
   ],
   "source": [
    "sns.catplot(x=\"verified\", y=\"sentiment\",  kind=\"box\", data=df)"
   ]
  },
  {
   "cell_type": "code",
   "execution_count": 215,
   "metadata": {
    "id": "FfQlGV7OOxKu"
   },
   "outputs": [
    {
     "data": {
      "text/plain": [
       "<seaborn.axisgrid.FacetGrid at 0x7f85d56208e0>"
      ]
     },
     "execution_count": 215,
     "metadata": {},
     "output_type": "execute_result"
    },
    {
     "data": {
      "image/png": "[encoded data removed]",
      "text/plain": [
       "<Figure size 500x500 with 1 Axes>"
      ]
     },
     "metadata": {},
     "output_type": "display_data"
    }
   ],
   "source": [
    "sns.catplot(x=\"verified\", y=\"hora\", kind=\"box\", data=df)"
   ]
  },
  {
   "cell_type": "code",
   "execution_count": 216,
   "metadata": {
    "id": "_D8RJOJZRuAm"
   },
   "outputs": [
    {
     "data": {
      "text/plain": [
       "<AxesSubplot:xlabel='hora', ylabel='sentiment'>"
      ]
     },
     "execution_count": 216,
     "metadata": {},
     "output_type": "execute_result"
    },
    {
     "data": {
      "image/png": "[encoded data removed]",
      "text/plain": [
       "<Figure size 1600x600 with 1 Axes>"
      ]
     },
     "metadata": {},
     "output_type": "display_data"
    }
   ],
   "source": [
    "dfh = df[(df.hora>=0)]\n",
    "fig, ax = plt.subplots(figsize=(16, 6),dpi=100)\n",
    "sns.boxplot(ax=ax, x=\"hora\", y=\"sentiment\", data=df)"
   ]
  },
  {
   "cell_type": "markdown",
   "metadata": {
    "id": "MWJxWvDwES33"
   },
   "source": [
    "### Índices"
   ]
  },
  {
   "cell_type": "markdown",
   "metadata": {
    "id": "RrsilsIcES33"
   },
   "source": [
    "Ya hemos visto unas cuantas cosas sobre los índices\n",
    "\n",
    "- Se usan para referenciar fila\n",
    "- Se puede acceder con loc\n",
    "- Hay índices de tipos diversos\n",
    "\n",
    "Algunas cosas nuevas:\n",
    "\n"
   ]
  },
  {
   "cell_type": "code",
   "execution_count": 221,
   "metadata": {
    "id": "Fyn_XKQ-ES33"
   },
   "outputs": [],
   "source": [
    "import pandas as pd\n",
    "import numpy as np\n",
    "data = [[1,2,3,4,5,6,7],\n",
    "        [1,2,0,0,0,6,7],\n",
    "        [1,2,0,0,0,6,7],\n",
    "        [1,2,0,0,0,6,7],\n",
    "        [1,2,3,4,5,6,7],\n",
    "       ]\n",
    "df1 = pd.DataFrame(data, columns=[chr(ord('a')+i) for i in range(len(data[0]))],\n",
    "               index = ['i'+chr(ord('a')+i) for i in range(len(data))])\n",
    "df2 = pd.DataFrame(data, columns=[chr(ord('a')+i) for i in range(len(data[0]))],\n",
    "               index = [i-1 for i in range(len(data),0,-1)])\n",
    "df3 = pd.DataFrame(data, columns=[chr(ord('a')+i) for i in range(len(data[0]))],\n",
    "               index = [np.random.randint(3) for i in range(len(data),0,-1)])\n"
   ]
  },
  {
   "cell_type": "code",
   "execution_count": 222,
   "metadata": {
    "id": "2M4IeHD4ES33"
   },
   "outputs": [
    {
     "name": "stdout",
     "output_type": "stream",
     "text": [
      "    a  b  c  d  e  f  g\n",
      "ia  1  2  3  4  5  6  7\n",
      "ib  1  2  0  0  0  6  7\n",
      "ic  1  2  0  0  0  6  7\n",
      "id  1  2  0  0  0  6  7\n",
      "ie  1  2  3  4  5  6  7\n",
      "   a  b  c  d  e  f  g\n",
      "4  1  2  3  4  5  6  7\n",
      "3  1  2  0  0  0  6  7\n",
      "2  1  2  0  0  0  6  7\n",
      "1  1  2  0  0  0  6  7\n",
      "0  1  2  3  4  5  6  7\n",
      "   a  b  c  d  e  f  g\n",
      "0  1  2  3  4  5  6  7\n",
      "0  1  2  0  0  0  6  7\n",
      "0  1  2  0  0  0  6  7\n",
      "2  1  2  0  0  0  6  7\n",
      "1  1  2  3  4  5  6  7\n"
     ]
    }
   ],
   "source": [
    "print(df1,df2,df3,sep=\"\\n\")"
   ]
  },
  {
   "cell_type": "markdown",
   "metadata": {
    "id": "d9Zbk_DkES33"
   },
   "source": [
    "A menudo interesa asegurarse de si es monótono creciente."
   ]
  },
  {
   "cell_type": "code",
   "execution_count": 223,
   "metadata": {
    "id": "qU8la-mXES34"
   },
   "outputs": [
    {
     "data": {
      "text/plain": [
       "(True, False, False)"
      ]
     },
     "execution_count": 223,
     "metadata": {},
     "output_type": "execute_result"
    }
   ],
   "source": [
    "df1.index.is_monotonic, df2.index.is_monotonic, df3.index.is_monotonic"
   ]
  },
  {
   "cell_type": "markdown",
   "metadata": {
    "id": "y0QWrzL3ES34"
   },
   "source": [
    "También de si hay valores repetidos"
   ]
  },
  {
   "cell_type": "code",
   "execution_count": 224,
   "metadata": {
    "id": "i3wjc9MqES34"
   },
   "outputs": [
    {
     "data": {
      "text/plain": [
       "(True, True, False)"
      ]
     },
     "execution_count": 224,
     "metadata": {},
     "output_type": "execute_result"
    }
   ],
   "source": [
    "df1.index.is_unique, df2.index.is_unique, df3.index.is_unique"
   ]
  },
  {
   "cell_type": "markdown",
   "metadata": {
    "id": "79-c0uoqES34"
   },
   "source": [
    "En caso de que no sea único podemos querer obtener los valores distintos"
   ]
  },
  {
   "cell_type": "code",
   "execution_count": 225,
   "metadata": {
    "id": "HHMnQjSFES34"
   },
   "outputs": [
    {
     "data": {
      "text/plain": [
       "Int64Index([0, 2, 1], dtype='int64')"
      ]
     },
     "execution_count": 225,
     "metadata": {},
     "output_type": "execute_result"
    }
   ],
   "source": [
    "df3.index.unique()"
   ]
  },
  {
   "cell_type": "markdown",
   "metadata": {
    "id": "VAY23XcwES34"
   },
   "source": [
    "Una de las operaciones más básicas, que haremos a menudo es reindexar:"
   ]
  },
  {
   "cell_type": "code",
   "execution_count": 226,
   "metadata": {
    "id": "JwRds067ES35"
   },
   "outputs": [
    {
     "data": {
      "text/html": [
       "<div>\n",
       "<style scoped>\n",
       "    .dataframe tbody tr th:only-of-type {\n",
       "        vertical-align: middle;\n",
       "    }\n",
       "\n",
       "    .dataframe tbody tr th {\n",
       "        vertical-align: top;\n",
       "    }\n",
       "\n",
       "    .dataframe thead th {\n",
       "        text-align: right;\n",
       "    }\n",
       "</style>\n",
       "<table border=\"1\" class=\"dataframe\">\n",
       "  <thead>\n",
       "    <tr style=\"text-align: right;\">\n",
       "      <th></th>\n",
       "      <th>a</th>\n",
       "      <th>b</th>\n",
       "      <th>c</th>\n",
       "      <th>d</th>\n",
       "      <th>e</th>\n",
       "      <th>f</th>\n",
       "      <th>g</th>\n",
       "    </tr>\n",
       "  </thead>\n",
       "  <tbody>\n",
       "    <tr>\n",
       "      <th>1</th>\n",
       "      <td>1.0</td>\n",
       "      <td>2.0</td>\n",
       "      <td>0.0</td>\n",
       "      <td>0.0</td>\n",
       "      <td>0.0</td>\n",
       "      <td>6.0</td>\n",
       "      <td>7.0</td>\n",
       "    </tr>\n",
       "    <tr>\n",
       "      <th>2</th>\n",
       "      <td>1.0</td>\n",
       "      <td>2.0</td>\n",
       "      <td>0.0</td>\n",
       "      <td>0.0</td>\n",
       "      <td>0.0</td>\n",
       "      <td>6.0</td>\n",
       "      <td>7.0</td>\n",
       "    </tr>\n",
       "    <tr>\n",
       "      <th>3</th>\n",
       "      <td>1.0</td>\n",
       "      <td>2.0</td>\n",
       "      <td>0.0</td>\n",
       "      <td>0.0</td>\n",
       "      <td>0.0</td>\n",
       "      <td>6.0</td>\n",
       "      <td>7.0</td>\n",
       "    </tr>\n",
       "    <tr>\n",
       "      <th>4</th>\n",
       "      <td>1.0</td>\n",
       "      <td>2.0</td>\n",
       "      <td>3.0</td>\n",
       "      <td>4.0</td>\n",
       "      <td>5.0</td>\n",
       "      <td>6.0</td>\n",
       "      <td>7.0</td>\n",
       "    </tr>\n",
       "    <tr>\n",
       "      <th>5</th>\n",
       "      <td>NaN</td>\n",
       "      <td>NaN</td>\n",
       "      <td>NaN</td>\n",
       "      <td>NaN</td>\n",
       "      <td>NaN</td>\n",
       "      <td>NaN</td>\n",
       "      <td>NaN</td>\n",
       "    </tr>\n",
       "  </tbody>\n",
       "</table>\n",
       "</div>"
      ],
      "text/plain": [
       "     a    b    c    d    e    f    g\n",
       "1  1.0  2.0  0.0  0.0  0.0  6.0  7.0\n",
       "2  1.0  2.0  0.0  0.0  0.0  6.0  7.0\n",
       "3  1.0  2.0  0.0  0.0  0.0  6.0  7.0\n",
       "4  1.0  2.0  3.0  4.0  5.0  6.0  7.0\n",
       "5  NaN  NaN  NaN  NaN  NaN  NaN  NaN"
      ]
     },
     "execution_count": 226,
     "metadata": {},
     "output_type": "execute_result"
    }
   ],
   "source": [
    "\n",
    "df4 = df2.reindex([1,2,3,4,5])\n",
    "df4\n"
   ]
  },
  {
   "cell_type": "markdown",
   "metadata": {
    "id": "cp1lzMzTES35"
   },
   "source": [
    "- ¿Por qué necesitamos hacer df4 y no queda modificado df2? Porque los índices son inmutables. Para que se cambie en el propio DataFram usar el argumento `inplace=True`\n",
    "\n",
    "- ¿Por qué aparecen los NaN? (pensar...)\n"
   ]
  },
  {
   "cell_type": "code",
   "execution_count": 228,
   "metadata": {
    "id": "KXJzHM3dES35"
   },
   "outputs": [
    {
     "data": {
      "text/html": [
       "<div>\n",
       "<style scoped>\n",
       "    .dataframe tbody tr th:only-of-type {\n",
       "        vertical-align: middle;\n",
       "    }\n",
       "\n",
       "    .dataframe tbody tr th {\n",
       "        vertical-align: top;\n",
       "    }\n",
       "\n",
       "    .dataframe thead th {\n",
       "        text-align: right;\n",
       "    }\n",
       "</style>\n",
       "<table border=\"1\" class=\"dataframe\">\n",
       "  <thead>\n",
       "    <tr style=\"text-align: right;\">\n",
       "      <th></th>\n",
       "      <th>a</th>\n",
       "      <th>b</th>\n",
       "      <th>c</th>\n",
       "      <th>d</th>\n",
       "      <th>e</th>\n",
       "      <th>f</th>\n",
       "      <th>g</th>\n",
       "    </tr>\n",
       "  </thead>\n",
       "  <tbody>\n",
       "    <tr>\n",
       "      <th>1</th>\n",
       "      <td>1</td>\n",
       "      <td>2</td>\n",
       "      <td>0</td>\n",
       "      <td>0</td>\n",
       "      <td>0</td>\n",
       "      <td>6</td>\n",
       "      <td>7</td>\n",
       "    </tr>\n",
       "    <tr>\n",
       "      <th>2</th>\n",
       "      <td>1</td>\n",
       "      <td>2</td>\n",
       "      <td>0</td>\n",
       "      <td>0</td>\n",
       "      <td>0</td>\n",
       "      <td>6</td>\n",
       "      <td>7</td>\n",
       "    </tr>\n",
       "    <tr>\n",
       "      <th>3</th>\n",
       "      <td>1</td>\n",
       "      <td>2</td>\n",
       "      <td>0</td>\n",
       "      <td>0</td>\n",
       "      <td>0</td>\n",
       "      <td>6</td>\n",
       "      <td>7</td>\n",
       "    </tr>\n",
       "    <tr>\n",
       "      <th>4</th>\n",
       "      <td>1</td>\n",
       "      <td>2</td>\n",
       "      <td>3</td>\n",
       "      <td>4</td>\n",
       "      <td>5</td>\n",
       "      <td>6</td>\n",
       "      <td>7</td>\n",
       "    </tr>\n",
       "    <tr>\n",
       "      <th>5</th>\n",
       "      <td>0</td>\n",
       "      <td>0</td>\n",
       "      <td>0</td>\n",
       "      <td>0</td>\n",
       "      <td>0</td>\n",
       "      <td>0</td>\n",
       "      <td>0</td>\n",
       "    </tr>\n",
       "  </tbody>\n",
       "</table>\n",
       "</div>"
      ],
      "text/plain": [
       "   a  b  c  d  e  f  g\n",
       "1  1  2  0  0  0  6  7\n",
       "2  1  2  0  0  0  6  7\n",
       "3  1  2  0  0  0  6  7\n",
       "4  1  2  3  4  5  6  7\n",
       "5  0  0  0  0  0  0  0"
      ]
     },
     "execution_count": 228,
     "metadata": {},
     "output_type": "execute_result"
    }
   ],
   "source": [
    "df4 = df2.reindex([1,2,3,4,5],fill_value=0)\n",
    "df4"
   ]
  },
  {
   "cell_type": "markdown",
   "metadata": {
    "id": "M8KRR5fCES35"
   },
   "source": [
    "También vale para columnas"
   ]
  },
  {
   "cell_type": "code",
   "execution_count": 229,
   "metadata": {
    "id": "YYJu6sIzES35"
   },
   "outputs": [
    {
     "data": {
      "text/html": [
       "<div>\n",
       "<style scoped>\n",
       "    .dataframe tbody tr th:only-of-type {\n",
       "        vertical-align: middle;\n",
       "    }\n",
       "\n",
       "    .dataframe tbody tr th {\n",
       "        vertical-align: top;\n",
       "    }\n",
       "\n",
       "    .dataframe thead th {\n",
       "        text-align: right;\n",
       "    }\n",
       "</style>\n",
       "<table border=\"1\" class=\"dataframe\">\n",
       "  <thead>\n",
       "    <tr style=\"text-align: right;\">\n",
       "      <th></th>\n",
       "      <th>1</th>\n",
       "      <th>2</th>\n",
       "      <th>3</th>\n",
       "      <th>4</th>\n",
       "      <th>5</th>\n",
       "    </tr>\n",
       "  </thead>\n",
       "  <tbody>\n",
       "    <tr>\n",
       "      <th>4</th>\n",
       "      <td>-1</td>\n",
       "      <td>-1</td>\n",
       "      <td>-1</td>\n",
       "      <td>-1</td>\n",
       "      <td>-1</td>\n",
       "    </tr>\n",
       "    <tr>\n",
       "      <th>3</th>\n",
       "      <td>-1</td>\n",
       "      <td>-1</td>\n",
       "      <td>-1</td>\n",
       "      <td>-1</td>\n",
       "      <td>-1</td>\n",
       "    </tr>\n",
       "    <tr>\n",
       "      <th>2</th>\n",
       "      <td>-1</td>\n",
       "      <td>-1</td>\n",
       "      <td>-1</td>\n",
       "      <td>-1</td>\n",
       "      <td>-1</td>\n",
       "    </tr>\n",
       "    <tr>\n",
       "      <th>1</th>\n",
       "      <td>-1</td>\n",
       "      <td>-1</td>\n",
       "      <td>-1</td>\n",
       "      <td>-1</td>\n",
       "      <td>-1</td>\n",
       "    </tr>\n",
       "    <tr>\n",
       "      <th>0</th>\n",
       "      <td>-1</td>\n",
       "      <td>-1</td>\n",
       "      <td>-1</td>\n",
       "      <td>-1</td>\n",
       "      <td>-1</td>\n",
       "    </tr>\n",
       "  </tbody>\n",
       "</table>\n",
       "</div>"
      ],
      "text/plain": [
       "   1  2  3  4  5\n",
       "4 -1 -1 -1 -1 -1\n",
       "3 -1 -1 -1 -1 -1\n",
       "2 -1 -1 -1 -1 -1\n",
       "1 -1 -1 -1 -1 -1\n",
       "0 -1 -1 -1 -1 -1"
      ]
     },
     "execution_count": 229,
     "metadata": {},
     "output_type": "execute_result"
    }
   ],
   "source": [
    "df4 = df2.reindex(columns=[1,2,3,4,5],fill_value=-1)\n",
    "df4"
   ]
  },
  {
   "cell_type": "markdown",
   "metadata": {
    "id": "QaIsieKfES36"
   },
   "source": [
    "Esto es un poco desastre. ¿No podemos solo cambiar los índices sin cargarnos todo? La solución es `reset_index()`"
   ]
  },
  {
   "cell_type": "code",
   "execution_count": 230,
   "metadata": {
    "id": "ZYH0UHN0ES36"
   },
   "outputs": [
    {
     "data": {
      "text/html": [
       "<div>\n",
       "<style scoped>\n",
       "    .dataframe tbody tr th:only-of-type {\n",
       "        vertical-align: middle;\n",
       "    }\n",
       "\n",
       "    .dataframe tbody tr th {\n",
       "        vertical-align: top;\n",
       "    }\n",
       "\n",
       "    .dataframe thead th {\n",
       "        text-align: right;\n",
       "    }\n",
       "</style>\n",
       "<table border=\"1\" class=\"dataframe\">\n",
       "  <thead>\n",
       "    <tr style=\"text-align: right;\">\n",
       "      <th></th>\n",
       "      <th>a</th>\n",
       "      <th>b</th>\n",
       "      <th>c</th>\n",
       "      <th>d</th>\n",
       "      <th>e</th>\n",
       "      <th>f</th>\n",
       "      <th>g</th>\n",
       "    </tr>\n",
       "  </thead>\n",
       "  <tbody>\n",
       "    <tr>\n",
       "      <th>4</th>\n",
       "      <td>1</td>\n",
       "      <td>2</td>\n",
       "      <td>3</td>\n",
       "      <td>4</td>\n",
       "      <td>5</td>\n",
       "      <td>6</td>\n",
       "      <td>7</td>\n",
       "    </tr>\n",
       "    <tr>\n",
       "      <th>3</th>\n",
       "      <td>1</td>\n",
       "      <td>2</td>\n",
       "      <td>0</td>\n",
       "      <td>0</td>\n",
       "      <td>0</td>\n",
       "      <td>6</td>\n",
       "      <td>7</td>\n",
       "    </tr>\n",
       "    <tr>\n",
       "      <th>2</th>\n",
       "      <td>1</td>\n",
       "      <td>2</td>\n",
       "      <td>0</td>\n",
       "      <td>0</td>\n",
       "      <td>0</td>\n",
       "      <td>6</td>\n",
       "      <td>7</td>\n",
       "    </tr>\n",
       "    <tr>\n",
       "      <th>1</th>\n",
       "      <td>1</td>\n",
       "      <td>2</td>\n",
       "      <td>0</td>\n",
       "      <td>0</td>\n",
       "      <td>0</td>\n",
       "      <td>6</td>\n",
       "      <td>7</td>\n",
       "    </tr>\n",
       "    <tr>\n",
       "      <th>0</th>\n",
       "      <td>1</td>\n",
       "      <td>2</td>\n",
       "      <td>3</td>\n",
       "      <td>4</td>\n",
       "      <td>5</td>\n",
       "      <td>6</td>\n",
       "      <td>7</td>\n",
       "    </tr>\n",
       "  </tbody>\n",
       "</table>\n",
       "</div>"
      ],
      "text/plain": [
       "   a  b  c  d  e  f  g\n",
       "4  1  2  3  4  5  6  7\n",
       "3  1  2  0  0  0  6  7\n",
       "2  1  2  0  0  0  6  7\n",
       "1  1  2  0  0  0  6  7\n",
       "0  1  2  3  4  5  6  7"
      ]
     },
     "execution_count": 230,
     "metadata": {},
     "output_type": "execute_result"
    }
   ],
   "source": [
    "df2 = DataFrame(data, columns=[chr(ord('a')+i) for i in range(len(data[0]))],\n",
    "               index = [i-1 for i in range(len(data),0,-1)])\n",
    "df2"
   ]
  },
  {
   "cell_type": "code",
   "execution_count": 231,
   "metadata": {
    "id": "UaHLod6rES36"
   },
   "outputs": [
    {
     "data": {
      "text/html": [
       "<div>\n",
       "<style scoped>\n",
       "    .dataframe tbody tr th:only-of-type {\n",
       "        vertical-align: middle;\n",
       "    }\n",
       "\n",
       "    .dataframe tbody tr th {\n",
       "        vertical-align: top;\n",
       "    }\n",
       "\n",
       "    .dataframe thead th {\n",
       "        text-align: right;\n",
       "    }\n",
       "</style>\n",
       "<table border=\"1\" class=\"dataframe\">\n",
       "  <thead>\n",
       "    <tr style=\"text-align: right;\">\n",
       "      <th></th>\n",
       "      <th>index</th>\n",
       "      <th>a</th>\n",
       "      <th>b</th>\n",
       "      <th>c</th>\n",
       "      <th>d</th>\n",
       "      <th>e</th>\n",
       "      <th>f</th>\n",
       "      <th>g</th>\n",
       "    </tr>\n",
       "  </thead>\n",
       "  <tbody>\n",
       "    <tr>\n",
       "      <th>0</th>\n",
       "      <td>4</td>\n",
       "      <td>1</td>\n",
       "      <td>2</td>\n",
       "      <td>3</td>\n",
       "      <td>4</td>\n",
       "      <td>5</td>\n",
       "      <td>6</td>\n",
       "      <td>7</td>\n",
       "    </tr>\n",
       "    <tr>\n",
       "      <th>1</th>\n",
       "      <td>3</td>\n",
       "      <td>1</td>\n",
       "      <td>2</td>\n",
       "      <td>0</td>\n",
       "      <td>0</td>\n",
       "      <td>0</td>\n",
       "      <td>6</td>\n",
       "      <td>7</td>\n",
       "    </tr>\n",
       "    <tr>\n",
       "      <th>2</th>\n",
       "      <td>2</td>\n",
       "      <td>1</td>\n",
       "      <td>2</td>\n",
       "      <td>0</td>\n",
       "      <td>0</td>\n",
       "      <td>0</td>\n",
       "      <td>6</td>\n",
       "      <td>7</td>\n",
       "    </tr>\n",
       "    <tr>\n",
       "      <th>3</th>\n",
       "      <td>1</td>\n",
       "      <td>1</td>\n",
       "      <td>2</td>\n",
       "      <td>0</td>\n",
       "      <td>0</td>\n",
       "      <td>0</td>\n",
       "      <td>6</td>\n",
       "      <td>7</td>\n",
       "    </tr>\n",
       "    <tr>\n",
       "      <th>4</th>\n",
       "      <td>0</td>\n",
       "      <td>1</td>\n",
       "      <td>2</td>\n",
       "      <td>3</td>\n",
       "      <td>4</td>\n",
       "      <td>5</td>\n",
       "      <td>6</td>\n",
       "      <td>7</td>\n",
       "    </tr>\n",
       "  </tbody>\n",
       "</table>\n",
       "</div>"
      ],
      "text/plain": [
       "   index  a  b  c  d  e  f  g\n",
       "0      4  1  2  3  4  5  6  7\n",
       "1      3  1  2  0  0  0  6  7\n",
       "2      2  1  2  0  0  0  6  7\n",
       "3      1  1  2  0  0  0  6  7\n",
       "4      0  1  2  3  4  5  6  7"
      ]
     },
     "execution_count": 231,
     "metadata": {},
     "output_type": "execute_result"
    }
   ],
   "source": [
    "df2.reset_index(inplace=True)\n",
    "df2"
   ]
  },
  {
   "cell_type": "markdown",
   "metadata": {
    "id": "e6hYgsN_ES36"
   },
   "source": [
    "El índice se 'guarda' en una columna `index`. Se puede evitar utilizando `drop=True`"
   ]
  },
  {
   "cell_type": "code",
   "execution_count": 232,
   "metadata": {
    "id": "ScQGWTagES36"
   },
   "outputs": [
    {
     "data": {
      "text/html": [
       "<div>\n",
       "<style scoped>\n",
       "    .dataframe tbody tr th:only-of-type {\n",
       "        vertical-align: middle;\n",
       "    }\n",
       "\n",
       "    .dataframe tbody tr th {\n",
       "        vertical-align: top;\n",
       "    }\n",
       "\n",
       "    .dataframe thead th {\n",
       "        text-align: right;\n",
       "    }\n",
       "</style>\n",
       "<table border=\"1\" class=\"dataframe\">\n",
       "  <thead>\n",
       "    <tr style=\"text-align: right;\">\n",
       "      <th></th>\n",
       "      <th>a</th>\n",
       "      <th>b</th>\n",
       "      <th>c</th>\n",
       "      <th>d</th>\n",
       "      <th>e</th>\n",
       "      <th>f</th>\n",
       "      <th>g</th>\n",
       "    </tr>\n",
       "  </thead>\n",
       "  <tbody>\n",
       "    <tr>\n",
       "      <th>0</th>\n",
       "      <td>1</td>\n",
       "      <td>2</td>\n",
       "      <td>3</td>\n",
       "      <td>4</td>\n",
       "      <td>5</td>\n",
       "      <td>6</td>\n",
       "      <td>7</td>\n",
       "    </tr>\n",
       "    <tr>\n",
       "      <th>1</th>\n",
       "      <td>1</td>\n",
       "      <td>2</td>\n",
       "      <td>0</td>\n",
       "      <td>0</td>\n",
       "      <td>0</td>\n",
       "      <td>6</td>\n",
       "      <td>7</td>\n",
       "    </tr>\n",
       "    <tr>\n",
       "      <th>2</th>\n",
       "      <td>1</td>\n",
       "      <td>2</td>\n",
       "      <td>0</td>\n",
       "      <td>0</td>\n",
       "      <td>0</td>\n",
       "      <td>6</td>\n",
       "      <td>7</td>\n",
       "    </tr>\n",
       "    <tr>\n",
       "      <th>3</th>\n",
       "      <td>1</td>\n",
       "      <td>2</td>\n",
       "      <td>0</td>\n",
       "      <td>0</td>\n",
       "      <td>0</td>\n",
       "      <td>6</td>\n",
       "      <td>7</td>\n",
       "    </tr>\n",
       "    <tr>\n",
       "      <th>4</th>\n",
       "      <td>1</td>\n",
       "      <td>2</td>\n",
       "      <td>3</td>\n",
       "      <td>4</td>\n",
       "      <td>5</td>\n",
       "      <td>6</td>\n",
       "      <td>7</td>\n",
       "    </tr>\n",
       "  </tbody>\n",
       "</table>\n",
       "</div>"
      ],
      "text/plain": [
       "   a  b  c  d  e  f  g\n",
       "0  1  2  3  4  5  6  7\n",
       "1  1  2  0  0  0  6  7\n",
       "2  1  2  0  0  0  6  7\n",
       "3  1  2  0  0  0  6  7\n",
       "4  1  2  3  4  5  6  7"
      ]
     },
     "execution_count": 232,
     "metadata": {},
     "output_type": "execute_result"
    }
   ],
   "source": [
    "df2 = DataFrame(data, columns=[chr(ord('a')+i) for i in range(len(data[0]))],\n",
    "               index = [i-1 for i in range(len(data),0,-1)])\n",
    "df2.reset_index(drop=True, inplace=True)\n",
    "df2"
   ]
  },
  {
   "cell_type": "markdown",
   "metadata": {
    "id": "6cHaepkuES36"
   },
   "source": [
    "Si no se quiere que el índice empiece en 0, ni tampoco que se pierda información, se puede acceder directamente a .index o a .columns"
   ]
  },
  {
   "cell_type": "code",
   "execution_count": 233,
   "metadata": {
    "id": "ngCQZS0lES37"
   },
   "outputs": [
    {
     "data": {
      "text/html": [
       "<div>\n",
       "<style scoped>\n",
       "    .dataframe tbody tr th:only-of-type {\n",
       "        vertical-align: middle;\n",
       "    }\n",
       "\n",
       "    .dataframe tbody tr th {\n",
       "        vertical-align: top;\n",
       "    }\n",
       "\n",
       "    .dataframe thead th {\n",
       "        text-align: right;\n",
       "    }\n",
       "</style>\n",
       "<table border=\"1\" class=\"dataframe\">\n",
       "  <thead>\n",
       "    <tr style=\"text-align: right;\">\n",
       "      <th></th>\n",
       "      <th>a</th>\n",
       "      <th>b</th>\n",
       "      <th>c</th>\n",
       "      <th>d</th>\n",
       "      <th>e</th>\n",
       "      <th>f</th>\n",
       "      <th>g</th>\n",
       "    </tr>\n",
       "  </thead>\n",
       "  <tbody>\n",
       "    <tr>\n",
       "      <th>a</th>\n",
       "      <td>1</td>\n",
       "      <td>2</td>\n",
       "      <td>3</td>\n",
       "      <td>4</td>\n",
       "      <td>5</td>\n",
       "      <td>6</td>\n",
       "      <td>7</td>\n",
       "    </tr>\n",
       "    <tr>\n",
       "      <th>b</th>\n",
       "      <td>1</td>\n",
       "      <td>2</td>\n",
       "      <td>0</td>\n",
       "      <td>0</td>\n",
       "      <td>0</td>\n",
       "      <td>6</td>\n",
       "      <td>7</td>\n",
       "    </tr>\n",
       "    <tr>\n",
       "      <th>c</th>\n",
       "      <td>1</td>\n",
       "      <td>2</td>\n",
       "      <td>0</td>\n",
       "      <td>0</td>\n",
       "      <td>0</td>\n",
       "      <td>6</td>\n",
       "      <td>7</td>\n",
       "    </tr>\n",
       "    <tr>\n",
       "      <th>d</th>\n",
       "      <td>1</td>\n",
       "      <td>2</td>\n",
       "      <td>0</td>\n",
       "      <td>0</td>\n",
       "      <td>0</td>\n",
       "      <td>6</td>\n",
       "      <td>7</td>\n",
       "    </tr>\n",
       "    <tr>\n",
       "      <th>e</th>\n",
       "      <td>1</td>\n",
       "      <td>2</td>\n",
       "      <td>3</td>\n",
       "      <td>4</td>\n",
       "      <td>5</td>\n",
       "      <td>6</td>\n",
       "      <td>7</td>\n",
       "    </tr>\n",
       "  </tbody>\n",
       "</table>\n",
       "</div>"
      ],
      "text/plain": [
       "   a  b  c  d  e  f  g\n",
       "a  1  2  3  4  5  6  7\n",
       "b  1  2  0  0  0  6  7\n",
       "c  1  2  0  0  0  6  7\n",
       "d  1  2  0  0  0  6  7\n",
       "e  1  2  3  4  5  6  7"
      ]
     },
     "execution_count": 233,
     "metadata": {},
     "output_type": "execute_result"
    }
   ],
   "source": [
    "df2.index = ['a','b','c','d','e']\n",
    "df2"
   ]
  },
  {
   "cell_type": "markdown",
   "metadata": {
    "id": "1j0A-TJAES37"
   },
   "source": [
    "Si se accede directamente a `index` se deben poner tantos elementos como filas hay, si no se obtendrá un error"
   ]
  },
  {
   "cell_type": "code",
   "execution_count": 235,
   "metadata": {
    "id": "Y_NlpC_6ES37"
   },
   "outputs": [],
   "source": [
    "#df2.index = ['a','b','c','d']"
   ]
  },
  {
   "cell_type": "markdown",
   "metadata": {
    "id": "w-Ua8nWlES37"
   },
   "source": [
    "**Ej.** Queremos sumar dos series:"
   ]
  },
  {
   "cell_type": "code",
   "execution_count": 236,
   "metadata": {
    "id": "ri4rRNyLES37"
   },
   "outputs": [],
   "source": [
    "a = Series([1,2,3,4],['a','b','c','d'])\n",
    "b = Series([1,2,3,4],[10,20,30,40])"
   ]
  },
  {
   "cell_type": "markdown",
   "metadata": {
    "id": "KlD0DaI9ES38"
   },
   "source": [
    "Sin embargo:"
   ]
  },
  {
   "cell_type": "code",
   "execution_count": null,
   "metadata": {
    "id": "YHuA2_uVES38"
   },
   "outputs": [],
   "source": [
    "a+b"
   ]
  },
  {
   "cell_type": "markdown",
   "metadata": {
    "id": "7F1XA1VrES38"
   },
   "source": [
    "¿qué podemos hacer?"
   ]
  },
  {
   "cell_type": "code",
   "execution_count": 237,
   "metadata": {
    "id": "aUnBksuMES38"
   },
   "outputs": [
    {
     "data": {
      "text/plain": [
       "0    2\n",
       "1    4\n",
       "2    6\n",
       "3    8\n",
       "dtype: int64"
      ]
     },
     "execution_count": 237,
     "metadata": {},
     "output_type": "execute_result"
    }
   ],
   "source": [
    "a.reset_index(drop=True)+b.reset_index(drop=True)"
   ]
  },
  {
   "cell_type": "markdown",
   "metadata": {
    "id": "_K4wdgRQES38"
   },
   "source": [
    "Se pueden eliminar filas a partir del índice con drop()"
   ]
  },
  {
   "cell_type": "code",
   "execution_count": null,
   "metadata": {
    "id": "RxougHE0ES38"
   },
   "outputs": [],
   "source": [
    "c = a.reset_index(drop=True)+b.reset_index(drop=True)\n",
    "print(c,type(c))\n",
    "d = c.drop([1,2])\n",
    "print(d)"
   ]
  },
  {
   "cell_type": "code",
   "execution_count": null,
   "metadata": {
    "id": "tyCQTZn1ES39"
   },
   "outputs": [],
   "source": [
    "df = DataFrame(np.arange(16).reshape((4, 4)), \n",
    "               columns=['c'+str(i) for i in range(4)],\n",
    "               index = ['f'+str(i) for i in range(4)])\n",
    "df"
   ]
  },
  {
   "cell_type": "code",
   "execution_count": null,
   "metadata": {
    "id": "skxZT64HES39"
   },
   "outputs": [],
   "source": [
    "df.drop(['c1','c2'],axis=1,inplace=True)\n",
    "df"
   ]
  },
  {
   "cell_type": "code",
   "execution_count": null,
   "metadata": {
    "id": "KliUKk1QES39"
   },
   "outputs": [],
   "source": [
    "df = DataFrame(np.arange(16).reshape((4, 4)), \n",
    "               columns=['c'+str(i) for i in range(4)],\n",
    "               index = ['f'+str(i) for i in range(4)])\n",
    "df.drop(['f1','f2'],axis=0,inplace=True)\n",
    "df"
   ]
  },
  {
   "cell_type": "markdown",
   "metadata": {
    "id": "lsrhU1QcES39"
   },
   "source": [
    "Como ya hemos visto las operaciones aritméticas utilizan los índices comunes. Esto vale tanto para filas como para columnas"
   ]
  },
  {
   "cell_type": "code",
   "execution_count": null,
   "metadata": {
    "id": "v4HvamE1ES39"
   },
   "outputs": [],
   "source": [
    "df1 = DataFrame(np.arange(12.).reshape((3, 4)), columns=list('abcd'))\n",
    "df2 = DataFrame(np.arange(20.).reshape((4, 5)), columns=list('abcde'))\n",
    "\n",
    "print(df1)\n",
    "print(df2)"
   ]
  },
  {
   "cell_type": "code",
   "execution_count": null,
   "metadata": {
    "id": "bQI7vKChES39"
   },
   "outputs": [],
   "source": [
    "df1+df2"
   ]
  },
  {
   "cell_type": "markdown",
   "metadata": {
    "id": "l3vNNJY4ES3-"
   },
   "source": [
    "Para evitarlo se puede añadir 0 para evitar el valor `NaN`"
   ]
  },
  {
   "cell_type": "code",
   "execution_count": null,
   "metadata": {
    "id": "oM_gSVC9ES3-"
   },
   "outputs": [],
   "source": [
    "df1.add(df2,fill_value=0)"
   ]
  },
  {
   "cell_type": "markdown",
   "metadata": {
    "id": "QpiIKIAoES3-"
   },
   "source": [
    "Análogamente existen funciones `add`, `sub`, `div`, `mul`\n",
    "\n",
    "La siguiente operación ya no debe sorprendernos:"
   ]
  },
  {
   "cell_type": "code",
   "execution_count": null,
   "metadata": {
    "id": "7A-JtfLzES3-"
   },
   "outputs": [],
   "source": [
    "f = df1.loc[1,:]\n",
    "print(df1,\"\\n\",f,\"\\n\",df1-f,sep=\"\")\n",
    "\n"
   ]
  },
  {
   "cell_type": "markdown",
   "metadata": {
    "id": "lYyK0Ip2ES3-"
   },
   "source": [
    "Si lo que queremos es restar sobre las columnas"
   ]
  },
  {
   "cell_type": "code",
   "execution_count": null,
   "metadata": {
    "id": "5ksq-Zc3ES3-"
   },
   "outputs": [],
   "source": [
    "f.index = range(len(f))\n",
    "df1.sub(f,axis=0)"
   ]
  },
  {
   "cell_type": "markdown",
   "metadata": {
    "id": "TZu7EVk4ES3_"
   },
   "source": [
    "Si lo que se quiere es ordenar los índices, no cambiarlo, se puede utilizar `sort_index()`"
   ]
  },
  {
   "cell_type": "code",
   "execution_count": null,
   "metadata": {
    "id": "qGsbjNK6ES3_"
   },
   "outputs": [],
   "source": [
    "df1 = DataFrame(np.arange(12.).reshape((3, 4)), \n",
    "                columns=list('dfab'),index=list('431'))\n",
    "df1"
   ]
  },
  {
   "cell_type": "code",
   "execution_count": null,
   "metadata": {
    "id": "2HBJidnMES3_"
   },
   "outputs": [],
   "source": [
    "df1.sort_index(inplace=True)\n",
    "df1"
   ]
  },
  {
   "cell_type": "markdown",
   "metadata": {
    "id": "AlvjbNRhES4B"
   },
   "source": [
    "### Índices Jerárquicos"
   ]
  },
  {
   "cell_type": "markdown",
   "metadata": {
    "id": "j4IiavO2ES4B"
   },
   "source": [
    "Son índices de tipo *MultiIndex* "
   ]
  },
  {
   "cell_type": "code",
   "execution_count": null,
   "metadata": {
    "id": "bx3JNKnAES4C"
   },
   "outputs": [],
   "source": [
    "data = Series(np.random.randint(4,size=10),\n",
    "              index=[['a', 'a', 'a', 'b', 'b', 'b', 'c', 'c', 'd', 'd'],\n",
    "                     [1, 2, 3, 1, 2, 3, 1, 2, 2, 3]])\n",
    "\n",
    "data"
   ]
  },
  {
   "cell_type": "code",
   "execution_count": null,
   "metadata": {
    "id": "PK9UUmN1ES4C"
   },
   "outputs": [],
   "source": [
    "data.index"
   ]
  },
  {
   "cell_type": "markdown",
   "metadata": {
    "id": "5aq_4dXoES4C"
   },
   "source": [
    "En los índices jerárquicos se pueden hacer selecciones parciales:"
   ]
  },
  {
   "cell_type": "code",
   "execution_count": null,
   "metadata": {
    "id": "kJcdD0fjES4C"
   },
   "outputs": [],
   "source": [
    "data['c']"
   ]
  },
  {
   "cell_type": "markdown",
   "metadata": {
    "id": "sMyHBetwES4C"
   },
   "source": [
    "Una serie con multiíndices puede convertirse en un DataFrame un *unstack()*, mientras que la operación contraria es *stack()*."
   ]
  },
  {
   "cell_type": "code",
   "execution_count": null,
   "metadata": {
    "id": "S59MsxsHES4C"
   },
   "outputs": [],
   "source": [
    "data.unstack()"
   ]
  },
  {
   "cell_type": "markdown",
   "metadata": {
    "id": "vP2ZxQ6-ES4D"
   },
   "source": [
    "Las estadísticas se pueden hacer a distintos niveles en este tipo de índices"
   ]
  },
  {
   "cell_type": "code",
   "execution_count": null,
   "metadata": {
    "id": "i5orH2IXES4D"
   },
   "outputs": [],
   "source": [
    "data.sum(level=0)"
   ]
  },
  {
   "cell_type": "code",
   "execution_count": null,
   "metadata": {
    "id": "DWZCZ9YaES4D"
   },
   "outputs": [],
   "source": [
    "data.sum(level=1)"
   ]
  },
  {
   "cell_type": "code",
   "execution_count": null,
   "metadata": {
    "id": "a4_Xht--ES4D"
   },
   "outputs": [],
   "source": []
  }
 ],
 "metadata": {
  "colab": {
   "name": "5dataframes.ipynb",
   "provenance": []
  },
  "kernelspec": {
   "display_name": "Python 3 (ipykernel)",
   "language": "python",
   "name": "python3"
  },
  "language_info": {
   "codemirror_mode": {
    "name": "ipython",
    "version": 3
   },
   "file_extension": ".py",
   "mimetype": "text/x-python",
   "name": "python",
   "nbconvert_exporter": "python",
   "pygments_lexer": "ipython3",
   "version": "3.9.2"
  }
 },
 "nbformat": 4,
 "nbformat_minor": 1
}
