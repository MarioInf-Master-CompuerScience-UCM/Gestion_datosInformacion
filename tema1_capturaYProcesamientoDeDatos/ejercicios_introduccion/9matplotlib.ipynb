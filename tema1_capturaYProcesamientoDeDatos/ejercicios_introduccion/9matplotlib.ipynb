{
  "cells": [
    {
      "cell_type": "markdown",
      "metadata": {
        "id": "-JMVJvC43vUR"
      },
      "source": [
        "#Introducción a la ciencia de datos con Python\n",
        "Rafa Caballero\n",
        "\n",
        "\n",
        "# Gráficos con matplotlib\n",
        "\n",
        "**Índice**\n",
        "\n",
        "[Introducción](#Introducción)<br>\n",
        "[Gráficos sencillos](#Gráficos-sencillos)<br>\n",
        "[Ejes](#Ejes)<br>\n",
        "[Grabación de figuras](#Grabación-de-figuras)<br>\n",
        "[Leyendas, etiquetas y títulos](#Leyendas,-etiquetas-y-títulos)<br>\n",
        "[Aspecto de los ejes de coordenadas](#Aspecto-de-los-ejes-de-coordenadas)<br>\n",
        "[Otros estilos 2D](#Otros-estilos-2D)<br>\n",
        "[Anotaciones de texto](#Anotaciones-de-texto)<br>\n",
        "[Subgráficos de tamaños diferentes](#Subgráficos-de-tamaños-diferentes)<br>\n",
        "[Mapas de colores y contornos](#Mapas-de-colores-y-Contornos)<br>\n",
        "[Figuras en 3D](#Figuras-en-3D)<br>\n",
        "[Gráficos interactivos](#Gráficos-interactivos)<br>\n",
        "[Para saber más](#Para-saber-más)<br>\n",
        "<hr>\n",
        "\n",
        "El origen de este notebook es:\n",
        "\n",
        "https://github.com/jrjohansson/scientific-python-lectures/blob/master/Lecture-4-Matplotlib.ipynb \n",
        "\n",
        "con algunos añadidos"
      ]
    },
    {
      "cell_type": "markdown",
      "metadata": {
        "id": "B5b17a-33vUV"
      },
      "source": [
        "<a name=\"Introducción\"></a>\n",
        "## Introducción"
      ]
    },
    {
      "cell_type": "markdown",
      "metadata": {
        "id": "KPaV6Uv-3vUV"
      },
      "source": [
        "Matplotlib es una librería excelente para generar gráficos en 2D y en 3D en Python. Entre sus ventajas:\n",
        "\n",
        "* Curva de aprendiaje \"suave\"\n",
        "* Control de todas las características de la figura \n",
        "* Posibilidad de grabar en muchos formatos: PNG, PDF, SVG, EPS,  PGF...\n",
        "* Posibilidad de generar figuras interactivas.\n",
        "* Posibilidad de generar código para figuras desde programa\n",
        "\n",
        "La fuente oficial de la librería es:: http://matplotlib.org/"
      ]
    },
    {
      "cell_type": "markdown",
      "metadata": {
        "id": "MNIxXolI3vUW"
      },
      "source": [
        "Comenzamos importando `matplotlib` y `numpy`"
      ]
    },
    {
      "cell_type": "code",
      "execution_count": 1,
      "metadata": {
        "id": "BkH6qI9w3vUW"
      },
      "outputs": [],
      "source": [
        "# Esta línea vale para incluir los gráficos en el propio notebook en Anaconda\n",
        "# si luego se exporta como .py habrá que quitarla; daría error\n",
        "#%matplotlib inline\n",
        "\n",
        "import matplotlib\n",
        "import matplotlib.pyplot as plt\n",
        "import numpy as np"
      ]
    },
    {
      "cell_type": "markdown",
      "metadata": {
        "id": "xuMZ7Hdx3vUX"
      },
      "source": [
        "<a name=\"Gráficos-sencillos\"></a>\n",
        "## Gráficos sencillos"
      ]
    },
    {
      "cell_type": "markdown",
      "metadata": {
        "id": "MHjQfwwz3vUY"
      },
      "source": [
        "La forma más fácil de usar gráficos en Python es utilizar directamente funciones como plt.plot (que dibuja lineas entre pares de puntos) o plt.scatter (que muestra puntos sueltos) \n",
        "\n",
        "**Ejemplo 1**"
      ]
    },
    {
      "cell_type": "code",
      "execution_count": 2,
      "metadata": {
        "id": "IP_J1LGY3vUY",
        "colab": {
          "base_uri": "https://localhost:8080/",
          "height": 281
        },
        "outputId": "25320886-741e-4197-ca80-6eb3b983abbf"
      },
      "outputs": [
        {
          "output_type": "display_data",
          "data": {
            "text/plain": [
              "<Figure size 432x288 with 1 Axes>"
            ],
            "image/png": "[encoded data removed]"
          },
          "metadata": {
            "needs_background": "light"
          }
        }
      ],
      "source": [
        "# Los datos\n",
        "x = list(range(10))\n",
        "y = [v*v for v in x]\n",
        "\n",
        "# Plot the data\n",
        "plt.plot(x, y, label='x^2')\n",
        "\n",
        "# La leyenda x^2\n",
        "plt.legend()\n",
        "\n",
        "# título \n",
        "plt.title(\"Una figura sencilla\")\n",
        "\n",
        "# mostrar el resultado\n",
        "plt.show()"
      ]
    },
    {
      "cell_type": "markdown",
      "metadata": {
        "id": "Nnsb4moR3vUZ"
      },
      "source": [
        "La llamada a 'show' al final se hace para que muestre realmente el gráfico. Esto permite inclur varios gráficos en la misma figura:\n",
        "\n",
        "**Ejemplo 2**"
      ]
    },
    {
      "cell_type": "code",
      "execution_count": 3,
      "metadata": {
        "id": "MI_efnOB3vUa",
        "colab": {
          "base_uri": "https://localhost:8080/",
          "height": 265
        },
        "outputId": "6b33e6b4-f057-400e-8039-da8e4056030c"
      },
      "outputs": [
        {
          "output_type": "display_data",
          "data": {
            "text/plain": [
              "<Figure size 432x288 with 1 Axes>"
            ],
            "image/png": "[encoded data removed]"
          },
          "metadata": {
            "needs_background": "light"
          }
        }
      ],
      "source": [
        "plt.plot([1,  4], [10,  30], \n",
        "          color='lightblue', linewidth=3)\n",
        "plt.scatter([0.3, 3.8, 1.2, 2.5], [11, 25, 9, 26], \n",
        "            color='darkgreen', marker='^')\n",
        "plt.xlim(0.5, 4.5)\n",
        "plt.show()"
      ]
    },
    {
      "cell_type": "markdown",
      "metadata": {
        "id": "QbVh4CvO3vUa"
      },
      "source": [
        "**Ej.** Copiar el código del *Ejemplo 1* y añadir código para que, además de y = x^2 muestre y2 = x^3 (la x puede ser la misma)"
      ]
    },
    {
      "cell_type": "code",
      "execution_count": null,
      "metadata": {
        "id": "Zf54u48W3vUb"
      },
      "outputs": [],
      "source": [
        "# Solución\n"
      ]
    },
    {
      "cell_type": "markdown",
      "metadata": {
        "id": "h-SkSB9K3vUb"
      },
      "source": [
        "Incluso esta forma sencilla admite muchas posibilidades.\n",
        "\n",
        "**Ejemplo 3**"
      ]
    },
    {
      "cell_type": "code",
      "execution_count": null,
      "metadata": {
        "id": "mwr9pYoD3vUb"
      },
      "outputs": [],
      "source": [
        "\n",
        "plt.plot(x, y, '--r')\n",
        "plt.plot(y, x, '*-g')\n",
        "m = max(max(x),max(y))\n",
        "plt.plot(range(0,m,10),range(0,m,10),'d:b')\n",
        "plt.show()"
      ]
    },
    {
      "cell_type": "markdown",
      "metadata": {
        "id": "JX1JN0zf3vUc"
      },
      "source": [
        "El tercer argumento tiene la forma '[marker][line][color]'\n",
        "\n",
        "**Markers**\n",
        "\n",
        "        character \tdescription\n",
        "        '.' \tpoint marker\n",
        "        ',' \tpixel marker\n",
        "        'o' \tcircle marker\n",
        "        'v' \ttriangle_down marker\n",
        "        '^' \ttriangle_up marker\n",
        "        '<' \ttriangle_left marker\n",
        "        '>' \ttriangle_right marker\n",
        "        '1' \ttri_down marker\n",
        "        '2' \ttri_up marker\n",
        "        '3' \ttri_left marker\n",
        "        '4' \ttri_right marker\n",
        "        's' \tsquare marker\n",
        "        'p' \tpentagon marker\n",
        "        '*' \tstar marker\n",
        "        'h' \thexagon1 marker\n",
        "        'H' \thexagon2 marker\n",
        "        '+' \tplus marker\n",
        "        'x' \tx marker\n",
        "        'D' \tdiamond marker\n",
        "        'd' \tthin_diamond marker\n",
        "        '|' \tvline marker\n",
        "        '_' \thline marker\n",
        "        \n",
        "        \n",
        "**Line Styles**\n",
        "\n",
        "        character \tdescription\n",
        "        '-' \tsolid line style\n",
        "        '--' \tdashed line style\n",
        "        '-.' \tdash-dot line style\n",
        "        ':' \tdotted line style\n",
        "**Color**\n",
        "\n",
        "    character \tcolor\n",
        "    'b' \tblue\n",
        "    'g' \tgreen\n",
        "    'r' \tred\n",
        "    'c' \tcyan\n",
        "    'm' \tmagenta\n",
        "    'y' \tyellow\n",
        "    'k' \tblack\n",
        "    'w' \twhite\n",
        "    \n",
        "Si estos colores se nos quedan cortos podemos quitar el color de la cadena de formato, y añadirla en su lugar en el parámetro c, utilizando cualquiera de los colores X11(https://en.wikipedia.org/wiki/X11_color_names#Color_name_chart) o un color RGB en hexadecimal\n",
        "\n",
        "**Ejemplo 4**"
      ]
    },
    {
      "cell_type": "code",
      "execution_count": null,
      "metadata": {
        "id": "xwGZJyBj3vUd"
      },
      "outputs": [],
      "source": [
        "x = np.arange(0,20,0.1)\n",
        "y = np.sin(x)\n",
        "\n",
        "plt.plot(x, y, '-', c=\"#8B0000\")\n",
        "plt.plot(x, [0]*len(x), '-', c=\"cornflowerblue\")\n",
        "plt.show()"
      ]
    },
    {
      "cell_type": "markdown",
      "source": [
        "Un ejemplo más interesante y complicado"
      ],
      "metadata": {
        "id": "fqqPCy2XTG0w"
      }
    },
    {
      "cell_type": "code",
      "source": [
        "import pandas as pd\n",
        "url = \"https://raw.githubusercontent.com/RafaelCaballero/tdm/master/datos/madrid/Cont_Meteo_Traf.csv\"\n",
        "pd.read_csv(url)"
      ],
      "metadata": {
        "id": "6tre9NyhRhPg",
        "colab": {
          "base_uri": "https://localhost:8080/",
          "height": 659
        },
        "outputId": "c5728f2f-20ae-423e-d665-ee42f71dd1df"
      },
      "execution_count": 5,
      "outputs": [
        {
          "output_type": "execute_result",
          "data": {
            "text/plain": [
              "                    FECHAH       TIPO   CO     NO   NO2  PM2.5  PM10    NOx  \\\n",
              "0      2019-01-01 00:00:00    FESTIVO  0.6   81.0  73.0    NaN   NaN  196.0   \n",
              "1      2019-01-01 01:00:00    FESTIVO  0.8  124.0  82.0    NaN   NaN  272.0   \n",
              "2      2019-01-01 02:00:00    FESTIVO  0.7   93.0  72.0    NaN   NaN  215.0   \n",
              "3      2019-01-01 03:00:00    FESTIVO  0.6   86.0  66.0    NaN   NaN  198.0   \n",
              "4      2019-01-01 04:00:00    FESTIVO  0.6   79.0  64.0    NaN   NaN  185.0   \n",
              "...                    ...        ...  ...    ...   ...    ...   ...    ...   \n",
              "27762  2019-06-30 21:00:00    DOMINGO  NaN    NaN   NaN    NaN   NaN    NaN   \n",
              "27763  2019-06-30 22:00:00    DOMINGO  NaN    NaN   NaN    NaN   NaN    NaN   \n",
              "27764  2019-06-30 23:00:00    DOMINGO  NaN    NaN   NaN    NaN   NaN    NaN   \n",
              "27765  2020-01-07 20:00:00  LABORABLE  NaN    NaN   NaN    NaN   NaN    NaN   \n",
              "27766  2020-01-08 19:00:00  LABORABLE  NaN    NaN   NaN    NaN   NaN    NaN   \n",
              "\n",
              "         O3  VELOCIDAD VIENTO  DIR. VIENTO  TEMPERATURA  HUMEDAD RELATIVA  \\\n",
              "0      3.08              0.68         48.0          2.6              71.0   \n",
              "1      3.05              0.69         32.0          2.5              71.0   \n",
              "2      3.13              0.70         43.0          1.7              74.0   \n",
              "3      3.02              0.70         74.0          1.1              75.0   \n",
              "4      2.98              0.66         67.0          1.2              74.0   \n",
              "...     ...               ...          ...          ...               ...   \n",
              "27762   NaN               NaN          NaN          NaN               NaN   \n",
              "27763   NaN               NaN          NaN          NaN               NaN   \n",
              "27764   NaN               NaN          NaN          NaN               NaN   \n",
              "27765   NaN               NaN          NaN          NaN               NaN   \n",
              "27766   NaN               NaN          NaN          NaN               NaN   \n",
              "\n",
              "       PRESION BAROMETRICA  PRECIPITACIONES   ES10   ES53  ESSUMA  \n",
              "0                    959.0              0.0  415.0  489.0   904.0  \n",
              "1                    959.0              0.0  757.0  732.0  1489.0  \n",
              "2                    959.0              0.0  624.0  567.0  1191.0  \n",
              "3                    959.0              0.0  474.0  495.0   969.0  \n",
              "4                    959.0              0.0  285.0  335.0   620.0  \n",
              "...                    ...              ...    ...    ...     ...  \n",
              "27762                  NaN              NaN  538.0  654.0  1192.0  \n",
              "27763                  NaN              NaN  495.0  603.0  1098.0  \n",
              "27764                  NaN              NaN  380.0  485.0   865.0  \n",
              "27765                  NaN              NaN  652.0  731.0  1383.0  \n",
              "27766                  NaN              NaN  638.0  757.0  1395.0  \n",
              "\n",
              "[27767 rows x 18 columns]"
            ],
            "text/html": [
              "\n",
              "  <div id=\"df-439b1f4c-0874-407b-9675-b83c9b7f4887\">\n",
              "    <div class=\"colab-df-container\">\n",
              "      <div>\n",
              "<style scoped>\n",
              "    .dataframe tbody tr th:only-of-type {\n",
              "        vertical-align: middle;\n",
              "    }\n",
              "\n",
              "    .dataframe tbody tr th {\n",
              "        vertical-align: top;\n",
              "    }\n",
              "\n",
              "    .dataframe thead th {\n",
              "        text-align: right;\n",
              "    }\n",
              "</style>\n",
              "<table border=\"1\" class=\"dataframe\">\n",
              "  <thead>\n",
              "    <tr style=\"text-align: right;\">\n",
              "      <th></th>\n",
              "      <th>FECHAH</th>\n",
              "      <th>TIPO</th>\n",
              "      <th>CO</th>\n",
              "      <th>NO</th>\n",
              "      <th>NO2</th>\n",
              "      <th>PM2.5</th>\n",
              "      <th>PM10</th>\n",
              "      <th>NOx</th>\n",
              "      <th>O3</th>\n",
              "      <th>VELOCIDAD VIENTO</th>\n",
              "      <th>DIR. VIENTO</th>\n",
              "      <th>TEMPERATURA</th>\n",
              "      <th>HUMEDAD RELATIVA</th>\n",
              "      <th>PRESION BAROMETRICA</th>\n",
              "      <th>PRECIPITACIONES</th>\n",
              "      <th>ES10</th>\n",
              "      <th>ES53</th>\n",
              "      <th>ESSUMA</th>\n",
              "    </tr>\n",
              "  </thead>\n",
              "  <tbody>\n",
              "    <tr>\n",
              "      <th>0</th>\n",
              "      <td>2019-01-01 00:00:00</td>\n",
              "      <td>FESTIVO</td>\n",
              "      <td>0.6</td>\n",
              "      <td>81.0</td>\n",
              "      <td>73.0</td>\n",
              "      <td>NaN</td>\n",
              "      <td>NaN</td>\n",
              "      <td>196.0</td>\n",
              "      <td>3.08</td>\n",
              "      <td>0.68</td>\n",
              "      <td>48.0</td>\n",
              "      <td>2.6</td>\n",
              "      <td>71.0</td>\n",
              "      <td>959.0</td>\n",
              "      <td>0.0</td>\n",
              "      <td>415.0</td>\n",
              "      <td>489.0</td>\n",
              "      <td>904.0</td>\n",
              "    </tr>\n",
              "    <tr>\n",
              "      <th>1</th>\n",
              "      <td>2019-01-01 01:00:00</td>\n",
              "      <td>FESTIVO</td>\n",
              "      <td>0.8</td>\n",
              "      <td>124.0</td>\n",
              "      <td>82.0</td>\n",
              "      <td>NaN</td>\n",
              "      <td>NaN</td>\n",
              "      <td>272.0</td>\n",
              "      <td>3.05</td>\n",
              "      <td>0.69</td>\n",
              "      <td>32.0</td>\n",
              "      <td>2.5</td>\n",
              "      <td>71.0</td>\n",
              "      <td>959.0</td>\n",
              "      <td>0.0</td>\n",
              "      <td>757.0</td>\n",
              "      <td>732.0</td>\n",
              "      <td>1489.0</td>\n",
              "    </tr>\n",
              "    <tr>\n",
              "      <th>2</th>\n",
              "      <td>2019-01-01 02:00:00</td>\n",
              "      <td>FESTIVO</td>\n",
              "      <td>0.7</td>\n",
              "      <td>93.0</td>\n",
              "      <td>72.0</td>\n",
              "      <td>NaN</td>\n",
              "      <td>NaN</td>\n",
              "      <td>215.0</td>\n",
              "      <td>3.13</td>\n",
              "      <td>0.70</td>\n",
              "      <td>43.0</td>\n",
              "      <td>1.7</td>\n",
              "      <td>74.0</td>\n",
              "      <td>959.0</td>\n",
              "      <td>0.0</td>\n",
              "      <td>624.0</td>\n",
              "      <td>567.0</td>\n",
              "      <td>1191.0</td>\n",
              "    </tr>\n",
              "    <tr>\n",
              "      <th>3</th>\n",
              "      <td>2019-01-01 03:00:00</td>\n",
              "      <td>FESTIVO</td>\n",
              "      <td>0.6</td>\n",
              "      <td>86.0</td>\n",
              "      <td>66.0</td>\n",
              "      <td>NaN</td>\n",
              "      <td>NaN</td>\n",
              "      <td>198.0</td>\n",
              "      <td>3.02</td>\n",
              "      <td>0.70</td>\n",
              "      <td>74.0</td>\n",
              "      <td>1.1</td>\n",
              "      <td>75.0</td>\n",
              "      <td>959.0</td>\n",
              "      <td>0.0</td>\n",
              "      <td>474.0</td>\n",
              "      <td>495.0</td>\n",
              "      <td>969.0</td>\n",
              "    </tr>\n",
              "    <tr>\n",
              "      <th>4</th>\n",
              "      <td>2019-01-01 04:00:00</td>\n",
              "      <td>FESTIVO</td>\n",
              "      <td>0.6</td>\n",
              "      <td>79.0</td>\n",
              "      <td>64.0</td>\n",
              "      <td>NaN</td>\n",
              "      <td>NaN</td>\n",
              "      <td>185.0</td>\n",
              "      <td>2.98</td>\n",
              "      <td>0.66</td>\n",
              "      <td>67.0</td>\n",
              "      <td>1.2</td>\n",
              "      <td>74.0</td>\n",
              "      <td>959.0</td>\n",
              "      <td>0.0</td>\n",
              "      <td>285.0</td>\n",
              "      <td>335.0</td>\n",
              "      <td>620.0</td>\n",
              "    </tr>\n",
              "    <tr>\n",
              "      <th>...</th>\n",
              "      <td>...</td>\n",
              "      <td>...</td>\n",
              "      <td>...</td>\n",
              "      <td>...</td>\n",
              "      <td>...</td>\n",
              "      <td>...</td>\n",
              "      <td>...</td>\n",
              "      <td>...</td>\n",
              "      <td>...</td>\n",
              "      <td>...</td>\n",
              "      <td>...</td>\n",
              "      <td>...</td>\n",
              "      <td>...</td>\n",
              "      <td>...</td>\n",
              "      <td>...</td>\n",
              "      <td>...</td>\n",
              "      <td>...</td>\n",
              "      <td>...</td>\n",
              "    </tr>\n",
              "    <tr>\n",
              "      <th>27762</th>\n",
              "      <td>2019-06-30 21:00:00</td>\n",
              "      <td>DOMINGO</td>\n",
              "      <td>NaN</td>\n",
              "      <td>NaN</td>\n",
              "      <td>NaN</td>\n",
              "      <td>NaN</td>\n",
              "      <td>NaN</td>\n",
              "      <td>NaN</td>\n",
              "      <td>NaN</td>\n",
              "      <td>NaN</td>\n",
              "      <td>NaN</td>\n",
              "      <td>NaN</td>\n",
              "      <td>NaN</td>\n",
              "      <td>NaN</td>\n",
              "      <td>NaN</td>\n",
              "      <td>538.0</td>\n",
              "      <td>654.0</td>\n",
              "      <td>1192.0</td>\n",
              "    </tr>\n",
              "    <tr>\n",
              "      <th>27763</th>\n",
              "      <td>2019-06-30 22:00:00</td>\n",
              "      <td>DOMINGO</td>\n",
              "      <td>NaN</td>\n",
              "      <td>NaN</td>\n",
              "      <td>NaN</td>\n",
              "      <td>NaN</td>\n",
              "      <td>NaN</td>\n",
              "      <td>NaN</td>\n",
              "      <td>NaN</td>\n",
              "      <td>NaN</td>\n",
              "      <td>NaN</td>\n",
              "      <td>NaN</td>\n",
              "      <td>NaN</td>\n",
              "      <td>NaN</td>\n",
              "      <td>NaN</td>\n",
              "      <td>495.0</td>\n",
              "      <td>603.0</td>\n",
              "      <td>1098.0</td>\n",
              "    </tr>\n",
              "    <tr>\n",
              "      <th>27764</th>\n",
              "      <td>2019-06-30 23:00:00</td>\n",
              "      <td>DOMINGO</td>\n",
              "      <td>NaN</td>\n",
              "      <td>NaN</td>\n",
              "      <td>NaN</td>\n",
              "      <td>NaN</td>\n",
              "      <td>NaN</td>\n",
              "      <td>NaN</td>\n",
              "      <td>NaN</td>\n",
              "      <td>NaN</td>\n",
              "      <td>NaN</td>\n",
              "      <td>NaN</td>\n",
              "      <td>NaN</td>\n",
              "      <td>NaN</td>\n",
              "      <td>NaN</td>\n",
              "      <td>380.0</td>\n",
              "      <td>485.0</td>\n",
              "      <td>865.0</td>\n",
              "    </tr>\n",
              "    <tr>\n",
              "      <th>27765</th>\n",
              "      <td>2020-01-07 20:00:00</td>\n",
              "      <td>LABORABLE</td>\n",
              "      <td>NaN</td>\n",
              "      <td>NaN</td>\n",
              "      <td>NaN</td>\n",
              "      <td>NaN</td>\n",
              "      <td>NaN</td>\n",
              "      <td>NaN</td>\n",
              "      <td>NaN</td>\n",
              "      <td>NaN</td>\n",
              "      <td>NaN</td>\n",
              "      <td>NaN</td>\n",
              "      <td>NaN</td>\n",
              "      <td>NaN</td>\n",
              "      <td>NaN</td>\n",
              "      <td>652.0</td>\n",
              "      <td>731.0</td>\n",
              "      <td>1383.0</td>\n",
              "    </tr>\n",
              "    <tr>\n",
              "      <th>27766</th>\n",
              "      <td>2020-01-08 19:00:00</td>\n",
              "      <td>LABORABLE</td>\n",
              "      <td>NaN</td>\n",
              "      <td>NaN</td>\n",
              "      <td>NaN</td>\n",
              "      <td>NaN</td>\n",
              "      <td>NaN</td>\n",
              "      <td>NaN</td>\n",
              "      <td>NaN</td>\n",
              "      <td>NaN</td>\n",
              "      <td>NaN</td>\n",
              "      <td>NaN</td>\n",
              "      <td>NaN</td>\n",
              "      <td>NaN</td>\n",
              "      <td>NaN</td>\n",
              "      <td>638.0</td>\n",
              "      <td>757.0</td>\n",
              "      <td>1395.0</td>\n",
              "    </tr>\n",
              "  </tbody>\n",
              "</table>\n",
              "<p>27767 rows × 18 columns</p>\n",
              "</div>\n",
              "      <button class=\"colab-df-convert\" onclick=\"convertToInteractive('df-439b1f4c-0874-407b-9675-b83c9b7f4887')\"\n",
              "              title=\"Convert this dataframe to an interactive table.\"\n",
              "              style=\"display:none;\">\n",
              "        \n",
              "  <svg xmlns=\"http://www.w3.org/2000/svg\" height=\"24px\"viewBox=\"0 0 24 24\"\n",
              "       width=\"24px\">\n",
              "    <path d=\"M0 0h24v24H0V0z\" fill=\"none\"/>\n",
              "    <path d=\"M18.56 5.44l.94 2.06.94-2.06 2.06-.94-2.06-.94-.94-2.06-.94 2.06-2.06.94zm-11 1L8.5 8.5l.94-2.06 2.06-.94-2.06-.94L8.5 2.5l-.94 2.06-2.06.94zm10 10l.94 2.06.94-2.06 2.06-.94-2.06-.94-.94-2.06-.94 2.06-2.06.94z\"/><path d=\"M17.41 7.96l-1.37-1.37c-.4-.4-.92-.59-1.43-.59-.52 0-1.04.2-1.43.59L10.3 9.45l-7.72 7.72c-.78.78-.78 2.05 0 2.83L4 21.41c.39.39.9.59 1.41.59.51 0 1.02-.2 1.41-.59l7.78-7.78 2.81-2.81c.8-.78.8-2.07 0-2.86zM5.41 20L4 18.59l7.72-7.72 1.47 1.35L5.41 20z\"/>\n",
              "  </svg>\n",
              "      </button>\n",
              "      \n",
              "  <style>\n",
              "    .colab-df-container {\n",
              "      display:flex;\n",
              "      flex-wrap:wrap;\n",
              "      gap: 12px;\n",
              "    }\n",
              "\n",
              "    .colab-df-convert {\n",
              "      background-color: #E8F0FE;\n",
              "      border: none;\n",
              "      border-radius: 50%;\n",
              "      cursor: pointer;\n",
              "      display: none;\n",
              "      fill: #1967D2;\n",
              "      height: 32px;\n",
              "      padding: 0 0 0 0;\n",
              "      width: 32px;\n",
              "    }\n",
              "\n",
              "    .colab-df-convert:hover {\n",
              "      background-color: #E2EBFA;\n",
              "      box-shadow: 0px 1px 2px rgba(60, 64, 67, 0.3), 0px 1px 3px 1px rgba(60, 64, 67, 0.15);\n",
              "      fill: #174EA6;\n",
              "    }\n",
              "\n",
              "    [theme=dark] .colab-df-convert {\n",
              "      background-color: #3B4455;\n",
              "      fill: #D2E3FC;\n",
              "    }\n",
              "\n",
              "    [theme=dark] .colab-df-convert:hover {\n",
              "      background-color: #434B5C;\n",
              "      box-shadow: 0px 1px 3px 1px rgba(0, 0, 0, 0.15);\n",
              "      filter: drop-shadow(0px 1px 2px rgba(0, 0, 0, 0.3));\n",
              "      fill: #FFFFFF;\n",
              "    }\n",
              "  </style>\n",
              "\n",
              "      <script>\n",
              "        const buttonEl =\n",
              "          document.querySelector('#df-439b1f4c-0874-407b-9675-b83c9b7f4887 button.colab-df-convert');\n",
              "        buttonEl.style.display =\n",
              "          google.colab.kernel.accessAllowed ? 'block' : 'none';\n",
              "\n",
              "        async function convertToInteractive(key) {\n",
              "          const element = document.querySelector('#df-439b1f4c-0874-407b-9675-b83c9b7f4887');\n",
              "          const dataTable =\n",
              "            await google.colab.kernel.invokeFunction('convertToInteractive',\n",
              "                                                     [key], {});\n",
              "          if (!dataTable) return;\n",
              "\n",
              "          const docLinkHtml = 'Like what you see? Visit the ' +\n",
              "            '<a target=\"_blank\" href=https://colab.research.google.com/notebooks/data_table.ipynb>data table notebook</a>'\n",
              "            + ' to learn more about interactive tables.';\n",
              "          element.innerHTML = '';\n",
              "          dataTable['output_type'] = 'display_data';\n",
              "          await google.colab.output.renderOutput(dataTable, element);\n",
              "          const docLink = document.createElement('div');\n",
              "          docLink.innerHTML = docLinkHtml;\n",
              "          element.appendChild(docLink);\n",
              "        }\n",
              "      </script>\n",
              "    </div>\n",
              "  </div>\n",
              "  "
            ]
          },
          "metadata": {},
          "execution_count": 5
        }
      ]
    },
    {
      "cell_type": "code",
      "source": [
        "import matplotlib.pyplot as plt\n",
        "\n",
        "import pandas as pd\n",
        "url = \"https://raw.githubusercontent.com/RafaelCaballero/tdm/master/datos/madrid/Cont_Meteo_Traf.csv\"\n",
        "df = pd.read_csv(url)\n",
        "\n",
        "\n",
        "# fechaH es una fecha\n",
        "df[\"FECHAH\"] = pd.to_datetime(df.FECHAH)\n",
        "# ordenamos\n",
        "df.sort_values(\"FECHAH\",inplace=True)\n",
        "filtro = df.FECHAH>='2020-01-01'\n",
        "df = df[filtro] # solo de 2020 en adelante\n",
        "\n",
        "# tamaño del gráfico en pulgadas\n",
        "fig, ax = plt.subplots(1,1, figsize=(40,10))\n",
        "\n",
        "# Nos quedamos con las columnas que queremos\n",
        "df2 = df.loc[:, (\"FECHAH\",\"CO\")]\n",
        "df2.dropna(inplace=True) # por si hay nulos\n",
        "df3 = df2.iloc[0:120*24] # primeros 120 días\n",
        "x = df3.FECHAH\n",
        "#ax.plot(x, [200]*len(x), '-', c=\"red\") # linea roja\n",
        "ax.plot(x,df3.CO)\n",
        "\n",
        "ax.set_title('CO')\n",
        "plt.show()"
      ],
      "metadata": {
        "id": "_yNxb1O8EJe9",
        "colab": {
          "base_uri": "https://localhost:8080/",
          "height": 373
        },
        "outputId": "e1e9ecbe-dd2b-4eee-8736-c498fa69d3ce"
      },
      "execution_count": 6,
      "outputs": [
        {
          "output_type": "display_data",
          "data": {
            "text/plain": [
              "<Figure size 2880x720 with 1 Axes>"
            ],
            "image/png": "[encoded data removed]"
          },
          "metadata": {
            "needs_background": "light"
          }
        }
      ]
    },
    {
      "cell_type": "markdown",
      "metadata": {
        "id": "0eX9zgfl3vUd"
      },
      "source": [
        "Incluso este método tan simple puede producir gráficos interesantes cuando se combina con otras bibliotecas como numpy\n",
        "\n",
        "**Ejemplo 5**"
      ]
    },
    {
      "cell_type": "code",
      "execution_count": 7,
      "metadata": {
        "id": "8rG5v_OW3vUd",
        "colab": {
          "base_uri": "https://localhost:8080/"
        },
        "outputId": "8d09cdd9-5578-494c-9712-40ce80f2f912"
      },
      "outputs": [
        {
          "output_type": "stream",
          "name": "stdout",
          "text": [
            "[[-20.   -19.95 -19.9  ...  19.85  19.9   19.95]\n",
            " [-20.   -19.95 -19.9  ...  19.85  19.9   19.95]\n",
            " [-20.   -19.95 -19.9  ...  19.85  19.9   19.95]\n",
            " ...\n",
            " [-20.   -19.95 -19.9  ...  19.85  19.9   19.95]\n",
            " [-20.   -19.95 -19.9  ...  19.85  19.9   19.95]\n",
            " [-20.   -19.95 -19.9  ...  19.85  19.9   19.95]] \n",
            " ------------------------------ \n",
            " [[-20.   -20.   -20.   ... -20.   -20.   -20.  ]\n",
            " [-19.95 -19.95 -19.95 ... -19.95 -19.95 -19.95]\n",
            " [-19.9  -19.9  -19.9  ... -19.9  -19.9  -19.9 ]\n",
            " ...\n",
            " [ 19.85  19.85  19.85 ...  19.85  19.85  19.85]\n",
            " [ 19.9   19.9   19.9  ...  19.9   19.9   19.9 ]\n",
            " [ 19.95  19.95  19.95 ...  19.95  19.95  19.95]]\n"
          ]
        }
      ],
      "source": [
        "import numpy as np\n",
        "puntos = np.arange(-20, 20, 0.05) \n",
        "xs,ys = np.meshgrid(puntos,puntos)\n",
        "print(xs,\"\\n\",\"-\"*30,\"\\n\",ys)"
      ]
    },
    {
      "cell_type": "code",
      "execution_count": 8,
      "metadata": {
        "id": "69OCY2_G3vUe",
        "colab": {
          "base_uri": "https://localhost:8080/",
          "height": 285
        },
        "outputId": "04d09a15-fa81-40db-bc95-cd97e8eac065"
      },
      "outputs": [
        {
          "output_type": "display_data",
          "data": {
            "text/plain": [
              "<Figure size 432x288 with 2 Axes>"
            ],
            "image/png": "[encoded data removed]"
          },
          "metadata": {
            "needs_background": "light"
          }
        }
      ],
      "source": [
        "z = (xs ** 2) - (ys**2 )\n",
        "plt.imshow(z, cmap=plt.cm.gray)\n",
        "plt.colorbar()\n",
        "plt.title(\"Representación de $x^2 - y^2$\")\n",
        "plt.show()"
      ]
    },
    {
      "cell_type": "markdown",
      "metadata": {
        "id": "cVglg4Od3vUe"
      },
      "source": [
        "<a name=\"Ejes\"></a>\n",
        "## Ejes"
      ]
    },
    {
      "cell_type": "markdown",
      "metadata": {
        "id": "qJbj8BMH3vUe"
      },
      "source": [
        "La idea es que una figura, representada por una variable  `fig` puede contener varias gráficas, cada una deminonada `eje`. Los ejes se añaden, entre otras formas, mediante el método `add_axes` de la clase `Figure`:\n",
        "\n",
        "**Ejemplo 6**"
      ]
    },
    {
      "cell_type": "code",
      "execution_count": null,
      "metadata": {
        "id": "rKv4sMwm3vUf"
      },
      "outputs": [],
      "source": [
        "fig = plt.figure()\n",
        "\n",
        "# left, bottom, width, height (range 0 to 1)\n",
        "axes = fig.add_axes([0.5, 0.5, 0.4, 0.8]) \n",
        "x = np.arange(0,20,0.1)\n",
        "y = np.sin(x)\n",
        "axes.plot(x, y, 'r')\n",
        "\n",
        "axes.set_xlabel('x')\n",
        "axes.set_ylabel('y')\n",
        "axes.set_title('sin(x)')\n",
        "plt.show()"
      ]
    },
    {
      "cell_type": "markdown",
      "metadata": {
        "id": "3pUHwUoZ3vUf"
      },
      "source": [
        "Aunque un poco más complejo, da mucho control sobre la construcción de figuras:\n",
        "\n",
        "**Ejemplo 7**"
      ]
    },
    {
      "cell_type": "code",
      "execution_count": null,
      "metadata": {
        "id": "pVXb_xl03vUf"
      },
      "outputs": [],
      "source": [
        "fig = plt.figure()\n",
        "\n",
        "x = np.arange(0,20,0.1)\n",
        "y = np.sin(x/4)\n",
        "\n",
        "axes1 = fig.add_axes([0.1, 0.1, 0.8, 0.8]) # main axes\n",
        "axes2 = fig.add_axes([0.2, 0.5, 0.4, 0.3]) # inset axes\n",
        "\n",
        "# main figure\n",
        "axes1.plot(x, y, 'r')\n",
        "axes1.set_xlabel('x')\n",
        "axes1.set_ylabel('y')\n",
        "axes1.set_title('Título general')\n",
        "\n",
        "# insert\n",
        "axes2.plot(y, x, 'b')\n",
        "axes2.set_xlabel('y')\n",
        "axes2.set_ylabel('x')\n",
        "axes2.set_title('pequeño');"
      ]
    },
    {
      "cell_type": "markdown",
      "metadata": {
        "id": "3nbJ48dp3vUf"
      },
      "source": [
        "Para incluir muchos gráficos sin mezclarlos lo mejor es emplear `subplots`:\n",
        "\n",
        "**Ejemplo 8**"
      ]
    },
    {
      "cell_type": "code",
      "execution_count": null,
      "metadata": {
        "id": "nAcFnVqU3vUg"
      },
      "outputs": [],
      "source": [
        "import math\n",
        "\n",
        "fig, (ax1, ax2) = plt.subplots(2,1, figsize=(10,5))\n",
        "\n",
        "# otra forma de hacer lo mismo\n",
        "#fig = plt.figure(figsize=(20,10))\n",
        "#ax1 = fig.add_subplot(121)\n",
        "#ax2 = fig.add_subplot(122)\n",
        "\n",
        "# hacemos las gráficas\n",
        "X1 = range(100)\n",
        "X2 = [x/10 for x in range(-80,80)]\n",
        "ax1.plot(X1,[math.sin(x/4) for x in X1])\n",
        "ax1.set_title(\"seno(x)\")\n",
        "\n",
        "sigmo = ax2.plot(X2,[1/(1+math.exp(-x)) for x in X2],\n",
        "         color=\"g\", linewidth=4)\n",
        "ax2.set_title(\"sigmoid\")\n",
        "\n",
        "\n",
        "# No olvidar al final\n",
        "plt.show()"
      ]
    },
    {
      "cell_type": "markdown",
      "source": [
        "**Ejercicio**\n",
        "\n",
        "Repetir la gráfica de contaminación para ñas siguientes columnas"
      ],
      "metadata": {
        "id": "un_VZBD3UPqX"
      }
    },
    {
      "cell_type": "code",
      "source": [
        "contaminantes = [\"CO\", \"NO2\", \"O3\", \"PM10\",\"ESSUMA\"]  # ESSUMA se refiere al tráfico\n"
      ],
      "metadata": {
        "id": "bkxA7_zfUe9Y"
      },
      "execution_count": null,
      "outputs": []
    },
    {
      "cell_type": "markdown",
      "metadata": {
        "id": "YT-01vAv3vUg"
      },
      "source": [
        "**Ejemplo 9**:"
      ]
    },
    {
      "cell_type": "code",
      "execution_count": null,
      "metadata": {
        "id": "TjW1-IxY3vUg"
      },
      "outputs": [],
      "source": [
        "fig, axes = plt.subplots(nrows=1, ncols=3)\n",
        "x = np.arange(0,20,0.1)\n",
        "y = np.sin(x/4)\n",
        "for ax in axes:\n",
        "    ax.plot(x, y, 'r')\n",
        "    ax.set_xlabel('x')\n",
        "    ax.set_ylabel('y')\n",
        "    ax.set_title('título')"
      ]
    },
    {
      "cell_type": "markdown",
      "metadata": {
        "id": "SqceEkm73vUg"
      },
      "source": [
        "El problema es que las figuras se superponen. Podemos evitarlos utilizado el método  `fig.tight_layout` :\n",
        "\n",
        "**Ejemplo 10**"
      ]
    },
    {
      "cell_type": "code",
      "execution_count": null,
      "metadata": {
        "id": "yRIrP3AW3vUg"
      },
      "outputs": [],
      "source": [
        "fig, axes = plt.subplots(nrows=1, ncols=3)\n",
        "\n",
        "for ax in axes:\n",
        "    ax.plot(x, y, 'r')\n",
        "    ax.set_xlabel('x')\n",
        "    ax.set_ylabel('y')\n",
        "    ax.set_title('title')\n",
        "    \n",
        "fig.tight_layout()"
      ]
    },
    {
      "cell_type": "markdown",
      "metadata": {
        "id": "sdmhXr_V3vUh"
      },
      "source": [
        "Matplotlib permite controlar el ratio x/y, el DPI y el tamaño de la figura cuando se crea el objeto `Figure` mediante los argumentos `figsize` y `dpi`. \n",
        "\n",
        "- `figsize` incluye la anchura y la altura en pulgadas, en forma de tupla.\n",
        "\n",
        "- `dpi` corresponde a dots-per-inch (pixels por pulgada per inch), la resolución. \n",
        "\n",
        "\n",
        "**Ejemplo 11**\n",
        "\n",
        "Figura de 800x400 píxeles, con resolución 100 dpi: "
      ]
    },
    {
      "cell_type": "code",
      "execution_count": null,
      "metadata": {
        "id": "FtE0lmao3vUh"
      },
      "outputs": [],
      "source": [
        "fig = plt.figure(figsize=(8,4), dpi=100)"
      ]
    },
    {
      "cell_type": "markdown",
      "metadata": {
        "id": "IrcQNPfo3vUh"
      },
      "source": [
        "Esto también se puede hacer cuando hay subfiguras:\n",
        "\n",
        "\n",
        "**Ejemplo 12**:"
      ]
    },
    {
      "cell_type": "code",
      "execution_count": null,
      "metadata": {
        "id": "gcifm5Bm3vUh"
      },
      "outputs": [],
      "source": [
        "fig, axes = plt.subplots(figsize=(12,3))\n",
        "\n",
        "axes.plot(x, y, 'r')\n",
        "axes.set_xlabel('x')\n",
        "axes.set_ylabel('y')\n",
        "axes.set_title('title');"
      ]
    },
    {
      "cell_type": "markdown",
      "metadata": {
        "id": "Tg5NgluX3vUh"
      },
      "source": [
        "**Ejemplo 13** \n",
        "\n",
        "Vamos a mostrar la gráfica de algunos valores bursátiles en formato 2 columnas:"
      ]
    },
    {
      "cell_type": "code",
      "execution_count": null,
      "metadata": {
        "id": "9Iv6WsoB3vUh"
      },
      "outputs": [],
      "source": [
        "import pandas as pd\n",
        "\n",
        "path = 'https://github.com/RafaelCaballero/tdm/blob/master/datos/raw_open.xlsx?raw=true'\n",
        "# Cargamos el fichero excel\n",
        "xl = pd.ExcelFile(path)\n",
        "# en particular la hoja rawVol\n",
        "hoja = xl.parse(\"raw_open\")\n",
        "hoja.head()\n",
        "\n"
      ]
    },
    {
      "cell_type": "markdown",
      "metadata": {
        "id": "4u3kHrfF3vUi"
      },
      "source": [
        "Nos quedamos con los 20 primeros"
      ]
    },
    {
      "cell_type": "code",
      "execution_count": null,
      "metadata": {
        "id": "No9e9uqj3vUi"
      },
      "outputs": [],
      "source": [
        "df = hoja.take(range(20), axis=1)\n",
        "df.head()\n",
        "print(\"filas: \", len(df), \"columnas \",len(df.columns))\n",
        "X = range(len(df))"
      ]
    },
    {
      "cell_type": "markdown",
      "source": [
        "Los mostramos"
      ],
      "metadata": {
        "id": "5PLL9TaxXy9Q"
      }
    },
    {
      "cell_type": "code",
      "execution_count": null,
      "metadata": {
        "id": "0no7Zl7J3vUi"
      },
      "outputs": [],
      "source": [
        "fig, axes = plt.subplots(10,2, figsize=(10,50))\n",
        "print(axes.shape)\n",
        "for c in range(len(df.columns)):\n",
        "    axes[c//2][c%2].plot(X,df.take([c],axis=1))\n",
        "    axes[c//2][c%2].set_title(df.columns[c])\n",
        "plt.plot()"
      ]
    },
    {
      "cell_type": "markdown",
      "metadata": {
        "id": "f16eyiBy3vUi"
      },
      "source": [
        "<a name=\"Grabación-de-figuras\"></a>\n",
        "### Grabación de figuras"
      ]
    },
    {
      "cell_type": "markdown",
      "metadata": {
        "id": "ruM8eFT_3vUi"
      },
      "source": [
        "Para grabar una figuras se puede usar el método `savefig` de la clase `Figure`:"
      ]
    },
    {
      "cell_type": "code",
      "execution_count": null,
      "metadata": {
        "id": "n_-PoBJL3vUi"
      },
      "outputs": [],
      "source": [
        "fig.savefig(\"valores.png\")"
      ]
    },
    {
      "cell_type": "markdown",
      "metadata": {
        "id": "aAHKBfEE3vUj"
      },
      "source": [
        "Podemos elegir la resolución en puntos por pulgada, así como el formato, que viene dado por la extensión"
      ]
    },
    {
      "cell_type": "code",
      "execution_count": null,
      "metadata": {
        "id": "BEqX0TxM3vUj"
      },
      "outputs": [],
      "source": [
        "fig.savefig(\"valores.png\", dpi=200)"
      ]
    },
    {
      "cell_type": "markdown",
      "metadata": {
        "id": "1weasjBf3vUj"
      },
      "source": [
        "Matplotlib puede grabar en formatos como PNG, JPG, EPS, SVG, PGF p PDF. "
      ]
    },
    {
      "cell_type": "markdown",
      "metadata": {
        "id": "wyRyGBUe3vUj"
      },
      "source": [
        "<a name=\"Leyendas,-etiquetas-y-títulos\"></a>\n",
        "### Leyendas, etiquetas y títulos"
      ]
    },
    {
      "cell_type": "markdown",
      "metadata": {
        "id": "Hd0ZSWCu3vUj"
      },
      "source": [
        "Estos elementos se utilizan para \"embellecer\" las gráficas, veámoslos uno a uno "
      ]
    },
    {
      "cell_type": "markdown",
      "metadata": {
        "id": "f8tfv0EG3vUj"
      },
      "source": [
        "**Títulos**\n",
        "\n",
        "Se puede añadir un título a cada eje mediante el método `set_title`:"
      ]
    },
    {
      "cell_type": "code",
      "execution_count": null,
      "metadata": {
        "id": "ytZGC0ji3vUj"
      },
      "outputs": [],
      "source": [
        "fig, ax = plt.subplots(1,1, figsize=(10,10))\n",
        "\n",
        "ax.set_title(\"Sin título\")"
      ]
    },
    {
      "cell_type": "markdown",
      "metadata": {
        "id": "io4T352c3vUj"
      },
      "source": [
        "**Etiquetas de los ejes**\n",
        "\n",
        "De manera análoga, los métodos `set_xlabel` y `set_ylabel`, permiten poner nombre a los ejes X e Y:"
      ]
    },
    {
      "cell_type": "code",
      "execution_count": null,
      "metadata": {
        "id": "_xi-h9ZN3vUj"
      },
      "outputs": [],
      "source": [
        "fig, ax = plt.subplots(1,1, figsize=(10,10))\n",
        "\n",
        "ax.set_title(\"Sin título\");\n",
        "ax.set_xlabel(\"x\")\n",
        "ax.set_ylabel(\"y\")\n",
        "plt.show()"
      ]
    },
    {
      "cell_type": "markdown",
      "metadata": {
        "id": "QozYEqRz3vUk"
      },
      "source": [
        "**Leyendas**\n",
        "\n",
        "Las leyendas se usan para especificar cada función. El modo más normal es usar el parámetro label=\"nombre\" en el gráfico, y luego añadir ax.legend() para generar las leyendas\n",
        "\n",
        "\n",
        "**Ejemplo 14**"
      ]
    },
    {
      "cell_type": "code",
      "execution_count": null,
      "metadata": {
        "id": "Mrqq69Jy3vUk"
      },
      "outputs": [],
      "source": [
        "import numpy as np\n",
        "fig, ax = plt.subplots(1,1, figsize=(5,5))\n",
        "ax.set_title(\"Sin título\");\n",
        "ax.set_xlabel(\"x\")\n",
        "ax.set_ylabel(\"y\")\n",
        "x = np.arange(0,20,0.2)\n",
        "x2 = []\n",
        "y2 = []\n",
        "for i in range(20):\n",
        "    for j in range(i):\n",
        "        x2.append(i)\n",
        "        y2.append(i*i+j*j)\n",
        "ax.plot(x, x**2, label=\"$x^2$\")\n",
        "ax.plot(x2, y2, label=\"otra cosa\",c=\"g\")\n",
        "ax.legend();\n",
        "plt.show()"
      ]
    },
    {
      "cell_type": "markdown",
      "metadata": {
        "id": "iAp9MRiy3vUk"
      },
      "source": [
        "Aunque matplotlib intenta poner la leyenda en el mejor sitio para que no solape con las funciones, la función `legend` tiene un argumento adicional `loc` que se puede emplear para este propósito. Los valore de  `loc` son numéricos, ver http://matplotlib.org/users/legend_guide.html#legend-location. Algunos de los valores más comunes para `loc`:"
      ]
    },
    {
      "cell_type": "code",
      "execution_count": null,
      "metadata": {
        "id": "ViJWnN0x3vUk"
      },
      "outputs": [],
      "source": [
        "ax.legend(loc=0) # por defecto, que elija matplotlib\n",
        "ax.legend(loc=1) # esquina superior derecha\n",
        "ax.legend(loc=2) # esquina superior izquierda\n",
        "ax.legend(loc=3) # esquina inferior izquierda\n",
        "ax.legend(loc=4) # esquina inferior derecha\n",
        "# .. mirar la documentación para más posibilidades"
      ]
    },
    {
      "cell_type": "markdown",
      "source": [
        "Otro ejemplo"
      ],
      "metadata": {
        "id": "iKDpoacTZrrp"
      }
    },
    {
      "cell_type": "code",
      "source": [
        "url = \"https://raw.githubusercontent.com/RafaelCaballero/tdm/master/datos/madrid/contaminacionPlazaElipticaLargo.csv\"\n",
        "df = pd.read_csv(url)\n",
        "df"
      ],
      "metadata": {
        "id": "xaPXZu1yZtvY"
      },
      "execution_count": null,
      "outputs": []
    },
    {
      "cell_type": "markdown",
      "source": [
        "Vamos a comparar  distintos años para el contaminantes NO2. se muestra la media anual por horas\n"
      ],
      "metadata": {
        "id": "cI-yBLSKaKJ9"
      }
    },
    {
      "cell_type": "code",
      "source": [
        "fig, ax = plt.subplots(1,1, figsize=(15,15))\n",
        "for i in range(2013,2022,1):\n",
        "  dato = []\n",
        "  for h in range(24):\n",
        "    filtro = (df.ANO==i) & (df.HORA==h)\n",
        "    df2 = df[filtro]\n",
        "    dato.append(df2.NO2.mean())\n",
        "  x = range(len(dato))\n",
        "  ax.plot(x,dato,label=i)\n",
        "ax.legend()\n",
        "plt.title(\"Media de $NO_2$ por hora\")\n",
        "plt.show()"
      ],
      "metadata": {
        "id": "N2FdSz79aPRo"
      },
      "execution_count": null,
      "outputs": []
    },
    {
      "cell_type": "markdown",
      "metadata": {
        "id": "XRPosO1D3vUk"
      },
      "source": [
        "**Ejemplo 15**"
      ]
    },
    {
      "cell_type": "code",
      "execution_count": null,
      "metadata": {
        "id": "ra5FHH5T3vUk"
      },
      "outputs": [],
      "source": [
        "fig, ax = plt.subplots()\n",
        "\n",
        "ax.plot(x, np.log(x+1), label=\"y = log(x+1)\")\n",
        "ax.plot(x,np.cos(x)+x/10, label=\"y = cos(x)+ x/10\")\n",
        "ax.legend(loc=2); #  esquina superior izquierda\n",
        "ax.set_xlabel('x')\n",
        "ax.set_ylabel('y')\n",
        "ax.set_title('title');\n",
        "plt.show()"
      ]
    },
    {
      "cell_type": "markdown",
      "metadata": {
        "id": "mEAP0cU03vUl"
      },
      "source": [
        "Podemos también cambiar el estilo de fuente, para este y todos los demás gráficos:\n",
        "\n",
        "\n",
        "**Ejemplo 16**"
      ]
    },
    {
      "cell_type": "code",
      "execution_count": null,
      "metadata": {
        "id": "7HWRLd1j3vUl"
      },
      "outputs": [],
      "source": [
        "import matplotlib\n",
        "matplotlib.rcParams.update({'font.size': 18, 'font.family': 'serif'})\n",
        "\n",
        "fig, ax = plt.subplots()\n",
        "\n",
        "ax.plot(x, np.log(x+1), label=\"y = log(x+1)\")\n",
        "ax.plot(x,np.cos(x)+x/10, label=r\"$y = cos(x)+ \\frac{x}{10}$\")\n",
        "ax.legend(loc=2); #  esquina superior izquierda\n",
        "ax.set_xlabel('x')\n",
        "ax.set_ylabel('y')\n",
        "ax.set_title('title');\n",
        "plt.show()"
      ]
    },
    {
      "cell_type": "markdown",
      "metadata": {
        "id": "re6FGXSH3vUl"
      },
      "source": [
        "Vamos a recuperar un tipo de letra un poco más pequeño\n",
        "\n",
        "**Ejemplo 17**"
      ]
    },
    {
      "cell_type": "code",
      "execution_count": null,
      "metadata": {
        "id": "G2ob-d4v3vUl"
      },
      "outputs": [],
      "source": [
        "# Update the matplotlib configuration parameters:\n",
        "matplotlib.rcParams.update({'font.size': 14, 'font.family': 'STIXGeneral', 'mathtext.fontset': 'stix'})"
      ]
    },
    {
      "cell_type": "code",
      "execution_count": null,
      "metadata": {
        "id": "iUS5qmA83vUl"
      },
      "outputs": [],
      "source": [
        "fig, ax = plt.subplots()\n",
        "\n",
        "ax.plot(x, x**2, label=r\"$y = \\alpha^2$\")\n",
        "ax.plot(x, x**3, label=r\"$y = \\alpha^3$\")\n",
        "ax.legend(loc=2) # upper left corner\n",
        "ax.set_xlabel(r'$\\alpha$')\n",
        "ax.set_ylabel(r'$y$')\n",
        "ax.set_title('title');"
      ]
    },
    {
      "cell_type": "markdown",
      "metadata": {
        "id": "P_gMCuHA3vUl"
      },
      "source": [
        "<a name=\"Aspecto-de-los-ejes-de-coordenadas\"></a>\n",
        "### Aspecto de los ejes de coordenadas"
      ]
    },
    {
      "cell_type": "markdown",
      "metadata": {
        "id": "COAckiZe3vUl"
      },
      "source": [
        "Podemos poner marcas explícitas en los ejes con `set_xticks` y `set_yticks`. Ambos toman una lista de valores con dónde deben indicarse las marcas. Con `set_xticklabels` y `set_yticklabels` podemos indicar qué etiquetas concretas queremos mostrar:\n",
        "\n",
        "**Ejemplo 18**"
      ]
    },
    {
      "cell_type": "code",
      "execution_count": null,
      "metadata": {
        "id": "FstPD-Kf3vUm"
      },
      "outputs": [],
      "source": [
        "fig, ax = plt.subplots(figsize=(10, 4))\n",
        "x = np.arange(0,20,0.2)\n",
        "ax.plot(x, x**2, x, x**3, lw=2)\n",
        "\n",
        "ax.set_xticks([1, 2, 3, 4, 5])\n",
        "ax.set_xticklabels([r'$\\alpha$', r'$\\beta$', r'$\\gamma$', r'$\\delta$', r'$\\epsilon$'], fontsize=18)\n",
        "\n",
        "yticks = [0, 2000, 4000, 6000,8000]\n",
        "ax.set_yticks(yticks)\n",
        "ax.set_yticklabels([\"$%.1f$\" % y for y in yticks], fontsize=18); # etiquetas con formato latex\n",
        "plt.show()"
      ]
    },
    {
      "cell_type": "markdown",
      "metadata": {
        "id": "7ZQVkg4U3vUm"
      },
      "source": [
        "Las marcas o ticks admiten una gran variedad de posibilidades, ver  http://matplotlib.org/api/ticker_api.html para más detalles."
      ]
    },
    {
      "cell_type": "markdown",
      "metadata": {
        "id": "GMiUVMQa3vUm"
      },
      "source": [
        "**Cuadrícula**"
      ]
    },
    {
      "cell_type": "markdown",
      "metadata": {
        "id": "Qcvj80xb3vUm"
      },
      "source": [
        "El método `grid` nos permite mostrar una cuadrícula de fondo. Admite los mismos parámetros que `plot`:\n",
        "\n",
        "\n",
        "**Ejemplo 19**"
      ]
    },
    {
      "cell_type": "code",
      "execution_count": null,
      "metadata": {
        "id": "54CP_JGg3vUm"
      },
      "outputs": [],
      "source": [
        "fig, axes = plt.subplots(1, 2, figsize=(10,3))\n",
        "\n",
        "# default grid appearance\n",
        "axes[0].plot(x, x**2, x, x**3, lw=2)\n",
        "axes[0].grid(True)\n",
        "\n",
        "# custom grid appearance\n",
        "axes[1].plot(x, x**2, x, x**3, lw=2)\n",
        "axes[1].grid(color='b', alpha=0.5, linestyle='dashed', linewidth=0.5)"
      ]
    },
    {
      "cell_type": "markdown",
      "metadata": {
        "id": "W9IZbABh3vUm"
      },
      "source": [
        "**Propiedades de los ejes de coordenadas**"
      ]
    },
    {
      "cell_type": "markdown",
      "metadata": {
        "id": "7evCy8SL3vUm"
      },
      "source": [
        "También podemos cambiar el aspecto de los ejes de coordenadas:\n",
        "\n",
        "**Ejemplo 20**"
      ]
    },
    {
      "cell_type": "code",
      "execution_count": null,
      "metadata": {
        "id": "925XNDbq3vUm"
      },
      "outputs": [],
      "source": [
        "fig, ax = plt.subplots(figsize=(6,2))\n",
        "\n",
        "ax.spines['bottom'].set_color('blue')\n",
        "ax.spines['top'].set_color('blue')\n",
        "\n",
        "ax.spines['left'].set_color('red')\n",
        "ax.spines['left'].set_linewidth(2)\n",
        "\n",
        "# turn off axis spine to the right\n",
        "ax.spines['right'].set_color(\"none\")\n",
        "ax.yaxis.tick_left() # only ticks on the left side"
      ]
    },
    {
      "cell_type": "markdown",
      "metadata": {
        "id": "AwzivWFO3vUm"
      },
      "source": [
        "**Ejes duales**"
      ]
    },
    {
      "cell_type": "markdown",
      "metadata": {
        "id": "XEwulyo53vUn"
      },
      "source": [
        "Tener dos ejes y (o dos ejes x) es interesante, por ejemplo cuando se tienen que representar dos unidades de medida diferentes. Matplotlib incluye los métodos `twinx` y `twiny` que permiten lograr esto:\n",
        "\n",
        "**Ejemplo 21**"
      ]
    },
    {
      "cell_type": "code",
      "execution_count": null,
      "metadata": {
        "id": "doaNrMqc3vUn"
      },
      "outputs": [],
      "source": [
        "fig, ax1 = plt.subplots()\n",
        "x = np.arange(0,20,0.2)\n",
        "ax1.plot(x, x**2, lw=2, color=\"blue\")\n",
        "ax1.set_ylabel(r\"área $(m^2)$\", fontsize=18, color=\"blue\")\n",
        "for label in ax1.get_yticklabels():\n",
        "    label.set_color(\"blue\")\n",
        "    \n",
        "ax2 = ax1.twinx()\n",
        "ax2.plot(x, x**3, lw=2, color=\"red\")\n",
        "ax2.set_ylabel(r\"volumen $(m^3)$\", fontsize=18, color=\"red\")\n",
        "for label in ax2.get_yticklabels():\n",
        "    label.set_color(\"red\")"
      ]
    },
    {
      "cell_type": "code",
      "source": [
        "import matplotlib.pyplot as plt\n",
        "\n",
        "import pandas as pd\n",
        "url = \"https://raw.githubusercontent.com/RafaelCaballero/tdm/master/datos/madrid/Cont_Meteo_Traf.csv\"\n",
        "df = pd.read_csv(url)\n",
        "\n",
        "\n",
        "# fechaH es una fecha\n",
        "df[\"FECHAH\"] = pd.to_datetime(df.FECHAH)\n",
        "# ordenamos\n",
        "df.sort_values(\"FECHAH\",inplace=True)\n",
        "\n",
        "\n",
        "# tamaño del gráfico en pulgadas\n",
        "fig, ax = plt.subplots(1,1, figsize=(20,10))\n",
        "\n",
        "# Nos quedamos con las columnas que queremos\n",
        "df2 = df.loc[:, (\"FECHAH\",\"NO2\",\"NO\")]\n",
        "df2.dropna(inplace=True) # por si hay nulos\n",
        "df3 = df2.iloc[0:10*24] \n",
        "x = df3.FECHAH\n",
        "ax.plot(x,df3.NO2,color=\"blue\")\n",
        "ax.set_ylabel(r\"NO\", fontsize=18, color=\"blue\")\n",
        "for label in ax.get_yticklabels():\n",
        "    label.set_color(\"blue\")\n",
        "    \n",
        "ax2 = ax.twinx()\n",
        "ax2.plot(x,df3.NO, '--r')\n",
        "ax2.set_ylabel(r\"NO\", fontsize=18, color=\"red\")\n",
        "for label in ax2.get_yticklabels():\n",
        "    label.set_color(\"red\")\n",
        "\n",
        "plt.show()    "
      ],
      "metadata": {
        "id": "PDkmUugBd-27"
      },
      "execution_count": null,
      "outputs": []
    },
    {
      "cell_type": "markdown",
      "metadata": {
        "id": "hUBzFrT93vUn"
      },
      "source": [
        "**Ejes con valores negativos**\n",
        "\n",
        "**Ejemplo 22**"
      ]
    },
    {
      "cell_type": "code",
      "execution_count": null,
      "metadata": {
        "id": "654SyoMG3vUn"
      },
      "outputs": [],
      "source": [
        "import numpy as np\n",
        "fig, ax = plt.subplots()\n",
        "\n",
        "# para que no pinte la parte de arriba ni la de la derecha\n",
        "ax.spines['right'].set_color('none')\n",
        "ax.spines['top'].set_color('none')\n",
        "\n",
        "ax.xaxis.set_ticks_position('bottom')\n",
        "ax.spines['bottom'].set_position(('data',0)) # set position of x spine to x=0\n",
        "\n",
        "ax.yaxis.set_ticks_position('left')\n",
        "ax.spines['left'].set_position(('data',0))   # set position of y spine to y=0\n",
        "\n",
        "xx = np.linspace(-1, 1., 100) # 100 puntos repartodps entre -1 y 1\n",
        "ax.plot(xx, xx**3);"
      ]
    },
    {
      "cell_type": "markdown",
      "metadata": {
        "id": "wD3tic5k3vUn"
      },
      "source": [
        "<a name=\"Otros-estilos-2D\"></a>\n",
        "### Otros estilos 2D"
      ]
    },
    {
      "cell_type": "markdown",
      "metadata": {
        "id": "ny1sj-Lg3vUn"
      },
      "source": [
        "Además del método `plot`, matplotlib ofrece muchas otras posibilidades. En http://matplotlib.org/gallery.html se pueden encontrar muchos ejemplos.\n",
        "\n",
        "**Ejemplo 23**"
      ]
    },
    {
      "cell_type": "code",
      "execution_count": null,
      "metadata": {
        "id": "4GWQGTmu3vUn"
      },
      "outputs": [],
      "source": [
        "n = np.array([0,1,2,3,4,5])\n",
        "x = np.arange(0,20,0.2)\n",
        "fig, axes = plt.subplots(1, 4, figsize=(12,3))\n",
        "\n",
        "axes[0].scatter(xx, xx + 0.25*np.random.randn(len(xx)))\n",
        "axes[0].set_title(\"scatter\")\n",
        "\n",
        "axes[1].step(n, n**2, lw=2)\n",
        "axes[1].set_title(\"step\")\n",
        "\n",
        "axes[2].bar(n, n**2, align=\"center\", width=0.5, alpha=0.5)\n",
        "axes[2].set_title(\"bar\")\n",
        "\n",
        "axes[3].fill_between(x, x**2.8, x**3, color=\"red\");\n",
        "axes[3].set_title(\"fill_between\");\n",
        "\n",
        "fig.tight_layout()\n",
        "plt.show()"
      ]
    },
    {
      "cell_type": "markdown",
      "metadata": {
        "id": "wszpDvP43vUo"
      },
      "source": [
        "Al añadir los ejes se puede especificar que se quiere trabajar con coordenadas polares\n",
        "\n",
        "**Ejemplo 24**"
      ]
    },
    {
      "cell_type": "code",
      "execution_count": null,
      "metadata": {
        "id": "Xh1HNf6r3vUo"
      },
      "outputs": [],
      "source": [
        "# polar plot using add_axes and polar projection\n",
        "fig = plt.figure()\n",
        "ax = fig.add_axes([0.0, 0.0, .9, .9], polar=True)  # el truco Polar=True\n",
        "t = np.linspace(0, 4 * np.pi, 200)\n",
        "ax.plot(t, t, color='blue', lw=3);"
      ]
    },
    {
      "cell_type": "markdown",
      "metadata": {
        "id": "4un5ObAV3vUo"
      },
      "source": [
        "Otro uso típicos son los histogramas. \n",
        "\n",
        "**Ejemplo 25**"
      ]
    },
    {
      "cell_type": "code",
      "execution_count": null,
      "metadata": {
        "id": "-o8ducYt3vUo"
      },
      "outputs": [],
      "source": [
        "%matplotlib inline\n",
        "\n",
        "import matplotlib\n",
        "import matplotlib.pyplot as plt\n",
        "import numpy as np\n",
        "\n",
        "# Un histograma\n",
        "n = np.random.randn(100000)\n",
        "fig, axes = plt.subplots(1, 2, figsize=(12,4))\n",
        "\n",
        "axes[0].hist(n,bins=60)\n",
        "axes[0].set_title(\"Histograma por defecto\")\n",
        "axes[0].set_xlim((min(n), max(n)))\n",
        "\n",
        "axes[1].hist(n, cumulative=True, bins=200)\n",
        "axes[1].set_title(\"Histograma acumulado\")\n",
        "axes[1].set_xlim((min(n), max(n)));"
      ]
    },
    {
      "cell_type": "markdown",
      "metadata": {
        "id": "Weo5g8dr3vUo"
      },
      "source": [
        "<a name=\"Anotaciones-de-texto\"></a>\n",
        "### Anotaciones de texto"
      ]
    },
    {
      "cell_type": "markdown",
      "metadata": {
        "id": "KSH77kqU3vUo"
      },
      "source": [
        "Se puede añadir texto a las gráficas con el método `text`. \n",
        "\n",
        "**Ejemplo 26**"
      ]
    },
    {
      "cell_type": "code",
      "execution_count": null,
      "metadata": {
        "id": "gBZdbTnC3vUo"
      },
      "outputs": [],
      "source": [
        "fig, ax = plt.subplots()\n",
        "\n",
        "ax.plot(xx, xx**2, xx, xx**3)\n",
        "\n",
        "ax.text(0.15, 0.2, r\"$y=x^2$\", fontsize=20, color=\"blue\")\n",
        "ax.text(0.65, 0.1, r\"$y=x^3$\", fontsize=20, color=\"green\");\n",
        "plt.show()"
      ]
    },
    {
      "cell_type": "markdown",
      "metadata": {
        "id": "GUd41Pw13vUp"
      },
      "source": [
        "<a name=\"Subgráficos-de-tamaños-diferentes\"></a>\n",
        "### Subgráficos de tamaños diferentes"
      ]
    },
    {
      "cell_type": "markdown",
      "metadata": {
        "id": "A_q9GAdI3vUq"
      },
      "source": [
        "#### subplot2grid\n",
        "\n",
        "Permite que diferentes subplots tengan tamaño diferente\n",
        "\n",
        "**Ejemplo 27**"
      ]
    },
    {
      "cell_type": "code",
      "execution_count": null,
      "metadata": {
        "id": "k3fpSMB93vUq"
      },
      "outputs": [],
      "source": [
        "fig = plt.figure()\n",
        "ax1 = plt.subplot2grid((3,3), (0,0), colspan=3)\n",
        "ax2 = plt.subplot2grid((3,3), (1,0), colspan=2)\n",
        "ax3 = plt.subplot2grid((3,3), (1,2), rowspan=2)\n",
        "ax4 = plt.subplot2grid((3,3), (2,0))\n",
        "ax5 = plt.subplot2grid((3,3), (2,1))\n",
        "fig.tight_layout()\n",
        "plt.show()"
      ]
    },
    {
      "cell_type": "markdown",
      "metadata": {
        "id": "f6In-MFB3vUq"
      },
      "source": [
        "**gridspec**\n",
        "\n",
        "Ejemplo 28"
      ]
    },
    {
      "cell_type": "code",
      "execution_count": null,
      "metadata": {
        "id": "gc3K7bgJ3vUq"
      },
      "outputs": [],
      "source": [
        "import matplotlib.gridspec as gridspec\n",
        "\n",
        "fig = plt.figure()\n",
        "\n",
        "gs = gridspec.GridSpec(2, 3, height_ratios=[2,1], width_ratios=[1,2,1])\n",
        "for g in gs:\n",
        "    ax = fig.add_subplot(g)\n",
        "    \n",
        "fig.tight_layout()"
      ]
    },
    {
      "cell_type": "markdown",
      "metadata": {
        "id": "9bRcJisT3vUq"
      },
      "source": [
        "<a name=\"Mapas-de-colores-y-contornos\"></a>\n",
        "### Mapas de colores y contornos\n",
        "\n",
        "Útiles para representar figuras de una variable en dos variables, usando una de las variables como un mapa de color. Hay muchos mapas de colores predefinidos, aunque también se puede definir nuevos, ver: http://www.scipy.org/Cookbook/Matplotlib/Show_colormaps\n",
        "\n"
      ]
    },
    {
      "cell_type": "code",
      "execution_count": null,
      "metadata": {
        "id": "qnr59Z7s3vUq"
      },
      "outputs": [],
      "source": [
        "# definimos una función de x en y,z\n",
        "alpha = 0.7\n",
        "phi_ext = 2 * np.pi * 0.5\n",
        "\n",
        "def flux_qubit_potential(phi_m, phi_p):\n",
        "    return 2 + alpha - 2 * np.cos(phi_p) * np.cos(phi_m) - alpha * np.cos(phi_ext - 2*phi_p)\n",
        "phi_m = np.linspace(0, 2*np.pi, 100)\n",
        "phi_p = np.linspace(0, 2*np.pi, 100)\n",
        "X,Y = np.meshgrid(phi_p, phi_m)\n",
        "Z = flux_qubit_potential(X, Y).T"
      ]
    },
    {
      "cell_type": "markdown",
      "metadata": {
        "id": "M9s9voQK3vUq"
      },
      "source": [
        "**pcolor**\n",
        "\n",
        "**Ejemplo 29**"
      ]
    },
    {
      "cell_type": "code",
      "execution_count": null,
      "metadata": {
        "id": "Sd2YBB2x3vUr"
      },
      "outputs": [],
      "source": [
        "fig, ax = plt.subplots()\n",
        "\n",
        "p = ax.pcolor(X/(2*np.pi), Y/(2*np.pi), Z, cmap=matplotlib.cm.RdBu, vmin=abs(Z).min(), vmax=abs(Z).max())\n",
        "cb = fig.colorbar(p, ax=ax)\n",
        "plt.show()"
      ]
    },
    {
      "cell_type": "markdown",
      "metadata": {
        "id": "iV_ZZnlh3vUr"
      },
      "source": [
        "**contour**\n",
        "\n",
        "**Ejemplo 30**"
      ]
    },
    {
      "cell_type": "code",
      "execution_count": null,
      "metadata": {
        "id": "UEBGW2is3vUr"
      },
      "outputs": [],
      "source": [
        "fig, ax = plt.subplots()\n",
        "\n",
        "cnt = ax.contour(Z, cmap=matplotlib.cm.RdBu, vmin=abs(Z).min(), vmax=abs(Z).max(), extent=[0, 1, 0, 1])"
      ]
    },
    {
      "cell_type": "markdown",
      "metadata": {
        "id": "e5XLsXTl3vUr"
      },
      "source": [
        "<a name=\"Figuras-en-3D\"></a>\n",
        "## Figuras en 3D"
      ]
    },
    {
      "cell_type": "markdown",
      "metadata": {
        "id": "h3cKRgN63vUr"
      },
      "source": [
        "Los gráficos  3D en matplotlib se obtienen mediante la clase `Axes3D`. Los ejes 3D se añaden igual que en el caso 2D  tan solo añadiendo el argumento `projection='3d'` a `add_axes` o a `add_subplot`."
      ]
    },
    {
      "cell_type": "markdown",
      "metadata": {
        "id": "x1bhuiUO3vUr"
      },
      "source": [
        "**Superficies**\n",
        "\n",
        "Se dibujan con el método `plot_surface`\n",
        "\n",
        "**Ejemplo 31**"
      ]
    },
    {
      "cell_type": "code",
      "execution_count": null,
      "metadata": {
        "id": "Xp3HKniI3vUr"
      },
      "outputs": [],
      "source": [
        "from mpl_toolkits.mplot3d.axes3d import Axes3D\n",
        "fig = plt.figure(figsize=(14,6))\n",
        "\n",
        "# projection='3d' indica que este subplot es en 3d\n",
        "ax = fig.add_subplot(1, 2, 1, projection='3d')\n",
        "\n",
        "p = ax.plot_surface(X, Y, Z)\n",
        "\n",
        "# degradado de color y barra de calor\n",
        "ax = fig.add_subplot(1, 2, 2, projection='3d')\n",
        "p = ax.plot_surface(X, Y, Z,  cmap=matplotlib.cm.coolwarm, linewidth=0)\n",
        "cb = fig.colorbar(p, shrink=0.5)"
      ]
    },
    {
      "cell_type": "markdown",
      "metadata": {
        "id": "lWBX-Tvl3vUs"
      },
      "source": [
        "**Gráfico de malla**\n",
        "\n",
        "**Ejemplo 32**"
      ]
    },
    {
      "cell_type": "code",
      "execution_count": null,
      "metadata": {
        "id": "oOWiFrgx3vUs"
      },
      "outputs": [],
      "source": [
        "fig = plt.figure(figsize=(8,6))\n",
        "\n",
        "ax = fig.add_subplot(1, 1, 1, projection='3d')\n",
        "\n",
        "p = ax.plot_wireframe(X, Y, Z, rstride=4, cstride=4)\n",
        "plt.show()"
      ]
    },
    {
      "cell_type": "markdown",
      "metadata": {
        "id": "tZeI_X2f3vUs"
      },
      "source": [
        "**Grafico 3D con proyecciones de contorno**\n",
        "\n",
        "**Ejemplo 33**"
      ]
    },
    {
      "cell_type": "code",
      "execution_count": null,
      "metadata": {
        "id": "3hOqC9Bt3vUs"
      },
      "outputs": [],
      "source": [
        "fig = plt.figure(figsize=(8,6))\n",
        "\n",
        "ax = fig.add_subplot(1,1,1, projection='3d')\n",
        "\n",
        "ax.plot_surface(X, Y, Z, rstride=4, cstride=4, alpha=0.25)\n",
        "cset = ax.contour(X, Y, Z, zdir='z', offset=-np.pi, cmap=matplotlib.cm.coolwarm)\n",
        "cset = ax.contour(X, Y, Z, zdir='x', offset=-np.pi, cmap=matplotlib.cm.coolwarm)\n",
        "cset = ax.contour(X, Y, Z, zdir='y', offset=3*np.pi, cmap=matplotlib.cm.coolwarm)\n",
        "\n",
        "ax.set_xlim3d(-np.pi, 2*np.pi);\n",
        "ax.set_ylim3d(0, 3*np.pi);\n",
        "ax.set_zlim3d(-np.pi, 2*np.pi);"
      ]
    },
    {
      "cell_type": "markdown",
      "metadata": {
        "id": "VZvYPPkG3vUs"
      },
      "source": [
        "**Cambio de perspectiva**\n",
        "\n",
        "Podemos cambiar el punto de vista con el método `view_init` que toma dos argumentos: `elevation` y ángulo `azimuth`(en grados):\n",
        "\n",
        "**Ejemplo 34**"
      ]
    },
    {
      "cell_type": "code",
      "execution_count": null,
      "metadata": {
        "id": "rFFK44rr3vUs"
      },
      "outputs": [],
      "source": [
        "fig = plt.figure(figsize=(12,6))\n",
        "\n",
        "ax = fig.add_subplot(1,2,1, projection='3d')\n",
        "ax.plot_surface(X, Y, Z,  alpha=0.25)\n",
        "ax.view_init(30, 45)\n",
        "\n",
        "ax = fig.add_subplot(1,2,2, projection='3d')\n",
        "ax.plot_surface(X, Y, Z,  alpha=0.25)\n",
        "ax.view_init(70, 30)\n",
        "\n",
        "fig.tight_layout()"
      ]
    },
    {
      "cell_type": "markdown",
      "metadata": {
        "id": "e_GFM5QA3vUs"
      },
      "source": [
        "<a name=\"Gráficos-interactivos\"></a>\n",
        "### Gráficos interactivos\n",
        "\n",
        "Matplotlib ofrece una gran variedad de backends. Uno de ellos permite hacer zoom o mover la grafica"
      ]
    },
    {
      "cell_type": "code",
      "execution_count": null,
      "metadata": {
        "id": "7nfMVdRQ3vUs"
      },
      "outputs": [],
      "source": [
        "#\n",
        "# REINICIAR el NOTEBOOK para poder usar el nuevo backend\n",
        "# (e.j. Kernel > Restart)\n",
        "# \n",
        "import matplotlib\n",
        "matplotlib.use('Qt4Agg') # ver https://matplotlib.org/faq/usage_faq.html#what-is-a-backend para una lista\n",
        "import matplotlib.pylab as plt\n",
        "import numpy as np"
      ]
    },
    {
      "cell_type": "code",
      "execution_count": null,
      "metadata": {
        "id": "m8MP85zG3vUt"
      },
      "outputs": [],
      "source": [
        "# Abrimos un gráfico interactivo con el backend Qt4Agg \n",
        "fig, ax = plt.subplots()\n",
        "t = np.linspace(0, 10, 100)\n",
        "ax.plot(t, np.cos(t) * np.sin(t))\n",
        "plt.show()"
      ]
    },
    {
      "cell_type": "markdown",
      "metadata": {
        "id": "1L18qs-v3vUt"
      },
      "source": [
        "<a name=\"Para-saber-más\"></a>\n",
        "## Para saber más"
      ]
    },
    {
      "cell_type": "markdown",
      "metadata": {
        "id": "Gr9NKDSs3vUt"
      },
      "source": [
        "* http://www.matplotlib.org - La página oficial.\n",
        "* https://github.com/matplotlib/matplotlib - Código fuente .\n",
        "* http://matplotlib.org/gallery.html - Galería con muchos ejemplos \n",
        "* http://www.loria.fr/~rougier/teaching/matplotlib - Un buen tutorial.\n",
        "* http://scipy-lectures.github.io/matplotlib/matplotlib.html - Más referencias.\n",
        "* https://seaborn.pydata.org/ : seaborn es un paquete diferente, con muchos tipos de gráficas estadísticas ya construidas\n"
      ]
    },
    {
      "cell_type": "code",
      "execution_count": null,
      "metadata": {
        "id": "Tnrzg2nU3vUt"
      },
      "outputs": [],
      "source": [
        ""
      ]
    }
  ],
  "metadata": {
    "kernelspec": {
      "display_name": "Python 3",
      "language": "python",
      "name": "python3"
    },
    "language_info": {
      "codemirror_mode": {
        "name": "ipython",
        "version": 3
      },
      "file_extension": ".py",
      "mimetype": "text/x-python",
      "name": "python",
      "nbconvert_exporter": "python",
      "pygments_lexer": "ipython3",
      "version": "3.8.5"
    },
    "colab": {
      "name": "9matplotlib.ipynb",
      "provenance": []
    }
  },
  "nbformat": 4,
  "nbformat_minor": 0
}